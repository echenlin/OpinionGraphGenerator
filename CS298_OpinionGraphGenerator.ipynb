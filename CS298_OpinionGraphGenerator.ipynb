{
  "cells": [
    {
      "cell_type": "code",
      "execution_count": null,
      "metadata": {
        "colab": {
          "base_uri": "https://localhost:8080/"
        },
        "id": "wn4jmM2UTXhq",
        "outputId": "78ab1a66-51e1-4784-b467-7e9be9082c69"
      },
      "outputs": [
        {
          "output_type": "stream",
          "name": "stdout",
          "text": [
            "Mounted at /content/drive\n"
          ]
        }
      ],
      "source": [
        "# mount Google Drive\n",
        "from google.colab import drive\n",
        "drive.mount('/content/drive')"
      ]
    },
    {
      "cell_type": "code",
      "execution_count": null,
      "metadata": {
        "colab": {
          "base_uri": "https://localhost:8080/"
        },
        "id": "dURmZuFQTbcT",
        "outputId": "543cb006-2a29-4c73-ecb2-8478638b87bb"
      },
      "outputs": [
        {
          "output_type": "stream",
          "name": "stdout",
          "text": [
            "/content/drive/My Drive/ExplainIt/explainit/opinion_canonicalization\n"
          ]
        }
      ],
      "source": [
        "%cd /content/drive/My Drive/ExplainIt/explainit/opinion_canonicalization"
      ]
    },
    {
      "cell_type": "markdown",
      "metadata": {
        "id": "9BKcK51ER65j"
      },
      "source": [
        "# Open AI"
      ]
    },
    {
      "cell_type": "code",
      "execution_count": null,
      "metadata": {
        "id": "USuLCnGHZ9Bb"
      },
      "outputs": [],
      "source": [
        "API_KEY = # TODO: OpenAI API key"
      ]
    },
    {
      "cell_type": "code",
      "execution_count": null,
      "metadata": {
        "colab": {
          "base_uri": "https://localhost:8080/"
        },
        "id": "To3RBgTbQoVp",
        "outputId": "ce37e51e-8225-4aa2-8be5-177d3b9da4f3"
      },
      "outputs": [
        {
          "output_type": "stream",
          "name": "stdout",
          "text": [
            "Collecting openai\n",
            "  Downloading openai-1.25.2-py3-none-any.whl (312 kB)\n",
            "\u001b[?25l     \u001b[90m━━━━━━━━━━━━━━━━━━━━━━━━━━━━━━━━━━━━━━━━\u001b[0m \u001b[32m0.0/312.9 kB\u001b[0m \u001b[31m?\u001b[0m eta \u001b[36m-:--:--\u001b[0m\r\u001b[2K     \u001b[91m━━━━━━━━━━━━━━━━━━━━━━━━━━\u001b[0m\u001b[90m╺\u001b[0m\u001b[90m━━━━━━━━━━━━━\u001b[0m \u001b[32m204.8/312.9 kB\u001b[0m \u001b[31m6.3 MB/s\u001b[0m eta \u001b[36m0:00:01\u001b[0m\r\u001b[2K     \u001b[90m━━━━━━━━━━━━━━━━━━━━━━━━━━━━━━━━━━━━━━━━\u001b[0m \u001b[32m312.9/312.9 kB\u001b[0m \u001b[31m6.7 MB/s\u001b[0m eta \u001b[36m0:00:00\u001b[0m\n",
            "\u001b[?25hRequirement already satisfied: anyio<5,>=3.5.0 in /usr/local/lib/python3.10/dist-packages (from openai) (3.7.1)\n",
            "Requirement already satisfied: distro<2,>=1.7.0 in /usr/lib/python3/dist-packages (from openai) (1.7.0)\n",
            "Collecting httpx<1,>=0.23.0 (from openai)\n",
            "  Downloading httpx-0.27.0-py3-none-any.whl (75 kB)\n",
            "\u001b[2K     \u001b[90m━━━━━━━━━━━━━━━━━━━━━━━━━━━━━━━━━━━━━━━━\u001b[0m \u001b[32m75.6/75.6 kB\u001b[0m \u001b[31m10.1 MB/s\u001b[0m eta \u001b[36m0:00:00\u001b[0m\n",
            "\u001b[?25hRequirement already satisfied: pydantic<3,>=1.9.0 in /usr/local/lib/python3.10/dist-packages (from openai) (2.7.1)\n",
            "Requirement already satisfied: sniffio in /usr/local/lib/python3.10/dist-packages (from openai) (1.3.1)\n",
            "Requirement already satisfied: tqdm>4 in /usr/local/lib/python3.10/dist-packages (from openai) (4.66.2)\n",
            "Requirement already satisfied: typing-extensions<5,>=4.7 in /usr/local/lib/python3.10/dist-packages (from openai) (4.11.0)\n",
            "Requirement already satisfied: idna>=2.8 in /usr/local/lib/python3.10/dist-packages (from anyio<5,>=3.5.0->openai) (3.7)\n",
            "Requirement already satisfied: exceptiongroup in /usr/local/lib/python3.10/dist-packages (from anyio<5,>=3.5.0->openai) (1.2.1)\n",
            "Requirement already satisfied: certifi in /usr/local/lib/python3.10/dist-packages (from httpx<1,>=0.23.0->openai) (2024.2.2)\n",
            "Collecting httpcore==1.* (from httpx<1,>=0.23.0->openai)\n",
            "  Downloading httpcore-1.0.5-py3-none-any.whl (77 kB)\n",
            "\u001b[2K     \u001b[90m━━━━━━━━━━━━━━━━━━━━━━━━━━━━━━━━━━━━━━━━\u001b[0m \u001b[32m77.9/77.9 kB\u001b[0m \u001b[31m11.3 MB/s\u001b[0m eta \u001b[36m0:00:00\u001b[0m\n",
            "\u001b[?25hCollecting h11<0.15,>=0.13 (from httpcore==1.*->httpx<1,>=0.23.0->openai)\n",
            "  Downloading h11-0.14.0-py3-none-any.whl (58 kB)\n",
            "\u001b[2K     \u001b[90m━━━━━━━━━━━━━━━━━━━━━━━━━━━━━━━━━━━━━━━━\u001b[0m \u001b[32m58.3/58.3 kB\u001b[0m \u001b[31m7.6 MB/s\u001b[0m eta \u001b[36m0:00:00\u001b[0m\n",
            "\u001b[?25hRequirement already satisfied: annotated-types>=0.4.0 in /usr/local/lib/python3.10/dist-packages (from pydantic<3,>=1.9.0->openai) (0.6.0)\n",
            "Requirement already satisfied: pydantic-core==2.18.2 in /usr/local/lib/python3.10/dist-packages (from pydantic<3,>=1.9.0->openai) (2.18.2)\n",
            "Installing collected packages: h11, httpcore, httpx, openai\n",
            "Successfully installed h11-0.14.0 httpcore-1.0.5 httpx-0.27.0 openai-1.25.2\n"
          ]
        }
      ],
      "source": [
        "pip install openai"
      ]
    },
    {
      "cell_type": "code",
      "execution_count": null,
      "metadata": {
        "id": "2x0uUvv_aB3D"
      },
      "outputs": [],
      "source": [
        "# import openai\n",
        "\n",
        "from collections import defaultdict\n",
        "\n",
        "import json\n",
        "import os\n",
        "\n",
        "import copy\n",
        "import time\n"
      ]
    },
    {
      "cell_type": "markdown",
      "metadata": {
        "id": "LQk_kpcTaE_e"
      },
      "source": [
        "## Fitering Data (by number of reviews for each hotel)"
      ]
    },
    {
      "cell_type": "code",
      "execution_count": null,
      "metadata": {
        "id": "mKW9xPXUTnYY"
      },
      "outputs": [],
      "source": [
        "# file_path = '/Users/yichenlin/Downloads/amsterdam_hotels/amsterdam_reviews_with_extractions.json'\n",
        "file_path = '/content/drive/My Drive/ExplainIt/explainit/explanation_mining/data/yichen/amsterdam_reviews_with_extractions.json'\n",
        "with open(file_path, 'r') as file:\n",
        "    data = json.load(file)"
      ]
    },
    {
      "cell_type": "code",
      "execution_count": null,
      "metadata": {
        "colab": {
          "base_uri": "https://localhost:8080/"
        },
        "id": "-ZWQnHLJTpqM",
        "outputId": "d7da5f96-92c0-49d5-ed85-4d14e1a7898e"
      },
      "outputs": [
        {
          "output_type": "stream",
          "name": "stdout",
          "text": [
            "number of reviews:  83987\n",
            "number of unique hotels:  101\n",
            "{'review_id': 'review_0', 'business_id': 'Hotel Arena', 'text': 'Only the park outside of the hotel was beautiful ', 'extractions': [{'negation': False, 'entity': 'park', 'predicate': 'beautiful', 'attribute': 'building'}]}\n"
          ]
        }
      ],
      "source": [
        "print('number of reviews: ', len(data))\n",
        "print('number of unique hotels: ', len(set([review['business_id'] for review in data])))\n",
        "print(data[0])"
      ]
    },
    {
      "cell_type": "code",
      "execution_count": null,
      "metadata": {
        "id": "YRN_u4PKTtqb"
      },
      "outputs": [],
      "source": [
        "# caluculate number of reviews for each hotl\n",
        "hotel_number_of_reviews = defaultdict(int)\n",
        "for review in data:\n",
        "    hotel_number_of_reviews[review['business_id']] += 1"
      ]
    },
    {
      "cell_type": "code",
      "execution_count": null,
      "metadata": {
        "colab": {
          "base_uri": "https://localhost:8080/"
        },
        "id": "ccRWSjM8TwZM",
        "outputId": "66a1349d-6d1c-4927-a417-1ea709b010ef"
      },
      "outputs": [
        {
          "output_type": "stream",
          "name": "stdout",
          "text": [
            "number of unique hotels after filtering:  9\n"
          ]
        }
      ],
      "source": [
        "# filter to get only hotels with ideal number of reviews\n",
        "filtered_hotels = [hotel for hotel, number_of_reviews in hotel_number_of_reviews.items() if 400 >= number_of_reviews >= 300]\n",
        "print('number of unique hotels after filtering: ', len(filtered_hotels))"
      ]
    },
    {
      "cell_type": "code",
      "execution_count": null,
      "metadata": {
        "colab": {
          "base_uri": "https://localhost:8080/"
        },
        "id": "bl1qCu8TUgON",
        "outputId": "43696c67-5506-43cc-91f4-e49614c670fc"
      },
      "outputs": [
        {
          "output_type": "stream",
          "name": "stdout",
          "text": [
            "number of reviews after filtering:  3129\n",
            "{'review_id': 'review_488343', 'business_id': 'Savoy Hotel Amsterdam', 'text': 'Staff spot on location nicely out of town and good prices Big spacious clean room with immaculate bedding ', 'extractions': [{'negation': False, 'entity': 'prices', 'predicate': 'good', 'attribute': 'value'}, {'negation': False, 'entity': 'bedding', 'predicate': 'immaculate', 'attribute': 'room -> bed'}]}\n"
          ]
        }
      ],
      "source": [
        "filtered_data =  [review for review in data if review['business_id'] in filtered_hotels]\n",
        "print('number of reviews after filtering: ', len(filtered_data))\n",
        "print(filtered_data[2])"
      ]
    },
    {
      "cell_type": "code",
      "execution_count": null,
      "metadata": {
        "colab": {
          "base_uri": "https://localhost:8080/"
        },
        "id": "mi2IIISzcAog",
        "outputId": "a0d45904-6087-4196-dfa4-820f2574e78f"
      },
      "outputs": [
        {
          "name": "stdout",
          "output_type": "stream",
          "text": [
            "{'review_id': 'review_488342', 'business_id': 'Savoy Hotel Amsterdam', 'text': 'The hotel is not 4 stars just about 3 stars The first night our room was not available we arrived late and clearly the room had been given to someone else The staff was very rude about the situation and not at all helpful The room we had that night was right by the entrance reception overlooking a main road so was very noisy We were moved the next morning to a better room which was clean basic but had no comforts such as tea coffee facilities The bathroom shower floor was not tiled at all so had to shower in flip flops We asked to speak to a manager about our first night and was told the manager only showed up around 11am 12pm for an hour We waited and the manager did not appear Overall this hotel is fine if you want something basic cheaper than central Amsterdam but still walkable into the city centre The local area bars restaurants park etc make it a much better choice', 'extractions': [{'negation': False, 'entity': 'room', 'predicate': 'not available', 'attribute': 'room -> size'}, {'negation': False, 'entity': 'staff', 'predicate': 'very rude', 'attribute': 'staff'}, {'negation': False, 'entity': 'room', 'predicate': 'right by', 'attribute': 'room -> cleanliness'}, {'negation': False, 'entity': 'room', 'predicate': 'clean basic', 'attribute': 'room -> cleanliness'}, {'negation': False, 'entity': 'bathroom', 'predicate': 'not tiled', 'attribute': 'room -> bathroom'}, {'negation': False, 'entity': 'shower floor', 'predicate': 'not tiled', 'attribute': 'room -> bathroom'}]}\n"
          ]
        }
      ],
      "source": [
        "print(filtered_data[1])"
      ]
    },
    {
      "cell_type": "markdown",
      "metadata": {
        "id": "fka9r6aasjJV"
      },
      "source": [
        "Firmer pillows would have been nice Some parts of the hotel were too dark such as stairwells and corridors Extra lighting would help"
      ]
    },
    {
      "cell_type": "markdown",
      "metadata": {
        "id": "Ocg_jlNJQRNk"
      },
      "source": [
        "### Does not remove reviews with more than 2 opinions (not done)\n",
        "* had problem match each new sentence with corresponding opinions when review too long (too many sentences and opinions, will get confused)"
      ]
    },
    {
      "cell_type": "code",
      "execution_count": null,
      "metadata": {
        "id": "XEEh2Ip6m08G"
      },
      "outputs": [],
      "source": [
        "# def segment_text(text, api_key):\n",
        "#     client = openai.OpenAI(\n",
        "#         api_key=api_key,\n",
        "#     )\n",
        "#     prompt = f\"Segment the following text into individual sentences and separate each sentence with a '|' symbol. Text: '{text}'\"\n",
        "#     response = client.chat.completions.create(\n",
        "#         messages=[\n",
        "#             {\n",
        "#                 \"role\": \"user\",\n",
        "#                 \"content\": prompt,\n",
        "#             }\n",
        "#         ],\n",
        "#         model=\"gpt-3.5-turbo\",\n",
        "#     )\n",
        "#     return response.choices[0].message.content.strip().split('|')"
      ]
    },
    {
      "cell_type": "code",
      "execution_count": null,
      "metadata": {
        "id": "yQ3IYWO2fULY"
      },
      "outputs": [],
      "source": [
        "# text = final_data[2]['text']\n",
        "# print(text)\n",
        "# sentences = segment_text(text, API_KEY)\n",
        "# print(sentences)"
      ]
    },
    {
      "cell_type": "code",
      "execution_count": null,
      "metadata": {
        "id": "mjRadYYMAAtW"
      },
      "outputs": [],
      "source": [
        "\n",
        "# def find_best_match(sentence, extractions_copy):\n",
        "#     matched_extractions = []\n",
        "#     words_in_sentence = sentence.lower().split(' ')\n",
        "#     for ext in extractions_copy:\n",
        "#         # Check if both entity and predicate are in the sentence\n",
        "#         if ext['entity'].lower() in sentence.lower() and ext['predicate'].lower() in sentence.lower().split(' '):\n",
        "#             matched_extractions.append(ext)\n",
        "#             # Remove the extraction from the copy to avoid reusing it\n",
        "#             extractions_copy.remove(ext)\n",
        "\n",
        "#     return matched_extractions\n",
        "\n",
        "# def process_reviews(reviews, api_key):\n",
        "#     new_dataset = []\n",
        "#     for review in reviews:\n",
        "#         sentences = segment_text(review['text'], api_key)\n",
        "#         # # Make a deep copy of extractions for each review if you expect to run multiple sentences per review\n",
        "#         # review_extractions = review['extractions'][:]\n",
        "#         # Create a shallow copy of extractions to modify without affecting the original list\n",
        "#         extractions = review['extractions']\n",
        "#         extractions_copy = extractions.copy()\n",
        "#         for sentence in sentences:\n",
        "#             if sentence != '':\n",
        "#               matched_extractions = find_best_match(sentence, extractions_copy)\n",
        "#               new_dataset.append({\n",
        "#                   'review_id': review['review_id'],\n",
        "#                   'business_id': review['business_id'],\n",
        "#                   'text': sentence.strip(),\n",
        "#                   'extractions': matched_extractions\n",
        "#               })\n",
        "#     return new_dataset\n",
        "\n",
        "\n",
        "# # Example usage\n",
        "# # api_key = 'your-api-key'\n",
        "# reviews = [\n",
        "#     {'review_id': 'review_401595', 'business_id': 'Sir Albert Hotel', 'text': 'Liked the toiletries the bluetooth speaker radio the general ambience of the hotel Location is fantastic Staff friendly and helpful', 'extractions': [{'negation': False, 'entity': 'toiletries', 'predicate': 'Liked', 'attribute': 'room -> bathroom'}, {'negation': False, 'entity': 'Location', 'predicate': 'fantastic', 'attribute': 'location'}, {'negation': False, 'entity': 'Staff', 'predicate': 'friendly', 'attribute': 'staff'}]},\n",
        "#     # Add more reviews as needed\n",
        "# ]\n",
        "\n",
        "# transformed_data = process_reviews(test_data, API_KEY)\n"
      ]
    },
    {
      "cell_type": "code",
      "execution_count": null,
      "metadata": {
        "id": "pSwTwuhsUim3"
      },
      "outputs": [],
      "source": [
        "# test_data = filtered_data[1:2]\n",
        "# transformed_data = process_reviews(test_data, API_KEY)\n",
        "# transformed_data"
      ]
    },
    {
      "cell_type": "markdown",
      "metadata": {
        "id": "C725NmoBQen8"
      },
      "source": [
        "### Remove reviews with more than 2 opinions (not done)"
      ]
    },
    {
      "cell_type": "code",
      "execution_count": null,
      "metadata": {
        "id": "8P9pTHq3PvaP"
      },
      "outputs": [],
      "source": [
        "two_opinons_data = [review for review in filtered_data if len(review['extractions']) == 2]\n",
        "print('number of reviews after removing reviews with more than 2 opinions: ', len(two_opinons_data))"
      ]
    },
    {
      "cell_type": "code",
      "execution_count": null,
      "metadata": {
        "id": "QnYdrPORVRad"
      },
      "outputs": [],
      "source": [
        "# def get_explanation_label(review, api_key):\n",
        "#     client = openai.OpenAI(\n",
        "#         api_key=api_key,\n",
        "#     )\n",
        "\n",
        "#     sentence = review['text']\n",
        "#     opinion_a = review['extractions'][0]['predicate'] + ' ' + review['extractions'][0]['entity']\n",
        "#     opinion_b = review['extractions'][1]['predicate'] + ' ' + review['extractions'][1]['entity']\n",
        "#     print(sentence, ' | ', opinion_a,' | ', opinion_b)\n",
        "#     prompt = f\"Given the sentence: '{sentence}', where Opinion A is '{opinion_a}' and Opinion B is '{opinion_b}', does Opinion B explain Opinion A based on the context of the sentence? Answer with '1' for yes and '0' for no.\"\n",
        "\n",
        "#     response = client.chat.completions.create(\n",
        "#         messages=[\n",
        "#             {\n",
        "#                 \"role\": \"user\",\n",
        "#                 \"content\": prompt,\n",
        "#             }\n",
        "#         ],\n",
        "#         model=\"gpt-3.5-turbo\",\n",
        "#     )\n",
        "#     return response.choices[0].message.content"
      ]
    },
    {
      "cell_type": "code",
      "execution_count": null,
      "metadata": {
        "id": "dhH2-TnT6pFW"
      },
      "outputs": [],
      "source": []
    },
    {
      "cell_type": "markdown",
      "metadata": {
        "id": "pQ2mdJVR6q3R"
      },
      "source": [
        "## Extract sentences"
      ]
    },
    {
      "cell_type": "code",
      "execution_count": null,
      "metadata": {
        "colab": {
          "base_uri": "https://localhost:8080/"
        },
        "id": "XOu0zPRXUVeM",
        "outputId": "8544746d-23f9-4d8b-b313-a1abc2dd612a"
      },
      "outputs": [
        {
          "name": "stdout",
          "output_type": "stream",
          "text": [
            "Requirement already satisfied: tqdm in /usr/local/lib/python3.10/dist-packages (4.66.2)\n"
          ]
        }
      ],
      "source": [
        "! pip install tqdm"
      ]
    },
    {
      "cell_type": "code",
      "execution_count": null,
      "metadata": {
        "id": "BPEddR0CpMku"
      },
      "outputs": [],
      "source": [
        "import asyncio\n",
        "import aiohttp\n",
        "import time\n",
        "from tqdm import tqdm"
      ]
    },
    {
      "cell_type": "markdown",
      "metadata": {
        "id": "i_FCYOjGpGkh"
      },
      "source": [
        "### without async"
      ]
    },
    {
      "cell_type": "code",
      "execution_count": null,
      "metadata": {
        "id": "pNd3GL7165Th"
      },
      "outputs": [],
      "source": [
        "# def extract_sentences(review, api_key):\n",
        "#     client = openai.OpenAI(\n",
        "#         api_key=api_key,\n",
        "#     )\n",
        "\n",
        "#     single_review = review['text']\n",
        "\n",
        "#     prompt = f'''\n",
        "#     Read the following review: '{single_review}'. Accurately identify and separate each sentence in the review.\n",
        "#     Present the identified sentences as a JSON array, where each item in the array represents a separate sentence identified within the review.\n",
        "\n",
        "#     Example input:\n",
        "#     \"Shower head was too low and need low flow nozzles The location was good considering San Francisco has a few very seedy and dodgy areas\"\n",
        "\n",
        "#     Expected output:\n",
        "#     [\n",
        "#         \"Shower head was too low and need low flow nozzles\",\n",
        "#         \"The location was good considering San Francisco has a few very seedy and dodgy areas\"\n",
        "#     ]\n",
        "\n",
        "#     Example input:\n",
        "#     \"The location was really good walking distance to the main union square hub and transport system The room is quite smal and has a foul smell\"\n",
        "\n",
        "#     Expected output:\n",
        "#     [\n",
        "#         \"The location was really good walking distance to the main union square hub and transport system\",\n",
        "#         \"The room is quite smal and has a foul smell\"\n",
        "#     ]\n",
        "\n",
        "#     Example input:\n",
        "#     \"The king size bed was very comfortable with plenty of pillows\"\n",
        "\n",
        "#     Expected output:\n",
        "#     [\n",
        "#         \"The king size bed was very comfortable with plenty of pillows\"\n",
        "#     ]\n",
        "\n",
        "#     Just return the JSON array. Do not include extra texts.\n",
        "#     '''\n",
        "\n",
        "#     response = client.chat.completions.create(\n",
        "#         messages=[\n",
        "#             {\n",
        "#                 \"role\": \"user\",\n",
        "#                 \"content\": prompt,\n",
        "#             }\n",
        "#         ],\n",
        "#         model=\"gpt-3.5-turbo\",\n",
        "#     )\n",
        "\n",
        "#     if response.choices[0].message.content:\n",
        "#         return response.choices[0].message.content.replace('\\n', '')\n",
        "#     else:\n",
        "#         return '[]'"
      ]
    },
    {
      "cell_type": "code",
      "execution_count": null,
      "metadata": {
        "colab": {
          "base_uri": "https://localhost:8080/"
        },
        "id": "KHG_mHkDFuGJ",
        "outputId": "9cc58fe7-3521-4d1e-cd5f-6f8bcec91dde"
      },
      "outputs": [
        {
          "name": "stderr",
          "output_type": "stream",
          "text": [
            " 10%|▉         | 905/9306 [2:07:37<24:12:02, 10.37s/it]"
          ]
        },
        {
          "name": "stdout",
          "output_type": "stream",
          "text": [
            "Failed to decode JSON for review at index 904: Extra data: line 1 column 809 (char 808)\n",
            "[    \"I have to say that the only thing that l didn t like was brekfast It is advertised as a lot of healthy options etc and l was looking forward to it but it was pretty basic and dry Some bread and cheese waffles butter There was nothing green like salad tomatoes cucumbers no mayo or red sauce There was nothing available from kichen things like omelette fried egg porridge etc The only healthy thing available was two types of smoothies but they were constantly running out Coffee wasnt great not bad but not good The staff and service at the brekfast was very slow tables were not cleaned quick enough to allow new people to be seated coffee machine was breaking up running out of food Generally people looked frustrated as they had to wait to find a clean table and queue to get some coffee etc If...\"],    \"l would stay there again l woud not pay for brekfast as it not my type of brekfast at all The hotel is located within shopping centre there are coffee shops and food markets to buy things\"]\n",
            "\n"
          ]
        },
        {
          "name": "stderr",
          "output_type": "stream",
          "text": [
            " 66%|██████▌   | 6098/9306 [14:35:18<7:53:03,  8.85s/it]"
          ]
        }
      ],
      "source": [
        "# start_time = time.time()\n",
        "# for i, review in tqdm(enumerate(filtered_data), total=len(filtered_data)):\n",
        "#     try:\n",
        "#         sentences = extract_sentences(review, API_KEY)\n",
        "#         sentences = json.loads(sentences)\n",
        "\n",
        "#         for sentence in sentences:\n",
        "#             sentencess_extracted_data.append(\n",
        "#                 {\n",
        "#                 'review_id': review['review_id'],\n",
        "#                 'business_id': review['business_id'],\n",
        "#                 'text':sentence,\n",
        "#                 'extractions': []\n",
        "#                 }\n",
        "#         )\n",
        "\n",
        "#     except json.JSONDecodeError as e:\n",
        "#         print(f\"Failed to decode JSON for review at index {i}: {e}\")\n",
        "#         print(sentences)\n",
        "#         print()\n",
        "#     except Exception as e:\n",
        "#         print(f\"An error occurred while extracting sentences for review at index {i}: {e}\")\n",
        "#         print(sentences)\n",
        "#         print()\n",
        "\n",
        "\n",
        "# end_time = time.time()  # End timing\n",
        "# execution_time = end_time - start_time  # Calculate the total execution time in seconds\n",
        "\n",
        "# # Convert seconds to hour, minute, second format\n",
        "# hours, remainder = divmod(execution_time, 3600)\n",
        "# minutes, seconds = divmod(remainder, 60)\n",
        "\n",
        "# # Print the execution time in a formatted string\n",
        "# print(f\"Execution time: {int(hours)} hours, {int(minutes)} minutes, {int(seconds)} seconds\")"
      ]
    },
    {
      "cell_type": "markdown",
      "metadata": {
        "id": "QLVnM3pOpLxv"
      },
      "source": [
        "### with async"
      ]
    },
    {
      "cell_type": "code",
      "execution_count": null,
      "metadata": {
        "colab": {
          "base_uri": "https://localhost:8080/"
        },
        "id": "8ha6Gx4KsQ6R",
        "outputId": "8b394be6-1961-4a76-efe7-fd2ede7fa44f"
      },
      "outputs": [
        {
          "name": "stdout",
          "output_type": "stream",
          "text": [
            "Requirement already satisfied: nest_asyncio in /usr/local/lib/python3.10/dist-packages (1.6.0)\n"
          ]
        }
      ],
      "source": [
        "! pip install nest_asyncio"
      ]
    },
    {
      "cell_type": "code",
      "execution_count": null,
      "metadata": {
        "colab": {
          "base_uri": "https://localhost:8080/"
        },
        "id": "2wlgBud_Fa6l",
        "outputId": "72acc2cc-2ca8-44c2-90c1-c34591803f36"
      },
      "outputs": [
        {
          "name": "stdout",
          "output_type": "stream",
          "text": [
            "Collecting aiolimiter\n",
            "  Downloading aiolimiter-1.1.0-py3-none-any.whl (7.2 kB)\n",
            "Installing collected packages: aiolimiter\n",
            "Successfully installed aiolimiter-1.1.0\n"
          ]
        }
      ],
      "source": [
        "! pip install aiolimiter"
      ]
    },
    {
      "cell_type": "code",
      "execution_count": null,
      "metadata": {
        "id": "qFln-LWNtV2H"
      },
      "outputs": [],
      "source": [
        "import random\n",
        "import aiohttp\n",
        "import asyncio\n",
        "import json\n",
        "import nest_asyncio\n",
        "import time\n",
        "from tqdm.notebook import tqdm\n",
        "from aiolimiter import AsyncLimiter\n",
        "\n",
        "# Patch the existing event loop for compatibility with Jupyter/Colab\n",
        "nest_asyncio.apply()\n",
        "\n",
        "# Set up a rate limiter. Assuming the limit is 100 requests per minute, for example.\n",
        "# You should adjust the rate based on the actual limits of the OpenAI API.\n",
        "rate_limiter = AsyncLimiter(5, 60)\n",
        "\n",
        "# Asynchronous function to fetch data from the API\n",
        "async def sentence_fetch(session, review, API_KEY, limiter):\n",
        "    url = \"https://api.openai.com/v1/chat/completions\"  # OpenAI API endpoint\n",
        "    single_review = review['text']\n",
        "    prompt = f'''\n",
        "        Read the following review: '{single_review}'. Accurately identify and separate each sentence in the review.\n",
        "        Present the identified sentences as a JSON array, where each item in the array represents a separate sentence identified within the review.\n",
        "\n",
        "        Example input:\n",
        "        \"Shower head was too low and need low flow nozzles The location was good considering San Francisco has a few very seedy and dodgy areas\"\n",
        "\n",
        "        Expected output:\n",
        "        [\n",
        "            \"Shower head was too low and need low flow nozzles\",\n",
        "            \"The location was good considering San Francisco has a few very seedy and dodgy areas\"\n",
        "        ]\n",
        "\n",
        "        Example input:\n",
        "        \"The location was really good walking distance to the main union square hub and transport system The room is quite small and has a foul smell\"\n",
        "\n",
        "        Expected output:\n",
        "        [\n",
        "            \"The location was really good walking distance to the main union square hub and transport system\",\n",
        "            \"The room is quite small and has a foul smell\"\n",
        "        ]\n",
        "\n",
        "        Example input:\n",
        "        \"The king size bed was very comfortable with plenty of pillows\"\n",
        "\n",
        "        Expected output:\n",
        "        [\n",
        "            \"The king size bed was very comfortable with plenty of pillows\"\n",
        "        ]\n",
        "\n",
        "        Just return the JSON array. Do not include extra texts.\n",
        "    '''\n",
        "    params = {\n",
        "        \"model\": \"gpt-3.5-turbo\",\n",
        "        \"messages\": [\n",
        "            {\n",
        "                \"role\": \"user\",\n",
        "                \"content\": prompt,\n",
        "            }\n",
        "        ],\n",
        "        \"temperature\": 0.2\n",
        "    }\n",
        "    headers = {\n",
        "        \"Authorization\": f\"Bearer {API_KEY}\",\n",
        "        \"Content-Type\": \"application/json\"\n",
        "    }\n",
        "    # Use the rate limiter before making a request\n",
        "    async with limiter:\n",
        "      # print(f\"Requesting at {time.strftime('%X')}\")\n",
        "      async with session.post(url, json=params, headers=headers) as response:\n",
        "          response_text = await response.text()\n",
        "          # print(f\"Received response at {time.strftime('%X')}\")\n",
        "          return review, response_text\n",
        "\n",
        "# Asynchronous function to process a batch of reviews\n",
        "async def process_reviews(filtered_data, API_KEY, limiter):\n",
        "    async with aiohttp.ClientSession() as session:\n",
        "        tasks = []\n",
        "        for review in filtered_data:\n",
        "            task = asyncio.create_task(sentence_fetch(session, review, API_KEY, limiter))\n",
        "            tasks.append(task)\n",
        "\n",
        "        sentences_extracted_data = []\n",
        "        for i, task in enumerate(tqdm(asyncio.as_completed(tasks), total=len(tasks))):\n",
        "            review, sentences = await task\n",
        "            try:\n",
        "                response_json = json.loads(sentences)\n",
        "                sentences_str = response_json['choices'][0]['message']['content'].replace('\\n', '')\n",
        "                sentences_json = json.loads(sentences_str)\n",
        "                for sentence in sentences_json:\n",
        "                    sentences_extracted_data.append({\n",
        "                        'review_id': review['review_id'],\n",
        "                        'business_id': review['business_id'],\n",
        "                        'text': sentence,\n",
        "                    })\n",
        "            except json.JSONDecodeError as e:\n",
        "                print(f\"Failed to decode JSON for review_id {review['review_id']}: {e}\")\n",
        "                print(response_json)\n",
        "                print()\n",
        "            except Exception as e:\n",
        "                print(f\"An error occurred while extracting sentences for review_id  {review['review_id']}: {e}\")\n",
        "                print(response_json)\n",
        "                print()\n",
        "\n",
        "            if i != 0 and i % 100 == 0:\n",
        "                wait_min = random.choice([1, 3])\n",
        "                print(f\"Index {i} waiting for {wait_min} minutes...\")\n",
        "                await asyncio.sleep(wait_min * 60)\n",
        "        return sentences_extracted_data\n",
        "\n",
        "# # Main coroutine that handles the entire processing\n",
        "# async def sentence_main():\n",
        "#     sentences_extracted_data = await process_reviews(filtered_data[1:3], API_KEY, rate_limiter)\n",
        "#     return sentences_extracted_data\n",
        "\n",
        "# # Run the main coroutine and measure the execution time\n",
        "# loop = asyncio.get_event_loop()\n",
        "# start_time = loop.time()\n",
        "# sentences_extracted_data = loop.run_until_complete(sentence_main())\n",
        "# end_time = loop.time()\n",
        "\n",
        "# # Calculate and print execution time\n",
        "# execution_time = end_time - start_time\n",
        "# hours, remainder = divmod(execution_time, 3600)\n",
        "# minutes, seconds = divmod(remainder, 60)\n",
        "# print(f\"Execution time: {int(hours)} hours, {int(minutes)} minutes, {int(seconds)} seconds\")"
      ]
    },
    {
      "cell_type": "code",
      "execution_count": null,
      "metadata": {
        "colab": {
          "base_uri": "https://localhost:8080/",
          "height": 738,
          "referenced_widgets": [
            "bafac94eef54429caf73d548c5023365",
            "03057aa23dfe49caa4f6c531a1130c81",
            "24182bd3678a4b10b93348bf4ed81b0d",
            "2511f6b9bfad4f9991306bacff250677",
            "e8bdbe7908f34ef18cd3b8f988b700c2",
            "fef7f68d30d04040b211ef7b88451b5f",
            "9c31861cc5114a678c05efd487173693",
            "ffe07f73c7da432993d98d8d60cf098e",
            "7be2343c228c40ad82ee729582977565",
            "406bdb6412bc477483360849a5d75da2",
            "1dfba29685e245c084c110a8c294ba4b"
          ]
        },
        "id": "zD32m-vkFh4O",
        "outputId": "b16bded7-4d48-49e0-dcf0-338c4e284864"
      },
      "outputs": [
        {
          "data": {
            "application/vnd.jupyter.widget-view+json": {
              "model_id": "bafac94eef54429caf73d548c5023365",
              "version_major": 2,
              "version_minor": 0
            },
            "text/plain": [
              "  0%|          | 0/3129 [00:00<?, ?it/s]"
            ]
          },
          "metadata": {},
          "output_type": "display_data"
        },
        {
          "name": "stdout",
          "output_type": "stream",
          "text": [
            "An error occurred while extracting sentences for review_id  review_488341: 'choices'\n",
            "{'error': {'message': 'Rate limit reached for gpt-3.5-turbo in organization org-ofABaOXkeWS2fI3qk4Pf04NW on requests per day (RPD): Limit 10000, Used 10000, Requested 1. Please try again in 8.64s. Visit https://platform.openai.com/account/rate-limits to learn more.', 'type': 'requests', 'param': None, 'code': 'rate_limit_exceeded'}}\n",
            "\n",
            "An error occurred while extracting sentences for review_id  review_488344: 'choices'\n",
            "{'error': {'message': 'Rate limit reached for gpt-3.5-turbo in organization org-ofABaOXkeWS2fI3qk4Pf04NW on requests per day (RPD): Limit 10000, Used 10000, Requested 1. Please try again in 8.64s. Visit https://platform.openai.com/account/rate-limits to learn more.', 'type': 'requests', 'param': None, 'code': 'rate_limit_exceeded'}}\n",
            "\n",
            "An error occurred while extracting sentences for review_id  review_488343: 'choices'\n",
            "{'error': {'message': 'Rate limit reached for gpt-3.5-turbo in organization org-ofABaOXkeWS2fI3qk4Pf04NW on requests per day (RPD): Limit 10000, Used 10000, Requested 1. Please try again in 8.64s. Visit https://platform.openai.com/account/rate-limits to learn more.', 'type': 'requests', 'param': None, 'code': 'rate_limit_exceeded'}}\n",
            "\n",
            "An error occurred while extracting sentences for review_id  review_488342: 'choices'\n",
            "{'error': {'message': 'Rate limit reached for gpt-3.5-turbo in organization org-ofABaOXkeWS2fI3qk4Pf04NW on requests per day (RPD): Limit 10000, Used 10000, Requested 1. Please try again in 8.64s. Visit https://platform.openai.com/account/rate-limits to learn more.', 'type': 'requests', 'param': None, 'code': 'rate_limit_exceeded'}}\n",
            "\n",
            "An error occurred while extracting sentences for review_id  review_488345: 'choices'\n",
            "{'error': {'message': 'Rate limit reached for gpt-3.5-turbo in organization org-ofABaOXkeWS2fI3qk4Pf04NW on requests per day (RPD): Limit 10000, Used 10000, Requested 1. Please try again in 8.64s. Visit https://platform.openai.com/account/rate-limits to learn more.', 'type': 'requests', 'param': None, 'code': 'rate_limit_exceeded'}}\n",
            "\n"
          ]
        },
        {
          "ename": "KeyboardInterrupt",
          "evalue": "",
          "output_type": "error",
          "traceback": [
            "\u001b[0;31m---------------------------------------------------------------------------\u001b[0m",
            "\u001b[0;31mKeyboardInterrupt\u001b[0m                         Traceback (most recent call last)",
            "\u001b[0;32m<ipython-input-25-603d5bfc23a7>\u001b[0m in \u001b[0;36m<cell line: 9>\u001b[0;34m()\u001b[0m\n\u001b[1;32m      7\u001b[0m \u001b[0mloop\u001b[0m \u001b[0;34m=\u001b[0m \u001b[0masyncio\u001b[0m\u001b[0;34m.\u001b[0m\u001b[0mget_event_loop\u001b[0m\u001b[0;34m(\u001b[0m\u001b[0;34m)\u001b[0m\u001b[0;34m\u001b[0m\u001b[0;34m\u001b[0m\u001b[0m\n\u001b[1;32m      8\u001b[0m \u001b[0mstart_time\u001b[0m \u001b[0;34m=\u001b[0m \u001b[0mloop\u001b[0m\u001b[0;34m.\u001b[0m\u001b[0mtime\u001b[0m\u001b[0;34m(\u001b[0m\u001b[0;34m)\u001b[0m\u001b[0;34m\u001b[0m\u001b[0;34m\u001b[0m\u001b[0m\n\u001b[0;32m----> 9\u001b[0;31m \u001b[0msentences_extracted_data\u001b[0m \u001b[0;34m=\u001b[0m \u001b[0mloop\u001b[0m\u001b[0;34m.\u001b[0m\u001b[0mrun_until_complete\u001b[0m\u001b[0;34m(\u001b[0m\u001b[0msentence_main\u001b[0m\u001b[0;34m(\u001b[0m\u001b[0;34m)\u001b[0m\u001b[0;34m)\u001b[0m\u001b[0;34m\u001b[0m\u001b[0;34m\u001b[0m\u001b[0m\n\u001b[0m\u001b[1;32m     10\u001b[0m \u001b[0mend_time\u001b[0m \u001b[0;34m=\u001b[0m \u001b[0mloop\u001b[0m\u001b[0;34m.\u001b[0m\u001b[0mtime\u001b[0m\u001b[0;34m(\u001b[0m\u001b[0;34m)\u001b[0m\u001b[0;34m\u001b[0m\u001b[0;34m\u001b[0m\u001b[0m\n\u001b[1;32m     11\u001b[0m \u001b[0;34m\u001b[0m\u001b[0m\n",
            "\u001b[0;32m/usr/local/lib/python3.10/dist-packages/nest_asyncio.py\u001b[0m in \u001b[0;36mrun_until_complete\u001b[0;34m(self, future)\u001b[0m\n\u001b[1;32m     90\u001b[0m                 \u001b[0mf\u001b[0m\u001b[0;34m.\u001b[0m\u001b[0m_log_destroy_pending\u001b[0m \u001b[0;34m=\u001b[0m \u001b[0;32mFalse\u001b[0m\u001b[0;34m\u001b[0m\u001b[0;34m\u001b[0m\u001b[0m\n\u001b[1;32m     91\u001b[0m             \u001b[0;32mwhile\u001b[0m \u001b[0;32mnot\u001b[0m \u001b[0mf\u001b[0m\u001b[0;34m.\u001b[0m\u001b[0mdone\u001b[0m\u001b[0;34m(\u001b[0m\u001b[0;34m)\u001b[0m\u001b[0;34m:\u001b[0m\u001b[0;34m\u001b[0m\u001b[0;34m\u001b[0m\u001b[0m\n\u001b[0;32m---> 92\u001b[0;31m                 \u001b[0mself\u001b[0m\u001b[0;34m.\u001b[0m\u001b[0m_run_once\u001b[0m\u001b[0;34m(\u001b[0m\u001b[0;34m)\u001b[0m\u001b[0;34m\u001b[0m\u001b[0;34m\u001b[0m\u001b[0m\n\u001b[0m\u001b[1;32m     93\u001b[0m                 \u001b[0;32mif\u001b[0m \u001b[0mself\u001b[0m\u001b[0;34m.\u001b[0m\u001b[0m_stopping\u001b[0m\u001b[0;34m:\u001b[0m\u001b[0;34m\u001b[0m\u001b[0;34m\u001b[0m\u001b[0m\n\u001b[1;32m     94\u001b[0m                     \u001b[0;32mbreak\u001b[0m\u001b[0;34m\u001b[0m\u001b[0;34m\u001b[0m\u001b[0m\n",
            "\u001b[0;32m/usr/local/lib/python3.10/dist-packages/nest_asyncio.py\u001b[0m in \u001b[0;36m_run_once\u001b[0;34m(self)\u001b[0m\n\u001b[1;32m    113\u001b[0m                 scheduled[0]._when - self.time(), 0), 86400) if scheduled\n\u001b[1;32m    114\u001b[0m             else None)\n\u001b[0;32m--> 115\u001b[0;31m         \u001b[0mevent_list\u001b[0m \u001b[0;34m=\u001b[0m \u001b[0mself\u001b[0m\u001b[0;34m.\u001b[0m\u001b[0m_selector\u001b[0m\u001b[0;34m.\u001b[0m\u001b[0mselect\u001b[0m\u001b[0;34m(\u001b[0m\u001b[0mtimeout\u001b[0m\u001b[0;34m)\u001b[0m\u001b[0;34m\u001b[0m\u001b[0;34m\u001b[0m\u001b[0m\n\u001b[0m\u001b[1;32m    116\u001b[0m         \u001b[0mself\u001b[0m\u001b[0;34m.\u001b[0m\u001b[0m_process_events\u001b[0m\u001b[0;34m(\u001b[0m\u001b[0mevent_list\u001b[0m\u001b[0;34m)\u001b[0m\u001b[0;34m\u001b[0m\u001b[0;34m\u001b[0m\u001b[0m\n\u001b[1;32m    117\u001b[0m \u001b[0;34m\u001b[0m\u001b[0m\n",
            "\u001b[0;32m/usr/lib/python3.10/selectors.py\u001b[0m in \u001b[0;36mselect\u001b[0;34m(self, timeout)\u001b[0m\n\u001b[1;32m    467\u001b[0m             \u001b[0mready\u001b[0m \u001b[0;34m=\u001b[0m \u001b[0;34m[\u001b[0m\u001b[0;34m]\u001b[0m\u001b[0;34m\u001b[0m\u001b[0;34m\u001b[0m\u001b[0m\n\u001b[1;32m    468\u001b[0m             \u001b[0;32mtry\u001b[0m\u001b[0;34m:\u001b[0m\u001b[0;34m\u001b[0m\u001b[0;34m\u001b[0m\u001b[0m\n\u001b[0;32m--> 469\u001b[0;31m                 \u001b[0mfd_event_list\u001b[0m \u001b[0;34m=\u001b[0m \u001b[0mself\u001b[0m\u001b[0;34m.\u001b[0m\u001b[0m_selector\u001b[0m\u001b[0;34m.\u001b[0m\u001b[0mpoll\u001b[0m\u001b[0;34m(\u001b[0m\u001b[0mtimeout\u001b[0m\u001b[0;34m,\u001b[0m \u001b[0mmax_ev\u001b[0m\u001b[0;34m)\u001b[0m\u001b[0;34m\u001b[0m\u001b[0;34m\u001b[0m\u001b[0m\n\u001b[0m\u001b[1;32m    470\u001b[0m             \u001b[0;32mexcept\u001b[0m \u001b[0mInterruptedError\u001b[0m\u001b[0;34m:\u001b[0m\u001b[0;34m\u001b[0m\u001b[0;34m\u001b[0m\u001b[0m\n\u001b[1;32m    471\u001b[0m                 \u001b[0;32mreturn\u001b[0m \u001b[0mready\u001b[0m\u001b[0;34m\u001b[0m\u001b[0;34m\u001b[0m\u001b[0m\n",
            "\u001b[0;31mKeyboardInterrupt\u001b[0m: "
          ]
        }
      ],
      "source": [
        "# Main coroutine that handles the entire processing\n",
        "async def sentence_main():\n",
        "    sentences_extracted_data = await process_reviews(filtered_data, API_KEY, rate_limiter)\n",
        "    return sentences_extracted_data\n",
        "\n",
        "# Run the main coroutine and measure the execution time\n",
        "loop = asyncio.get_event_loop()\n",
        "start_time = loop.time()\n",
        "sentences_extracted_data = loop.run_until_complete(sentence_main())\n",
        "end_time = loop.time()\n",
        "\n",
        "# Calculate and print execution time\n",
        "execution_time = end_time - start_time\n",
        "hours, remainder = divmod(execution_time, 3600)\n",
        "minutes, seconds = divmod(remainder, 60)\n",
        "print(f\"Execution time: {int(hours)} hours, {int(minutes)} minutes, {int(seconds)} seconds\")"
      ]
    },
    {
      "cell_type": "code",
      "execution_count": null,
      "metadata": {
        "colab": {
          "base_uri": "https://localhost:8080/"
        },
        "id": "CwR3WRc2NMUi",
        "outputId": "058f4f78-35fe-4fbc-b377-f204b83f917c"
      },
      "outputs": [
        {
          "name": "stdout",
          "output_type": "stream",
          "text": [
            "number of reviews:  3129\n",
            "number of extracted sentences 2271\n"
          ]
        }
      ],
      "source": [
        "print('number of reviews: ', len(filtered_data))\n",
        "print('number of extracted sentences', len(sentences_extracted_data))"
      ]
    },
    {
      "cell_type": "code",
      "execution_count": null,
      "metadata": {
        "colab": {
          "base_uri": "https://localhost:8080/"
        },
        "id": "i2tZbYdSJNcM",
        "outputId": "52a7de59-cc30-464f-85c9-7df4708142c1"
      },
      "outputs": [
        {
          "name": "stdout",
          "output_type": "stream",
          "text": [
            "number of extracted sentences 2271\n"
          ]
        }
      ],
      "source": [
        "print('number of extracted sentences', len(sentences_extracted_data))"
      ]
    },
    {
      "cell_type": "code",
      "execution_count": null,
      "metadata": {
        "id": "eKJnF1brou8T"
      },
      "outputs": [],
      "source": [
        "# # save file\n",
        "# file_path = '/content/drive/My Drive/ExplainIt/explainit/explanation_mining/data/yichen/GPT_sentences_extracted_data.json'\n",
        "# with open(file_path, 'w') as file:\n",
        "#      json.dump(sentences_extracted_data, file)"
      ]
    },
    {
      "cell_type": "markdown",
      "metadata": {
        "id": "SVAJUMlKwsHO"
      },
      "source": [
        "## Extract Opinions"
      ]
    },
    {
      "cell_type": "code",
      "execution_count": null,
      "metadata": {
        "colab": {
          "base_uri": "https://localhost:8080/"
        },
        "id": "FdUjuEgDq2G8",
        "outputId": "0f502475-950a-44b4-bb08-288dba758abc"
      },
      "outputs": [
        {
          "output_type": "stream",
          "name": "stdout",
          "text": [
            "number of extracted sentences 2271\n"
          ]
        }
      ],
      "source": [
        "###SPACIOUS CLEAN BED\n",
        "\n",
        "\n",
        "\n",
        "# save file\n",
        "file_path = '/content/drive/My Drive/ExplainIt/explainit/explanation_mining/data/yichen/GPT_sentences_extracted_data.json'\n",
        "with open(file_path, 'r') as file:\n",
        "     sentences_extracted_data = json.load(file)\n",
        "\n",
        "print('number of extracted sentences', len(sentences_extracted_data))"
      ]
    },
    {
      "cell_type": "code",
      "execution_count": null,
      "metadata": {
        "colab": {
          "base_uri": "https://localhost:8080/"
        },
        "id": "vSGae8orjAjv",
        "outputId": "715c26f9-783d-4270-8298-28598fef96ec"
      },
      "outputs": [
        {
          "data": {
            "text/plain": [
              "Counter({'Luxury Suites Amsterdam': 242,\n",
              "         'Savoy Hotel Amsterdam': 381,\n",
              "         'Albus Hotel Amsterdam City Centre': 196,\n",
              "         'Andaz Amsterdam Prinsengracht A Hyatt Hotel': 217,\n",
              "         'W Amsterdam': 254,\n",
              "         'NH Amsterdam Museum Quarter': 285,\n",
              "         'NH Amsterdam Zuid': 200,\n",
              "         'NH Amsterdam Caransa': 234,\n",
              "         'Crowne Plaza Amsterdam South': 262})"
            ]
          },
          "execution_count": 34,
          "metadata": {},
          "output_type": "execute_result"
        }
      ],
      "source": [
        "from collections import Counter\n",
        "Counter([i['business_id'] for i in sentences_extracted_data])"
      ]
    },
    {
      "cell_type": "code",
      "execution_count": null,
      "metadata": {
        "colab": {
          "base_uri": "https://localhost:8080/"
        },
        "id": "FnH07a3QjeYR",
        "outputId": "5b46baed-289f-47f5-edc5-9b158b7a3f28"
      },
      "outputs": [
        {
          "name": "stdout",
          "output_type": "stream",
          "text": [
            "928\n"
          ]
        }
      ],
      "source": [
        "new_sentences_extracted_data = [i for i in sentences_extracted_data if i['business_id'] in ['Savoy Hotel Amsterdam', 'Crowne Plaza Amsterdam South', 'NH Amsterdam Museum Quarter']]\n",
        "print(len(new_sentences_extracted_data))"
      ]
    },
    {
      "cell_type": "code",
      "execution_count": null,
      "metadata": {
        "id": "y_j5RzZtVbok"
      },
      "outputs": [],
      "source": [
        "# Patch the existing event loop for compatibility with Jupyter/Colab\n",
        "nest_asyncio.apply()\n",
        "\n",
        "# Set up a rate limiter. Assuming the limit is 100 requests per minute, for example.\n",
        "# You should adjust the rate based on the actual limits of the OpenAI API.\n",
        "rate_limiter = AsyncLimiter(5, 60)\n",
        "\n",
        "# Asynchronous function to fetch data from the API\n",
        "async def opinion_fetch(session, review, API_KEY, limiter):\n",
        "    url = \"https://api.openai.com/v1/chat/completions\"  # OpenAI API endpoint\n",
        "    single_review = review['text']\n",
        "    prompt = f'''\n",
        "        Focus on extracting opinions from a customer review on a hotel.\n",
        "        An opinion is of the form (predicate, entity). Each opinion should be clear, understandable, and accurately reflects the content of the review.\n",
        "        Follow these steps to process a single review:\n",
        "        Step 1: Read the following review: '{single_review}'.\n",
        "        Step 2: For each review, identify all opinions that are about the hotel.\n",
        "                1. Each opinion should consist of an adjective \"predicate\" and an noun \"entity\". The entity should be words included in the sentence.\n",
        "                2. The predicate should ONLY CONTAIN ADJECTIVE specifically used to describe the entity.\n",
        "                3. The entity should be a concise noun or noun phrase that is included in the sentence that directly identifies the primary feature or service being discussed.\n",
        "                4. The entity should be  be something general, avoiding specific details like names or unique offerings.\n",
        "                5. Concatenate the predicate and entity to form a single, concise opinion that is clear, understandable, and accurately reflects the content of the review.\n",
        "                6. For example, from the sentence \"The beds are incredibly comfortable\" extract \"incredibly comfortable\" as the predicate and \"beds\" as the entity. The final opinion should be \"incredibly comfortable beds\".\n",
        "        Step 3: Assign a sentiment value to each opinion where \"1\" indicates positive, \"0\" indicates neutral, and \"-1\" indicates negative.\n",
        "        Step 4: Present your findings in a structured JSON format. The format should list all extracted opinions.\n",
        "\n",
        "        Example input:\n",
        "        \"The breakfast was excellent\"\n",
        "\n",
        "        Expected ouput:\n",
        "        [\n",
        "            {{\"predicate\": \"excellent\", \"entity\": \"breakfast\", \"sentiment\": 1}}\n",
        "        ]\n",
        "\n",
        "        Example input:\n",
        "        \"The king size bed was very comfortable with plenty of pillows\"\n",
        "\n",
        "        Expected output:\n",
        "        [\n",
        "            {{\"predicate\": \"very comfortable\", \"entity\": \"bed\", \"sentiment\": 1}},\n",
        "            {{\"predicate\": \"plenty\", \"entity\": \"pillows\", \"sentiment\": 1}}\n",
        "        ]\n",
        "\n",
        "        Example input:\n",
        "        \"The room is quite small and has a foul smell\"\n",
        "\n",
        "        Expected output:\n",
        "        [\n",
        "            {{\"predicate\": \"quite small\", \"entity\": \"room size\", \"sentiment\": -1}},\n",
        "            {{\"predicate\": \"foul\", \"entity\": \"smell\", \"sentiment\": -1}},\n",
        "        ]\n",
        "\n",
        "        Example input:\n",
        "        \"Toilet and shower doors barely close all the way little privacy if there is someone else in the room\"\n",
        "\n",
        "        Expected output:\n",
        "        [\n",
        "            {{\"predicate\": \"barely closed\", \"entity\": \"toilet doors\", \"sentiment\": -1}},\n",
        "            {{\"predicate\": \"barely closed\", \"entity\": \"shower doors\", 'sentiment': -1}},\n",
        "            {{\"predicate\": \"little privacy\", \"entity\": \"room\", \"sentiment\": -1}}\n",
        "        ]\n",
        "\n",
        "        If no opinons identified in the review, return [].\n",
        "        Just return the JSON array. Do not include extra texts.\n",
        "    '''\n",
        "    params = {\n",
        "        \"model\": \"gpt-3.5-turbo\",\n",
        "        \"messages\": [\n",
        "            {\n",
        "                \"role\": \"user\",\n",
        "                \"content\": prompt,\n",
        "            }\n",
        "        ],\n",
        "        \"temperature\": 0.2,\n",
        "        \"max_tokens\": 150\n",
        "    }\n",
        "    headers = {\n",
        "        \"Authorization\": f\"Bearer {API_KEY}\",\n",
        "        \"Content-Type\": \"application/json\"\n",
        "    }\n",
        "    # Use the rate limiter before making a request\n",
        "    async with limiter:\n",
        "      # print(f\"Requesting at {time.strftime('%X')}\")\n",
        "      async with session.post(url, json=params, headers=headers) as response:\n",
        "          response_text = await response.text()\n",
        "          # print(f\"Received response at {time.strftime('%X')}\")\n",
        "          return review, response_text\n",
        "\n",
        "# Asynchronous function to process a batch of reviews\n",
        "async def process_sentences(sentences_extracted_data, API_KEY, limiter):\n",
        "    async with aiohttp.ClientSession() as session:\n",
        "        tasks = []\n",
        "        for review in sentences_extracted_data:\n",
        "            task = asyncio.create_task(opinion_fetch(session, review, API_KEY, limiter))\n",
        "            tasks.append(task)\n",
        "\n",
        "        opinions_extracted_data = []\n",
        "        for i, task in enumerate(tqdm(asyncio.as_completed(tasks), total=len(tasks))):\n",
        "            review, sentences = await task\n",
        "            try:\n",
        "                response_json = json.loads(sentences)\n",
        "                opinions_str = response_json['choices'][0]['message']['content'].replace('\\n', '')\n",
        "                opinions_json = json.loads(opinions_str)\n",
        "\n",
        "                opinions_extracted_data.append({\n",
        "                    'review_id': review['review_id'],\n",
        "                    'business_id': review['business_id'],\n",
        "                    'text': review['text'],\n",
        "                    'extractions':opinions_json\n",
        "                })\n",
        "            except json.JSONDecodeError as e:\n",
        "                print(f\"Failed to decode JSON for review_id {review['review_id']}: {e}\")\n",
        "                print(response_json)\n",
        "                print()\n",
        "                opinions_extracted_data.append({\n",
        "                    'review_id': review['review_id'],\n",
        "                    'business_id': review['business_id'],\n",
        "                    'text': review['text'],\n",
        "                    'extractions': []\n",
        "                })\n",
        "            except Exception as e:\n",
        "                print(f\"An error occurred while extracting sentences for review_id  {review['review_id']}: {e}\")\n",
        "                print(review['text'])\n",
        "                print(response_json)\n",
        "                print()\n",
        "\n",
        "\n",
        "            if i != 0 and i % 100 == 0:\n",
        "                wait_min = random.choice([1, 3])\n",
        "                print(f\"Index {i} waiting for {wait_min} minutes...\")\n",
        "                await asyncio.sleep(wait_min * 60)\n",
        "        return opinions_extracted_data\n",
        "\n",
        "# # Main coroutine that handles the entire processing\n",
        "# async def opinion_main():\n",
        "#     opinions_extracted_data = await process_sentences(sentences_extracted_data[2:3], API_KEY, rate_limiter)\n",
        "#     return opinions_extracted_data\n",
        "\n",
        "# # Run the main coroutine and measure the execution time\n",
        "# loop = asyncio.get_event_loop()\n",
        "# start_time = loop.time()\n",
        "# opinions_extracted_data = loop.run_until_complete(opinion_main())\n",
        "# end_time = loop.time()\n",
        "\n",
        "# # Calculate and print execution time\n",
        "# execution_time = end_time - start_time\n",
        "# hours, remainder = divmod(execution_time, 3600)\n",
        "# minutes, seconds = divmod(remainder, 60)\n",
        "# print(f\"Execution time: {int(hours)} hours, {int(minutes)} minutes, {int(seconds)} seconds\")"
      ]
    },
    {
      "cell_type": "code",
      "execution_count": null,
      "metadata": {
        "id": "GBMRMtG8tXKU"
      },
      "outputs": [],
      "source": [
        "AN_API_KEY = # put OpenAI key"
      ]
    },
    {
      "cell_type": "code",
      "execution_count": null,
      "metadata": {
        "colab": {
          "base_uri": "https://localhost:8080/",
          "height": 790,
          "referenced_widgets": [
            "4c421193e5f04639888e7b6927566561",
            "b005c16d62e5490395ebe45ab6e5930f",
            "a29b9015343a420f8f56973a9fa5dde6",
            "b68558fda51641c19bf9be64ef57b6a2",
            "6e28e498413649e1ae5dcde763d69d2f",
            "cc3df0d46f8644728f0f7e0df6e063b4",
            "0f9317cf6a3641708f9190d600975471",
            "8c1d0713a4e7486d908abbe790ad35ad",
            "2822424b1d274fefaf4c3e82d7da20ad",
            "ea700bdf44eb4dfd98c5f32fa0fbecdd",
            "420b983c6c704c6ab0e3b77bd6970cec"
          ]
        },
        "id": "D-nXPW89rKS2",
        "outputId": "b4fa9d3e-3821-4016-c851-7c93dc622228"
      },
      "outputs": [
        {
          "data": {
            "application/vnd.jupyter.widget-view+json": {
              "model_id": "4c421193e5f04639888e7b6927566561",
              "version_major": 2,
              "version_minor": 0
            },
            "text/plain": [
              "  0%|          | 0/1 [00:00<?, ?it/s]"
            ]
          },
          "metadata": {},
          "output_type": "display_data"
        },
        {
          "name": "stdout",
          "output_type": "stream",
          "text": [
            "An error occurred while extracting sentences for review_id  review_488634: 'choices'\n",
            "{'error': {'message': 'Rate limit reached for gpt-3.5-turbo in organization org-ofABaOXkeWS2fI3qk4Pf04NW on requests per day (RPD): Limit 10000, Used 10000, Requested 1. Please try again in 8.64s. Visit https://platform.openai.com/account/rate-limits to learn more.', 'type': 'requests', 'param': None, 'code': 'rate_limit_exceeded'}}\n",
            "\n",
            "Failed to decode JSON for review_id review_488555: Unterminated string starting at: line 1 column 495 (char 494)\n",
            "{'id': 'chatcmpl-9JFb5up3PWoeGafNti7vPGannO3Vb', 'object': 'chat.completion', 'created': 1714375215, 'model': 'gpt-3.5-turbo-0125', 'choices': [{'index': 0, 'message': {'role': 'assistant', 'content': '[\\n    {\"predicate\": \"Very good\", \"entity\": \"location\", \"sentiment\": 1},\\n    {\"predicate\": \"convenient\", \"entity\": \"tram ride to Centraal Station\", \"sentiment\": 1},\\n    {\"predicate\": \"Excellent\", \"entity\": \"comfortable beds\", \"sentiment\": 1},\\n    {\"predicate\": \"Good\", \"entity\": \"utilitarian bathroom with shower\", \"sentiment\": 1},\\n    {\"predicate\": \"clean\", \"entity\": \"Everything\", \"sentiment\": 1},\\n    {\"predicate\": \"Helpful\", \"entity\": \"staff\", \"sentiment\": 1},\\n    {\"predicate\": \"Great\", \"entity\": \"value for money'}, 'logprobs': None, 'finish_reason': 'length'}], 'usage': {'prompt_tokens': 707, 'completion_tokens': 150, 'total_tokens': 857}, 'system_fingerprint': 'fp_3b956da36b'}\n",
            "\n",
            "An error occurred while extracting sentences for review_id  review_492766: 'choices'\n",
            "{'error': {'message': 'Rate limit reached for gpt-3.5-turbo in organization org-ofABaOXkeWS2fI3qk4Pf04NW on requests per day (RPD): Limit 10000, Used 10000, Requested 1. Please try again in 8.64s. Visit https://platform.openai.com/account/rate-limits to learn more.', 'type': 'requests', 'param': None, 'code': 'rate_limit_exceeded'}}\n",
            "\n",
            "An error occurred while extracting sentences for review_id  review_488696: 'choices'\n",
            "{'error': {'message': 'Rate limit reached for gpt-3.5-turbo in organization org-ofABaOXkeWS2fI3qk4Pf04NW on requests per day (RPD): Limit 10000, Used 10000, Requested 1. Please try again in 8.64s. Visit https://platform.openai.com/account/rate-limits to learn more.', 'type': 'requests', 'param': None, 'code': 'rate_limit_exceeded'}}\n",
            "\n",
            "An error occurred while extracting sentences for review_id  review_488506: 'choices'\n",
            "{'error': {'message': 'Rate limit reached for gpt-3.5-turbo in organization org-ofABaOXkeWS2fI3qk4Pf04NW on requests per day (RPD): Limit 10000, Used 10000, Requested 1. Please try again in 8.64s. Visit https://platform.openai.com/account/rate-limits to learn more.', 'type': 'requests', 'param': None, 'code': 'rate_limit_exceeded'}}\n",
            "\n",
            "An error occurred while extracting sentences for review_id  review_488640: 'choices'\n",
            "{'error': {'message': 'Rate limit reached for gpt-3.5-turbo in organization org-ofABaOXkeWS2fI3qk4Pf04NW on requests per day (RPD): Limit 10000, Used 10000, Requested 1. Please try again in 8.64s. Visit https://platform.openai.com/account/rate-limits to learn more.', 'type': 'requests', 'param': None, 'code': 'rate_limit_exceeded'}}\n",
            "\n",
            "Index 500 waiting for 3 minutes...\n"
          ]
        },
        {
          "ename": "KeyboardInterrupt",
          "evalue": "",
          "output_type": "error",
          "traceback": [
            "\u001b[0;31m---------------------------------------------------------------------------\u001b[0m",
            "\u001b[0;31mKeyboardInterrupt\u001b[0m                         Traceback (most recent call last)",
            "\u001b[0;32m<ipython-input-47-d77736502de6>\u001b[0m in \u001b[0;36m<cell line: 9>\u001b[0;34m()\u001b[0m\n\u001b[1;32m      7\u001b[0m \u001b[0mloop\u001b[0m \u001b[0;34m=\u001b[0m \u001b[0masyncio\u001b[0m\u001b[0;34m.\u001b[0m\u001b[0mget_event_loop\u001b[0m\u001b[0;34m(\u001b[0m\u001b[0;34m)\u001b[0m\u001b[0;34m\u001b[0m\u001b[0;34m\u001b[0m\u001b[0m\n\u001b[1;32m      8\u001b[0m \u001b[0mstart_time\u001b[0m \u001b[0;34m=\u001b[0m \u001b[0mloop\u001b[0m\u001b[0;34m.\u001b[0m\u001b[0mtime\u001b[0m\u001b[0;34m(\u001b[0m\u001b[0;34m)\u001b[0m\u001b[0;34m\u001b[0m\u001b[0;34m\u001b[0m\u001b[0m\n\u001b[0;32m----> 9\u001b[0;31m \u001b[0mopinions_extracted_data\u001b[0m \u001b[0;34m=\u001b[0m \u001b[0mloop\u001b[0m\u001b[0;34m.\u001b[0m\u001b[0mrun_until_complete\u001b[0m\u001b[0;34m(\u001b[0m\u001b[0mopinion_main\u001b[0m\u001b[0;34m(\u001b[0m\u001b[0;34m)\u001b[0m\u001b[0;34m)\u001b[0m\u001b[0;34m\u001b[0m\u001b[0;34m\u001b[0m\u001b[0m\n\u001b[0m\u001b[1;32m     10\u001b[0m \u001b[0mend_time\u001b[0m \u001b[0;34m=\u001b[0m \u001b[0mloop\u001b[0m\u001b[0;34m.\u001b[0m\u001b[0mtime\u001b[0m\u001b[0;34m(\u001b[0m\u001b[0;34m)\u001b[0m\u001b[0;34m\u001b[0m\u001b[0;34m\u001b[0m\u001b[0m\n\u001b[1;32m     11\u001b[0m \u001b[0;34m\u001b[0m\u001b[0m\n",
            "\u001b[0;32m/usr/local/lib/python3.10/dist-packages/nest_asyncio.py\u001b[0m in \u001b[0;36mrun_until_complete\u001b[0;34m(self, future)\u001b[0m\n\u001b[1;32m     90\u001b[0m                 \u001b[0mf\u001b[0m\u001b[0;34m.\u001b[0m\u001b[0m_log_destroy_pending\u001b[0m \u001b[0;34m=\u001b[0m \u001b[0;32mFalse\u001b[0m\u001b[0;34m\u001b[0m\u001b[0;34m\u001b[0m\u001b[0m\n\u001b[1;32m     91\u001b[0m             \u001b[0;32mwhile\u001b[0m \u001b[0;32mnot\u001b[0m \u001b[0mf\u001b[0m\u001b[0;34m.\u001b[0m\u001b[0mdone\u001b[0m\u001b[0;34m(\u001b[0m\u001b[0;34m)\u001b[0m\u001b[0;34m:\u001b[0m\u001b[0;34m\u001b[0m\u001b[0;34m\u001b[0m\u001b[0m\n\u001b[0;32m---> 92\u001b[0;31m                 \u001b[0mself\u001b[0m\u001b[0;34m.\u001b[0m\u001b[0m_run_once\u001b[0m\u001b[0;34m(\u001b[0m\u001b[0;34m)\u001b[0m\u001b[0;34m\u001b[0m\u001b[0;34m\u001b[0m\u001b[0m\n\u001b[0m\u001b[1;32m     93\u001b[0m                 \u001b[0;32mif\u001b[0m \u001b[0mself\u001b[0m\u001b[0;34m.\u001b[0m\u001b[0m_stopping\u001b[0m\u001b[0;34m:\u001b[0m\u001b[0;34m\u001b[0m\u001b[0;34m\u001b[0m\u001b[0m\n\u001b[1;32m     94\u001b[0m                     \u001b[0;32mbreak\u001b[0m\u001b[0;34m\u001b[0m\u001b[0;34m\u001b[0m\u001b[0m\n",
            "\u001b[0;32m/usr/local/lib/python3.10/dist-packages/nest_asyncio.py\u001b[0m in \u001b[0;36m_run_once\u001b[0;34m(self)\u001b[0m\n\u001b[1;32m    113\u001b[0m                 scheduled[0]._when - self.time(), 0), 86400) if scheduled\n\u001b[1;32m    114\u001b[0m             else None)\n\u001b[0;32m--> 115\u001b[0;31m         \u001b[0mevent_list\u001b[0m \u001b[0;34m=\u001b[0m \u001b[0mself\u001b[0m\u001b[0;34m.\u001b[0m\u001b[0m_selector\u001b[0m\u001b[0;34m.\u001b[0m\u001b[0mselect\u001b[0m\u001b[0;34m(\u001b[0m\u001b[0mtimeout\u001b[0m\u001b[0;34m)\u001b[0m\u001b[0;34m\u001b[0m\u001b[0;34m\u001b[0m\u001b[0m\n\u001b[0m\u001b[1;32m    116\u001b[0m         \u001b[0mself\u001b[0m\u001b[0;34m.\u001b[0m\u001b[0m_process_events\u001b[0m\u001b[0;34m(\u001b[0m\u001b[0mevent_list\u001b[0m\u001b[0;34m)\u001b[0m\u001b[0;34m\u001b[0m\u001b[0;34m\u001b[0m\u001b[0m\n\u001b[1;32m    117\u001b[0m \u001b[0;34m\u001b[0m\u001b[0m\n",
            "\u001b[0;32m/usr/lib/python3.10/selectors.py\u001b[0m in \u001b[0;36mselect\u001b[0;34m(self, timeout)\u001b[0m\n\u001b[1;32m    467\u001b[0m             \u001b[0mready\u001b[0m \u001b[0;34m=\u001b[0m \u001b[0;34m[\u001b[0m\u001b[0;34m]\u001b[0m\u001b[0;34m\u001b[0m\u001b[0;34m\u001b[0m\u001b[0m\n\u001b[1;32m    468\u001b[0m             \u001b[0;32mtry\u001b[0m\u001b[0;34m:\u001b[0m\u001b[0;34m\u001b[0m\u001b[0;34m\u001b[0m\u001b[0m\n\u001b[0;32m--> 469\u001b[0;31m                 \u001b[0mfd_event_list\u001b[0m \u001b[0;34m=\u001b[0m \u001b[0mself\u001b[0m\u001b[0;34m.\u001b[0m\u001b[0m_selector\u001b[0m\u001b[0;34m.\u001b[0m\u001b[0mpoll\u001b[0m\u001b[0;34m(\u001b[0m\u001b[0mtimeout\u001b[0m\u001b[0;34m,\u001b[0m \u001b[0mmax_ev\u001b[0m\u001b[0;34m)\u001b[0m\u001b[0;34m\u001b[0m\u001b[0;34m\u001b[0m\u001b[0m\n\u001b[0m\u001b[1;32m    470\u001b[0m             \u001b[0;32mexcept\u001b[0m \u001b[0mInterruptedError\u001b[0m\u001b[0;34m:\u001b[0m\u001b[0;34m\u001b[0m\u001b[0;34m\u001b[0m\u001b[0m\n\u001b[1;32m    471\u001b[0m                 \u001b[0;32mreturn\u001b[0m \u001b[0mready\u001b[0m\u001b[0;34m\u001b[0m\u001b[0;34m\u001b[0m\u001b[0m\n",
            "\u001b[0;31mKeyboardInterrupt\u001b[0m: "
          ]
        }
      ],
      "source": [
        "# Main coroutine that handles the entire processing\n",
        "async def opinion_main():\n",
        "    opinions_extracted_data = await process_sentences(new_sentences_extracted_data[1:2], AN_API_KEY, rate_limiter)\n",
        "    return opinions_extracted_data\n",
        "\n",
        "# Run the main coroutine and measure the execution time\n",
        "loop = asyncio.get_event_loop()\n",
        "start_time = loop.time()\n",
        "opinions_extracted_data = loop.run_until_complete(opinion_main())\n",
        "end_time = loop.time()\n",
        "\n",
        "# Calculate and print execution time\n",
        "execution_time = end_time - start_time\n",
        "hours, remainder = divmod(execution_time, 3600)\n",
        "minutes, seconds = divmod(remainder, 60)\n",
        "print(f\"Execution time: {int(hours)} hours, {int(minutes)} minutes, {int(seconds)} seconds\")"
      ]
    },
    {
      "cell_type": "code",
      "execution_count": null,
      "metadata": {
        "colab": {
          "base_uri": "https://localhost:8080/"
        },
        "id": "nLBWRrvDrhqt",
        "outputId": "8912bb63-02c7-4b88-aa34-8d8b943d2ff7"
      },
      "outputs": [
        {
          "data": {
            "text/plain": [
              "[{'review_id': 'review_488342',\n",
              "  'business_id': 'Savoy Hotel Amsterdam',\n",
              "  'text': 'The bathroom shower floor was not tiled at all so had to shower in flip flops',\n",
              "  'extractions': [{'predicate': 'not tiled',\n",
              "    'entity': 'shower floor',\n",
              "    'sentiment': -1},\n",
              "   {'predicate': 'had to shower in flip flops',\n",
              "    'entity': 'shower',\n",
              "    'sentiment': -1}]}]"
            ]
          },
          "execution_count": 45,
          "metadata": {},
          "output_type": "execute_result"
        }
      ],
      "source": [
        "opinions_extracted_data"
      ]
    },
    {
      "cell_type": "code",
      "execution_count": null,
      "metadata": {
        "colab": {
          "base_uri": "https://localhost:8080/"
        },
        "id": "Ji0biaGxrOv3",
        "outputId": "ba48826c-0e63-49a0-d183-f1ba3375c114"
      },
      "outputs": [
        {
          "name": "stdout",
          "output_type": "stream",
          "text": [
            "number of extracted sentences 19\n"
          ]
        }
      ],
      "source": [
        "print('number of extracted sentences', len(opinions_extracted_data))"
      ]
    },
    {
      "cell_type": "code",
      "execution_count": null,
      "metadata": {
        "id": "J118PUySrRna"
      },
      "outputs": [],
      "source": [
        "# save file\n",
        "file_path = '/content/drive/My Drive/ExplainIt/explainit/explanation_mining/data/yichen/GPT_opinions_extracted_data.json'\n",
        "with open(file_path, 'w') as file:\n",
        "     json.dump(opinions_extracted_data, file)"
      ]
    },
    {
      "cell_type": "markdown",
      "metadata": {
        "id": "hIHcwbsNo-Ud"
      },
      "source": [
        "### without async"
      ]
    },
    {
      "cell_type": "code",
      "execution_count": null,
      "metadata": {
        "id": "1lCmgGL0MurZ"
      },
      "outputs": [],
      "source": [
        "import copy\n",
        "import time"
      ]
    },
    {
      "cell_type": "code",
      "execution_count": null,
      "metadata": {
        "id": "QwIGOR93cdJd"
      },
      "outputs": [],
      "source": [
        "def extract_opinions(review, api_key):\n",
        "    client = openai.OpenAI(\n",
        "        api_key=api_key,\n",
        "    )\n",
        "\n",
        "    single_review = review['text']\n",
        "\n",
        "    prompt = f'''\n",
        "       Focus on extracting opinions from a customer review on a hotel.\n",
        "        An opinion is of the form (predicate, entity). Each opinion should be clear, understandable, and accurately reflects the content of the review.\n",
        "        Follow these steps to process a single review:\n",
        "        Step 1: Read the following review: '{single_review}'.\n",
        "        Step 2: For each review, identify all opinions that are about the hotel.\n",
        "                1. Each opinion should consist of an adjective \"predicate\" and an noun \"entity\". The entity should be words included in the sentence.\n",
        "                2. The predicate should ONLY CONTAIN ADJECTIVE specifically used to describe the entity.\n",
        "                3. The entity should be a concise noun or noun phrase that is included in the sentence that directly identifies the primary feature or service being discussed.\n",
        "                4. The entity should be  be something general, avoiding specific details like names or unique offerings.\n",
        "                5. Concatenate the predicate and entity to form a single, concise opinion that is clear, understandable, and accurately reflects the content of the review.\n",
        "                6. For example, from the sentence \"The beds are incredibly comfortable\" extract \"incredibly comfortable\" as the predicate and \"beds\" as the entity. The final opinion should be \"incredibly comfortable beds\".\n",
        "        Step 3: Assign a sentiment value to each opinion where \"1\" indicates positive, \"0\" indicates neutral, and \"-1\" indicates negative.\n",
        "        Step 4: Present your findings in a structured JSON format. The format should list all extracted opinions.\n",
        "\n",
        "        Example input:\n",
        "        \"The breakfast was excellent\"\n",
        "\n",
        "        Expected ouput:\n",
        "        [\n",
        "            {{\"predicate\": \"excellent\", \"entity\": \"breakfast\", \"sentiment\": 1}}\n",
        "        ]\n",
        "\n",
        "        Example input:\n",
        "        \"The king size bed was very comfortable with plenty of pillows\"\n",
        "\n",
        "        Expected output:\n",
        "        [\n",
        "            {{\"predicate\": \"very comfortable\", \"entity\": \"bed\", \"sentiment\": 1}},\n",
        "            {{\"predicate\": \"plenty\", \"entity\": \"pillows\", \"sentiment\": 1}}\n",
        "        ]\n",
        "\n",
        "        Example input:\n",
        "        \"The room is quite small and has a foul smell\"\n",
        "\n",
        "        Expected output:\n",
        "        [\n",
        "            {{\"predicate\": \"quite small\", \"entity\": \"room size\", \"sentiment\": -1}},\n",
        "            {{\"predicate\": \"foul\", \"entity\": \"smell\", \"sentiment\": -1}},\n",
        "        ]\n",
        "\n",
        "        Example input:\n",
        "        \"Toilet and shower doors barely close all the way little privacy if there is someone else in the room\"\n",
        "\n",
        "        Expected output:\n",
        "        [\n",
        "            {{\"predicate\": \"barely closed\", \"entity\": \"toilet doors\", \"sentiment\": -1}},\n",
        "            {{\"predicate\": \"barely closed\", \"entity\": \"shower doors\", 'sentiment': -1}},\n",
        "            {{\"predicate\": \"little privacy\", \"entity\": \"room\", \"sentiment\": -1}}\n",
        "        ]\n",
        "\n",
        "        If no opinons identified in the review, return [].\n",
        "        Just return the JSON array. Do not include extra texts.\n",
        "    '''\n",
        "\n",
        "    response = client.chat.completions.create(\n",
        "        messages=[\n",
        "            {\n",
        "                \"role\": \"user\",\n",
        "                \"content\": prompt,\n",
        "            }\n",
        "        ],\n",
        "        model=\"gpt-3.5-turbo\",\n",
        "        temperature=0.2,\n",
        "        max_tokens=500\n",
        "    )\n",
        "\n",
        "    if response.choices[0].message.content:\n",
        "        return response.choices[0].message.content.replace('\\n', '')\n",
        "    else:\n",
        "        return '[]'\n",
        "    return response.choices[0].message.content.replace('\\n', '')"
      ]
    },
    {
      "cell_type": "code",
      "execution_count": null,
      "metadata": {
        "colab": {
          "base_uri": "https://localhost:8080/"
        },
        "id": "7gMQIHNAwT8N",
        "outputId": "1ca0c9cd-5bd2-4a0c-b5a3-c21a1c618f8f"
      },
      "outputs": [
        {
          "name": "stdout",
          "output_type": "stream",
          "text": [
            "928\n"
          ]
        }
      ],
      "source": [
        "print(len(new_sentences_extracted_data))\n",
        "opinions_extracted_data = copy.deepcopy(new_sentences_extracted_data)"
      ]
    },
    {
      "cell_type": "code",
      "execution_count": null,
      "metadata": {
        "colab": {
          "base_uri": "https://localhost:8080/",
          "height": 587,
          "referenced_widgets": [
            "7963b365ade340eb9d5aba2a3bfa13a1",
            "58bb97d38f0044ad94b810852b2123ea",
            "5b9a33b67659495caf3e42bae2935d74",
            "2b9c54234e2b44c8a857b7633cfc0ca7",
            "ffdd6c41c27742528ec02518cd201c62",
            "49a846d3c239447ea6df0fde7723abbd",
            "1f29064d67bd4a8cb0dff5bc7563702c",
            "0159743351e64516b1fb016f56b0f448",
            "ba0056eb50344e388a12eb312e08aa81",
            "7f6b7770888b4ad0b7404fbe3b9996db",
            "5846b3b7c7214a3698f011132d9403f9"
          ]
        },
        "id": "KsRsW-ErD-Tx",
        "outputId": "a481788f-ae32-4bbd-ea4c-5edc54ae832e"
      },
      "outputs": [
        {
          "data": {
            "application/vnd.jupyter.widget-view+json": {
              "model_id": "7963b365ade340eb9d5aba2a3bfa13a1",
              "version_major": 2,
              "version_minor": 0
            },
            "text/plain": [
              "  0%|          | 0/928 [00:00<?, ?it/s]"
            ]
          },
          "metadata": {},
          "output_type": "display_data"
        },
        {
          "name": "stdout",
          "output_type": "stream",
          "text": [
            "Index 30 waiting for 2 minutes...\n",
            "Index 60 waiting for 1 minutes...\n",
            "Index 90 waiting for 1 minutes...\n",
            "Index 120 waiting for 1 minutes...\n",
            "Index 150 waiting for 2 minutes...\n",
            "Index 180 waiting for 2 minutes...\n",
            "Index 210 waiting for 2 minutes...\n",
            "Index 240 waiting for 2 minutes...\n",
            "Index 270 waiting for 1 minutes...\n",
            "Index 300 waiting for 2 minutes...\n",
            "Index 330 waiting for 1 minutes...\n",
            "Index 360 waiting for 2 minutes...\n",
            "Index 390 waiting for 2 minutes...\n",
            "Index 420 waiting for 1 minutes...\n",
            "Index 450 waiting for 2 minutes...\n",
            "Index 480 waiting for 2 minutes...\n",
            "Index 510 waiting for 2 minutes...\n",
            "Index 540 waiting for 2 minutes...\n",
            "Index 570 waiting for 1 minutes...\n",
            "Index 600 waiting for 1 minutes...\n",
            "Index 630 waiting for 2 minutes...\n",
            "Index 660 waiting for 2 minutes...\n",
            "Index 690 waiting for 2 minutes...\n",
            "Index 720 waiting for 1 minutes...\n",
            "Index 750 waiting for 1 minutes...\n",
            "Index 780 waiting for 1 minutes...\n",
            "Index 810 waiting for 2 minutes...\n",
            "Index 840 waiting for 1 minutes...\n",
            "Index 870 waiting for 2 minutes...\n",
            "Index 900 waiting for 2 minutes...\n",
            "Execution time: 1 hours, 5 minutes, 34 seconds\n"
          ]
        }
      ],
      "source": [
        "start_time = time.time()\n",
        "for i, review in enumerate(tqdm(opinions_extracted_data, total=len(opinions_extracted_data))):\n",
        "    try:\n",
        "        opinions = extract_opinions(review, AN_API_KEY)\n",
        "        opinions = json.loads(opinions)\n",
        "        review['extractions'] = opinions\n",
        "    except json.JSONDecodeError as e:\n",
        "        print(f\"Failed to decode JSON for review at index {i}: {e}\")\n",
        "        print(opinions)\n",
        "        review['extractions'] = []  # Assume no opinions could be extracted if there's a JSON error\n",
        "    except Exception as e:\n",
        "        print(f\"An error occurred while extracting opinions for review at index {i}: {e}\")\n",
        "        print(opinions)\n",
        "        review['extractions'] = []  # General error handling, assume no opinions if error occurs\n",
        "\n",
        "    if i != 0 and i % 30 == 0:\n",
        "        wait_min = random.choice([1, 2])\n",
        "        print(f\"Index {i} waiting for {wait_min} minutes...\")\n",
        "        time.sleep(wait_min*60)\n",
        "\n",
        "end_time = time.time()  # End timing\n",
        "execution_time = end_time - start_time  # Calculate the total execution time in seconds\n",
        "\n",
        "# Convert seconds to hour, minute, second format\n",
        "hours, remainder = divmod(execution_time, 3600)\n",
        "minutes, seconds = divmod(remainder, 60)\n",
        "\n",
        "# Print the execution time in a formatted string\n",
        "print(f\"Execution time: {int(hours)} hours, {int(minutes)} minutes, {int(seconds)} seconds\")"
      ]
    },
    {
      "cell_type": "code",
      "execution_count": null,
      "metadata": {
        "id": "yGG0QAUFM4dc"
      },
      "outputs": [],
      "source": [
        "# # Manually add back the opinions (OpenAI error when extracting opinions)\n",
        "# opinions_extracted_data[585]['extractions'] = [{\"predicate\": \"friendly\", \"entity\": \"staff\", \"sentiment\": 1}, {\"predicate\": \"excellent\", \"entity\": \"service\", \"sentiment\": 1}]\n",
        "# opinions_extracted_data[595]['extractions'] = [{\"predicate\": \"garden\", \"entity\": \"Location\", \"sentiment\": 1}, {\"predicate\": \"pub\", \"entity\": \"Location\", \"sentiment\": 0}]\n",
        "# opinions_extracted_data[701]['extractions'] = [{\"predicate\": \"strictly kept\", \"entity\": \"breakfast times\", \"sentiment\": 0}, {\"predicate\": \"acceptable\", \"entity\": \"notice\", \"sentiment\": 0}, {\"predicate\": \"good\", \"entity\": \"breakfast\", \"sentiment\": 1}, {\"predicate\": \"perfect\", \"entity\": \"hotel\", \"sentiment\": 1}]\n",
        "# opinions_extracted_data[1589]['extractions'] = [{\"predicate\": \"friendly\", \"entity\": \"atmosphere\", \"sentiment\": 1}]\n",
        "# opinions_extracted_data[1628]['extractions'] = []\n",
        "# opinions_extracted_data[1654]['extractions'] = [{\"predicate\": \"not close\", \"entity\": \"location\", \"sentiment\": -1}, {\"predicate\": \"expensive\", \"entity\": \"breakfast\", \"sentiment\": -1}, {\"predicate\": \"not good value for money\", \"entity\": \"room\", \"sentiment\": -1}]\n",
        "# opinions_extracted_data[2225]['extractions'] = [{\"predicate\": \"noisy\", \"entity\": \"room\", \"sentiment\": -1}, {\"predicate\": \"cold\", \"entity\": \"room\", \"sentiment\": -1}, {\"predicate\": \"far\", \"entity\": \"location\", \"sentiment\": -1}]\n",
        "# opinions_extracted_data[2488]['extractions'] = [{\"predicate\": \"broken\", \"entity\": \"window handles\", \"sentiment\": -1}]\n",
        "# opinions_extracted_data[2695]['extractions'] = [{\"predicate\": \"nothing to grumble\", \"entity\": \"hotel\", \"sentiment\": 1}]\n",
        "# opinions_extracted_data[2910]['extractions'] = [{\"predicate\": \"more\", \"entity\": \"hangers\", \"sentiment\": 0}]\n",
        "# opinions_extracted_data[3166]['extractions'] = [{\"predicate\": \"suitable\", \"entity\": \"room\", \"sentiment\": -1}, {\"predicate\": \"hard\", \"entity\": \"Reception staff\", \"sentiment\": 0}]\n",
        "# opinions_extracted_data[3633]['extractions'] = [{\"predicate\": \"too cool\", \"entity\": \"air conditioning\", \"sentiment\": -1}, {\"predicate\": \"did not work properly\", \"entity\": \"air conditioning\", \"sentiment\": -1}, {\"predicate\": \"gave us\", \"entity\": \"heater\", \"sentiment\": 1}]\n",
        "# opinions_extracted_data[4158]['extractions'] = [{\"predicate\": \"great view\", \"entity\": \"city\", \"sentiment\": 1}, {\"predicate\": \"modern\", \"entity\": \"rooms\", \"sentiment\": 1}, {\"predicate\": \"great bathroom experience\", \"entity\": \"city\", \"sentiment\": 1}, {\"predicate\": \"vibrant\", \"entity\": \"location\", \"sentiment\": 1}, {\"predicate\": \"great NDSM wharf\", \"entity\": \"location\", \"sentiment\": 1}, {\"predicate\": \"great baby sitter service\", \"entity\": \"service\", \"sentiment\": 1}  ]\n",
        "# opinions_extracted_data[5972]['extractions'] = [{\"predicate\": \"had to leave\", \"entity\": \"hotel\", \"sentiment\": -1}]\n",
        "# opinions_extracted_data[6391]['extractions'] = [{\"predicate\": \"big spacious\", \"entity\": \"room\", \"sentiment\": 1}, {\"predicate\": \"extra comfortable\", \"entity\": \"bed\", \"sentiment\": 1}, {\"predicate\": \"new artwork\", \"entity\": \"hotel\", \"sentiment\": 1}]\n",
        "# opinions_extracted_data[6672]['extractions'] = []\n",
        "# opinions_extracted_data[7175]['extractions'] = [{\"predicate\": \"warm\", \"entity\": \"room\", \"sentiment\": -1}, {\"predicate\": \"struggled with\", \"entity\": \"air con\", \"sentiment\": -1}, {\"predicate\": \"complimentary\", \"entity\": \"water\", \"sentiment\": 1}]\n",
        "# opinions_extracted_data[7262]['extractions'] = [{\"predicate\": \"excellent\", \"entity\": \"location\", \"sentiment\": 1}]\n",
        "# opinions_extracted_data[7373]['extractions'] = []\n",
        "# opinions_extracted_data[7471]['extractions'] = [{\"predicate\": \"small\", \"entity\": \"room\", \"sentiment\": -1}, {\"predicate\": \"not available\", \"entity\": \"shuttle bus\", \"sentiment\": -1},    {\"predicate\": \"do not subscribe\", \"entity\": \"hotel\", \"sentiment\": -1}]\n",
        "# opinions_extracted_data[7482]['extractions'] = [{\"predicate\": \"helpful\", \"entity\": \"staff\", \"sentiment\": 1}, {\"predicate\": \"clean\", \"entity\": \"rooms\", \"sentiment\": 1},    {\"predicate\": \"tidy\", \"entity\": \"rooms\", \"sentiment\": 1},    {\"predicate\": \"adequate\", \"entity\": \"breakfast\", \"sentiment\": 0}]\n",
        "# opinions_extracted_data[7816]['extractions'] = [{\"predicate\": \"under construction\", \"entity\": \"hotel\", \"sentiment\": -1}]\n",
        "# opinions_extracted_data[8629]['extractions'] = [{\"predicate\": \"not clean\", \"entity\": \"rooms\", \"sentiment\": -1}, {\"predicate\": \"dusty\", \"entity\": \"rooms\", \"sentiment\": -1}, {\"predicate\": \"not replaced\", \"entity\": \"glasses\", \"sentiment\": -1}, {\"predicate\": \"unresponsive\", \"entity\": \"concierge\", \"sentiment\": -1}]\n",
        "# opinions_extracted_data[8742]['extractions'] = [{\"predicate\": \"amazing\", \"entity\": \"breakfasts\", \"sentiment\": 1}, {\"predicate\": \"fresh\", \"entity\": \"food\", \"sentiment\": 1}, {\"predicate\": \"friendly\", \"entity\": \"staff\", \"sentiment\": 1}, {\"predicate\": \"helpful\", \"entity\": \"staff\", \"sentiment\": 1}, {\"predicate\": \"brilliant\", \"entity\": \"access\", \"sentiment\": 1}, {\"predicate\": \"fantastic\", \"entity\": \"staff\", \"sentiment\": 1}]\n",
        "# opinions_extracted_data[9292]['extractions'] = [{\"predicate\": \"noisy\", \"entity\": \"location\", \"sentiment\": -1}, {\"predicate\": \"under construction\", \"entity\": \"street\", \"sentiment\": -1}]"
      ]
    },
    {
      "cell_type": "code",
      "execution_count": null,
      "metadata": {
        "colab": {
          "base_uri": "https://localhost:8080/"
        },
        "id": "VythV83VNJ3u",
        "outputId": "e554272e-d3f5-43fa-ed6f-08af78a5c426"
      },
      "outputs": [
        {
          "data": {
            "text/plain": [
              "{'review_id': 'review_752198',\n",
              " 'business_id': 'Albus Hotel Amsterdam City Centre',\n",
              " 'text': 'Due to location it was extremely noisy and there is construction across the street from the hotel 9 2015',\n",
              " 'extractions': [{'predicate': 'noisy', 'entity': 'location', 'sentiment': -1},\n",
              "  {'predicate': 'under construction', 'entity': 'street', 'sentiment': -1}]}"
            ]
          },
          "execution_count": 440,
          "metadata": {},
          "output_type": "execute_result"
        }
      ],
      "source": [
        "# opinions_extracted_data[9292]"
      ]
    },
    {
      "cell_type": "code",
      "execution_count": null,
      "metadata": {
        "id": "TcjrqMA_M30I"
      },
      "outputs": [],
      "source": [
        "# save file\n",
        "file_path = '/content/drive/My Drive/ExplainIt/explainit/explanation_mining/data/yichen/GPT_opinions_extracted_data.json'\n",
        "with open(file_path, 'w') as file:\n",
        "     json.dump(opinions_extracted_data, file)"
      ]
    },
    {
      "cell_type": "code",
      "execution_count": null,
      "metadata": {
        "colab": {
          "base_uri": "https://localhost:8080/"
        },
        "id": "DkP2V9FTMWfF",
        "outputId": "4e596480-814a-431f-e9b1-4e92a0654599"
      },
      "outputs": [
        {
          "data": {
            "text/plain": [
              "[{'review_id': 'review_488343',\n",
              "  'business_id': 'Savoy Hotel Amsterdam',\n",
              "  'text': 'Big spacious clean room with immaculate bedding',\n",
              "  'extractions': [{'predicate': 'Big spacious clean',\n",
              "    'entity': 'room',\n",
              "    'sentiment': 1},\n",
              "   {'predicate': 'immaculate', 'entity': 'bedding', 'sentiment': 1}]},\n",
              " {'review_id': 'review_488341',\n",
              "  'business_id': 'Savoy Hotel Amsterdam',\n",
              "  'text': 'The hotel is situated in a nice neighbourhood which has a lot of restaurant bars and shops',\n",
              "  'extractions': [{'predicate': 'nice',\n",
              "    'entity': 'neighbourhood',\n",
              "    'sentiment': 1},\n",
              "   {'predicate': 'a lot of',\n",
              "    'entity': 'restaurant bars and shops',\n",
              "    'sentiment': 1}]},\n",
              " {'review_id': 'review_488341',\n",
              "  'business_id': 'Savoy Hotel Amsterdam',\n",
              "  'text': 'There is a supermarket very close to the hotel',\n",
              "  'extractions': []}]"
            ]
          },
          "execution_count": 71,
          "metadata": {},
          "output_type": "execute_result"
        }
      ],
      "source": [
        "opinions_extracted_data[1:4]"
      ]
    },
    {
      "cell_type": "code",
      "execution_count": null,
      "metadata": {
        "id": "4FfIxfTl61jn"
      },
      "outputs": [],
      "source": []
    },
    {
      "cell_type": "markdown",
      "metadata": {
        "id": "uGjidxmEZTfT"
      },
      "source": [
        "## Explanation Mining"
      ]
    },
    {
      "cell_type": "code",
      "execution_count": null,
      "metadata": {
        "id": "I1CImziee6Lh"
      },
      "outputs": [],
      "source": [
        "import itertools"
      ]
    },
    {
      "cell_type": "code",
      "execution_count": null,
      "metadata": {
        "id": "S0ud5AjPoO7O"
      },
      "outputs": [],
      "source": [
        "# FUCK what am I doing!!!!!! I wasted one and a half day.\n",
        "# Get back to separating sentences -> extract opinions -> extract relations afterwards\n",
        "# FIRST, filter to two opinons, use GPT to check explanable relationship, FIT MODEL!!!!\n",
        "\n",
        "\n",
        "#TODOs:\n",
        "# start writing project\n",
        "# slides for presentation"
      ]
    },
    {
      "cell_type": "markdown",
      "source": [
        "### test on GPT"
      ],
      "metadata": {
        "id": "zged1NxKwUsK"
      }
    },
    {
      "cell_type": "code",
      "source": [
        "gold_label = []\n",
        "predict_label = []\n",
        "for i, review in enumerate(tqdm(text_dict_format_list)):\n",
        "    try:\n",
        "        review_test = review['text']\n",
        "        opinion1 = review['opinion1']\n",
        "        opinion2 = review['opinion2']\n",
        "        gold_label.append(review['label'])\n",
        "        info_dict = extract_explanatory_relationship(review_text, opinion1, opinion2, API_KEY)\n",
        "        info_dict_json = json.loads(info_dict)\n",
        "        predict_label.append(str(info_dict_json['explain']))\n",
        "    except json.JSONDecodeError as e:\n",
        "        print(f\"Failed to decode JSON for review at index {i}: {e}\")\n",
        "        print(info_dict)\n",
        "    except Exception as e:\n",
        "        print(f\"As error occrred for review at index {i}: {e}\")\n",
        "        print(info_dict)"
      ],
      "metadata": {
        "id": "hFpJK_yiu1d3"
      },
      "execution_count": null,
      "outputs": []
    },
    {
      "cell_type": "code",
      "source": [
        "from sklearn.metrics import accuracy_score\n",
        "print(accuracy_score(gold_label, predict_label))"
      ],
      "metadata": {
        "id": "Nxlsr2azv0a5"
      },
      "execution_count": null,
      "outputs": []
    },
    {
      "cell_type": "markdown",
      "source": [
        "### Fine Tune GPT"
      ],
      "metadata": {
        "id": "8WSk61twwPpl"
      }
    },
    {
      "cell_type": "code",
      "source": [
        "import pandas as pd"
      ],
      "metadata": {
        "id": "kQf78SMI6h3m"
      },
      "execution_count": null,
      "outputs": []
    },
    {
      "cell_type": "code",
      "source": [
        "def get_dict_format_list(file_path):\n",
        "    file_path = file_path\n",
        "    default = []\n",
        "    with open(file_path, 'r') as file:\n",
        "        count = 1\n",
        "        for line in file:\n",
        "          default.append(line.split('\\t'))\n",
        "\n",
        "    dict_format_list = [\n",
        "            {\n",
        "                'text': review[2],\n",
        "                'opinion1': review[3],\n",
        "                'opinion2': review[4],\n",
        "                'label': review[0]\n",
        "            } for review in default\n",
        "        ]\n",
        "    print(len(dict_format_list))\n",
        "    return dict_format_list"
      ],
      "metadata": {
        "id": "rXqbqtrYw3z0"
      },
      "execution_count": null,
      "outputs": []
    },
    {
      "cell_type": "code",
      "source": [
        "train_dict_format_list = get_dict_format_list('/content/drive/My Drive/ExplainIt/explainit/explanation_mining/data/train')\n",
        "val_dict_format_list = get_dict_format_list('/content/drive/My Drive/ExplainIt/explainit/explanation_mining/data/dev')\n",
        "test_dict_format_list = get_dict_format_list('/content/drive/My Drive/ExplainIt/explainit/explanation_mining/data/test')"
      ],
      "metadata": {
        "colab": {
          "base_uri": "https://localhost:8080/"
        },
        "id": "Tc9m-v82xmJD",
        "outputId": "283b9cd2-c514-43f8-db20-fc07a7d40379"
      },
      "execution_count": null,
      "outputs": [
        {
          "output_type": "stream",
          "name": "stdout",
          "text": [
            "5904\n",
            "734\n",
            "734\n"
          ]
        }
      ]
    },
    {
      "cell_type": "code",
      "source": [
        "def get_messages_list(dict_format_list):\n",
        "    messages_list = [\n",
        "        {\n",
        "            \"messages\":\n",
        "                [\n",
        "                    {\n",
        "                        \"role\": \"user\",\n",
        "                        \"content\": f\"Based on this sentence: '{review['text']}', do you think '{review['opinion2']}' explains '{review['opinion1']}'? Enter '1' for Yes and '0' for No.\"\n",
        "                    },\n",
        "                    {\n",
        "                        \"role\": \"assistant\",\n",
        "                        \"content\": str(review['label'])\n",
        "                    }\n",
        "                ]\n",
        "        } for review in dict_format_list\n",
        "    ]\n",
        "    return messages_list"
      ],
      "metadata": {
        "id": "23uUrOyNy4Qp"
      },
      "execution_count": null,
      "outputs": []
    },
    {
      "cell_type": "code",
      "source": [
        "train_messages_list = get_messages_list(train_dict_format_list)\n",
        "val_messages_list = get_messages_list(val_dict_format_list)\n",
        "test_messages_list = get_messages_list(test_dict_format_list)"
      ],
      "metadata": {
        "id": "EVe4sJ7Y0oXb"
      },
      "execution_count": null,
      "outputs": []
    },
    {
      "cell_type": "code",
      "source": [
        "train_messages_list[1:4]"
      ],
      "metadata": {
        "colab": {
          "base_uri": "https://localhost:8080/"
        },
        "id": "OJncDKhB1SB0",
        "outputId": "41b1816f-e54c-4a13-deb9-bded1e1a0147"
      },
      "execution_count": null,
      "outputs": [
        {
          "output_type": "execute_result",
          "data": {
            "text/plain": [
              "[{'messages': [{'role': 'user',\n",
              "    'content': \"Based on this sentence: 'Breakfast was quite good and there were a variety of options.', do you think 'variety options' explains 'quite good Breakfast'? Enter '1' for Yes and '0' for No.\"},\n",
              "   {'role': 'assistant', 'content': '1'}]},\n",
              " {'messages': [{'role': 'user',\n",
              "    'content': \"Based on this sentence: 'Internet connection is very poor and not suitable for any travellers given its continual disconnection and very slow speed.', do you think 'very slow speed' explains 'very poor Internet connection'? Enter '1' for Yes and '0' for No.\"},\n",
              "   {'role': 'assistant', 'content': '0'}]},\n",
              " {'messages': [{'role': 'user',\n",
              "    'content': \"Based on this sentence: 'and it is pricey compared to near by hotels....staff is friendly and complimentary buffet breakfast ok.', do you think 'pricey hotels' explains 'friendly staff'? Enter '1' for Yes and '0' for No.\"},\n",
              "   {'role': 'assistant', 'content': '0'}]}]"
            ]
          },
          "metadata": {},
          "execution_count": 14
        }
      ]
    },
    {
      "cell_type": "code",
      "source": [
        "train_dict_format_list[2]"
      ],
      "metadata": {
        "colab": {
          "base_uri": "https://localhost:8080/"
        },
        "id": "pGLb_vD-Bx9J",
        "outputId": "e7b39546-b568-4f59-f545-cd2feecebc86"
      },
      "execution_count": null,
      "outputs": [
        {
          "output_type": "execute_result",
          "data": {
            "text/plain": [
              "{'text': 'Internet connection is very poor and not suitable for any travellers given its continual disconnection and very slow speed.',\n",
              " 'opinion1': 'very poor Internet connection',\n",
              " 'opinion2': 'very slow speed',\n",
              " 'label': '0'}"
            ]
          },
          "metadata": {},
          "execution_count": 15
        }
      ]
    },
    {
      "cell_type": "code",
      "source": [
        "df = pd.DataFrame(train_dict_format_list)"
      ],
      "metadata": {
        "id": "WTd5prv2Bfqr"
      },
      "execution_count": null,
      "outputs": []
    },
    {
      "cell_type": "code",
      "source": [
        "import pandas as pd\n",
        "from sklearn.model_selection import train_test_split\n",
        "\n",
        "def sample_data(dict_format_list):\n",
        "    df = pd.DataFrame(dict_format_list)\n",
        "    subset, _ = train_test_split(df, test_size=0.99, stratify=df['label'], random_state=42)\n",
        "\n",
        "    # Check the new sample's class distribution\n",
        "    print(subset['label'].value_counts())\n",
        "    return subset"
      ],
      "metadata": {
        "id": "FE2LkxouBG9h"
      },
      "execution_count": null,
      "outputs": []
    },
    {
      "cell_type": "code",
      "source": [
        "train_subset = sample_data(train_dict_format_list)\n",
        "val_subset = sample_data(val_dict_format_list)\n",
        "test_subset = sample_data(test_dict_format_list)"
      ],
      "metadata": {
        "colab": {
          "base_uri": "https://localhost:8080/"
        },
        "id": "tfsrOdJnCZ8z",
        "outputId": "ff6fd821-064e-49ed-ea19-3c82c675d244"
      },
      "execution_count": null,
      "outputs": [
        {
          "output_type": "stream",
          "name": "stdout",
          "text": [
            "label\n",
            "1    30\n",
            "0    29\n",
            "Name: count, dtype: int64\n",
            "label\n",
            "1    4\n",
            "0    3\n",
            "Name: count, dtype: int64\n",
            "label\n",
            "1    4\n",
            "0    3\n",
            "Name: count, dtype: int64\n"
          ]
        }
      ]
    },
    {
      "cell_type": "code",
      "source": [
        "train_df_transformed_list = train_subset.to_dict('records')\n",
        "val_df_transformed_list = val_subset.to_dict('records')\n",
        "test_df_transformed_list = test_subset.to_dict('records')"
      ],
      "metadata": {
        "id": "M6r574exF73h"
      },
      "execution_count": null,
      "outputs": []
    },
    {
      "cell_type": "code",
      "source": [
        "train_subset_messages_list = get_messages_list(train_df_transformed_list)\n",
        "val_subset_messages_list = get_messages_list(val_df_transformed_list)\n",
        "test_subset_messages_list = get_messages_list(test_df_transformed_list)\n",
        "\n",
        "print(len(train_subset_messages_list))\n",
        "print(len(val_subset_messages_list))"
      ],
      "metadata": {
        "colab": {
          "base_uri": "https://localhost:8080/"
        },
        "id": "sdbq4Zk0GTcy",
        "outputId": "efde14fe-9ee2-4ced-d242-4423cc63f298"
      },
      "execution_count": null,
      "outputs": [
        {
          "output_type": "stream",
          "name": "stdout",
          "text": [
            "59\n",
            "7\n"
          ]
        }
      ]
    },
    {
      "cell_type": "code",
      "source": [
        "pip install jsonlines"
      ],
      "metadata": {
        "colab": {
          "base_uri": "https://localhost:8080/"
        },
        "id": "XwPrPFfZPwjo",
        "outputId": "7acf6036-4d0c-4152-ec42-e95e066fab11"
      },
      "execution_count": null,
      "outputs": [
        {
          "output_type": "stream",
          "name": "stdout",
          "text": [
            "Collecting jsonlines\n",
            "  Downloading jsonlines-4.0.0-py3-none-any.whl (8.7 kB)\n",
            "Requirement already satisfied: attrs>=19.2.0 in /usr/local/lib/python3.10/dist-packages (from jsonlines) (23.2.0)\n",
            "Installing collected packages: jsonlines\n",
            "Successfully installed jsonlines-4.0.0\n"
          ]
        }
      ]
    },
    {
      "cell_type": "code",
      "source": [
        "import jsonlines\n",
        "\n",
        "def save_jsonl_file(file_name, messages_list):\n",
        "    pd.DataFrame(messages_list)\n",
        "    file_path = f'/content/drive/My Drive/ExplainIt/explainit/explanation_mining/data/yichen/{file_name}.jsonl'\n",
        "    with jsonlines.open(file_path, 'w') as writer:\n",
        "        writer.write_all(messages_list)"
      ],
      "metadata": {
        "id": "uUhPj3cQCVUc"
      },
      "execution_count": null,
      "outputs": []
    },
    {
      "cell_type": "code",
      "source": [
        "save_jsonl_file('train_sampled_59_GPT', train_subset_messages_list)\n",
        "save_jsonl_file('val_sampled_7_GPT', val_subset_messages_list)"
      ],
      "metadata": {
        "id": "ykbxxo98EqIe"
      },
      "execution_count": null,
      "outputs": []
    },
    {
      "cell_type": "code",
      "source": [
        "# # FINE TUNING FORMAT VALITAION\n",
        "# file_path = f'/content/drive/My Drive/ExplainIt/explainit/explanation_mining/data/yichen/GPT_train_sample_messages.jsonl'\n",
        "# # Load the dataset\n",
        "# with open(file_path, 'r', encoding='utf-8') as f:\n",
        "#     dataset = [json.loads(line) for line in f]\n",
        "\n",
        "# # Initial dataset stats\n",
        "# print(\"number of examples:\", len(dataset))\n",
        "# for message in dataset[0][\"messages\"]:\n",
        "#     print(message)"
      ],
      "metadata": {
        "id": "mAN3rhZJOSsd"
      },
      "execution_count": null,
      "outputs": []
    },
    {
      "cell_type": "markdown",
      "source": [],
      "metadata": {
        "id": "TgXx_FCtwqlP"
      }
    },
    {
      "cell_type": "code",
      "source": [
        "def upload_file_to_GPT(client, file_name):\n",
        "    file_path = f'/content/drive/My Drive/ExplainIt/explainit/explanation_mining/data/yichen/{file_name}.jsonl'\n",
        "    client.files.create(\n",
        "\n",
        "      file=open(file_path, \"rb\"),\n",
        "      purpose=\"fine-tune\"\n",
        "    )"
      ],
      "metadata": {
        "id": "X-E0-SHdwB5a"
      },
      "execution_count": null,
      "outputs": []
    },
    {
      "cell_type": "code",
      "source": [
        "client = openai.OpenAI(\n",
        "    api_key=API_KEY,\n",
        ")\n",
        "\n",
        "upload_file_to_GPT(client, 'train_sampled_59_GPT')\n",
        "upload_file_to_GPT(client, 'val_sampled_7_GPT')"
      ],
      "metadata": {
        "id": "iD8-QCH-Lb4u"
      },
      "execution_count": null,
      "outputs": []
    },
    {
      "cell_type": "code",
      "source": [
        "# I USED OPENAI UI\n",
        "# from openai import OpenAI\n",
        "# client = OpenAI()\n",
        "\n",
        "# client.fine_tuning.jobs.create(\n",
        "#   training_file=\"file-abc123\",\n",
        "#   model=\"gpt-3.5-turbo\"\n",
        "# )"
      ],
      "metadata": {
        "id": "TQmYh_HiwTZM"
      },
      "execution_count": null,
      "outputs": []
    },
    {
      "cell_type": "code",
      "source": [
        "from sklearn.metrics import confusion_matrix\n",
        "import matplotlib.pyplot as plt\n",
        "import seaborn as sns\n",
        "\n",
        "# Plot confusion matrix\n",
        "def plot_confusion_matrix(y_true, y_pred):\n",
        "  cm = confusion_matrix(y_true, y_pred)\n",
        "\n",
        "  # Create a heatmap\n",
        "  plt.figure(figsize=(7, 5))\n",
        "  sns.heatmap(cm, annot=True, fmt='d', cmap='Blues', xticklabels=['0', '1'], yticklabels=['0', '1'])\n",
        "  plt.xlabel('Predicted')\n",
        "  plt.ylabel('Actual')\n",
        "  plt.title('Confusion Matrix')\n",
        "  plt.show()"
      ],
      "metadata": {
        "id": "HdgnLU_dOvws"
      },
      "execution_count": null,
      "outputs": []
    },
    {
      "cell_type": "code",
      "source": [
        "def precict_label(client, model_id, messages):\n",
        "    completion = client.chat.completions.create(\n",
        "        model=model_id,\n",
        "        messages=[messages],\n",
        "        temperature=0.2,\n",
        "        max_tokens=1\n",
        "    )\n",
        "    label = completion.choices[0].message.content\n",
        "    return label"
      ],
      "metadata": {
        "id": "jZFWjXMW2LK9"
      },
      "execution_count": null,
      "outputs": []
    },
    {
      "cell_type": "code",
      "source": [
        "def predict_labels(client, model_id, test_messages_list):\n",
        "    gold_labels = []\n",
        "    predictions = []\n",
        "    for i, review in enumerate(tqdm(test_messages_list)):\n",
        "        try:\n",
        "            gold_labels.append(review['messages'][1]['content'])\n",
        "            label = precict_label(client, model_id, review['messages'][0])\n",
        "            predictions.append(label)\n",
        "        except Exception as e:\n",
        "            print(f\"An error occurred at index {i}: {e}\")\n",
        "            print(label)\n",
        "\n",
        "        if i != 0 and i % 110 == 0:\n",
        "            wait_min = random.choice([1])\n",
        "            print(f\"Index {i} waiting for {wait_min} minutes...\")\n",
        "            time.sleep(wait_min*60)\n",
        "    return gold_labels, predictions"
      ],
      "metadata": {
        "id": "zDxtouZOMQYL"
      },
      "execution_count": null,
      "outputs": []
    },
    {
      "cell_type": "code",
      "source": [
        "def find_mismatch_pos(gold_labels, predictions):\n",
        "    mismatch_pos = np.where(np.array(gold_labels) != np.array(predictions))[0]\n",
        "    print('number of mismatches:, ', len(mismatch_pos))\n",
        "    return mismatch_pos"
      ],
      "metadata": {
        "id": "Fc_Wu-idJnvg"
      },
      "execution_count": null,
      "outputs": []
    },
    {
      "cell_type": "code",
      "source": [
        "from tqdm import tqdm\n",
        "import numpy as np\n",
        "import time\n",
        "import random\n",
        "from sklearn.metrics import accuracy_score"
      ],
      "metadata": {
        "id": "2yl76KVV4EcD"
      },
      "execution_count": null,
      "outputs": []
    },
    {
      "cell_type": "code",
      "source": [
        "len(test_messages_list)"
      ],
      "metadata": {
        "colab": {
          "base_uri": "https://localhost:8080/"
        },
        "id": "DRsiYmxMA3lJ",
        "outputId": "68d082b7-3d58-4067-b75d-c75378a6df43"
      },
      "execution_count": null,
      "outputs": [
        {
          "output_type": "execute_result",
          "data": {
            "text/plain": [
              "734"
            ]
          },
          "metadata": {},
          "execution_count": 151
        }
      ]
    },
    {
      "cell_type": "code",
      "source": [
        "client = openai.OpenAI(\n",
        "    api_key=API_KEY,\n",
        ")"
      ],
      "metadata": {
        "id": "FVJL_XL7BDxz"
      },
      "execution_count": null,
      "outputs": []
    },
    {
      "cell_type": "code",
      "source": [
        "model_id = 'ft:gpt-3.5-turbo-0125:personal::9K0lJfN0' # (train 118, test 14, val 14)\n",
        "gold_labels, predictions = predict_labels(client, model_id, test_messages_list)\n",
        "print('accuracy: ', accuracy_score(gold_labels, predictions))"
      ],
      "metadata": {
        "colab": {
          "base_uri": "https://localhost:8080/"
        },
        "id": "NkDUUV7MPD04",
        "outputId": "e90c0acd-1ee7-40d6-ffaf-14ca86bb0362"
      },
      "execution_count": null,
      "outputs": [
        {
          "output_type": "stream",
          "name": "stderr",
          "text": [
            " 15%|█▍        | 110/734 [00:38<03:28,  3.00it/s]"
          ]
        },
        {
          "output_type": "stream",
          "name": "stdout",
          "text": [
            "Index 110 waiting for 1 minutes...\n"
          ]
        },
        {
          "output_type": "stream",
          "name": "stderr",
          "text": [
            " 30%|██▉       | 220/734 [03:33<02:59,  2.86it/s]"
          ]
        },
        {
          "output_type": "stream",
          "name": "stdout",
          "text": [
            "Index 220 waiting for 1 minutes...\n"
          ]
        },
        {
          "output_type": "stream",
          "name": "stderr",
          "text": [
            " 45%|████▍     | 330/734 [05:19<02:18,  2.91it/s]"
          ]
        },
        {
          "output_type": "stream",
          "name": "stdout",
          "text": [
            "Index 330 waiting for 1 minutes...\n"
          ]
        },
        {
          "output_type": "stream",
          "name": "stderr",
          "text": [
            " 60%|█████▉    | 440/734 [06:57<01:46,  2.77it/s]"
          ]
        },
        {
          "output_type": "stream",
          "name": "stdout",
          "text": [
            "Index 440 waiting for 1 minutes...\n"
          ]
        },
        {
          "output_type": "stream",
          "name": "stderr",
          "text": [
            " 75%|███████▍  | 550/734 [08:36<01:04,  2.87it/s]"
          ]
        },
        {
          "output_type": "stream",
          "name": "stdout",
          "text": [
            "Index 550 waiting for 1 minutes...\n"
          ]
        },
        {
          "output_type": "stream",
          "name": "stderr",
          "text": [
            " 90%|████████▉ | 660/734 [10:16<00:26,  2.79it/s]"
          ]
        },
        {
          "output_type": "stream",
          "name": "stdout",
          "text": [
            "Index 660 waiting for 1 minutes...\n"
          ]
        },
        {
          "output_type": "stream",
          "name": "stderr",
          "text": [
            "100%|██████████| 734/734 [11:43<00:00,  1.04it/s]"
          ]
        },
        {
          "output_type": "stream",
          "name": "stdout",
          "text": [
            "accuracy:  0.8583106267029973\n"
          ]
        },
        {
          "output_type": "stream",
          "name": "stderr",
          "text": [
            "\n"
          ]
        }
      ]
    },
    {
      "cell_type": "code",
      "source": [
        "print('accuracy: ', accuracy_score(gold_labels, predictions))\n",
        "mismatch_pos = find_mismatch_pos(gold_labels, predictions)\n",
        "plot_confusion_matrix(gold_labels, predictions)"
      ],
      "metadata": {
        "colab": {
          "base_uri": "https://localhost:8080/",
          "height": 522
        },
        "id": "lclAyEx9LydJ",
        "outputId": "f71865a3-89a9-49a6-ccf5-75bd53ca7d6e"
      },
      "execution_count": null,
      "outputs": [
        {
          "output_type": "stream",
          "name": "stdout",
          "text": [
            "accuracy:  0.8583106267029973\n",
            "number of mismatches:,  104\n"
          ]
        },
        {
          "output_type": "display_data",
          "data": {
            "text/plain": [
              "<Figure size 700x500 with 2 Axes>"
            ],
            "image/png": "[encoded data removed]"
          },
          "metadata": {}
        }
      ]
    },
    {
      "cell_type": "code",
      "source": [
        "# from sklearn.metrics import accuracy_score\n",
        "# print(accuracy_score(gold_labels, predict_labels))"
      ],
      "metadata": {
        "colab": {
          "base_uri": "https://localhost:8080/"
        },
        "id": "Zy5qL7Xb5EEC",
        "outputId": "ae161bb8-fe03-49d7-b003-259c2e1781c7"
      },
      "execution_count": null,
      "outputs": [
        {
          "output_type": "stream",
          "name": "stdout",
          "text": [
            "0.8583106267029973\n"
          ]
        }
      ]
    },
    {
      "cell_type": "code",
      "source": [
        "model_id_2 = 'ft:gpt-3.5-turbo-0125:personal:cs298:9K4PrDYC'   # (train 236, test 29, val 29)\n",
        "gold_labels_2, predictions_2 = predict_labels(client, model_id_2, test_messages_list)\n",
        "print('accuracy: ', accuracy_score(gold_labels_2, predictions_2))"
      ],
      "metadata": {
        "colab": {
          "base_uri": "https://localhost:8080/"
        },
        "id": "HfOAOplNF1UA",
        "outputId": "08ef57ea-3d9c-4d4f-92c0-5db083fdbefb"
      },
      "execution_count": null,
      "outputs": [
        {
          "output_type": "stream",
          "name": "stderr",
          "text": [
            " 15%|█▍        | 110/734 [00:39<03:55,  2.65it/s]"
          ]
        },
        {
          "output_type": "stream",
          "name": "stdout",
          "text": [
            "Index 110 waiting for 1 minutes...\n"
          ]
        },
        {
          "output_type": "stream",
          "name": "stderr",
          "text": [
            " 30%|██▉       | 220/734 [02:18<03:14,  2.64it/s]"
          ]
        },
        {
          "output_type": "stream",
          "name": "stdout",
          "text": [
            "Index 220 waiting for 1 minutes...\n"
          ]
        },
        {
          "output_type": "stream",
          "name": "stderr",
          "text": [
            " 45%|████▍     | 330/734 [03:57<02:29,  2.71it/s]"
          ]
        },
        {
          "output_type": "stream",
          "name": "stdout",
          "text": [
            "Index 330 waiting for 1 minutes...\n"
          ]
        },
        {
          "output_type": "stream",
          "name": "stderr",
          "text": [
            " 60%|█████▉    | 440/734 [05:38<01:47,  2.74it/s]"
          ]
        },
        {
          "output_type": "stream",
          "name": "stdout",
          "text": [
            "Index 440 waiting for 1 minutes...\n"
          ]
        },
        {
          "output_type": "stream",
          "name": "stderr",
          "text": [
            " 75%|███████▍  | 550/734 [07:17<01:05,  2.82it/s]"
          ]
        },
        {
          "output_type": "stream",
          "name": "stdout",
          "text": [
            "Index 550 waiting for 1 minutes...\n"
          ]
        },
        {
          "output_type": "stream",
          "name": "stderr",
          "text": [
            " 90%|████████▉ | 660/734 [08:56<00:26,  2.83it/s]"
          ]
        },
        {
          "output_type": "stream",
          "name": "stdout",
          "text": [
            "Index 660 waiting for 1 minutes...\n"
          ]
        },
        {
          "output_type": "stream",
          "name": "stderr",
          "text": [
            "100%|██████████| 734/734 [10:22<00:00,  1.18it/s]"
          ]
        },
        {
          "output_type": "stream",
          "name": "stdout",
          "text": [
            "accuracy:  0.8392370572207084\n"
          ]
        },
        {
          "output_type": "stream",
          "name": "stderr",
          "text": [
            "\n"
          ]
        }
      ]
    },
    {
      "cell_type": "code",
      "source": [
        "print('accuracy: ', accuracy_score(gold_labels_2, predictions_2))\n",
        "mismatch_pos_2 = find_mismatch_pos(gold_labels_2, predictions_2)\n",
        "plot_confusion_matrix(gold_labels_2, predictions_2)"
      ],
      "metadata": {
        "colab": {
          "base_uri": "https://localhost:8080/",
          "height": 522
        },
        "id": "4iMZkvbMX9Jk",
        "outputId": "9ef4ec70-2a44-4ac7-c8ea-8e53fe490617"
      },
      "execution_count": null,
      "outputs": [
        {
          "output_type": "stream",
          "name": "stdout",
          "text": [
            "accuracy:  0.8392370572207084\n",
            "number of mismatches:,  118\n"
          ]
        },
        {
          "output_type": "display_data",
          "data": {
            "text/plain": [
              "<Figure size 700x500 with 2 Axes>"
            ],
            "image/png": "[encoded data removed]"
          },
          "metadata": {}
        }
      ]
    },
    {
      "cell_type": "code",
      "source": [
        "model_id_3 = 'ft:gpt-3.5-turbo-0125:personal:cs298-59:9KgdKtjT' # train 59, val 7, test 7\n",
        "gold_labels_3, predictions_3 = predict_labels(client, model_id_3, test_messages_list)\n",
        "print('accuracy: ', accuracy_score(gold_labels_3, predictions_3))"
      ],
      "metadata": {
        "colab": {
          "base_uri": "https://localhost:8080/"
        },
        "id": "ieq_wJbPPxpm",
        "outputId": "4f74190f-201e-4c54-a178-95666b8fdbf6"
      },
      "execution_count": null,
      "outputs": [
        {
          "metadata": {
            "tags": null
          },
          "name": "stderr",
          "output_type": "stream",
          "text": [
            " 15%|█▍        | 110/734 [00:38<03:48,  2.73it/s]"
          ]
        },
        {
          "metadata": {
            "tags": null
          },
          "name": "stdout",
          "output_type": "stream",
          "text": [
            "Index 110 waiting for 1 minutes...\n"
          ]
        },
        {
          "metadata": {
            "tags": null
          },
          "name": "stderr",
          "output_type": "stream",
          "text": [
            " 30%|██▉       | 220/734 [02:16<02:59,  2.87it/s]"
          ]
        },
        {
          "metadata": {
            "tags": null
          },
          "name": "stdout",
          "output_type": "stream",
          "text": [
            "Index 220 waiting for 1 minutes...\n"
          ]
        },
        {
          "metadata": {
            "tags": null
          },
          "name": "stderr",
          "output_type": "stream",
          "text": [
            " 45%|████▍     | 330/734 [03:53<02:18,  2.91it/s]"
          ]
        },
        {
          "metadata": {
            "tags": null
          },
          "name": "stdout",
          "output_type": "stream",
          "text": [
            "Index 330 waiting for 1 minutes...\n"
          ]
        },
        {
          "metadata": {
            "tags": null
          },
          "name": "stderr",
          "output_type": "stream",
          "text": [
            " 60%|█████▉    | 440/734 [06:24<01:41,  2.90it/s]"
          ]
        },
        {
          "metadata": {
            "tags": null
          },
          "name": "stdout",
          "output_type": "stream",
          "text": [
            "Index 440 waiting for 1 minutes...\n"
          ]
        },
        {
          "metadata": {
            "tags": null
          },
          "name": "stderr",
          "output_type": "stream",
          "text": [
            " 75%|███████▍  | 550/734 [08:01<01:03,  2.90it/s]"
          ]
        },
        {
          "metadata": {
            "tags": null
          },
          "name": "stdout",
          "output_type": "stream",
          "text": [
            "Index 550 waiting for 1 minutes...\n"
          ]
        },
        {
          "output_type": "stream",
          "name": "stderr",
          "text": [
            " 79%|███████▉  | 580/734 [09:13<00:55,  2.77it/s]"
          ]
        }
      ]
    },
    {
      "cell_type": "code",
      "source": [
        "len(gold_labels_3)"
      ],
      "metadata": {
        "colab": {
          "base_uri": "https://localhost:8080/"
        },
        "id": "PXDZLRRBTCRF",
        "outputId": "a7f9dc76-dbad-4779-c153-3681de58787d"
      },
      "execution_count": null,
      "outputs": [
        {
          "output_type": "execute_result",
          "data": {
            "text/plain": [
              "734"
            ]
          },
          "metadata": {},
          "execution_count": 163
        }
      ]
    },
    {
      "cell_type": "code",
      "source": [
        "print('accuracy: ', accuracy_score(gold_labels_3, predictions_3))\n",
        "mismatch_pos_3 = find_mismatch_pos(gold_labels_3, predictions_3)\n",
        "plot_confusion_matrix(gold_labels_3, predictions_3)"
      ],
      "metadata": {
        "colab": {
          "base_uri": "https://localhost:8080/",
          "height": 522
        },
        "id": "QxkM9zd2XVWU",
        "outputId": "f05ecbe4-c603-44df-8abb-a306d120c0dd"
      },
      "execution_count": null,
      "outputs": [
        {
          "output_type": "stream",
          "name": "stdout",
          "text": [
            "accuracy:  0.837874659400545\n",
            "number of mismatches:,  119\n"
          ]
        },
        {
          "output_type": "display_data",
          "data": {
            "text/plain": [
              "<Figure size 700x500 with 2 Axes>"
            ],
            "image/png": "[encoded data removed]"
          },
          "metadata": {}
        }
      ]
    },
    {
      "cell_type": "code",
      "source": [
        "print(len(mismatch_pos))\n",
        "print(len(mismatch_pos_2))\n",
        "print(len(mismatch_pos_3))"
      ],
      "metadata": {
        "colab": {
          "base_uri": "https://localhost:8080/"
        },
        "id": "0p9gq5eqpw4z",
        "outputId": "1c8a1968-f2fa-4c5b-9066-062921493853"
      },
      "execution_count": null,
      "outputs": [
        {
          "output_type": "stream",
          "name": "stdout",
          "text": [
            "104\n",
            "118\n",
            "119\n"
          ]
        }
      ]
    },
    {
      "cell_type": "code",
      "source": [
        "def find_matching_pos(mismatch_pos1, mismatch_pos2, mismatch_pos3):\n",
        "  match_pos = []\n",
        "  for pos in mismatch_pos1:\n",
        "    if pos in mismatch_pos2 and pos in mismatch_pos3:\n",
        "      match_pos.append(pos)\n",
        "  print('number of matches:, ', len(match_pos))\n",
        "  return match_pos"
      ],
      "metadata": {
        "id": "VkR2MwfIhy5b"
      },
      "execution_count": null,
      "outputs": []
    },
    {
      "cell_type": "code",
      "source": [
        "predicted_data = {\n",
        "    'gold_labels': [str(label) for label in gold_labels],\n",
        "    'predictions': [str(label) for label in predictions],\n",
        "    'gold_labels_2': [str(label) for label in gold_labels_2],\n",
        "    'predictions_2': [str(label) for label in predictions_2],\n",
        "    'gold_labels_3': [str(label) for label in gold_labels_3],\n",
        "    'predictions_3': [str(label) for label in predictions_3],\n",
        "    'mismatch_pos': [str(pos) for pos in mismatch_pos.tolist()],\n",
        "    'mismatch_pos_2': [str(pos) for pos in mismatch_pos_2.tolist()],\n",
        "    'mismatch_pos_3': [str(pos) for pos in mismatch_pos_3.tolist()],\n",
        "    'wronly_predicted_reviews': [str(pos) for pos in wronly_predicted_reviews]\n",
        "}\n",
        "\n",
        "# save file\n",
        "file_path = '/content/drive/My Drive/ExplainIt/explainit/explanation_mining/data/yichen/predicted.json'\n",
        "with open(file_path, 'w') as file:\n",
        "     json.dump(predicted_data, file)"
      ],
      "metadata": {
        "id": "W4fZe7hvq9Cl"
      },
      "execution_count": null,
      "outputs": []
    },
    {
      "cell_type": "code",
      "source": [
        "# read file\n",
        "file_path = '/content/drive/My Drive/ExplainIt/explainit/explanation_mining/data/yichen/predicted.json'\n",
        "with open(file_path, 'r') as file:\n",
        "     predicted_results = json.load(file)"
      ],
      "metadata": {
        "id": "jMFXyAWpiRYH"
      },
      "execution_count": null,
      "outputs": []
    },
    {
      "cell_type": "code",
      "source": [
        "plot_confusion_matrix(predicted_results['gold_labels'], predicted_results['predictions'])"
      ],
      "metadata": {
        "colab": {
          "base_uri": "https://localhost:8080/",
          "height": 487
        },
        "id": "Tc9EGPsnka6S",
        "outputId": "4ec37e2f-ad76-4758-85af-82f935ddd6e3"
      },
      "execution_count": null,
      "outputs": [
        {
          "output_type": "display_data",
          "data": {
            "text/plain": [
              "<Figure size 700x500 with 2 Axes>"
            ],
            "image/png": "[encoded data removed]"
          },
          "metadata": {}
        }
      ]
    },
    {
      "cell_type": "code",
      "source": [
        "plot_confusion_matrix(predicted_results['gold_labels_2'], predicted_results['predictions_2'])"
      ],
      "metadata": {
        "colab": {
          "base_uri": "https://localhost:8080/",
          "height": 487
        },
        "id": "jbFLR8YJjdkz",
        "outputId": "fa63eee4-2c68-427d-be47-f2c2e0b21809"
      },
      "execution_count": null,
      "outputs": [
        {
          "output_type": "display_data",
          "data": {
            "text/plain": [
              "<Figure size 700x500 with 2 Axes>"
            ],
            "image/png": "[encoded data removed]"
          },
          "metadata": {}
        }
      ]
    },
    {
      "cell_type": "code",
      "source": [
        "plot_confusion_matrix(predicted_results['gold_labels_3'], predicted_results['predictions_3'])"
      ],
      "metadata": {
        "colab": {
          "base_uri": "https://localhost:8080/",
          "height": 487
        },
        "id": "ywvBOnqOkwJf",
        "outputId": "d0a0469c-31bb-42a1-b68a-b6ae7ce236ca"
      },
      "execution_count": null,
      "outputs": [
        {
          "output_type": "display_data",
          "data": {
            "text/plain": [
              "<Figure size 700x500 with 2 Axes>"
            ],
            "image/png": "[encoded data removed]"
          },
          "metadata": {}
        }
      ]
    },
    {
      "cell_type": "markdown",
      "source": [
        "### Use fine-tuned GPT model"
      ],
      "metadata": {
        "id": "zqne_gqYC3Wv"
      }
    },
    {
      "cell_type": "code",
      "source": [
        "# read file\n",
        "file_path = '/content/drive/My Drive/ExplainIt/explainit/explanation_mining/data/yichen/GPT_opinions_extracted_data.json'\n",
        "with open(file_path, 'r') as file:\n",
        "     opinions_extracted_data = json.load(file)\n",
        "\n",
        "print(len(opinions_extracted_data))\n",
        "print(opinions_extracted_data[7])"
      ],
      "metadata": {
        "colab": {
          "base_uri": "https://localhost:8080/"
        },
        "id": "-uDh1eEQDaq7",
        "outputId": "e97f2009-8249-447a-a7ad-fb029101f5cb"
      },
      "execution_count": null,
      "outputs": [
        {
          "output_type": "stream",
          "name": "stdout",
          "text": [
            "928\n",
            "{'review_id': 'review_488342', 'business_id': 'Savoy Hotel Amsterdam', 'text': 'The first night our room was not available we arrived late and clearly the room had been given to someone else', 'extractions': [{'predicate': 'not available', 'entity': 'room', 'sentiment': -1}, {'predicate': 'given to someone else', 'entity': 'room', 'sentiment': -1}]}\n"
          ]
        }
      ]
    },
    {
      "cell_type": "code",
      "source": [
        "def get_input_message(review_text, opinion1, opinion2, label):\n",
        "    input_message = {\n",
        "        \"role\": \"user\",\n",
        "        \"content\": f\"Based on this sentence: '{review_text}', do you think '{opinion2}' explains '{opinion1}'? Enter '1' for Yes and '0' for No.\"\n",
        "    }\n",
        "    return input_message"
      ],
      "metadata": {
        "id": "_TQE-uqM9bYH"
      },
      "execution_count": null,
      "outputs": []
    },
    {
      "cell_type": "code",
      "source": [
        "model_id = 'ft:gpt-3.5-turbo-0125:personal::9K0lJfN0'\n",
        "\n",
        "start_time = time.time()\n",
        "\n",
        "edges_extracted_data = []\n",
        "predict_labels = []\n",
        "for i, review in enumerate(tqdm(opinions_extracted_data)):\n",
        "    try:\n",
        "        review_text = review['text']\n",
        "        opinion_pairs = list(itertools.permutations(review['extractions'], 2))\n",
        "        if opinion_pairs:\n",
        "            for opinion_pair in opinion_pairs:\n",
        "                opinion1 = opinion_pair[0]['predicate'] + ' ' + opinion_pair[0]['entity']\n",
        "                opinion2 = opinion_pair[1]['predicate'] + ' ' + opinion_pair[1]['entity']\n",
        "                input_message = get_input_message(review_text, opinion1, opinion2, label)\n",
        "                # print(input_message)\n",
        "                label = precict_label(client, model_id_2, input_message)\n",
        "\n",
        "                edge_data = dict()\n",
        "                edge_data['ID'] = review['review_id']\n",
        "                edge_data['Hotel'] = review['business_id']\n",
        "                edge_data['Sentence'] = review['text']\n",
        "                edge_data['Opinion A'] = opinion1\n",
        "                edge_data['Predicate A'] = opinion_pair[0]['predicate']\n",
        "                edge_data['Entity A'] = opinion_pair[0]['entity']\n",
        "                edge_data['Sentiment A'] = opinion_pair[0]['sentiment']\n",
        "                edge_data['Opinion B'] = opinion2\n",
        "                edge_data['Predicate B'] = opinion_pair[1]['predicate']\n",
        "                edge_data['Entity B'] = opinion_pair[1]['entity']\n",
        "                edge_data['Sentiment B'] = opinion_pair[1]['sentiment']\n",
        "                edge_data['Label'] = label\n",
        "                edges_extracted_data.append(edge_data)\n",
        "    except Exception as e:\n",
        "        print(f\"An error occurred for review at index {i}: {e}\")\n",
        "        print(label, input_message)\n",
        "\n",
        "    if i != 0 and i % 50 == 0:\n",
        "        wait_min = random.choice([1, 2])\n",
        "        print(f\"Index {i} waiting for {wait_min} minutes...\")\n",
        "        time.sleep(wait_min*60)\n",
        "\n",
        "end_time = time.time()  # End timing\n",
        "execution_time = end_time - start_time  # Calculate the total execution time in seconds\n",
        "\n",
        "# Convert seconds to hour, minute, second format\n",
        "hours, remainder = divmod(execution_time, 3600)\n",
        "minutes, seconds = divmod(remainder, 60)\n",
        "\n",
        "# Print the execution time in a formatted string\n",
        "print(f\"Execution time: {int(hours)} hours, {int(minutes)} minutes, {int(seconds)} seconds\")\n",
        "\n",
        "\n",
        "# save file\n",
        "file_path = '/content/drive/My Drive/ExplainIt/explainit/explanation_mining/data/yichen/fine_tune_gpt_edges_extracted_data.json'\n",
        "with open(file_path, 'w') as file:\n",
        "     json.dump(edges_extracted_data, file)"
      ],
      "metadata": {
        "colab": {
          "base_uri": "https://localhost:8080/"
        },
        "id": "5wc-C62M-nsV",
        "outputId": "35de3d1a-961d-4c1c-f989-90140e7e8e43"
      },
      "execution_count": null,
      "outputs": [
        {
          "output_type": "stream",
          "name": "stderr",
          "text": [
            "  5%|▌         | 50/928 [01:06<14:40,  1.00s/it]"
          ]
        },
        {
          "output_type": "stream",
          "name": "stdout",
          "text": [
            "Index 50 waiting for 1 minutes...\n"
          ]
        },
        {
          "output_type": "stream",
          "name": "stderr",
          "text": [
            " 10%|█         | 95/928 [02:34<08:35,  1.62it/s]"
          ]
        },
        {
          "output_type": "stream",
          "name": "stdout",
          "text": [
            "Index 100 waiting for 2 minutes...\n"
          ]
        },
        {
          "output_type": "stream",
          "name": "stderr",
          "text": [
            " 16%|█▌        | 150/928 [04:48<03:00,  4.30it/s]"
          ]
        },
        {
          "output_type": "stream",
          "name": "stdout",
          "text": [
            "Index 150 waiting for 2 minutes...\n"
          ]
        },
        {
          "output_type": "stream",
          "name": "stderr",
          "text": [
            " 21%|██▏       | 199/928 [07:52<21:15,  1.75s/it]"
          ]
        },
        {
          "output_type": "stream",
          "name": "stdout",
          "text": [
            "Index 200 waiting for 1 minutes...\n"
          ]
        },
        {
          "output_type": "stream",
          "name": "stderr",
          "text": [
            " 27%|██▋       | 248/928 [09:31<13:03,  1.15s/it]"
          ]
        },
        {
          "output_type": "stream",
          "name": "stdout",
          "text": [
            "Index 250 waiting for 1 minutes...\n"
          ]
        },
        {
          "output_type": "stream",
          "name": "stderr",
          "text": [
            " 31%|███▏      | 290/928 [10:47<04:15,  2.50it/s]"
          ]
        },
        {
          "output_type": "stream",
          "name": "stdout",
          "text": [
            "Index 300 waiting for 1 minutes...\n"
          ]
        },
        {
          "output_type": "stream",
          "name": "stderr",
          "text": [
            " 38%|███▊      | 349/928 [12:13<05:35,  1.72it/s]"
          ]
        },
        {
          "output_type": "stream",
          "name": "stdout",
          "text": [
            "Index 350 waiting for 1 minutes...\n"
          ]
        },
        {
          "output_type": "stream",
          "name": "stderr",
          "text": [
            " 43%|████▎     | 397/928 [13:56<01:48,  4.88it/s]"
          ]
        },
        {
          "output_type": "stream",
          "name": "stdout",
          "text": [
            "Index 400 waiting for 1 minutes...\n"
          ]
        },
        {
          "output_type": "stream",
          "name": "stderr",
          "text": [
            " 48%|████▊     | 443/928 [15:33<08:35,  1.06s/it]"
          ]
        },
        {
          "output_type": "stream",
          "name": "stdout",
          "text": [
            "Index 450 waiting for 2 minutes...\n"
          ]
        },
        {
          "output_type": "stream",
          "name": "stderr",
          "text": [
            " 54%|█████▍    | 500/928 [18:14<07:28,  1.05s/it]"
          ]
        },
        {
          "output_type": "stream",
          "name": "stdout",
          "text": [
            "Index 500 waiting for 2 minutes...\n"
          ]
        },
        {
          "output_type": "stream",
          "name": "stderr",
          "text": [
            " 59%|█████▉    | 550/928 [21:21<04:38,  1.36it/s]"
          ]
        },
        {
          "output_type": "stream",
          "name": "stdout",
          "text": [
            "Index 550 waiting for 1 minutes...\n"
          ]
        },
        {
          "output_type": "stream",
          "name": "stderr",
          "text": [
            " 64%|██████▍   | 598/928 [22:48<01:51,  2.95it/s]"
          ]
        },
        {
          "output_type": "stream",
          "name": "stdout",
          "text": [
            "Index 600 waiting for 1 minutes...\n"
          ]
        },
        {
          "output_type": "stream",
          "name": "stderr",
          "text": [
            " 70%|██████▉   | 646/928 [24:08<01:26,  3.25it/s]"
          ]
        },
        {
          "output_type": "stream",
          "name": "stdout",
          "text": [
            "Index 650 waiting for 2 minutes...\n"
          ]
        },
        {
          "output_type": "stream",
          "name": "stderr",
          "text": [
            " 75%|███████▌  | 700/928 [26:46<01:57,  1.95it/s]"
          ]
        },
        {
          "output_type": "stream",
          "name": "stdout",
          "text": [
            "Index 700 waiting for 1 minutes...\n"
          ]
        },
        {
          "output_type": "stream",
          "name": "stderr",
          "text": [
            " 81%|████████  | 749/928 [28:12<02:08,  1.40it/s]"
          ]
        },
        {
          "output_type": "stream",
          "name": "stdout",
          "text": [
            "Index 750 waiting for 1 minutes...\n"
          ]
        },
        {
          "output_type": "stream",
          "name": "stderr",
          "text": [
            " 86%|████████▌ | 799/928 [29:28<00:35,  3.60it/s]"
          ]
        },
        {
          "output_type": "stream",
          "name": "stdout",
          "text": [
            "Index 800 waiting for 1 minutes...\n"
          ]
        },
        {
          "output_type": "stream",
          "name": "stderr",
          "text": [
            " 91%|█████████▏| 849/928 [31:14<01:05,  1.20it/s]"
          ]
        },
        {
          "output_type": "stream",
          "name": "stdout",
          "text": [
            "Index 850 waiting for 1 minutes...\n"
          ]
        },
        {
          "output_type": "stream",
          "name": "stderr",
          "text": [
            " 97%|█████████▋| 900/928 [33:05<00:16,  1.67it/s]"
          ]
        },
        {
          "output_type": "stream",
          "name": "stdout",
          "text": [
            "Index 900 waiting for 2 minutes...\n"
          ]
        },
        {
          "output_type": "stream",
          "name": "stderr",
          "text": [
            "100%|██████████| 928/928 [35:29<00:00,  2.29s/it]"
          ]
        },
        {
          "output_type": "stream",
          "name": "stdout",
          "text": [
            "Execution time: 0 hours, 35 minutes, 29 seconds\n"
          ]
        },
        {
          "output_type": "stream",
          "name": "stderr",
          "text": [
            "\n"
          ]
        }
      ]
    },
    {
      "cell_type": "markdown",
      "source": [
        "# Clustering"
      ],
      "metadata": {
        "id": "98sMB-Ft92dy"
      }
    },
    {
      "cell_type": "code",
      "source": [
        "! pip install sentence-transformers"
      ],
      "metadata": {
        "colab": {
          "base_uri": "https://localhost:8080/"
        },
        "id": "s3M3XhhWICKU",
        "outputId": "e9090282-ccb1-4f74-cdd1-803a244d7771"
      },
      "execution_count": null,
      "outputs": [
        {
          "output_type": "stream",
          "name": "stdout",
          "text": [
            "Collecting sentence-transformers\n",
            "  Downloading sentence_transformers-2.7.0-py3-none-any.whl (171 kB)\n",
            "\u001b[?25l     \u001b[90m━━━━━━━━━━━━━━━━━━━━━━━━━━━━━━━━━━━━━━━━\u001b[0m \u001b[32m0.0/171.5 kB\u001b[0m \u001b[31m?\u001b[0m eta \u001b[36m-:--:--\u001b[0m\r\u001b[2K     \u001b[91m━━━━━━━━━━━━━━━━━━━━━━━━━━━━━━━━━\u001b[0m\u001b[90m╺\u001b[0m\u001b[90m━━━━━━\u001b[0m \u001b[32m143.4/171.5 kB\u001b[0m \u001b[31m4.6 MB/s\u001b[0m eta \u001b[36m0:00:01\u001b[0m\r\u001b[2K     \u001b[90m━━━━━━━━━━━━━━━━━━━━━━━━━━━━━━━━━━━━━━━━\u001b[0m \u001b[32m171.5/171.5 kB\u001b[0m \u001b[31m3.8 MB/s\u001b[0m eta \u001b[36m0:00:00\u001b[0m\n",
            "\u001b[?25hRequirement already satisfied: transformers<5.0.0,>=4.34.0 in /usr/local/lib/python3.10/dist-packages (from sentence-transformers) (4.40.2)\n",
            "Requirement already satisfied: tqdm in /usr/local/lib/python3.10/dist-packages (from sentence-transformers) (4.66.4)\n",
            "Requirement already satisfied: torch>=1.11.0 in /usr/local/lib/python3.10/dist-packages (from sentence-transformers) (2.2.1+cu121)\n",
            "Requirement already satisfied: numpy in /usr/local/lib/python3.10/dist-packages (from sentence-transformers) (1.25.2)\n",
            "Requirement already satisfied: scikit-learn in /usr/local/lib/python3.10/dist-packages (from sentence-transformers) (1.2.2)\n",
            "Requirement already satisfied: scipy in /usr/local/lib/python3.10/dist-packages (from sentence-transformers) (1.11.4)\n",
            "Requirement already satisfied: huggingface-hub>=0.15.1 in /usr/local/lib/python3.10/dist-packages (from sentence-transformers) (0.20.3)\n",
            "Requirement already satisfied: Pillow in /usr/local/lib/python3.10/dist-packages (from sentence-transformers) (9.4.0)\n",
            "Requirement already satisfied: filelock in /usr/local/lib/python3.10/dist-packages (from huggingface-hub>=0.15.1->sentence-transformers) (3.14.0)\n",
            "Requirement already satisfied: fsspec>=2023.5.0 in /usr/local/lib/python3.10/dist-packages (from huggingface-hub>=0.15.1->sentence-transformers) (2023.6.0)\n",
            "Requirement already satisfied: requests in /usr/local/lib/python3.10/dist-packages (from huggingface-hub>=0.15.1->sentence-transformers) (2.31.0)\n",
            "Requirement already satisfied: pyyaml>=5.1 in /usr/local/lib/python3.10/dist-packages (from huggingface-hub>=0.15.1->sentence-transformers) (6.0.1)\n",
            "Requirement already satisfied: typing-extensions>=3.7.4.3 in /usr/local/lib/python3.10/dist-packages (from huggingface-hub>=0.15.1->sentence-transformers) (4.11.0)\n",
            "Requirement already satisfied: packaging>=20.9 in /usr/local/lib/python3.10/dist-packages (from huggingface-hub>=0.15.1->sentence-transformers) (24.0)\n",
            "Requirement already satisfied: sympy in /usr/local/lib/python3.10/dist-packages (from torch>=1.11.0->sentence-transformers) (1.12)\n",
            "Requirement already satisfied: networkx in /usr/local/lib/python3.10/dist-packages (from torch>=1.11.0->sentence-transformers) (3.3)\n",
            "Requirement already satisfied: jinja2 in /usr/local/lib/python3.10/dist-packages (from torch>=1.11.0->sentence-transformers) (3.1.4)\n",
            "Collecting nvidia-cuda-nvrtc-cu12==12.1.105 (from torch>=1.11.0->sentence-transformers)\n",
            "  Using cached nvidia_cuda_nvrtc_cu12-12.1.105-py3-none-manylinux1_x86_64.whl (23.7 MB)\n",
            "Collecting nvidia-cuda-runtime-cu12==12.1.105 (from torch>=1.11.0->sentence-transformers)\n",
            "  Using cached nvidia_cuda_runtime_cu12-12.1.105-py3-none-manylinux1_x86_64.whl (823 kB)\n",
            "Collecting nvidia-cuda-cupti-cu12==12.1.105 (from torch>=1.11.0->sentence-transformers)\n",
            "  Using cached nvidia_cuda_cupti_cu12-12.1.105-py3-none-manylinux1_x86_64.whl (14.1 MB)\n",
            "Collecting nvidia-cudnn-cu12==8.9.2.26 (from torch>=1.11.0->sentence-transformers)\n",
            "  Using cached nvidia_cudnn_cu12-8.9.2.26-py3-none-manylinux1_x86_64.whl (731.7 MB)\n",
            "Collecting nvidia-cublas-cu12==12.1.3.1 (from torch>=1.11.0->sentence-transformers)\n",
            "  Using cached nvidia_cublas_cu12-12.1.3.1-py3-none-manylinux1_x86_64.whl (410.6 MB)\n",
            "Collecting nvidia-cufft-cu12==11.0.2.54 (from torch>=1.11.0->sentence-transformers)\n",
            "  Using cached nvidia_cufft_cu12-11.0.2.54-py3-none-manylinux1_x86_64.whl (121.6 MB)\n",
            "Collecting nvidia-curand-cu12==10.3.2.106 (from torch>=1.11.0->sentence-transformers)\n",
            "  Using cached nvidia_curand_cu12-10.3.2.106-py3-none-manylinux1_x86_64.whl (56.5 MB)\n",
            "Collecting nvidia-cusolver-cu12==11.4.5.107 (from torch>=1.11.0->sentence-transformers)\n",
            "  Using cached nvidia_cusolver_cu12-11.4.5.107-py3-none-manylinux1_x86_64.whl (124.2 MB)\n",
            "Collecting nvidia-cusparse-cu12==12.1.0.106 (from torch>=1.11.0->sentence-transformers)\n",
            "  Using cached nvidia_cusparse_cu12-12.1.0.106-py3-none-manylinux1_x86_64.whl (196.0 MB)\n",
            "Collecting nvidia-nccl-cu12==2.19.3 (from torch>=1.11.0->sentence-transformers)\n",
            "  Using cached nvidia_nccl_cu12-2.19.3-py3-none-manylinux1_x86_64.whl (166.0 MB)\n",
            "Collecting nvidia-nvtx-cu12==12.1.105 (from torch>=1.11.0->sentence-transformers)\n",
            "  Using cached nvidia_nvtx_cu12-12.1.105-py3-none-manylinux1_x86_64.whl (99 kB)\n",
            "Requirement already satisfied: triton==2.2.0 in /usr/local/lib/python3.10/dist-packages (from torch>=1.11.0->sentence-transformers) (2.2.0)\n",
            "Collecting nvidia-nvjitlink-cu12 (from nvidia-cusolver-cu12==11.4.5.107->torch>=1.11.0->sentence-transformers)\n",
            "  Using cached nvidia_nvjitlink_cu12-12.4.127-py3-none-manylinux2014_x86_64.whl (21.1 MB)\n",
            "Requirement already satisfied: regex!=2019.12.17 in /usr/local/lib/python3.10/dist-packages (from transformers<5.0.0,>=4.34.0->sentence-transformers) (2023.12.25)\n",
            "Requirement already satisfied: tokenizers<0.20,>=0.19 in /usr/local/lib/python3.10/dist-packages (from transformers<5.0.0,>=4.34.0->sentence-transformers) (0.19.1)\n",
            "Requirement already satisfied: safetensors>=0.4.1 in /usr/local/lib/python3.10/dist-packages (from transformers<5.0.0,>=4.34.0->sentence-transformers) (0.4.3)\n",
            "Requirement already satisfied: joblib>=1.1.1 in /usr/local/lib/python3.10/dist-packages (from scikit-learn->sentence-transformers) (1.4.2)\n",
            "Requirement already satisfied: threadpoolctl>=2.0.0 in /usr/local/lib/python3.10/dist-packages (from scikit-learn->sentence-transformers) (3.5.0)\n",
            "Requirement already satisfied: MarkupSafe>=2.0 in /usr/local/lib/python3.10/dist-packages (from jinja2->torch>=1.11.0->sentence-transformers) (2.1.5)\n",
            "Requirement already satisfied: charset-normalizer<4,>=2 in /usr/local/lib/python3.10/dist-packages (from requests->huggingface-hub>=0.15.1->sentence-transformers) (3.3.2)\n",
            "Requirement already satisfied: idna<4,>=2.5 in /usr/local/lib/python3.10/dist-packages (from requests->huggingface-hub>=0.15.1->sentence-transformers) (3.7)\n",
            "Requirement already satisfied: urllib3<3,>=1.21.1 in /usr/local/lib/python3.10/dist-packages (from requests->huggingface-hub>=0.15.1->sentence-transformers) (2.0.7)\n",
            "Requirement already satisfied: certifi>=2017.4.17 in /usr/local/lib/python3.10/dist-packages (from requests->huggingface-hub>=0.15.1->sentence-transformers) (2024.2.2)\n",
            "Requirement already satisfied: mpmath>=0.19 in /usr/local/lib/python3.10/dist-packages (from sympy->torch>=1.11.0->sentence-transformers) (1.3.0)\n",
            "Installing collected packages: nvidia-nvtx-cu12, nvidia-nvjitlink-cu12, nvidia-nccl-cu12, nvidia-curand-cu12, nvidia-cufft-cu12, nvidia-cuda-runtime-cu12, nvidia-cuda-nvrtc-cu12, nvidia-cuda-cupti-cu12, nvidia-cublas-cu12, nvidia-cusparse-cu12, nvidia-cudnn-cu12, nvidia-cusolver-cu12, sentence-transformers\n",
            "Successfully installed nvidia-cublas-cu12-12.1.3.1 nvidia-cuda-cupti-cu12-12.1.105 nvidia-cuda-nvrtc-cu12-12.1.105 nvidia-cuda-runtime-cu12-12.1.105 nvidia-cudnn-cu12-8.9.2.26 nvidia-cufft-cu12-11.0.2.54 nvidia-curand-cu12-10.3.2.106 nvidia-cusolver-cu12-11.4.5.107 nvidia-cusparse-cu12-12.1.0.106 nvidia-nccl-cu12-2.19.3 nvidia-nvjitlink-cu12-12.4.127 nvidia-nvtx-cu12-12.1.105 sentence-transformers-2.7.0\n"
          ]
        }
      ]
    },
    {
      "cell_type": "code",
      "source": [
        "from sentence_transformers import SentenceTransformer, util\n",
        "import pandas as pd\n",
        "import numpy as np\n",
        "import json\n",
        "import os\n",
        "\n",
        "from collections import defaultdict\n",
        "from sklearn.cluster import DBSCAN\n",
        "\n",
        "from gensim.models.doc2vec import Doc2Vec, TaggedDocument\n",
        "from gensim.models import KeyedVectors\n",
        "\n",
        "import nltk\n",
        "nltk.download('punkt')\n",
        "from nltk.tokenize import word_tokenize\n",
        "\n",
        "from gensim.models import Word2Vec\n",
        "\n",
        "from sklearn.cluster import DBSCAN, KMeans, SpectralClustering\n",
        "from sklearn.preprocessing import StandardScaler\n",
        "\n",
        "from sklearn.metrics.pairwise import cosine_similarity\n",
        "import networkx as nx\n",
        "from sklearn.metrics import silhouette_score, davies_bouldin_score, calinski_harabasz_score\n",
        "\n",
        "from itertools import product, islice\n",
        "\n",
        "import matplotlib.pyplot as plt"
      ],
      "metadata": {
        "colab": {
          "base_uri": "https://localhost:8080/"
        },
        "id": "QXFjU1teH4rc",
        "outputId": "f12f5c7b-fc99-41ca-f732-95eb9441fb6f"
      },
      "execution_count": null,
      "outputs": [
        {
          "output_type": "stream",
          "name": "stderr",
          "text": [
            "[nltk_data] Downloading package punkt to /root/nltk_data...\n",
            "[nltk_data]   Unzipping tokenizers/punkt.zip.\n"
          ]
        }
      ]
    },
    {
      "cell_type": "code",
      "source": [
        "def get_optimal_k(embeddings, method, k_values=[150, 175, 200, 225, 250, 275, 300]):\n",
        "  silhouette_scores = []\n",
        "  for k in k_values:\n",
        "    if method == 'kmeans':\n",
        "      model = KMeans(n_clusters=k, random_state=42, n_init = 'auto') #TODO: random_state?\n",
        "    elif method == 'spectral':\n",
        "      model = SpectralClustering(n_clusters=k, affinity='nearest_neighbors', random_state=0)\n",
        "    else:\n",
        "      raise ValueError(\"Unsupported clustering method\")\n",
        "\n",
        "    labels = model.fit_predict(embeddings)\n",
        "    score = silhouette_score(embeddings, labels)\n",
        "    silhouette_scores.append(score)\n",
        "\n",
        "  max_silhouette_value = max(silhouette_scores)\n",
        "  optimal_k = k_values[silhouette_scores.index(max_silhouette_value)]\n",
        "  print(f\"Optimal number of clusters ({method}): {optimal_k} | silhouette value: {max_silhouette_value}\")\n",
        "\n",
        "  return optimal_k"
      ],
      "metadata": {
        "id": "VSWFJS-aJlsX"
      },
      "execution_count": null,
      "outputs": []
    },
    {
      "cell_type": "code",
      "source": [
        "# Compute cosine similarity for every unique pair of clusters\n",
        "def get_similarity_edges(cluster_embeddings, threshold=0.8):\n",
        "  unique_pairs = [(c1, c2) for idx, c1 in enumerate(cluster_embeddings.keys()) for c2 in list(cluster_embeddings.keys())[idx+1:]]\n",
        "\n",
        "  cluster_similarity = {}\n",
        "  for c1, c2 in unique_pairs:\n",
        "      avg_emb1 = cluster_embeddings[c1]['average_embedding'].reshape(1, -1)\n",
        "      avg_emb2 = cluster_embeddings[c2]['average_embedding'].reshape(1, -1)\n",
        "      # Compute cosine similarity and store it in a dictionary with cluster pair as key\n",
        "      cluster_similarity[(str(c1), str(c2))] = cosine_similarity(avg_emb1, avg_emb2)[0][0]\n",
        "\n",
        "  # thresholod\n",
        "  similarity_edges = [cluster_pair for cluster_pair, similarity in cluster_similarity.items() if similarity > threshold]\n",
        "\n",
        "  return similarity_edges"
      ],
      "metadata": {
        "id": "VJXcr4_HKDxj"
      },
      "execution_count": null,
      "outputs": []
    },
    {
      "cell_type": "code",
      "source": [
        "file_path = '/content/drive/My Drive/ExplainIt/explainit/explanation_mining/data/yichen/fine_tune_gpt_edges_extracted_data.json'\n",
        "with open(file_path, 'r') as file:\n",
        "    gpt_edges_extracted_data = json.load(file)\n",
        "\n",
        "print(len(gpt_edges_extracted_data))\n",
        "print(gpt_edges_extracted_data[0])"
      ],
      "metadata": {
        "colab": {
          "base_uri": "https://localhost:8080/"
        },
        "id": "OWOFkPdhBmu1",
        "outputId": "d33979d8-7cbf-4a76-c5a6-d57195e0b412"
      },
      "execution_count": null,
      "outputs": [
        {
          "output_type": "stream",
          "name": "stdout",
          "text": [
            "3550\n",
            "{'ID': 'review_488343', 'Hotel': 'Savoy Hotel Amsterdam', 'Sentence': 'Staff spot on location nicely out of town and good prices', 'Opinion A': 'spot on Staff', 'Predicate A': 'spot on', 'Entity A': 'Staff', 'Sentiment A': 1, 'Opinion B': 'nicely out of town location', 'Predicate B': 'nicely out of town', 'Entity B': 'location', 'Sentiment B': 1, 'Label': '0'}\n"
          ]
        }
      ]
    },
    {
      "cell_type": "code",
      "source": [
        "gpt_edges_extracted_data[5:10]"
      ],
      "metadata": {
        "colab": {
          "base_uri": "https://localhost:8080/"
        },
        "id": "0XwoVgckg3oj",
        "outputId": "fab9a56d-72ee-47d6-8724-86ba9c1dd324"
      },
      "execution_count": null,
      "outputs": [
        {
          "output_type": "execute_result",
          "data": {
            "text/plain": [
              "[{'ID': 'review_488343',\n",
              "  'Hotel': 'Savoy Hotel Amsterdam',\n",
              "  'Sentence': 'Staff spot on location nicely out of town and good prices',\n",
              "  'Opinion A': 'good prices',\n",
              "  'Predicate A': 'good',\n",
              "  'Entity A': 'prices',\n",
              "  'Sentiment A': 1,\n",
              "  'Opinion B': 'nicely out of town location',\n",
              "  'Predicate B': 'nicely out of town',\n",
              "  'Entity B': 'location',\n",
              "  'Sentiment B': 1,\n",
              "  'Label': '0'},\n",
              " {'ID': 'review_488343',\n",
              "  'Hotel': 'Savoy Hotel Amsterdam',\n",
              "  'Sentence': 'Big spacious clean room with immaculate bedding',\n",
              "  'Opinion A': 'Big spacious clean room',\n",
              "  'Predicate A': 'Big spacious clean',\n",
              "  'Entity A': 'room',\n",
              "  'Sentiment A': 1,\n",
              "  'Opinion B': 'immaculate bedding',\n",
              "  'Predicate B': 'immaculate',\n",
              "  'Entity B': 'bedding',\n",
              "  'Sentiment B': 1,\n",
              "  'Label': '1'},\n",
              " {'ID': 'review_488343',\n",
              "  'Hotel': 'Savoy Hotel Amsterdam',\n",
              "  'Sentence': 'Big spacious clean room with immaculate bedding',\n",
              "  'Opinion A': 'immaculate bedding',\n",
              "  'Predicate A': 'immaculate',\n",
              "  'Entity A': 'bedding',\n",
              "  'Sentiment A': 1,\n",
              "  'Opinion B': 'Big spacious clean room',\n",
              "  'Predicate B': 'Big spacious clean',\n",
              "  'Entity B': 'room',\n",
              "  'Sentiment B': 1,\n",
              "  'Label': '0'},\n",
              " {'ID': 'review_488341',\n",
              "  'Hotel': 'Savoy Hotel Amsterdam',\n",
              "  'Sentence': 'The hotel is situated in a nice neighbourhood which has a lot of restaurant bars and shops',\n",
              "  'Opinion A': 'nice neighbourhood',\n",
              "  'Predicate A': 'nice',\n",
              "  'Entity A': 'neighbourhood',\n",
              "  'Sentiment A': 1,\n",
              "  'Opinion B': 'a lot of restaurant bars and shops',\n",
              "  'Predicate B': 'a lot of',\n",
              "  'Entity B': 'restaurant bars and shops',\n",
              "  'Sentiment B': 1,\n",
              "  'Label': '1'},\n",
              " {'ID': 'review_488341',\n",
              "  'Hotel': 'Savoy Hotel Amsterdam',\n",
              "  'Sentence': 'The hotel is situated in a nice neighbourhood which has a lot of restaurant bars and shops',\n",
              "  'Opinion A': 'a lot of restaurant bars and shops',\n",
              "  'Predicate A': 'a lot of',\n",
              "  'Entity A': 'restaurant bars and shops',\n",
              "  'Sentiment A': 1,\n",
              "  'Opinion B': 'nice neighbourhood',\n",
              "  'Predicate B': 'nice',\n",
              "  'Entity B': 'neighbourhood',\n",
              "  'Sentiment B': 1,\n",
              "  'Label': '0'}]"
            ]
          },
          "metadata": {},
          "execution_count": 28
        }
      ]
    },
    {
      "cell_type": "code",
      "source": [
        "# get grouped by hotel data\n",
        "hotel_edges_extracted_dict = defaultdict(list)\n",
        "for review in gpt_edges_extracted_data:\n",
        "  hotel = review['Hotel']\n",
        "  hotel_edges_extracted_dict[hotel].append(review)\n",
        "\n",
        "print(hotel_edges_extracted_dict.keys())"
      ],
      "metadata": {
        "colab": {
          "base_uri": "https://localhost:8080/"
        },
        "id": "j2IrUfPdU2Zq",
        "outputId": "7617a6ed-0547-4f53-a0a8-6f12202b0883"
      },
      "execution_count": null,
      "outputs": [
        {
          "output_type": "stream",
          "name": "stdout",
          "text": [
            "dict_keys(['Savoy Hotel Amsterdam', 'NH Amsterdam Museum Quarter', 'Crowne Plaza Amsterdam South'])\n"
          ]
        }
      ]
    },
    {
      "cell_type": "code",
      "source": [
        "grouped_data = hotel_edges_extracted_dict['Savoy Hotel Amsterdam']\n",
        "len(grouped_data)"
      ],
      "metadata": {
        "colab": {
          "base_uri": "https://localhost:8080/"
        },
        "id": "mIcRM4GnVmMT",
        "outputId": "4a885c7b-2c7b-40d9-c4e6-d5e0fdb140f9"
      },
      "execution_count": null,
      "outputs": [
        {
          "output_type": "execute_result",
          "data": {
            "text/plain": [
              "1398"
            ]
          },
          "metadata": {},
          "execution_count": 8
        }
      ]
    },
    {
      "cell_type": "code",
      "source": [
        "for hotel, grouped_data in hotel_edges_extracted_dict.items():\n",
        "  print(f'HOTEL: {hotel} of length {len(grouped_data)}')"
      ],
      "metadata": {
        "colab": {
          "base_uri": "https://localhost:8080/"
        },
        "id": "lMdwk5F0jb3o",
        "outputId": "e2200949-d9d7-4a60-ef9e-b341bfb5e18e"
      },
      "execution_count": null,
      "outputs": [
        {
          "output_type": "stream",
          "name": "stdout",
          "text": [
            "HOTEL: Savoy Hotel Amsterdam of length 1398\n",
            "HOTEL: NH Amsterdam Museum Quarter of length 912\n",
            "HOTEL: Crowne Plaza Amsterdam South of length 1240\n"
          ]
        }
      ]
    },
    {
      "cell_type": "code",
      "source": [
        "embedding_methods = ['word2vec', 'doc2vec', 'bert']\n",
        "cluster_methods = ['kmeans', 'dbscan', 'spectral']\n",
        "combinations = list(product(embedding_methods, cluster_methods))\n",
        "for hotel, grouped_data in hotel_edges_extracted_dict.items():\n",
        "  print(f'HOTEL: {hotel} of length {len(grouped_data)}')\n",
        "  for (embedding_method, cluster_method) in combinations:\n",
        "      print(embedding_method, cluster_method)\n",
        "      opinions, opinion_and_id_map = get_opinions(grouped_data)\n",
        "      edges = get_edges(opinion_and_id_map, grouped_data)  # [(opinion1_id, opinion2_id)] : [(0, 2), (1, 0)]\n",
        "      opinion_embedding_dict = get_opinion_and_aspect_embedding_dict(opinions, opinion_and_id_map, embedding_method) # {id: {'content':, 'embedding':, 'aspect embedding':}}\n",
        "      opinion_cluster_dict = get_cluster_labels(opinion_embedding_dict, cluster_method) # {opinion_id: cluster_label}: {467: -1, 482: -2}\n",
        "      opinions_by_cluster, ids_by_cluster = get_opinion_cluster(opinion_cluster_dict, opinion_embedding_dict) # {cluster_label: [opinion_texts]}\n",
        "      explainable_edges = get_explainable_edges(edges, opinion_cluster_dict) # [(cluster_label1, cluster_label2)] : [(-273, -173), (-133, -273)]\n",
        "      calculate_performance_score(opinion_embedding_dict, opinion_cluster_dict)\n",
        "      # save_graph_info(opinions_by_cluster, [], explainable_edges, (hotel, embedding_method, cluster_method))\n",
        "  print()\n",
        "\n",
        "# calculate_performance_score(opinion_embeddings, cluster_labels)\n"
      ],
      "metadata": {
        "colab": {
          "base_uri": "https://localhost:8080/",
          "height": 1000,
          "referenced_widgets": [
            "a717ff092e524c21b0b5ae034558dafe",
            "3002f6bc67b04a1799b9839fc0603d19",
            "f69f5557e75b4e50b0138ae2e9179cc0",
            "4a80a51b5ca541769678cfaa5e0984c3",
            "36321a47f0c64ca791ded7d82d73ad59",
            "90840eaaa616486c835fc7ccfc5ba390",
            "85b54930a9954905b376ee691b14e95a",
            "c8e958b0ac5f4292a77a2e12b819d591",
            "d3f50c3b74f74c5aa0defa65aa7567f4",
            "df96bd8b694741e692dfc3e9dfdd51d6",
            "aaabf1f9b387463681c17b7982a3999f",
            "1f6c3fd811554ba782e508b3fe41c44f",
            "f13968cb03c541e2baf6c65897eb9d8a",
            "445c80f65c56429783a6d137c585fdae",
            "9541a00785ae4e36ab80e19a20c06718",
            "35468481cbfa4a1381570270f69b8651",
            "488e0cbd0a424c53818c08d21870a7bc",
            "47a6b83edd4b480685265e30941130e4",
            "9cf3770883f24db481d6c55b07b6a634",
            "ce3f688a2f43415885de3fdb9f0094d9",
            "b83363298f1b45aeaffe68a576e78084",
            "fd566344748e4582a8b7ec9410774966",
            "80ea5effb8624d6383bca3707001444e",
            "9b2f06da10104e7899922294b33ee114",
            "f389eb82b5474ef28024a32ae1be35ca",
            "c05284f8e2e544eca846c215c299c036",
            "049c2001afb0483c9af9e8595c2588a0",
            "0ca0a67962d949ff84232524c85a0022",
            "1198b2fa62b54830a94906a6e3a25325",
            "b4353f4fc41d426db345e73756c83c70",
            "bf12522ec3b14478a5af8ab89d9749d2",
            "797014da2ee945faba1f6914a748d0ad",
            "12de68294a9e4a65a199fa726cf238fb",
            "c35978830990459b8a5cccfa951cbaf4",
            "a18e521921834b0dbb20676cc4a6f5ae",
            "3f09aef2af324150a2fc360eda322a2a",
            "720697eca9714360b4f47c17943a486a",
            "958a697b354145319e2adde77bd411d5",
            "286e755ca69341d4bd4c3b90c4d51947",
            "9f88cc1956a24d20bef459615f7e0e51",
            "176ffd47af494678976f454d7c59d8e1",
            "c688e7f5326b4a09b88fe547d26c339c",
            "5991fe56986e426d80dddca6b141701e",
            "c89a630497bb450cafa54b4c97de1216",
            "fcf813f30d114b7ba4d71c3a873ae1c8",
            "6465eba0233f44ddbae5198bacf747f1",
            "69872389478747cea31196c5d4b5dfff",
            "c624fe6bef66422cb61a0782d2c8d657",
            "32a15c9d9cd24c17b81cbd2930560abe",
            "30a7c0e4a49c47cca576ef4e657f004d",
            "32b0517d8809433f83077b76918a1dcc",
            "0d740375a7424341a7e39943acc23ba6",
            "03f76047ac02471fab658db44c511b6a",
            "a96b5d00ba9e41a9991502ab851f997e",
            "ac1ee832b537423c8354cec967a5d701",
            "69726d2cb93b4a9ab9e9da253f27c424",
            "a4e0d1704d4b45868f7c24e2ba1a4725",
            "3ba406705f0b4f529984cebd02753d13",
            "473121f015934d46808c620e5e49c971",
            "3ead9648c064484da3ade4fdd77af326",
            "13933ea9894c46a5bf1eec34db4e7a50",
            "82ad23b2b0744878844b52e47871b3a3",
            "db5b47618e2c4dc991e4fe43265c8448",
            "9e0d40cd8a8845c0b1ac39469b0f51f3",
            "9017f000157b4da7bce34d7e5b7c2449",
            "6eedd443b8154690adeb3f094d62f482",
            "5825de697c3e4f4ba8ce5bb236c9f6aa",
            "af037a5a7b70457a8a85795455bc5b34",
            "3794a4e8c7d4430bb8e03d938a986fb5",
            "e284111aa7644b24a1353e952415800a",
            "77e34a5b2fff4e5b85e745be07754738",
            "a151e6f76d3f48a0bb152cb92738483c",
            "ad587086e4f44b46982c87171cef0787",
            "f9b042a6ed30428e99a126234bb3752b",
            "ef5e6c202641463f97450530901103aa",
            "00ee13b124b9447c86ae45a49b4d2738",
            "3654ad344be348a5bdc5442000f280f0",
            "8daa2330a2c84f1cbf1bc61650de179f",
            "ef33e92a6ac34f4db9eec6a5ff40db72",
            "468036907aff46649b1bc3a5753f3035",
            "60558d3be0004026bf7b9e50e5b094ad",
            "e78311d7624a461a96e50d69ecbefce5",
            "e4bdc567891e4e149db600e5510e1ab6",
            "066a156b9bad4849b793e1e86be5f2df",
            "5b0f26b57d7e4439a8672d2b1fa26b55",
            "92212ca594ba49d0bf9ef6a5d58175ea",
            "e60d2c32f9d9401d813bcde88c13d066",
            "60f5f8ddeb354ba7a049fe0f9456fd7f",
            "aa34cf42083e4dc6befcd137f919b347",
            "19c9ce1560dc4051bd9b93669c9edb93",
            "7efe52ceac4649ddb72f270822f56284",
            "35613a0b007f4dc1929b591b52843b59",
            "400b3a7e0e9345bab8e2c70f5adf1e85",
            "98393ef791ed4ba59d7102f05b8e2f13",
            "3bf3cc98b0424fb2972b55292afe9933",
            "eed6026aa48d4ca2bc923f8b45d9ba10",
            "91d024fc6c01410e9cbe9f436f6a1145",
            "7fb8c3e8cfd7407fb7c45da6292c45fc",
            "9da1abd38731436aa12af83fc5e0b6f3",
            "280580780cd14663a7ab0ddb3213c0f6",
            "dd7d4f79034e4ad794b9a27514332d6c",
            "3823a3fcb1f44f9d81f329b4f8540881",
            "8c21ed49308c46dd9a13d7765591b8c1",
            "99337452e4d84087a3ab755741e9bf5b",
            "1c04943d9f50418ab8719ad7cb660bb3",
            "9c35a84891a14c81847c9eb6641653af",
            "836a0014eb5949a5bf4c9d3b75ad1e4a",
            "79b5a97ad3f747628899fb272b680c09",
            "25ce1a0194bf4701ae203eaab74acbb1",
            "3ab53d63da6940f5983a9eb46be931e4",
            "b05012664ed24e48ac972c74cd668d8b",
            "6bd51ea9320a4859aa3c5558f819480d",
            "9db956e22237479b8e6793957847d193",
            "f73eda699e854f5fa499f6ec6eccf025",
            "d5406422ac524891b25aa7c20bd9fb0b",
            "54fb784ce97b4f39a4bcc70ca02dda8f",
            "d68ea6ce26ff402d9f78e63f68b34dbf",
            "3f649df24e1f426889679c945f62ba95",
            "51b2936c1d044addb83d1bb5b17d1735",
            "33cb3dfd433540d1964dcf4345001c2b",
            "43e3e556d0694c7197e6e8005636b4e3"
          ]
        },
        "id": "WLlqJ90niUvp",
        "outputId": "6323cc4e-b991-4ade-e781-971a544586ae"
      },
      "execution_count": null,
      "outputs": [
        {
          "output_type": "stream",
          "name": "stdout",
          "text": [
            "HOTEL: Savoy Hotel Amsterdam of length 1398\n",
            "word2vec kmeans\n",
            "number of unique opinions:  485\n",
            "number of edges for opinion pairs:  980\n",
            "Optimal number of clusters (kmeans): 300 | silhouette value: 0.06110699847340584\n",
            "number of explainable edges between clusters:  892\n",
            "silhouette score: 0.046970345079898834, davies bouldin score: 0.8736374287170889, calinski harabasz: 3.332566519250147\n",
            "word2vec dbscan\n",
            "number of unique opinions:  485\n",
            "number of edges for opinion pairs:  980\n",
            "number of explainable edges between clusters:  962\n",
            "silhouette score: 0.03277413547039032, davies bouldin score: 0.4804809091321044, calinski harabasz: 4.185991766192383\n",
            "word2vec spectral\n",
            "number of unique opinions:  485\n",
            "number of edges for opinion pairs:  980\n",
            "Optimal number of clusters (spectral): 150 | silhouette value: 0.02640639990568161\n",
            "number of explainable edges between clusters:  800\n",
            "silhouette score: 0.02553744614124298, davies bouldin score: 1.6649022698238638, calinski harabasz: 3.209327453865911\n",
            "doc2vec kmeans\n",
            "number of unique opinions:  485\n",
            "number of edges for opinion pairs:  980\n",
            "Optimal number of clusters (kmeans): 150 | silhouette value: 0.02315308339893818\n",
            "number of explainable edges between clusters:  903\n",
            "silhouette score: -0.14095160365104675, davies bouldin score: 2.213148219971646, calinski harabasz: 314.0500005744683\n",
            "doc2vec dbscan\n",
            "number of unique opinions:  485\n",
            "number of edges for opinion pairs:  980\n",
            "number of explainable edges between clusters:  174\n",
            "silhouette score: -0.07744333148002625, davies bouldin score: 0.6091405104487724, calinski harabasz: 13.253418937314564\n",
            "doc2vec spectral\n",
            "number of unique opinions:  485\n",
            "number of edges for opinion pairs:  980\n",
            "Optimal number of clusters (spectral): 150 | silhouette value: 0.01448449119925499\n",
            "number of explainable edges between clusters:  850\n",
            "silhouette score: -0.23638664186000824, davies bouldin score: 3.090204890305914, calinski harabasz: 26.56248847495279\n",
            "bert kmeans\n",
            "number of unique opinions:  485\n",
            "number of edges for opinion pairs:  980\n"
          ]
        },
        {
          "output_type": "stream",
          "name": "stderr",
          "text": [
            "/usr/local/lib/python3.10/dist-packages/huggingface_hub/utils/_token.py:88: UserWarning: \n",
            "The secret `HF_TOKEN` does not exist in your Colab secrets.\n",
            "To authenticate with the Hugging Face Hub, create a token in your settings tab (https://huggingface.co/settings/tokens), set it as secret in your Google Colab and restart your session.\n",
            "You will be able to reuse this secret in all of your notebooks.\n",
            "Please note that authentication is recommended but still optional to access public models or datasets.\n",
            "  warnings.warn(\n"
          ]
        },
        {
          "output_type": "display_data",
          "data": {
            "text/plain": [
              "modules.json:   0%|          | 0.00/349 [00:00<?, ?B/s]"
            ],
            "application/vnd.jupyter.widget-view+json": {
              "version_major": 2,
              "version_minor": 0,
              "model_id": "a717ff092e524c21b0b5ae034558dafe"
            }
          },
          "metadata": {}
        },
        {
          "output_type": "display_data",
          "data": {
            "text/plain": [
              "config_sentence_transformers.json:   0%|          | 0.00/116 [00:00<?, ?B/s]"
            ],
            "application/vnd.jupyter.widget-view+json": {
              "version_major": 2,
              "version_minor": 0,
              "model_id": "1f6c3fd811554ba782e508b3fe41c44f"
            }
          },
          "metadata": {}
        },
        {
          "output_type": "display_data",
          "data": {
            "text/plain": [
              "README.md:   0%|          | 0.00/10.7k [00:00<?, ?B/s]"
            ],
            "application/vnd.jupyter.widget-view+json": {
              "version_major": 2,
              "version_minor": 0,
              "model_id": "80ea5effb8624d6383bca3707001444e"
            }
          },
          "metadata": {}
        },
        {
          "output_type": "display_data",
          "data": {
            "text/plain": [
              "sentence_bert_config.json:   0%|          | 0.00/53.0 [00:00<?, ?B/s]"
            ],
            "application/vnd.jupyter.widget-view+json": {
              "version_major": 2,
              "version_minor": 0,
              "model_id": "c35978830990459b8a5cccfa951cbaf4"
            }
          },
          "metadata": {}
        },
        {
          "output_type": "display_data",
          "data": {
            "text/plain": [
              "config.json:   0%|          | 0.00/612 [00:00<?, ?B/s]"
            ],
            "application/vnd.jupyter.widget-view+json": {
              "version_major": 2,
              "version_minor": 0,
              "model_id": "fcf813f30d114b7ba4d71c3a873ae1c8"
            }
          },
          "metadata": {}
        },
        {
          "output_type": "display_data",
          "data": {
            "text/plain": [
              "model.safetensors:   0%|          | 0.00/90.9M [00:00<?, ?B/s]"
            ],
            "application/vnd.jupyter.widget-view+json": {
              "version_major": 2,
              "version_minor": 0,
              "model_id": "69726d2cb93b4a9ab9e9da253f27c424"
            }
          },
          "metadata": {}
        },
        {
          "output_type": "display_data",
          "data": {
            "text/plain": [
              "tokenizer_config.json:   0%|          | 0.00/350 [00:00<?, ?B/s]"
            ],
            "application/vnd.jupyter.widget-view+json": {
              "version_major": 2,
              "version_minor": 0,
              "model_id": "5825de697c3e4f4ba8ce5bb236c9f6aa"
            }
          },
          "metadata": {}
        },
        {
          "output_type": "display_data",
          "data": {
            "text/plain": [
              "vocab.txt:   0%|          | 0.00/232k [00:00<?, ?B/s]"
            ],
            "application/vnd.jupyter.widget-view+json": {
              "version_major": 2,
              "version_minor": 0,
              "model_id": "8daa2330a2c84f1cbf1bc61650de179f"
            }
          },
          "metadata": {}
        },
        {
          "output_type": "display_data",
          "data": {
            "text/plain": [
              "tokenizer.json:   0%|          | 0.00/466k [00:00<?, ?B/s]"
            ],
            "application/vnd.jupyter.widget-view+json": {
              "version_major": 2,
              "version_minor": 0,
              "model_id": "aa34cf42083e4dc6befcd137f919b347"
            }
          },
          "metadata": {}
        },
        {
          "output_type": "display_data",
          "data": {
            "text/plain": [
              "special_tokens_map.json:   0%|          | 0.00/112 [00:00<?, ?B/s]"
            ],
            "application/vnd.jupyter.widget-view+json": {
              "version_major": 2,
              "version_minor": 0,
              "model_id": "280580780cd14663a7ab0ddb3213c0f6"
            }
          },
          "metadata": {}
        },
        {
          "output_type": "display_data",
          "data": {
            "text/plain": [
              "1_Pooling/config.json:   0%|          | 0.00/190 [00:00<?, ?B/s]"
            ],
            "application/vnd.jupyter.widget-view+json": {
              "version_major": 2,
              "version_minor": 0,
              "model_id": "b05012664ed24e48ac972c74cd668d8b"
            }
          },
          "metadata": {}
        },
        {
          "output_type": "stream",
          "name": "stdout",
          "text": [
            "Optimal number of clusters (kmeans): 150 | silhouette value: 0.09518560022115707\n",
            "number of explainable edges between clusters:  781\n",
            "silhouette score: 0.10048556327819824, davies bouldin score: 1.3455632392620511, calinski harabasz: 4.501141393354468\n",
            "bert dbscan\n",
            "number of unique opinions:  485\n",
            "number of edges for opinion pairs:  980\n",
            "number of explainable edges between clusters:  906\n",
            "silhouette score: 0.07222548127174377, davies bouldin score: 0.5285657966212691, calinski harabasz: 4.656499495169235\n",
            "bert spectral\n",
            "number of unique opinions:  485\n",
            "number of edges for opinion pairs:  980\n",
            "Optimal number of clusters (spectral): 150 | silhouette value: 0.069551981985569\n",
            "number of explainable edges between clusters:  791\n",
            "silhouette score: 0.06811781972646713, davies bouldin score: 1.4780830204636515, calinski harabasz: 4.0246683645531\n",
            "\n",
            "HOTEL: NH Amsterdam Museum Quarter of length 912\n",
            "word2vec kmeans\n",
            "number of unique opinions:  321\n",
            "number of edges for opinion pairs:  619\n",
            "Optimal number of clusters (kmeans): 250 | silhouette value: 0.05461576208472252\n",
            "number of explainable edges between clusters:  555\n",
            "silhouette score: 0.05007191374897957, davies bouldin score: 0.7584220475031086, calinski harabasz: 3.787539537260572\n",
            "word2vec dbscan\n",
            "number of unique opinions:  321\n",
            "number of edges for opinion pairs:  619\n",
            "number of explainable edges between clusters:  604\n",
            "silhouette score: 0.03680035471916199, davies bouldin score: 0.47988091151758616, calinski harabasz: 3.996027630354029\n",
            "word2vec spectral\n",
            "number of unique opinions:  321\n",
            "number of edges for opinion pairs:  619\n",
            "Optimal number of clusters (spectral): 300 | silhouette value: -0.009103439748287201\n",
            "number of explainable edges between clusters:  610\n",
            "silhouette score: -0.00964055024087429, davies bouldin score: 0.632744820067823, calinski harabasz: 2.5081277587734188\n",
            "doc2vec kmeans\n",
            "number of unique opinions:  321\n",
            "number of edges for opinion pairs:  619\n",
            "Optimal number of clusters (kmeans): 175 | silhouette value: 0.014139026403427124\n",
            "number of explainable edges between clusters:  606\n",
            "silhouette score: -0.038259007036685944, davies bouldin score: 1.242550501022165, calinski harabasz: 25.83954544182351\n",
            "doc2vec dbscan\n",
            "number of unique opinions:  321\n",
            "number of edges for opinion pairs:  619\n",
            "number of explainable edges between clusters:  276\n",
            "silhouette score: 0.001683947048150003, davies bouldin score: 0.5149701046152413, calinski harabasz: 7.5298060606919295\n",
            "doc2vec spectral\n",
            "number of unique opinions:  321\n",
            "number of edges for opinion pairs:  619\n",
            "Optimal number of clusters (spectral): 225 | silhouette value: -0.02647058293223381\n",
            "number of explainable edges between clusters:  538\n",
            "silhouette score: -0.15786586701869965, davies bouldin score: 1.3466242349637791, calinski harabasz: 3.3644791426181664\n",
            "bert kmeans\n",
            "number of unique opinions:  321\n",
            "number of edges for opinion pairs:  619\n",
            "Optimal number of clusters (kmeans): 150 | silhouette value: 0.0937606692314148\n",
            "number of explainable edges between clusters:  513\n",
            "silhouette score: 0.09924943745136261, davies bouldin score: 0.9367286645329554, calinski harabasz: 4.3826535876295125\n",
            "bert dbscan\n",
            "number of unique opinions:  321\n",
            "number of edges for opinion pairs:  619\n",
            "number of explainable edges between clusters:  529\n",
            "silhouette score: 0.07092902064323425, davies bouldin score: 0.537894873258291, calinski harabasz: 4.658170025305701\n",
            "bert spectral\n",
            "number of unique opinions:  321\n",
            "number of edges for opinion pairs:  619\n",
            "Optimal number of clusters (spectral): 150 | silhouette value: -0.023841436952352524\n",
            "number of explainable edges between clusters:  464\n",
            "silhouette score: -0.027076616883277893, davies bouldin score: 1.1626868423472254, calinski harabasz: 2.4686846710065202\n",
            "\n",
            "HOTEL: Crowne Plaza Amsterdam South of length 1240\n",
            "word2vec kmeans\n",
            "number of unique opinions:  354\n",
            "number of edges for opinion pairs:  868\n",
            "Optimal number of clusters (kmeans): 275 | silhouette value: 0.061897531151771545\n",
            "number of explainable edges between clusters:  835\n",
            "silhouette score: 0.053924813866615295, davies bouldin score: 0.6511581792773985, calinski harabasz: 4.209342535866254\n",
            "word2vec dbscan\n",
            "number of unique opinions:  354\n",
            "number of edges for opinion pairs:  868\n",
            "number of explainable edges between clusters:  824\n",
            "silhouette score: 0.02082066610455513, davies bouldin score: 0.6365312306466059, calinski harabasz: 2.72645541403645\n",
            "word2vec spectral\n",
            "number of unique opinions:  354\n",
            "number of edges for opinion pairs:  868\n",
            "Optimal number of clusters (spectral): 150 | silhouette value: -0.0029184790328145027\n",
            "number of explainable edges between clusters:  719\n",
            "silhouette score: -0.002488325582817197, davies bouldin score: 1.3094804355838356, calinski harabasz: 2.7857660928658197\n",
            "doc2vec kmeans\n",
            "number of unique opinions:  354\n",
            "number of edges for opinion pairs:  868\n",
            "Optimal number of clusters (kmeans): 150 | silhouette value: 0.016494454815983772\n",
            "number of explainable edges between clusters:  808\n",
            "silhouette score: -0.10267945379018784, davies bouldin score: 1.678956453005798, calinski harabasz: 106.16396445357834\n",
            "doc2vec dbscan\n",
            "number of unique opinions:  354\n",
            "number of edges for opinion pairs:  868\n",
            "number of explainable edges between clusters:  265\n",
            "silhouette score: 0.04070663079619408, davies bouldin score: 0.4975852409321149, calinski harabasz: 9.086240288278105\n",
            "doc2vec spectral\n",
            "number of unique opinions:  354\n",
            "number of edges for opinion pairs:  868\n",
            "Optimal number of clusters (spectral): 250 | silhouette value: -0.029171224683523178\n",
            "number of explainable edges between clusters:  822\n",
            "silhouette score: -0.1458321064710617, davies bouldin score: 1.8521328182190648, calinski harabasz: 6.145357161893008\n",
            "bert kmeans\n",
            "number of unique opinions:  354\n",
            "number of edges for opinion pairs:  868\n",
            "Optimal number of clusters (kmeans): 150 | silhouette value: 0.09940718859434128\n",
            "number of explainable edges between clusters:  716\n",
            "silhouette score: 0.10306034237146378, davies bouldin score: 0.9499755160684671, calinski harabasz: 4.82214625386087\n",
            "bert dbscan\n",
            "number of unique opinions:  354\n",
            "number of edges for opinion pairs:  868\n",
            "number of explainable edges between clusters:  741\n",
            "silhouette score: 0.07961007952690125, davies bouldin score: 0.5243895080771234, calinski harabasz: 5.15050318620493\n",
            "bert spectral\n",
            "number of unique opinions:  354\n",
            "number of edges for opinion pairs:  868\n",
            "Optimal number of clusters (spectral): 150 | silhouette value: -0.006578353699296713\n",
            "number of explainable edges between clusters:  699\n",
            "silhouette score: 0.021761316806077957, davies bouldin score: 1.2331445937984857, calinski harabasz: 3.3357910927823267\n",
            "\n"
          ]
        }
      ]
    },
    {
      "cell_type": "code",
      "source": [
        "# opinions, opinion_and_id_map = get_opinions(grouped_data)\n",
        "# edges = get_edges(opinion_and_id_map, grouped_data)  # [(opinion1_id, opinion2_id)] : [(0, 2), (1, 0)]\n",
        "# opinion_embedding_dict = get_opinion_and_aspect_embedding_dict(opinions, opinion_and_id_map, 'bert') # {id: {'content':, 'embedding':, 'aspect embedding':}}\n",
        "# opinion_cluster_dict = get_cluster_labels(opinion_embedding_dict, 'dbscan') # {opinion_id: cluster_label}: {467: -1, 482: -2}\n",
        "# opinions_by_cluster, ids_by_cluster = get_opinion_cluster(opinion_cluster_dict, opinion_embedding_dict) # {cluster_label: [opinion_texts]}\n",
        "# explainable_edges = get_explainable_edges(edges, opinion_cluster_dict) # [(cluster_label1, cluster_label2)] : [(-273, -173), (-133, -273)]"
      ],
      "metadata": {
        "id": "MmNyZIZsc20e"
      },
      "execution_count": null,
      "outputs": []
    },
    {
      "cell_type": "code",
      "source": [
        "# cluster_embeddings = get_cluster_embeddings(ids_by_cluster, opinion_embedding_dict)\n",
        "# # similarity_edges = get_similarity_edges(cluster_embeddings, threshold=1)"
      ],
      "metadata": {
        "id": "i4vXO_ox3BfR"
      },
      "execution_count": null,
      "outputs": []
    },
    {
      "cell_type": "code",
      "source": [
        "# similarity_edges = get_similarity_edges(cluster_embeddings, threshold=1)"
      ],
      "metadata": {
        "id": "vNg-tTWS9OgH"
      },
      "execution_count": null,
      "outputs": []
    },
    {
      "cell_type": "code",
      "source": [
        "# save_graph_info(opinions_by_cluster, [], explainable_edges, ('Savoy Hotel Amsterdam', 'bert', 'dbscan'))"
      ],
      "metadata": {
        "id": "EomciluMxxO9"
      },
      "execution_count": null,
      "outputs": []
    },
    {
      "cell_type": "code",
      "source": [
        "import shutil\n",
        "import os\n",
        "\n",
        "# Path to the folder you want to zip\n",
        "folder_path = '/content/drive/My Drive/ExplainIt/explainit/opinion_canonicalization/yichen_graph_data/'\n",
        "\n",
        "# Path for the output zip file\n",
        "zip_path = '/content/CS298_graphs.zip'\n",
        "\n",
        "# Creating a zip archive\n",
        "shutil.make_archive(zip_path.replace('.zip', ''), 'zip', folder_path)"
      ],
      "metadata": {
        "colab": {
          "base_uri": "https://localhost:8080/",
          "height": 35
        },
        "id": "BV1Slp9Rvrjk",
        "outputId": "58e72452-d4f3-4726-fc48-d25188dc63a8"
      },
      "execution_count": null,
      "outputs": [
        {
          "output_type": "execute_result",
          "data": {
            "text/plain": [
              "'/content/CS298_graphs.zip'"
            ],
            "application/vnd.google.colaboratory.intrinsic+json": {
              "type": "string"
            }
          },
          "metadata": {},
          "execution_count": 4
        }
      ]
    },
    {
      "cell_type": "code",
      "source": [
        "def save_graph_info(opinions_by_cluster, similarity_edges, explainable_edges, graph_info):\n",
        "  nodes = []\n",
        "  for cluster, opinions in opinions_by_cluster.items():\n",
        "      nodes.append({\"id\": str(cluster), \"text\": opinions})\n",
        "\n",
        "  # Transform 'explains' edges\n",
        "  edges = [{'from': str(from_node), 'to': str(to_node), 'type': 'explains'} for from_node, to_node in explainable_edges]\n",
        "\n",
        "  # Transform 'similar' edges\n",
        "  edges += [{'from': str(from_node), 'to': str(to_node), 'type': 'similar', 'bidirectional': True} for from_node, to_node in similarity_edges]\n",
        "  # Save to a JSON file in Google Drive\n",
        "  # path = '/content/drive/My Drive/ExplainIt/explainit/opinion_canonicalization/yichen_graoh_data/graph.data.json'\n",
        "  hotel_name, embedding_method, cluster_method = graph_info\n",
        "\n",
        "  path = '/content/drive/My Drive/ExplainIt/explainit/opinion_canonicalization/yichen_graph_data/'\n",
        "  file_name = hotel_name + '_' + embedding_method + '_' + cluster_method + '.json'\n",
        "  file_path = os.path.join(path, file_name)\n",
        "  with open(file_path, 'w') as f:\n",
        "    json.dump({'nodes': nodes, 'edges': edges}, f)"
      ],
      "metadata": {
        "id": "3mcJceBCpG7c"
      },
      "execution_count": null,
      "outputs": []
    },
    {
      "cell_type": "code",
      "source": [
        "# output: [(opinion1_id, opinion2_id)] : [(0, 2), (1, 0)]\n",
        "def get_edges(opinion_and_id_map, gpt_edges_extracted_data):\n",
        "    edge_pairs = []\n",
        "    for review in gpt_edges_extracted_data:\n",
        "        if review['Label'] == '0':\n",
        "            opinion1_id = opinion_and_id_map[review['Opinion A'].lower()]['id']\n",
        "            opinion2_id = opinion_and_id_map[review['Opinion B'].lower()]['id']\n",
        "            edge_pairs.append((opinion1_id, opinion2_id))\n",
        "    print('number of edges for opinion pairs: ', len(edge_pairs))\n",
        "    return edge_pairs"
      ],
      "metadata": {
        "id": "SceW8KjkSQjA"
      },
      "execution_count": null,
      "outputs": []
    },
    {
      "cell_type": "code",
      "source": [
        "def get_opinions(gpt_edges_extracted_data):\n",
        "    opinions = set()\n",
        "    opinion_and_id_map = {}\n",
        "    id = 0\n",
        "    for review in gpt_edges_extracted_data:\n",
        "        opinion1 = review['Opinion A'].lower()\n",
        "        opinion2 = review['Opinion B'].lower()\n",
        "        opinions.add(opinion1)\n",
        "        opinions.add(opinion2)\n",
        "        if opinion1 not in opinion_and_id_map:\n",
        "            opinion_and_id_map[opinion1] = {'id': id, 'predicate': review['Predicate A'].lower(), 'aspect': review['Entity A'].lower(), 'sentiment': review['Sentiment A']}\n",
        "            id += 1\n",
        "\n",
        "        if opinion2 not in opinion_and_id_map:\n",
        "            opinion_and_id_map[opinion2] = {'id': id, 'predicate': review['Predicate B'].lower(), 'aspect': review['Entity B'].lower(), 'sentiment': review['Sentiment B']}\n",
        "            id += 1\n",
        "    print('number of unique opinions: ', len(opinions))\n",
        "    return list(opinions), opinion_and_id_map"
      ],
      "metadata": {
        "id": "iijHyHEtCMyn"
      },
      "execution_count": null,
      "outputs": []
    },
    {
      "cell_type": "code",
      "source": [
        "# output: # {opinion_id: {'content':, 'embedding':, 'aspect embedding': }}\n",
        "def get_opinion_and_aspect_embedding_dict(opinions, opinion_and_id_map, method):\n",
        "  aspects = [review['aspect'] for review in opinion_and_id_map.values()]\n",
        "\n",
        "  opinion_embedding_dict = {}\n",
        "  if method == 'bert':\n",
        "    model = SentenceTransformer('all-MiniLM-L6-v2')\n",
        "    opinion_embeddings = model.encode(opinions) # return ndarray 20, 384 embedding\n",
        "    aspect_embeddings = model.encode(aspects)\n",
        "\n",
        "  elif method == 'doc2vec':\n",
        "    # preproces the documents, and create TaggedDocuments\n",
        "    tagged_data = [TaggedDocument(words=word_tokenize(doc), tags=[str(i)]) for i, doc in enumerate(opinions)]\n",
        "\n",
        "    # train the Doc2vec model\n",
        "    model = Doc2Vec(vector_size=100,\n",
        "                    min_count=2, epochs=50)\n",
        "    model.build_vocab(tagged_data)\n",
        "    model.train(tagged_data,\n",
        "                total_examples=model.corpus_count,\n",
        "                epochs=model.epochs)\n",
        "\n",
        "    opinion_embeddings = [model.infer_vector(word_tokenize(doc)) for doc in opinions]\n",
        "    aspect_embeddings = [model.infer_vector(word_tokenize(doc)) for doc in aspects]\n",
        "  elif method == 'word2vec':\n",
        "    tokenized_opinions = [opinion.split() for opinion in opinions]\n",
        "    tokenized_aspects = [aspect.split() for aspect in aspects]\n",
        "\n",
        "    # Train a Word2Vec model\n",
        "    word2vec_model = Word2Vec(sentences=tokenized_opinions, vector_size=100, window=5, min_count=1, workers=4)\n",
        "\n",
        "    opinion_embeddings = []\n",
        "    aspect_embeddings = []\n",
        "    for opinion, aspect in zip(tokenized_opinions, tokenized_aspects):\n",
        "      vectors = [word2vec_model.wv[word] for word in opinion if word in word2vec_model.wv.key_to_index]\n",
        "      aspect_vectors = [word2vec_model.wv[word] for word in aspect if word in word2vec_model.wv.key_to_index]\n",
        "      if vectors:\n",
        "        opinion_embeddings.append(np.mean(vectors, axis=0))\n",
        "        aspect_embeddings.append(np.mean(aspect_vectors, axis=0))\n",
        "      else:\n",
        "        opinion_embeddings.append(np.zeros(word2vec_model.vector_size))\n",
        "        aspect_embeddings.append(np.zeros(word2vec_model.vector_size))\n",
        "  else:\n",
        "    raise ValueError(\"Unsupported method\")\n",
        "\n",
        "  # print(opinion_embeddings)\n",
        "  for opinion, embedding, aspect_embedding in zip(opinions, opinion_embeddings, aspect_embeddings):\n",
        "    opinion_id = opinion_and_id_map[opinion]['id']\n",
        "    opinion_embedding_dict[opinion_id] = {'content': opinion, 'embedding': embedding ,'aspect embedding': aspect_embedding}\n",
        "  return opinion_embedding_dict"
      ],
      "metadata": {
        "id": "t_diW0iy4_ka"
      },
      "execution_count": null,
      "outputs": []
    },
    {
      "cell_type": "code",
      "source": [
        "# Clustering: output: # {opinion_id: cluster_label}: {467: -1, 482: -2}\n",
        "def get_cluster_labels(opinion_embedding_dict, method):\n",
        "  opinion_ids = []\n",
        "  embeddings = []\n",
        "  for key, value in opinion_embedding_dict.items():\n",
        "    opinion_ids.append(key)\n",
        "    embeddings.append(value['embedding'])\n",
        "\n",
        "  # scale embeddings before clustering\n",
        "  scaler = StandardScaler()\n",
        "  scaled_embeddings = scaler.fit_transform(embeddings)\n",
        "\n",
        "  if method == 'dbscan':\n",
        "    clustering_model = DBSCAN(eps=0.3, min_samples=2, metric='cosine') # TODO: change eps\n",
        "    #\n",
        "  elif method == 'kmeans':\n",
        "    # Adjust the number of clusters (n_clusters) as needed\n",
        "    n_clusters = get_optimal_k(embeddings, method=method)\n",
        "    clustering_model = KMeans(n_clusters=n_clusters, random_state=42, n_init = 'auto')\n",
        "\n",
        "  elif method == 'spectral':\n",
        "    # Adjust the number of clusters (n_clusters) as needed\n",
        "    n_clusters = get_optimal_k(embeddings, method=method)\n",
        "    # Spectral Clustering parameters can be adjusted as needed\n",
        "    clustering_model = SpectralClustering(n_clusters=n_clusters, affinity='nearest_neighbors', random_state=42)\n",
        "\n",
        "  else:\n",
        "    raise ValueError(\"Unsupported clustering method\")\n",
        "  cluster_labels = clustering_model.fit_predict(scaled_embeddings)\n",
        "  new_label = -1\n",
        "  for i, label in enumerate(cluster_labels):\n",
        "    if label == -1:\n",
        "      cluster_labels[i] = new_label\n",
        "    new_label -= 1\n",
        "\n",
        "  return dict(zip(opinion_ids, cluster_labels))"
      ],
      "metadata": {
        "id": "NzpwZkqjHiiw"
      },
      "execution_count": null,
      "outputs": []
    },
    {
      "cell_type": "code",
      "source": [
        "# output: {cluster_label: [opinion_texts]}\n",
        "def get_opinion_cluster(opinion_cluster_dict, opinion_embedding_dict):\n",
        "  # Map opinion_id to their cluster\n",
        "  cluster_dict = defaultdict(list)\n",
        "  cluster_id_dict = defaultdict(list)\n",
        "  for opinion_id, cluster_label in opinion_cluster_dict.items():\n",
        "    cluster_dict[str(cluster_label)].append(opinion_embedding_dict[opinion_id]['content'])\n",
        "    cluster_id_dict[str(cluster_label)].append(opinion_id)\n",
        "  return cluster_dict, cluster_id_dict"
      ],
      "metadata": {
        "id": "apeEUPpGPfA7"
      },
      "execution_count": null,
      "outputs": []
    },
    {
      "cell_type": "code",
      "source": [
        "# output: [(cluster_label1, cluster_label2)] : [(-273, -173), (-133, -273)]\n",
        "def get_explainable_edges(edges, opinion_cluster_dict):\n",
        "  explainable_edges = []\n",
        "  for (opinion1_id, opinion2_id) in edges:\n",
        "    opinion1_cluster_label = opinion_cluster_dict[opinion1_id]\n",
        "    opinion2_cluster_label = opinion_cluster_dict[opinion2_id]\n",
        "    if opinion1_cluster_label != opinion2_cluster_label:\n",
        "      explainable_edges.append((opinion1_cluster_label, opinion2_cluster_label))\n",
        "  print('number of explainable edges between clusters: ', len(set(explainable_edges)))\n",
        "  return set(explainable_edges)"
      ],
      "metadata": {
        "id": "BPvJo0-yjjGX"
      },
      "execution_count": null,
      "outputs": []
    },
    {
      "cell_type": "code",
      "source": [
        "# opinions = pd.concat([group_df['Opinion A'], group_df['Opinion B']]).tolist()\n",
        "# opinion_embeddings = get_embeddings(list(set(opinions)), 'bert')\n"
      ],
      "metadata": {
        "id": "7nJXu1boAESg"
      },
      "execution_count": null,
      "outputs": []
    },
    {
      "cell_type": "code",
      "source": [
        "# w2v_opinion_embeddings = get_embeddings(list(set(opinions)), 'word2vec')"
      ],
      "metadata": {
        "id": "McoiCIxOJmWK"
      },
      "execution_count": null,
      "outputs": []
    },
    {
      "cell_type": "code",
      "source": [
        "# d2v_opinion_embeddings = get_embeddings(list(set(opinions)), 'doc2vec')"
      ],
      "metadata": {
        "id": "f2Z83C0CJpNq"
      },
      "execution_count": null,
      "outputs": []
    },
    {
      "cell_type": "code",
      "source": [
        "# TRY TO PUT WHAT I HAVE RIGHT NOW!!!!! INDLUCIND SIMILARITY EDGE ON ASPECT TERM!!!! IMPROVE AFTER WARDS"
      ],
      "metadata": {
        "id": "n95ma2GLL9_Z"
      },
      "execution_count": null,
      "outputs": []
    },
    {
      "cell_type": "code",
      "source": [
        "import numpy as np\n",
        "import matplotlib.pyplot as plt\n",
        "from sklearn.manifold import TSNE\n",
        "from sklearn.decomposition import PCA\n",
        "\n",
        "def reduce_dimensions_pca(embeddings, n_components=2):\n",
        "    pca = PCA(n_components=n_components)\n",
        "    reduced_embeddings = pca.fit_transform(embeddings)\n",
        "    return reduced_embeddings\n",
        "\n",
        "def reduce_dimensions_tsne(embeddings, n_components=2, perplexity=30, n_iter=300):\n",
        "    tsne = TSNE(n_components=n_components, perplexity=perplexity, n_iter=n_iter, random_state=42)\n",
        "    reduced_embeddings = tsne.fit_transform(embeddings)\n",
        "    return reduced_embeddings\n",
        "\n",
        "def plot_embeddings(reduced_embeddings, labels=None):\n",
        "    plt.figure(figsize=(8, 6))\n",
        "    if labels is not None:\n",
        "        for i, label in enumerate(set(labels)):\n",
        "            indices = [j for j, x in enumerate(labels) if x == label]\n",
        "            plt.scatter(reduced_embeddings[indices, 0], reduced_embeddings[indices, 1], label=label)\n",
        "        plt.legend()\n",
        "    else:\n",
        "        plt.scatter(reduced_embeddings[:, 0], reduced_embeddings[:, 1])\n",
        "    plt.xlabel('Component 1')\n",
        "    plt.ylabel('Component 2')\n",
        "    plt.title('2D projection of embeddings')\n",
        "    plt.grid(True)\n",
        "    plt.show()\n"
      ],
      "metadata": {
        "id": "iUQfVfnBITBR"
      },
      "execution_count": null,
      "outputs": []
    },
    {
      "cell_type": "code",
      "source": [
        "def calculate_performance_score(opinion_embedding_dict, opinion_cluster_dict):\n",
        "    embeddings = []\n",
        "    cluster_labels = []\n",
        "    for opinion_id, review in opinion_embedding_dict.items():\n",
        "      embeddings.append(review['embedding'])\n",
        "      cluster_labels.append(opinion_cluster_dict[opinion_id])\n",
        "\n",
        "    # Check if there is more than one cluster and more than one element per cluster to calculate the score\n",
        "    if len(set(cluster_labels)) == 1 or len(set(cluster_labels)) == len(embeddings):\n",
        "        print(\"Silhouette score cannot be calculated with a single cluster or if each data point is its own cluster.\")\n",
        "        return None\n",
        "\n",
        "    silhouette_value = silhouette_score(embeddings, cluster_labels) #TODO: CHECH DISTANCE\n",
        "    davies_bouldin_value = davies_bouldin_score(embeddings, cluster_labels)\n",
        "    calinski_harabasz_value = calinski_harabasz_score(embeddings, cluster_labels)\n",
        "    print(f'silhouette score: {silhouette_value}, davies bouldin score: {davies_bouldin_value}, calinski harabasz: {calinski_harabasz_value}')\n",
        "    return silhouette_value, davies_bouldin_value, calinski_harabasz_value\n"
      ],
      "metadata": {
        "id": "vGw9uv4qiIpU"
      },
      "execution_count": null,
      "outputs": []
    },
    {
      "cell_type": "code",
      "source": [
        "# get cluster embedding {cluster_label: {'total_embeddings': embedding, 'count': 0, 'average_embedding': []}}\n",
        "def get_cluster_embeddings(ids_by_cluster, opinion_embedding_dict):\n",
        "  # iterate through clusters\n",
        "  cluster_embeddings = {}\n",
        "  for cluster_label, opinion_ids in ids_by_cluster.items():\n",
        "    opinion_count = len(opinion_ids)\n",
        "    for opinion_id in opinion_ids:\n",
        "      if cluster_label not in cluster_embeddings:\n",
        "        cluster_embeddings[cluster_label] = {'total_embeddings': opinion_embedding_dict[opinion_id]['aspect embedding'], 'count': opinion_count, 'average_embedding': []}\n",
        "      else:\n",
        "        cluster_embeddings[cluster_label]['total_embeddings'] += opinion_embedding_dict[opinion_id]['aspect embedding']\n",
        "    # # Calculate average embeddings\n",
        "    cluster_embeddings[str(cluster_label)]['average_embedding'] = cluster_embeddings[str(cluster_label)]['total_embeddings'] / cluster_embeddings[str(cluster_label)]['count']\n",
        "\n",
        "  return cluster_embeddings\n",
        "\n",
        "\n",
        "# Compute cosine similarity for every unique pair of clusters\n",
        "def get_similarity_edges(cluster_embeddings, threshold=0.8):\n",
        "  unique_pairs = [(c1, c2) for idx, c1 in enumerate(cluster_embeddings.keys()) for c2 in list(cluster_embeddings.keys())[idx+1:]]\n",
        "\n",
        "  cluster_similarity = {}\n",
        "  for c1, c2 in unique_pairs:\n",
        "      avg_emb1 = cluster_embeddings[c1]['average_embedding'].reshape(1, -1)\n",
        "      avg_emb2 = cluster_embeddings[c2]['average_embedding'].reshape(1, -1)\n",
        "      # Compute cosine similarity and store it in a dictionary with cluster pair as key\n",
        "      cluster_similarity[(str(c1), str(c2))] = cosine_similarity(avg_emb1, avg_emb2)[0][0]\n",
        "\n",
        "  # thresholod\n",
        "  similarity_edges = [cluster_pair for cluster_pair, similarity in cluster_similarity.items() if similarity > threshold]\n",
        "  print('number of similarity edges: ', len(similarity_edges))\n",
        "  return similarity_edges"
      ],
      "metadata": {
        "id": "4PHDzujtsBrL"
      },
      "execution_count": null,
      "outputs": []
    },
    {
      "cell_type": "markdown",
      "metadata": {
        "id": "P3Emzaw8ThjG"
      },
      "source": [
        "# Summarization"
      ]
    },
    {
      "cell_type": "code",
      "execution_count": null,
      "metadata": {
        "id": "vvSNoepc7laq"
      },
      "outputs": [],
      "source": [
        "import os\n",
        "import pandas as pd\n",
        "from itertools import product, islice\n",
        "import json"
      ]
    },
    {
      "cell_type": "code",
      "execution_count": null,
      "metadata": {
        "id": "VtU6wfl1ChtY"
      },
      "outputs": [],
      "source": [
        "# Step 1: Read and Parse the JSON File\n",
        "import json\n",
        "import os\n",
        "import networkx as nx\n",
        "import numpy as np\n",
        "\n",
        "def load_graph(file_path):\n",
        "    with open(file_path, 'r') as f:\n",
        "        data = json.load(f)\n",
        "    G = nx.DiGraph()\n",
        "    for node in data['nodes']:\n",
        "        G.add_node(node['id'], text=node['text'])\n",
        "    for edge in data['edges']:\n",
        "        if edge['type'] == 'explains':\n",
        "            G.add_edge(edge['from'], edge['to'], type='explains')\n",
        "        elif edge['type'] == 'similar' and 'bidirectional' in edge:\n",
        "            G.add_edge(edge['from'], edge['to'], type='similar', bidirectional=True)\n",
        "            G.add_edge(edge['to'], edge['from'], type='similar', bidirectional=True)\n",
        "    return G\n",
        "\n",
        "# Example usage\n",
        "folder_path = '/content/drive/My Drive/ExplainIt/explainit/opinion_canonicalization/yichen_graph_data/'\n",
        "file_path = os.path.join(folder_path, 'test_test_test.json')\n",
        "\n",
        "graph = load_graph(file_path)"
      ]
    },
    {
      "cell_type": "code",
      "execution_count": null,
      "metadata": {
        "id": "knYc1hiwQnn6"
      },
      "outputs": [],
      "source": []
    },
    {
      "cell_type": "code",
      "execution_count": null,
      "metadata": {
        "colab": {
          "base_uri": "https://localhost:8080/"
        },
        "id": "pvRYwtl7Efv-",
        "outputId": "0c7bde34-bd0c-486f-974e-1aa3163dc120"
      },
      "outputs": [
        {
          "output_type": "stream",
          "name": "stdout",
          "text": [
            "{'-1': {'text': ['not good storage place']}, '-2': {'text': ['safe location']}, '-3': {'text': ['very slow internet access']}, '0': {'text': ['quite small room', 'very small room', 'small room size', 'small room']}, '1': {'text': ['great value for money', 'practically unbeatable great value for money']}, '-6': {'text': ['easy accessibility']}, '-7': {'text': ['wrong hotel booking']}, '-8': {'text': ['very soft sheets']}, '2': {'text': ['nice and quite hotel', 'nice and quite location', 'quite nice location']}, '-10': {'text': ['excellent breakfast']}, '-11': {'text': ['last room']}, '-12': {'text': ['refund guests']}, '-13': {'text': ['high 20s temperature']}, '3': {'text': ['comfy bed', 'supper comfy bed']}, '-15': {'text': ['had to share bed']}, '-16': {'text': ['next to sarphatipark']}, '-17': {'text': ['basic clean and affordable hotel']}, '-18': {'text': ['not so close city centre']}, '-19': {'text': ['meant to be 4 star hotel']}, '-20': {'text': ['not so fluent some staffs']}, '-21': {'text': ['dirty carpet']}, '-22': {'text': ['old bathroom']}, '-23': {'text': ['mediocre breakfasts']}, '-24': {'text': ['very quiet property']}, '-25': {'text': ['no apologising inconveniences']}, '4': {'text': ['no parking available parking', 'available parking']}, '5': {'text': ['not sure hotel name usage', 'not sure hotel']}, '-28': {'text': ['health emergency stay']}, '-30': {'text': ['not tidy hotel']}, '-31': {'text': ['non smoking drawing']}, '-32': {'text': ['lovely cafes']}, '6': {'text': ['no proper bar', 'no bar']}, '-34': {'text': ['ripped towel']}, '-35': {'text': ['no kettle amenities']}, '7': {'text': ['not working internet phone', 'not working phone']}, '-37': {'text': ['waste of time sending a request']}, '-38': {'text': ['marked down room']}, '-39': {'text': ['really dirty floor']}, '-40': {'text': ['big spacious clean room']}, '-41': {'text': ['vomits window curtains']}, '-42': {'text': ['heavy bags bags']}, '-43': {'text': ['smoking area roof of the second floor']}, '-44': {'text': ['not get up lobby assistant']}, '-45': {'text': ['tiny rooms']}, '-46': {'text': ['cold room']}, '-47': {'text': ['small ironing board']}, '-48': {'text': ['different room room']}, '-49': {'text': ['huge price hotel']}, '-50': {'text': ['nice breakfast']}, '-51': {'text': ['higher floors']}, '-52': {'text': ['excellent staff handling']}, '-53': {'text': ['expressly ask change']}, '-54': {'text': ['smelly bathrooms']}, '-55': {'text': ['disrupted sleep']}, '8': {'text': ['disaster hotel ambience', 'disaster hotel', 'big disaster hotel']}, '-57': {'text': ['waited lift']}, '9': {'text': ['not connected wifi', 'not manage to get connected wifi']}, '-59': {'text': ['really hot room']}, '-60': {'text': ['did not bother staff']}, '-61': {'text': ['friendly and helpful receptionists']}, '-62': {'text': ['overlooking main road']}, '-63': {'text': ['sweaty room']}, '-64': {'text': ['dirty tights']}, '10': {'text': ['too glasses tea coffee', 'too glasses kettle']}, '-66': {'text': ['poor lighting']}, '11': {'text': ['very good breakfast choice', 'good breakfast']}, '12': {'text': ['quite clean room', 'clean room']}, '-69': {'text': ['great pubs']}, '-70': {'text': ['not on their list booking']}, '-71': {'text': ['clean everything']}, '-72': {'text': ['missing tissues']}, '-73': {'text': ['excellent hotel facilities']}, '-74': {'text': [\"wasn't great tv\"]}, '-75': {'text': ['long check-in time']}, '-76': {'text': ['covered in dust aircon unit']}, '-77': {'text': ['good utilitarian bathroom with shower']}, '-78': {'text': ['lovely reception area']}, '-80': {'text': ['pursue a refund first night']}, '-81': {'text': ['safe area']}, '-82': {'text': ['rarity airconditioner works well']}, '-83': {'text': ['good overall stay']}, '-84': {'text': ['not good enough excuses and apologies']}, '-85': {'text': ['no provision of toiletries amenities']}, '-86': {'text': ['ok for use room']}, '-87': {'text': ['basic room']}, '-88': {'text': ['small rooms']}, '-89': {'text': ['not available internet access']}, '-90': {'text': ['convenient tram ride to centraal station']}, '-91': {'text': ['out all day maintenance']}, '13': {'text': ['comfortable bed', 'very comfortable bed']}, '-93': {'text': ['about 3 stars hotel']}, '-94': {'text': ['locked with a key windows']}, '-95': {'text': [\"wasn't fit room\"]}, '-96': {'text': ['impossible reset']}, '-97': {'text': ['poor design of bath']}, '-98': {'text': ['no heating rooms']}, '-99': {'text': ['need renovation bathrooms']}, '-100': {'text': ['not ready room']}, '-101': {'text': ['cheaper hotel']}, '-102': {'text': ['stuffy rooms']}, '-103': {'text': ['nice district']}, '-104': {'text': ['ok hotel']}, '-105': {'text': ['no fresh juice concentrate juice']}, '-106': {'text': ['worth room']}, '-107': {'text': ['thorn towels']}, '-108': {'text': ['good restaurants']}, '-109': {'text': ['painful wait']}, '-110': {'text': ['poor wifi']}, '-111': {'text': ['slow wifi']}, '-112': {'text': ['functioning room']}, '-113': {'text': ['expensive price']}, '-114': {'text': ['shared roof']}, '-115': {'text': ['complaining single room']}, '-116': {'text': ['removing bar holding that glass']}, '14': {'text': ['hard bed', 'bed bugs bed']}, '-119': {'text': ['down internet']}, '-120': {'text': ['a lot of restaurant bars and shops']}, '-121': {'text': ['close to national museum']}, '-122': {'text': ['smelly room']}, '-123': {'text': ['unhelpful staff']}, '15': {'text': ['great location', 'great central location']}, '-125': {'text': ['ok rooms']}, '16': {'text': ['no tea and coffee making facilities', 'available tea and coffee', 'free tea and coffee', 'no comforts tea coffee facilities', 'no charge tea and coffee']}, '-127': {'text': ['good work guys']}, '-128': {'text': ['full hotel']}, '-129': {'text': ['nice neighbourhood']}, '-130': {'text': ['pleasant property']}, '-131': {'text': ['friendly and helpful receptionist staffs']}, '17': {'text': ['quit working air conditioning', 'not working air conditioning']}, '-133': {'text': ['nicely out of town location']}, '-134': {'text': ['old much used towels']}, '-135': {'text': ['broken tv remote']}, '-136': {'text': ['disaster breakfast']}, '18': {'text': ['poor breakfast', 'poor range breakfast']}, '-138': {'text': ['close to swimming pool']}, '-139': {'text': ['right into city centre']}, '-141': {'text': ['worrying experience']}, '-142': {'text': ['reluctant to unlock front desk']}, '19': {'text': ['good beds', 'good deal']}, '-144': {'text': ['fixed air conditioning']}, '-145': {'text': ['old hotel']}, '-146': {'text': ['exposed beams']}, '-147': {'text': ['dated rooms']}, '-148': {'text': ['four stars themselves']}, '-149': {'text': ['cannot understand hotel rating']}, '20': {'text': ['not 4 stars hotel', '4 stars hotel']}, '-151': {'text': ['little temperature']}, '-153': {'text': ['tired everything']}, '-155': {'text': ['false alarm']}, '-156': {'text': ['double charged credit card']}, '-157': {'text': ['lots of bars restaurants and tram stops']}, '-158': {'text': ['dangerously hot water in shower']}, '-159': {'text': [\"didn't work bed adjustment\"]}, '-160': {'text': ['rough floor in bathroom']}, '-161': {'text': ['anybody can take bag']}, '-162': {'text': ['not allowed cups upstairs']}, '-163': {'text': ['good shower']}, '-164': {'text': [\"doesn't live up to 4 star rating\"]}, '-165': {'text': ['vaguely unpleasant smell']}, '-166': {'text': ['apologized staff']}, '-168': {'text': ['ok croissants']}, '-169': {'text': ['quiet room']}, '-170': {'text': ['prepaid room']}, '-171': {'text': ['apologize manager']}, '-172': {'text': ['able to be accommodated accommodation']}, '-173': {'text': ['good prices']}, '-174': {'text': ['not regulated water in shower']}, '-176': {'text': ['sort out issue']}, '-177': {'text': ['attempted repair']}, '-178': {'text': ['cracked sink']}, '21': {'text': ['lovely and very helpful staff', 'helpful smiling staff', 'very rude staff', 'rude staff', 'helpful staff', 'very helpful staff']}, '-180': {'text': ['clean rooms']}, '-181': {'text': ['lovely receptionist']}, '22': {'text': ['close window', \"wouldn't close properly window\"]}, '-183': {'text': ['walk rai exhibition center']}, '-184': {'text': ['not even 2 stars hotel rating']}, '-185': {'text': ['not tiled bathroom shower floor']}, '-186': {'text': ['right next tram line']}, '-187': {'text': ['tilted outward window']}, '-188': {'text': ['good neighbourhood']}, '-189': {'text': ['souterrain room']}, '-190': {'text': ['disaster room']}, '-191': {'text': ['terrible staff']}, '-192': {'text': ['apologise housekeeping maid']}, '-193': {'text': ['not made up room']}, '23': {'text': ['tiny room', 'tiny room size']}, '-195': {'text': ['pleasant staff']}, '-196': {'text': ['good tv']}, '-197': {'text': ['spotty wifi']}, '-198': {'text': ['not value for money overall experience']}, '-199': {'text': ['bed bugs bite stay']}, '-200': {'text': ['not very clean floor']}, '-201': {'text': ['unprofessional staff response']}, '-202': {'text': [\"didn't come service\"]}, '-204': {'text': ['no information hotel room']}, '-205': {'text': ['missing glasses']}, '-206': {'text': ['in need of a refresh shower toilet']}, '-207': {'text': ['broken air conditioning']}, '-208': {'text': ['functioning electricity and phone']}, '-210': {'text': ['nice and hot water']}, '24': {'text': ['clean and tidy room', 'clean and cozy room']}, '25': {'text': ['sticky floor', 'sticky wet lift floor']}, '-214': {'text': ['broke down magnifying glass']}, '-215': {'text': ['wet floor feet']}, '-217': {'text': [\"couldn't have a cup of hot tea in-room tea facilities\"]}, '-218': {'text': ['cigarette butts around']}, '-219': {'text': ['beautifully ironed curtains']}, '-220': {'text': ['cracks washbasin']}, '-221': {'text': ['not so far distance from city']}, '-222': {'text': ['pretty safe, quiet but vibrant area']}, '-223': {'text': ['difficult city sights']}, '-224': {'text': ['no issues overall experience']}, '-225': {'text': ['ready new room']}, '26': {'text': ['super friendly staff', 'friendly staff']}, '-227': {'text': ['has to work wifi']}, '-228': {'text': ['cold experience']}, '-229': {'text': ['smallest twin room']}, '-230': {'text': ['not so far from the center location']}, '-231': {'text': ['dripped water']}, '-232': {'text': ['disgraceful staff']}, '-233': {'text': ['saw cobwebs corners']}, '-234': {'text': ['close to metro stop restaurants and shops location']}, '-235': {'text': ['nice installations']}, '-238': {'text': ['given to someone else room']}, '-239': {'text': ['4 star price']}, '-240': {'text': ['forget wifi room']}, '-241': {'text': ['covered in white noises rest']}, '-242': {'text': ['dripped water air conditioner']}, '-243': {'text': ['could see name']}, '-245': {'text': ['most certainly not be staying savoy hotel']}, '-246': {'text': ['had stains bedding']}, '-247': {'text': ['wanted to shower room']}, '-248': {'text': ['next to a police station hotel']}, '-250': {'text': ['get 4 stars place']}, '-251': {'text': ['could have a list of tips staff']}, '-252': {'text': ['cold shower']}, '-253': {'text': ['expensive hotel']}, '-254': {'text': ['needed carpets']}, '-255': {'text': ['finally coming to enter lobby assistant']}, '-256': {'text': ['disable alarm']}, '-257': {'text': ['slow internet']}, '-258': {'text': ['bad bathroom']}, '-259': {'text': ['stains table furniture']}, '-260': {'text': ['large bed']}, '27': {'text': ['very good location', 'good location', 'good location location']}, '-262': {'text': ['poor reception tv']}, '-263': {'text': ['confusion customer document handling']}, '-264': {'text': ['offensive language']}, '-265': {'text': ['like an oven hotel']}, '-266': {'text': ['not be using booking method']}, '-267': {'text': ['terrific public transport']}, '-269': {'text': ['intense conversation with administrator']}, '-271': {'text': ['extra checkout amount']}, '-273': {'text': ['spot on staff']}, '-274': {'text': ['empty bedroom fridge bar']}, '-275': {'text': ['walked out guests']}, '-276': {'text': ['very noisy room']}, '-277': {'text': ['nice rooms']}, '-278': {'text': [\"could've hurt pieces of metal around edging\"]}, '-279': {'text': ['moved other room']}, '-281': {'text': ['basement room']}, '-282': {'text': ['keeps the riff raff at bay property']}, '-283': {'text': ['not know hotel']}, '-284': {'text': ['extra hours room']}, '-285': {'text': ['clear channels']}, '-286': {'text': ['no breakfast hotel']}, '-287': {'text': ['broken lamp']}, '-288': {'text': ['watered down juice concentrate']}, '-289': {'text': ['easy to get to town centre']}, '-291': {'text': ['not available room']}, '-292': {'text': ['with a buggy family']}, '-293': {'text': ['difficult to close external door']}, '-294': {'text': ['another room room change process']}, '-295': {'text': ['stolen magnifying glass']}, '-296': {'text': ['know nothing problem']}, '-297': {'text': ['disaster service']}, '-298': {'text': ['warm shower']}, '-299': {'text': ['badly working air conditioning']}, '-301': {'text': ['warranted accommodations']}, '-302': {'text': ['charged twice hotel']}, '-303': {'text': ['not a big issue bed request']}, '-304': {'text': ['clean n tidy hotel']}, '-305': {'text': ['no authority controlling hotel name usage']}, '-307': {'text': ['disaster property management']}, '-308': {'text': ['good comfortable and clean accommodation']}, '-309': {'text': ['two single beds']}, '-310': {'text': ['small bathroom']}, '-312': {'text': ['reasonably close airport']}, '-313': {'text': [\"should've been a twin room type\"]}, '-314': {'text': ['expecting queen size bed']}, '-315': {'text': ['too much stars']}, '-316': {'text': ['done everyday beds towels']}, '-317': {'text': ['right next door police station']}, '-318': {'text': ['broke window']}, '-319': {'text': ['better room']}, '-320': {'text': ['horrible looking']}, '-321': {'text': ['repeatedly telling staff']}, '-322': {'text': ['worn and old decor']}, '-323': {'text': [\"wasn't great finish in the room\"]}, '-324': {'text': ['needs a good refurbish and modernisation hotel']}, '-325': {'text': ['trapped passport and other valuables']}, '-326': {'text': ['all night my bed']}, '-327': {'text': ['malfunctioned safe']}, '-328': {'text': [\"wasn't working aircon\"]}, '-329': {'text': ['helpful receptionist']}, '-330': {'text': ['uncomfortably hot room']}, '-331': {'text': ['two single bed']}, '-332': {'text': ['dripping ac']}, '-333': {'text': ['returned money']}, '-334': {'text': ['given room with 1 bed']}, '-335': {'text': ['beautiful and vibrant neighborhood']}, '-336': {'text': ['not available pre request']}, '-337': {'text': ['weird mat']}, '28': {'text': ['broken window lock', 'broken window']}, '-339': {'text': ['lovely shops']}, '-340': {'text': ['dust surfaces']}, '-341': {'text': ['4 star hotel']}, '-342': {'text': ['fine everything']}, '-343': {'text': ['dirty nightstand']}, '-344': {'text': ['slanted ceiling']}, '-345': {'text': ['lots of restaurants']}, '-346': {'text': ['unable to sleep older family member']}, '-347': {'text': ['not renovated hotel']}, '-349': {'text': ['far more price']}, '-350': {'text': ['no restaurant or bar hotel amenities']}, '-351': {'text': ['very cold room temperature']}, '-352': {'text': ['broken lights']}, '-353': {'text': [\"didn't work air con\"]}, '-354': {'text': ['reasonably close downtown']}, '-356': {'text': ['concrete floor']}, '-357': {'text': ['clean facilities']}, '-358': {'text': ['shrugged staff attitude']}, '-359': {'text': ['basic hotel']}, '-360': {'text': ['terrible customer service']}, '-361': {'text': ['lost credit card slip']}, '-362': {'text': ['good weather']}, '-363': {'text': ['unfriendly facilities']}, '-364': {'text': [\"couldn't flush toilet\"]}, '-365': {'text': ['only soap bathroom amenities']}, '-366': {'text': ['not at all helpful staff']}, '-367': {'text': ['could have been better cleaning']}, '-368': {'text': ['visible stains']}, '-369': {'text': ['with bags myself']}, '-370': {'text': ['unmaintained hotel']}, '-371': {'text': ['no slippers slippers']}, '-372': {'text': ['no repairs carried out issues']}, '-373': {'text': ['easy to access hotel']}, '29': {'text': ['poor hotel', 'very poor hotel']}, '-375': {'text': ['child size bed']}, '-377': {'text': ['what to do tourism material']}, '-378': {'text': ['has bed bugs hotel']}, '-379': {'text': ['caused allergies hotel']}, '-380': {'text': ['mistaken staff']}, '-381': {'text': ['smoking joints people']}, '-383': {'text': ['happy to help staff']}, '-384': {'text': ['total mess invoices']}, '-385': {'text': ['lots of bars']}, '-386': {'text': ['not re washed room']}, '-387': {'text': ['disaster bed']}, '-388': {'text': ['convenient location']}, '-389': {'text': ['easily accessible hotel']}, '-391': {'text': ['disconnected often internet']}, '-392': {'text': ['broken air conditioner unit']}, '-393': {'text': ['lovely restaurants']}, '-394': {'text': ['not great shampoo']}, '-395': {'text': ['not generous size rooms']}, '-396': {'text': ['unbearably warm room']}, '-397': {'text': ['dirty room']}, '-398': {'text': ['pleasant walk']}, '-399': {'text': ['a little way out location']}, '-400': {'text': ['lucky telephone']}, '-401': {'text': ['quite some time checkout']}, '-402': {'text': ['walking distance location']}, '-403': {'text': ['too much breakfast']}, '-404': {'text': ['broken lamps']}, '-405': {'text': ['maintain a degree of safety window']}, '-406': {'text': ['very efficient air conditioning']}, '-407': {'text': ['6pm maintenance man']}, '-408': {'text': ['leaning light']}, '-409': {'text': ['overcharged amount']}, '-410': {'text': ['disappointment hotel']}, '-411': {'text': ['insensitive smell of smoking']}, '-412': {'text': ['welcome bottle of water']}, '-413': {'text': ['stale smell']}, '-414': {'text': ['no tea coffee or mini room amenities']}, '-415': {'text': ['excellent location']}, '-416': {'text': ['no apologies problems']}, '-417': {'text': ['just had a small chair']}, '-418': {'text': ['worn down furnishings']}, '-419': {'text': ['not comfortable room']}, '-420': {'text': ['interigation room']}, '-421': {'text': ['loud drunk group of men']}, '30': {'text': [\"wouldn't open window\", 'open window']}, '-424': {'text': ['close to city center hotel']}, '-426': {'text': ['great restaurants']}, '-427': {'text': ['poor soap']}, '-428': {'text': ['very warm room']}, '-429': {'text': ['loads of parking on the street parking']}, '-431': {'text': ['conveniently located property']}, '-432': {'text': ['lots of good restaurants and cafes nearby']}, '-435': {'text': ['walking distance to vondelpark']}, '-436': {'text': ['had to shower in flip flops experience']}, '-437': {'text': ['malfunctioning heat warming']}, '-438': {'text': ['mortuary welcome']}, '-441': {'text': ['single beds with wheels bed']}, '-442': {'text': ['too high cost']}, '-444': {'text': ['terrible wifi']}, '-445': {'text': ['broken ac']}, '-446': {'text': ['damaged fixtures and fittings']}, '-447': {'text': ['excellent comfortable beds']}, '-448': {'text': ['adequate rooms']}, '-449': {'text': ['immaculate bedding']}, '-450': {'text': ['dirty blankets']}, '-451': {'text': ['dirty bathroom']}, '-453': {'text': [\"should've had a sofa room furniture\"]}, '-454': {'text': ['upgraded room']}, '-455': {'text': ['broken air con']}, '-456': {'text': ['small lounge']}, '-458': {'text': ['very comfortable beds']}, '-459': {'text': ['recovered safe and sound all']}, '-460': {'text': ['hardly deserves one star hotel']}, '-461': {'text': ['did not work bed controls']}, '-462': {'text': ['extremely crumpled and creased curtains']}, '-463': {'text': ['tiny note']}, '-465': {'text': ['polite staff']}, '-466': {'text': ['not have luggage tags luggage storage']}, '-467': {'text': ['left behind water bucket']}, '-470': {'text': ['miniature double bed']}, '-472': {'text': ['zero star property']}, '-473': {'text': ['decent enough location']}, '-474': {'text': ['bleach marks carpet']}, '-475': {'text': ['requested and reserved room with 2 beds']}, '-476': {'text': ['not working facilities']}, '-477': {'text': ['walkable city centre']}, '-478': {'text': ['no lotion']}, '-479': {'text': ['handled most of the conversation from her seat 3 meters away lobby assistant']}, '-480': {'text': ['quite hot room']}, '-481': {'text': ['not puzzled reception staff']}, '-482': {'text': ['no kettle room']}, '-483': {'text': [\"wasn't working a c\"]}, '-484': {'text': ['old dated facilities']}, '-485': {'text': ['comfortable hotel']}}\n"
          ]
        }
      ],
      "source": [
        "# Get all nodes with their attributes\n",
        "node_dict = dict(graph.nodes(data=True))\n",
        "\n",
        "# Printing the dictionary to see its contents\n",
        "print(node_dict)"
      ]
    },
    {
      "cell_type": "code",
      "execution_count": null,
      "metadata": {
        "colab": {
          "base_uri": "https://localhost:8080/"
        },
        "id": "CaKdqUe4Mh-C",
        "outputId": "89072b35-8bc5-4597-e4e6-b8f2a738c5c1"
      },
      "outputs": [
        {
          "output_type": "stream",
          "name": "stdout",
          "text": [
            "['The hotel has quite small room.', 'The hotel has very small room.', 'The hotel has small room size.', 'The hotel has small room.']\n"
          ]
        }
      ],
      "source": [
        "test = ['The hotel has ' + opinion + '.' for opinion in node_dict['0']['text']]\n",
        "print(test)"
      ]
    },
    {
      "cell_type": "code",
      "source": [
        "from transformers import pipeline"
      ],
      "metadata": {
        "id": "yHAQpOCGVtUq"
      },
      "execution_count": null,
      "outputs": []
    },
    {
      "cell_type": "code",
      "execution_count": null,
      "metadata": {
        "id": "XDmNry_XK1aq",
        "colab": {
          "base_uri": "https://localhost:8080/",
          "height": 209,
          "referenced_widgets": [
            "f54a9518d2a7443987785db497b59ea7",
            "413921d4b8a44d3096ffb80f3f54ade8",
            "e3a676e17e784c09a2e996ba493a6009",
            "8c02cba4ba1f4d9aa2f02efae8888fb3",
            "1c7a05f2bfd7422cb2296302e66d3acd",
            "36757635ec2a4bfda650dc917eafa37d",
            "17a0439dede047c2b624a3af3ad190dd",
            "956f5598b5c04aa09fdee813f9e4a59a",
            "90c1690427564d858281882e1b7ba78e",
            "92d9e03d658547a088f18d13f75114a1",
            "c4f2459446fa45cbb2edb9e0b460e0a3",
            "5e38e7d0955d48d0b44a473cb2258990",
            "295c1e8b56f84c04a9ec2f1ab5bf9cd9",
            "335710649eec4c4cb1055000bff1c57c",
            "2c11061365bf4b1da85de3d86bf7b7e3",
            "099471bd540e4e6aa67052a3c94d1764",
            "b505814ed51448b0a3295c454c20b1fe",
            "22017b5553a74dd4b7bf81574c453e2f",
            "42cfcf45d2404d509286a5e728739522",
            "d7741a047fb442f8ab2e38b7294e5b48",
            "cea792442391435eb204f7d1eb7170b4",
            "9531913ed5db4174899188a7149147ff",
            "de421ed6b860491896b2a7af2b982594",
            "5c1097cf1e954731bb4984942795058f",
            "f9da2d90b4354ef8bd230e0e0cdc1595",
            "441323bcd8ea432099b79ab2f35b1c6c",
            "edcd8fa276524f93af978773ec2af286",
            "8c5aa0d5eba040c8878aa809ff4745b3",
            "aa4687f43581494cb392b9b80a97b247",
            "bcc8986fbf2d4ea0ba2842a77fb28714",
            "a09c822430604019a0ee8cb0416ca9ba",
            "bd9b7ae2dc5147d3ac46584f1544a10d",
            "45465acb2ae84dd585c932135c0f9525",
            "3fc4592c37254a0b90913ed1686bc866",
            "45b48177335a4715ad6bd53d053b2f10",
            "7d39c88977d041ceaf5a78b7672ec0a9",
            "9b561fc7c5224296bbc5de1be7cb1d11",
            "2faa84b4d57e48b08ee489831522e2e7",
            "1fc0ef723e3d4bfcb2c33ef39d093107",
            "d311e3aef05e44b28f651ee7dbd643c3",
            "d92628b3da93477ca6530480473603dd",
            "b3976cbb48f64e418d82124c53c418c8",
            "0eef4ca5b643426ca134bce99cb0a9dc",
            "b9bc4c17db874a12aaf7a3b11cd7d066",
            "4c44d93bf64c40f29cc269414c0e9c53",
            "330c39fe11f944e597c0d4ae6a57580f",
            "afdd1cfc5336494a960ad4815b4e1083",
            "05e323788ca94d9c8d14aea7b0d0ff07",
            "7ad3c2f257ef48e0b023b463d48f4b7f",
            "f1fc6abd304e40f98725983aed62cb12",
            "58ed5c9f4fcd4058a3836d2152788f63",
            "ceefd984026a4398b076d3957e564edb",
            "f3f7bead54d34ad2a0c0231595e029a2",
            "37c09cebfd00429487f800c327a2f950",
            "8abfdf5bef16478db436cebd9cfffa1c",
            "a22bdfaa2faf4ac98f44953a973c95b7",
            "d41a7d77035440f9895d2114ec0ea038",
            "6fe738303a5b4d238b5b1f20dabb14e5",
            "201fa2c684bf4783ae79e81a7ddbf9e0",
            "abb5b13b77d74f3880b8308c65bff09c",
            "35425d1ec87c4b608e25f9be52a2b285",
            "6545bcca003e4cbc8c10c7f30cb4c122",
            "b5ed2a5dbbf24e31abd1ecc418fc4c0b",
            "889f9eb682ac45dd87d87da84e925c76",
            "b351212273cb4788b60d2d83e4152616",
            "04fddabeff824cbda0767905cca4c226"
          ]
        },
        "outputId": "ce14b93b-9c67-462a-a646-9b4961f51de2"
      },
      "outputs": [
        {
          "output_type": "display_data",
          "data": {
            "text/plain": [
              "config.json:   0%|          | 0.00/1.58k [00:00<?, ?B/s]"
            ],
            "application/vnd.jupyter.widget-view+json": {
              "version_major": 2,
              "version_minor": 0,
              "model_id": "f54a9518d2a7443987785db497b59ea7"
            }
          },
          "metadata": {}
        },
        {
          "output_type": "display_data",
          "data": {
            "text/plain": [
              "model.safetensors:   0%|          | 0.00/1.63G [00:00<?, ?B/s]"
            ],
            "application/vnd.jupyter.widget-view+json": {
              "version_major": 2,
              "version_minor": 0,
              "model_id": "5e38e7d0955d48d0b44a473cb2258990"
            }
          },
          "metadata": {}
        },
        {
          "output_type": "display_data",
          "data": {
            "text/plain": [
              "generation_config.json:   0%|          | 0.00/363 [00:00<?, ?B/s]"
            ],
            "application/vnd.jupyter.widget-view+json": {
              "version_major": 2,
              "version_minor": 0,
              "model_id": "de421ed6b860491896b2a7af2b982594"
            }
          },
          "metadata": {}
        },
        {
          "output_type": "display_data",
          "data": {
            "text/plain": [
              "vocab.json:   0%|          | 0.00/899k [00:00<?, ?B/s]"
            ],
            "application/vnd.jupyter.widget-view+json": {
              "version_major": 2,
              "version_minor": 0,
              "model_id": "3fc4592c37254a0b90913ed1686bc866"
            }
          },
          "metadata": {}
        },
        {
          "output_type": "display_data",
          "data": {
            "text/plain": [
              "merges.txt:   0%|          | 0.00/456k [00:00<?, ?B/s]"
            ],
            "application/vnd.jupyter.widget-view+json": {
              "version_major": 2,
              "version_minor": 0,
              "model_id": "4c44d93bf64c40f29cc269414c0e9c53"
            }
          },
          "metadata": {}
        },
        {
          "output_type": "display_data",
          "data": {
            "text/plain": [
              "tokenizer.json:   0%|          | 0.00/1.36M [00:00<?, ?B/s]"
            ],
            "application/vnd.jupyter.widget-view+json": {
              "version_major": 2,
              "version_minor": 0,
              "model_id": "a22bdfaa2faf4ac98f44953a973c95b7"
            }
          },
          "metadata": {}
        }
      ],
      "source": [
        "# Load the model once\n",
        "summarizer = pipeline(\"summarization\", model=\"facebook/bart-large-cnn\")"
      ]
    },
    {
      "cell_type": "code",
      "execution_count": null,
      "metadata": {
        "id": "DVk_FEF3HlAo"
      },
      "outputs": [],
      "source": [
        "def generate_supernode_summary(opinions):\n",
        "    # Prepare the text by concatenating all opinions\n",
        "    concatenated_text = \" \".join(opinions) + \".\"\n",
        "    print(concatenated_text)\n",
        "    # Generate summary\n",
        "    summary = summarizer(concatenated_text, max_length=10, min_length=2, do_sample=False)  # Adjust max_length and min_length as needed\n",
        "\n",
        "    return summary[0]['summary_text']"
      ]
    },
    {
      "cell_type": "code",
      "execution_count": null,
      "metadata": {
        "id": "um2VtAiWKUpk"
      },
      "outputs": [],
      "source": []
    },
    {
      "cell_type": "code",
      "execution_count": null,
      "metadata": {
        "colab": {
          "base_uri": "https://localhost:8080/",
          "height": 52
        },
        "id": "FTXlBoubH4a_",
        "outputId": "b28563cc-c5a0-4dc3-d014-527aa09ddb31"
      },
      "outputs": [
        {
          "output_type": "stream",
          "name": "stdout",
          "text": [
            "The hotel has quite small room. The hotel has very small room. The hotel has small room size. The hotel has small room..\n"
          ]
        },
        {
          "output_type": "execute_result",
          "data": {
            "text/plain": [
              "'The hotel has quite small room.'"
            ],
            "application/vnd.google.colaboratory.intrinsic+json": {
              "type": "string"
            }
          },
          "metadata": {},
          "execution_count": 186
        }
      ],
      "source": [
        "generate_supernode_summary(test)"
      ]
    },
    {
      "cell_type": "code",
      "execution_count": null,
      "metadata": {
        "colab": {
          "base_uri": "https://localhost:8080/"
        },
        "id": "GNjH8twuGAbD",
        "outputId": "3be13ca3-e652-429c-9a1b-c46194df8dbd"
      },
      "outputs": [
        {
          "output_type": "stream",
          "name": "stderr",
          "text": [
            "Your max_length is set to 10, but your input_length is only 7. Since this is a summarization task, where outputs shorter than the input are typically wanted, you might consider decreasing max_length manually, e.g. summarizer('...', max_length=3)\n"
          ]
        },
        {
          "output_type": "stream",
          "name": "stdout",
          "text": [
            "not good storage place.\n"
          ]
        },
        {
          "output_type": "stream",
          "name": "stderr",
          "text": [
            "Your max_length is set to 10, but your input_length is only 5. Since this is a summarization task, where outputs shorter than the input are typically wanted, you might consider decreasing max_length manually, e.g. summarizer('...', max_length=2)\n"
          ]
        },
        {
          "output_type": "stream",
          "name": "stdout",
          "text": [
            "Not good storage place. not good\n",
            "safe location.\n"
          ]
        },
        {
          "output_type": "stream",
          "name": "stderr",
          "text": [
            "Your max_length is set to 10, but your input_length is only 7. Since this is a summarization task, where outputs shorter than the input are typically wanted, you might consider decreasing max_length manually, e.g. summarizer('...', max_length=3)\n"
          ]
        },
        {
          "output_type": "stream",
          "name": "stdout",
          "text": [
            "A. safe location. is a\n",
            "very slow internet access.\n",
            "very slow internet access. very slow\n",
            "quite small room very small room small room size small room.\n",
            " quite small room very small room small\n",
            "great value for money practically unbeatable great value for money.\n"
          ]
        },
        {
          "output_type": "stream",
          "name": "stderr",
          "text": [
            "Your max_length is set to 10, but your input_length is only 5. Since this is a summarization task, where outputs shorter than the input are typically wanted, you might consider decreasing max_length manually, e.g. summarizer('...', max_length=2)\n"
          ]
        },
        {
          "output_type": "stream",
          "name": "stdout",
          "text": [
            "Great value for money. practically unbeat\n",
            "easy accessibility.\n",
            "The Daily Mail is committed to providing\n",
            "Not good storage place. not good. A. safe location. is a. very slow internet access. very slow.  quite small room very small room small. Great value for money. practically unbeat. The Daily Mail is committed to providing. \n"
          ]
        }
      ],
      "source": [
        "summarization = ''\n",
        "count = 0\n",
        "for cluster_label, attribute_dict in node_dict.items():\n",
        "  supernode_summary = generate_supernode_summary(attribute_dict['text'])\n",
        "  summarization += supernode_summary + '. '\n",
        "  print(supernode_summary)\n",
        "  if count == 5:\n",
        "    break\n",
        "  count += 1\n",
        "\n",
        "print(summarization)\n"
      ]
    },
    {
      "cell_type": "code",
      "execution_count": null,
      "metadata": {
        "colab": {
          "base_uri": "https://localhost:8080/"
        },
        "id": "2LyeiEahJdui",
        "outputId": "6f187a73-ab9e-41b7-b069-0291dae15af1"
      },
      "outputs": [
        {
          "data": {
            "text/plain": [
              "{'text': ['quite complicated entry',\n",
              "  'narrow Smell',\n",
              "  'clean room',\n",
              "  'dirty chairs',\n",
              "  'very noisy curtain',\n",
              "  'very stained Carpet',\n",
              "  'very dry Ventilation system',\n",
              "  'quiet view',\n",
              "  'not consistently clean Rooms',\n",
              "  'too short Hairdryer',\n",
              "  'true cleaning',\n",
              "  'Dirty floors',\n",
              "  'Bad garbage smell',\n",
              "  'transparent lock',\n",
              "  'bad smell',\n",
              "  'Clogged drain',\n",
              "  'smelly entrance',\n",
              "  'Clean reach',\n",
              "  'Clean new',\n",
              "  'quiet neighborhood',\n",
              "  'narrow labyrinth',\n",
              "  'damaged chairs',\n",
              "  'very noisy Ventilation',\n",
              "  'Light gray carpet',\n",
              "  'noisy noise',\n",
              "  'very dry air',\n",
              "  'quiet surrounding',\n",
              "  'bad entrance',\n",
              "  'very upsetting spider web',\n",
              "  'Dirty carpet',\n",
              "  'very clean rooms',\n",
              "  'wasn t ready for check',\n",
              "  'transparent door',\n",
              "  'broken mirror safe',\n",
              "  'Filthy carpet',\n",
              "  'poor decor',\n",
              "  'a bit challenging door',\n",
              "  'very clean room',\n",
              "  'cleanless staff']}"
            ]
          },
          "execution_count": 40,
          "metadata": {},
          "output_type": "execute_result"
        }
      ],
      "source": [
        "node_dict['0']"
      ]
    },
    {
      "cell_type": "code",
      "execution_count": null,
      "metadata": {
        "id": "9bzH-vwtHkm_"
      },
      "outputs": [],
      "source": []
    },
    {
      "cell_type": "code",
      "execution_count": null,
      "metadata": {
        "id": "t_3O5kGnHkXZ"
      },
      "outputs": [],
      "source": []
    },
    {
      "cell_type": "code",
      "execution_count": null,
      "metadata": {
        "colab": {
          "base_uri": "https://localhost:8080/"
        },
        "id": "3VQWe6OexUM9",
        "outputId": "2f734ed8-98f9-44aa-cb69-3ff27095a51d"
      },
      "outputs": [
        {
          "name": "stdout",
          "output_type": "stream",
          "text": [
            "Generated Summary: Comfortable beds and incredibly comfortable bed\n"
          ]
        }
      ],
      "source": [
        "from transformers import pipeline\n",
        "\n",
        "# Prepare the text by concatenating all opinions\n",
        "opinions = [\n",
        "    'really soft bed', 'very comfy Beds', 'so soft bed', 'somewhat soft Mattresses',\n",
        "    'very comfy Bed', 'massive Pillows', 'Very soft bed', 'large Pillows',\n",
        "    'very upsetting bed bugs', 'Comfortable bed', 'comfortable beds', 'super comfy bed',\n",
        "    'not fixed together Bed', 'thick Pillows', 'Comfortable beds', 'incredibly comfortable bed',\n",
        "    'Excellent comfort', 'little uncomfortable beds', 'MOST COMFORTABLE bed', 'firmest mattress',\n",
        "    'austere Mattresses', 'a little small bed', 'massive blanket', 'very comfortable bed',\n",
        "    'uncomfortable twin', 'Good beds', 'not fixed together beds'\n",
        "]\n",
        "concatenated_text = \" and \".join(opinions) + \".\"\n",
        "\n",
        "# Load a pre-trained summarization model\n",
        "summarizer = pipeline(\"summarization\", model=\"facebook/bart-large-cnn\")\n",
        "\n",
        "# Generate summary\n",
        "summary = summarizer(concatenated_text, max_length=10, min_length=2, do_sample=False)\n",
        "\n",
        "# Print the summary\n",
        "print(\"Generated Summary:\", summary[0]['summary_text'])"
      ]
    },
    {
      "cell_type": "code",
      "execution_count": null,
      "metadata": {
        "id": "qN7BjGdyN4h9"
      },
      "outputs": [],
      "source": []
    },
    {
      "cell_type": "code",
      "execution_count": null,
      "metadata": {
        "id": "9ufjUI59OEyB"
      },
      "outputs": [],
      "source": [
        "import torch"
      ]
    },
    {
      "cell_type": "code",
      "execution_count": null,
      "metadata": {
        "colab": {
          "base_uri": "https://localhost:8080/"
        },
        "id": "SL13pmM3Onb-",
        "outputId": "73900324-df12-42ef-eabc-b2ed2fe97103"
      },
      "outputs": [
        {
          "name": "stdout",
          "output_type": "stream",
          "text": [
            "BaseModelOutputWithPoolingAndCrossAttentions(last_hidden_state=tensor([[[-0.2045, -0.0853, -0.4050,  ..., -0.4103,  0.0547,  0.7557],\n",
            "         [-0.0907,  0.3704, -0.9859,  ..., -0.2916,  0.6848,  0.3025],\n",
            "         [-0.3005, -0.0270,  0.0771,  ..., -0.1201,  0.1028, -0.1227],\n",
            "         [-0.4421, -0.4532, -0.3993,  ...,  0.2128, -0.0287,  0.2489],\n",
            "         [ 1.0128, -0.1571, -0.5408,  ...,  0.2227, -0.9428, -0.2311]],\n",
            "\n",
            "        [[-0.3138,  0.0128, -0.4682,  ..., -0.4795,  0.0673,  0.6303],\n",
            "         [-0.1270,  0.2887, -0.7243,  ..., -0.2770,  0.6182,  0.3272],\n",
            "         [-0.2577, -0.0137, -0.0250,  ..., -0.2545,  0.2426,  0.0174],\n",
            "         [-0.1964, -0.4675, -0.7283,  ...,  0.1445,  0.1114, -0.2495],\n",
            "         [ 1.0045, -0.1098, -0.4837,  ...,  0.2497, -0.8422, -0.1524]],\n",
            "\n",
            "        [[-0.3265,  0.1328, -0.4477,  ..., -0.3946,  0.0880,  0.6719],\n",
            "         [-0.0544,  0.3507, -0.7276,  ..., -0.2226,  0.6593,  0.4186],\n",
            "         [-0.2678,  0.1388, -0.0297,  ..., -0.0587,  0.1879, -0.0016],\n",
            "         [-0.0725, -0.0565, -0.4946,  ...,  0.2222,  0.0895, -0.1605],\n",
            "         [ 0.9636, -0.1492, -0.5451,  ...,  0.2429, -0.8877, -0.1765]]],\n",
            "       grad_fn=<NativeLayerNormBackward0>), pooler_output=tensor([[-0.8788, -0.3904, -0.3374,  ..., -0.5499, -0.6464,  0.8908],\n",
            "        [-0.8963, -0.4273, -0.4356,  ..., -0.6073, -0.6732,  0.8996],\n",
            "        [-0.9010, -0.4681, -0.5635,  ..., -0.6652, -0.7181,  0.9061]],\n",
            "       grad_fn=<TanhBackward0>), hidden_states=None, past_key_values=None, attentions=None, cross_attentions=None)\n"
          ]
        }
      ],
      "source": [
        "print(output)"
      ]
    },
    {
      "cell_type": "code",
      "execution_count": null,
      "metadata": {
        "colab": {
          "base_uri": "https://localhost:8080/"
        },
        "id": "2lyOeyCzPZW1",
        "outputId": "ca60cc38-5640-4154-ea93-5fef30fb625f"
      },
      "outputs": [
        {
          "output_type": "stream",
          "name": "stdout",
          "text": [
            "Requirement already satisfied: nltk in /usr/local/lib/python3.10/dist-packages (3.8.1)\n",
            "Requirement already satisfied: click in /usr/local/lib/python3.10/dist-packages (from nltk) (8.1.7)\n",
            "Requirement already satisfied: joblib in /usr/local/lib/python3.10/dist-packages (from nltk) (1.4.0)\n",
            "Requirement already satisfied: regex>=2021.8.3 in /usr/local/lib/python3.10/dist-packages (from nltk) (2023.12.25)\n",
            "Requirement already satisfied: tqdm in /usr/local/lib/python3.10/dist-packages (from nltk) (4.66.2)\n"
          ]
        }
      ],
      "source": [
        "pip install nltk\n"
      ]
    },
    {
      "cell_type": "code",
      "execution_count": null,
      "metadata": {
        "colab": {
          "base_uri": "https://localhost:8080/"
        },
        "id": "Tzq0ufwGPbXG",
        "outputId": "25abc099-0ad9-4d6c-fe31-23806c14e77d"
      },
      "outputs": [
        {
          "output_type": "stream",
          "name": "stderr",
          "text": [
            "[nltk_data] Downloading package punkt to /root/nltk_data...\n",
            "[nltk_data]   Package punkt is already up-to-date!\n",
            "[nltk_data] Downloading package stopwords to /root/nltk_data...\n",
            "[nltk_data]   Unzipping corpora/stopwords.zip.\n",
            "[nltk_data] Downloading package wordnet to /root/nltk_data...\n"
          ]
        }
      ],
      "source": [
        "import nltk\n",
        "from nltk.corpus import stopwords\n",
        "from nltk.stem import WordNetLemmatizer\n",
        "from nltk.tokenize import word_tokenize\n",
        "from collections import Counter\n",
        "\n",
        "nltk.download('punkt')\n",
        "nltk.download('stopwords')\n",
        "nltk.download('wordnet')\n",
        "\n",
        "stop_words = set(stopwords.words('english'))\n",
        "lemmatizer = WordNetLemmatizer()\n",
        "\n",
        "def preprocess(text):\n",
        "    words = word_tokenize(text.lower())\n",
        "    filtered_words = [lemmatizer.lemmatize(word) for word in words if word.isalnum() and word not in stop_words]\n",
        "    return filtered_words\n",
        "\n"
      ]
    },
    {
      "cell_type": "code",
      "execution_count": null,
      "metadata": {
        "id": "o7bn0IO2Ps8H"
      },
      "outputs": [],
      "source": [
        "# Apply preprocessing to each opinion\n",
        "opinions = node_dict['10']['text']\n",
        "processed_opinions = [preprocess(opinion) for opinion in opinions]"
      ]
    },
    {
      "cell_type": "code",
      "execution_count": null,
      "metadata": {
        "colab": {
          "base_uri": "https://localhost:8080/"
        },
        "id": "IalnVjALPdqr",
        "outputId": "abb918ff-cde6-427d-8152-925247a81d4d"
      },
      "outputs": [
        {
          "output_type": "stream",
          "name": "stdout",
          "text": [
            "Summary: glass tea\n"
          ]
        }
      ],
      "source": [
        "# Flatten the list of words and count occurrences\n",
        "all_words = [word for sublist in processed_opinions for word in sublist]\n",
        "word_counts = Counter(all_words)\n",
        "\n",
        "# Get the first two most common words and create a summary\n",
        "top_two_words = word_counts.most_common(2)\n",
        "summary = ' '.join(word for word, count in top_two_words)\n",
        "\n",
        "print(\"Summary:\", summary)\n"
      ]
    },
    {
      "cell_type": "code",
      "execution_count": null,
      "metadata": {
        "id": "Gxx8WsolbYXg"
      },
      "outputs": [],
      "source": []
    },
    {
      "cell_type": "markdown",
      "source": [
        "### FUCK"
      ],
      "metadata": {
        "id": "_FJnaJbEuyn7"
      }
    },
    {
      "cell_type": "code",
      "execution_count": null,
      "metadata": {
        "colab": {
          "base_uri": "https://localhost:8080/"
        },
        "id": "mCNghb2BelzO",
        "outputId": "842c1361-a6c5-405c-ab5b-ae5e6e9f82c6"
      },
      "outputs": [
        {
          "name": "stderr",
          "output_type": "stream",
          "text": [
            "100%|██████████| 1/1 [00:12<00:00, 12.85s/it]"
          ]
        },
        {
          "name": "stdout",
          "output_type": "stream",
          "text": [
            "Execution time: 0 hours, 0 minutes, 12 seconds\n"
          ]
        },
        {
          "name": "stderr",
          "output_type": "stream",
          "text": [
            "\n"
          ]
        }
      ],
      "source": [
        "# start_time = time.time()\n",
        "# edges_extracted_data = []\n",
        "# for i, review in enumerate(tqdm(opinions_extracted_data[10:11], total=len(opinions_extracted_data[10:11]))):\n",
        "#     try:\n",
        "#         review_text = review['text']\n",
        "#         opinions = [i['predicate'] + ' ' + i['entity'] for i in review['extractions']]\n",
        "#         opinion_pairs = list(itertools.permutations(opinions, 2))\n",
        "#         if opinion_pairs:\n",
        "#             for opinion_pair in opinion_pairs:\n",
        "#                 info_dict = extract_explanatory_relationship(review_text, opinion_pair, AN_API_KEY)\n",
        "#                 info_dict_json = json.loads(info_dict)\n",
        "#                 # print(info_dict_json)\n",
        "#                 edge_data = dict()\n",
        "#                 edge_data['ID'] = review['review_id']\n",
        "#                 edge_data['Hotel'] = review['business_id']\n",
        "#                 edge_data['Sentence'] = review['text']\n",
        "#                 edge_data['Opinion A'] = info_dict_json['opinion1']\n",
        "#                 edge_data['Opinion B'] = info_dict_json['opinion2']\n",
        "#                 edge_data['Label'] = info_dict_json['explain']\n",
        "#                 # print(edge_data)\n",
        "#                 edges_extracted_data.append(edge_data)\n",
        "\n",
        "#     except json.JSONDecodeError as e:\n",
        "#         print(f\"Failed to decode JSON for review at index {i}: {e}\")\n",
        "#         print(info_dict)\n",
        "#     except Exception as e:\n",
        "#         print(f\"An error occurred while extracting opinions for review at index {i}: {e}\")\n",
        "#         print(info_dict)\n",
        "\n",
        "#     if i != 0 and i % 30 == 0:\n",
        "#         wait_min = random.choice([1, 2])\n",
        "#         print(f\"Index {i} waiting for {wait_min} minutes...\")\n",
        "#         time.sleep(wait_min*60)\n",
        "\n",
        "# end_time = time.time()  # End timing\n",
        "# execution_time = end_time - start_time  # Calculate the total execution time in seconds\n",
        "\n",
        "# # Convert seconds to hour, minute, second format\n",
        "# hours, remainder = divmod(execution_time, 3600)\n",
        "# minutes, seconds = divmod(remainder, 60)\n",
        "\n",
        "# # Print the execution time in a formatted string\n",
        "# print(f\"Execution time: {int(hours)} hours, {int(minutes)} minutes, {int(seconds)} seconds\")\n",
        "\n",
        "# # save file\n",
        "# file_path = '/content/drive/My Drive/ExplainIt/explainit/explanation_mining/data/yichen/GPT_edges_extracted_data-2.json'\n",
        "# with open(file_path, 'w') as file:\n",
        "#      json.dump(edges_extracted_data, file)"
      ]
    },
    {
      "cell_type": "code",
      "execution_count": null,
      "metadata": {
        "id": "_h_SxCp0ZYJj"
      },
      "outputs": [],
      "source": [
        "def extract_explanatory_relationship(single_review, opinion_pair, api_key):\n",
        "    client = openai.OpenAI(\n",
        "        api_key=api_key,\n",
        "    )\n",
        "\n",
        "\n",
        "    prompt = f'''\n",
        "        Given a review '{single_review}' and a pair of extracted opinions '{opinion_pair}', you are to identify a label:\n",
        "\n",
        "        Explain Label: Assess whether there is an explanatory relationship between the two opinions.\n",
        "        Opinion1 is the former opinion, and Opinion2 is the latter in the given array.\n",
        "        Determine if Opinion2 explains Opinion1 based on the full context of the review, not just the opinions in isolation.\n",
        "        Label this relationship with \"1\" if Opinion2 explains Opinion1, and \"0\" otherwise.\n",
        "        For instance, since \"a lot of restaurant bars and shops\" explains \"nice neighbourhood\", the label is \"1\".\n",
        "\n",
        "        Ensure that the evaluation of whether Opinion2 explains Opinion1 takes into account the full context of the review.\n",
        "        Here is the expected JSON output format:\n",
        "        {{\n",
        "            \"opinion1\": first opinion,\n",
        "            \"opinion2\": second opinion,\n",
        "            \"explain\": 1 if opinion2 explains opinion1 else 0\n",
        "        }}\n",
        "\n",
        "        Example review:\n",
        "        \"The location is very central so it's easy to get to most places\"\n",
        "\n",
        "        Example opinions:\n",
        "        [\n",
        "            \"easy to get to places\",\n",
        "            \"very central location\",\n",
        "        ]\n",
        "\n",
        "        Expected output:\n",
        "        {{\n",
        "            \"opinion1\": \"easy to get to places\",\n",
        "            \"opinion2\": \"very central location\"\n",
        "            \"explain\": 1\n",
        "        }},\n",
        "\n",
        "        Example review:\n",
        "        \"Excellent Location very clean and great staff\"\n",
        "\n",
        "        Example opinions:\n",
        "        [\n",
        "            \"great staff\"}},\n",
        "            \"excellent location\"}},\n",
        "        ]\n",
        "\n",
        "        Expected output:\n",
        "        {{\n",
        "            \"opinion1\": \"excellent location\",\n",
        "            \"opinion2\": \"great staff\",\n",
        "            \"explain\": 0\n",
        "        }}\n",
        "\n",
        "        Example review:\n",
        "        \"The location is great that close to Union Sq\"\n",
        "\n",
        "        Expected output:\n",
        "        {{\n",
        "            \"opinion1\": \"close to Union Sq\",\n",
        "            \"opinion2\": \"great location\",\n",
        "            \"explain\": 0\n",
        "        }}\n",
        "\n",
        "        Example review:\n",
        "        \"The location is great that close to Union Sq\"\n",
        "\n",
        "        Example opinions:\n",
        "        [\n",
        "            \"great location\"\n",
        "            \"close to Union Sq\",\n",
        "        ]\n",
        "\n",
        "        Expected output:\n",
        "        {{\n",
        "            \"opinion1\": \"great location\",\n",
        "            \"opinion2\": \"close to Union Sq\",\n",
        "            \"explain\": 1\n",
        "        }}\n",
        "\n",
        "        Example review:\n",
        "        \"The issues were numerous but the most outstanding were how poorly the room was\"\n",
        "\n",
        "        Expected output:\n",
        "        {{\n",
        "            \"opinion1\": \"numerous issues\",\n",
        "            \"opinion2\": \"poorly room\",\n",
        "            \"explain\": 1\n",
        "        }}\n",
        "\n",
        "        Just return the JSON format. Do not include extra texts.\n",
        "    '''\n",
        "\n",
        "    response = client.chat.completions.create(\n",
        "        messages=[\n",
        "            {\n",
        "                \"role\": \"user\",\n",
        "                \"content\": prompt,\n",
        "            }\n",
        "        ],\n",
        "        model=\"gpt-3.5-turbo\",\n",
        "        temperature=0.2,\n",
        "    )\n",
        "\n",
        "    if response.choices[0].message.content:\n",
        "        return response.choices[0].message.content.replace('\\n', '')\n",
        "    else:\n",
        "        return '[]'"
      ]
    },
    {
      "cell_type": "code",
      "execution_count": null,
      "metadata": {
        "colab": {
          "base_uri": "https://localhost:8080/",
          "height": 642,
          "referenced_widgets": [
            "f7482108a3b644618295b827a80092a6",
            "7cad5ac33b3d42b7bac3186fd978cc3e",
            "a184d46d5e8d4742b6879010617ba67b",
            "57ad30f663ad46668c8592cb17a30224",
            "1539d2aa49284b8a9deacd62846546ea",
            "d5bb6400134c44b6b000d4886139cbaf",
            "d1ffed0b265443f08d7614c99847fadb",
            "e4e43205bccf49288754a830e02ece82",
            "0103e58346914bf2b17ec64ecb8f7b6a",
            "51ac36a8aba7498f8fb7eea4ec43f608",
            "931b6e015ad74b7faaf43687b03bfb44"
          ]
        },
        "id": "kRHUcClUUleI",
        "outputId": "981f4d6b-5c52-48e4-bf13-3e41eb326471"
      },
      "outputs": [
        {
          "data": {
            "application/vnd.jupyter.widget-view+json": {
              "model_id": "f7482108a3b644618295b827a80092a6",
              "version_major": 2,
              "version_minor": 0
            },
            "text/plain": [
              "  0%|          | 0/928 [00:00<?, ?it/s]"
            ]
          },
          "metadata": {},
          "output_type": "display_data"
        },
        {
          "name": "stdout",
          "output_type": "stream",
          "text": [
            "Index 30 waiting for 2 minutes...\n",
            "Index 60 waiting for 2 minutes...\n",
            "Index 90 waiting for 1 minutes...\n",
            "Index 120 waiting for 1 minutes...\n",
            "Index 150 waiting for 2 minutes...\n",
            "Index 180 waiting for 1 minutes...\n",
            "Index 210 waiting for 2 minutes...\n",
            "Index 240 waiting for 1 minutes...\n",
            "Index 270 waiting for 1 minutes...\n",
            "Index 300 waiting for 2 minutes...\n",
            "Index 330 waiting for 2 minutes...\n",
            "Index 360 waiting for 2 minutes...\n",
            "Index 390 waiting for 1 minutes...\n",
            "Index 420 waiting for 1 minutes...\n",
            "Index 450 waiting for 2 minutes...\n",
            "Index 480 waiting for 1 minutes...\n",
            "Index 510 waiting for 2 minutes...\n",
            "An error occurred while extracting opinions for review at index 534: can only concatenate str (not \"NoneType\") to str\n",
            "{    \"opinion1\": {\"predicate\": \"wish for an upper level room\", \"entity\": null, \"sentiment\": 1},    \"opinion2\": {\"predicate\": \"only a 5 minute walk\", \"entity\": \"metro\", \"sentiment\": 1},    \"sentence\": 1,    \"explain\": 0}\n",
            "Index 540 waiting for 1 minutes...\n",
            "Index 570 waiting for 2 minutes...\n",
            "Index 600 waiting for 1 minutes...\n",
            "Index 630 waiting for 1 minutes...\n",
            "Index 660 waiting for 2 minutes...\n",
            "Index 690 waiting for 1 minutes...\n",
            "Index 720 waiting for 1 minutes...\n",
            "Index 750 waiting for 2 minutes...\n",
            "Index 780 waiting for 2 minutes...\n",
            "Index 810 waiting for 1 minutes...\n",
            "Index 840 waiting for 1 minutes...\n",
            "Index 870 waiting for 1 minutes...\n",
            "Index 900 waiting for 1 minutes...\n",
            "Execution time: 2 hours, 36 minutes, 54 seconds\n"
          ]
        }
      ],
      "source": [
        "# start_time = time.time()\n",
        "# edges_extracted_data = []\n",
        "# for i, review in enumerate(tqdm(opinions_extracted_data, total=len(opinions_extracted_data))):\n",
        "#     try:\n",
        "#         review_text = review['text']\n",
        "#         opinion_pairs = list(itertools.permutations(review['extractions'], 2))\n",
        "#         if opinion_pairs:\n",
        "#             for opinion_pair in opinion_pairs:\n",
        "#                 info_dict = extract_explanatory_relationship(review_text, opinion_pair, AN_API_KEY)\n",
        "#                 info_dict_json = json.loads(info_dict)\n",
        "#                 # print(info_dict_json)\n",
        "#                 edge_data = dict()\n",
        "#                 edge_data['ID'] = review['review_id']\n",
        "#                 edge_data['Hotel'] = review['business_id']\n",
        "#                 edge_data['Sentence'] = review['text']\n",
        "#                 edge_data['Opinion A'] = info_dict_json['opinion1']['predicate'] + ' ' + info_dict_json['opinion1']['entity']\n",
        "#                 edge_data['Predicate A'] = info_dict_json['opinion1']['predicate']\n",
        "#                 edge_data['Entity A'] = info_dict_json['opinion1']['entity']\n",
        "#                 edge_data['Sentiment A'] = info_dict_json['opinion1']['sentiment']\n",
        "#                 edge_data['Opinion B'] = info_dict_json['opinion2']['predicate'] + ' ' + info_dict_json['opinion2']['entity']\n",
        "#                 edge_data['Predicate B'] = info_dict_json['opinion2']['predicate']\n",
        "#                 edge_data['Entity B'] = info_dict_json['opinion2']['entity']\n",
        "#                 edge_data['Sentiment B'] = info_dict_json['opinion2']['sentiment']\n",
        "#                 edge_data['Sentence Label'] = info_dict_json['sentence']\n",
        "#                 edge_data['Label'] = info_dict_json['explain']\n",
        "#                 # print(edge_data)\n",
        "#                 edges_extracted_data.append(edge_data)\n",
        "\n",
        "#     except json.JSONDecodeError as e:\n",
        "#         print(f\"Failed to decode JSON for review at index {i}: {e}\")\n",
        "#         print(info_dict)\n",
        "#     except Exception as e:\n",
        "#         print(f\"An error occurred while extracting opinions for review at index {i}: {e}\")\n",
        "#         print(info_dict)\n",
        "\n",
        "#     if i != 0 and i % 30 == 0:\n",
        "#         wait_min = random.choice([1, 2])\n",
        "#         print(f\"Index {i} waiting for {wait_min} minutes...\")\n",
        "#         time.sleep(wait_min*60)\n",
        "\n",
        "# end_time = time.time()  # End timing\n",
        "# execution_time = end_time - start_time  # Calculate the total execution time in seconds\n",
        "\n",
        "# # Convert seconds to hour, minute, second format\n",
        "# hours, remainder = divmod(execution_time, 3600)\n",
        "# minutes, seconds = divmod(remainder, 60)\n",
        "\n",
        "# # Print the execution time in a formatted string\n",
        "# print(f\"Execution time: {int(hours)} hours, {int(minutes)} minutes, {int(seconds)} seconds\")\n",
        "\n",
        "# # save file\n",
        "# file_path = '/content/drive/My Drive/ExplainIt/explainit/explanation_mining/data/yichen/GPT_edges_extracted_data-2.json'\n",
        "# with open(file_path, 'w') as file:\n",
        "#      json.dump(edges_extracted_data, file)"
      ]
    },
    {
      "cell_type": "markdown",
      "metadata": {
        "id": "nUpwyMl2smin"
      },
      "source": [
        "## Data to ExplainIt MaskedDualAttn model-readable form\n",
        "\n",
        "\n",
        "*   Used to check test accuracy of model with GPT extracted explainable edges as ground truth\n",
        "\n"
      ]
    },
    {
      "cell_type": "code",
      "execution_count": null,
      "metadata": {
        "colab": {
          "base_uri": "https://localhost:8080/"
        },
        "id": "PLS_qfwZbOL9",
        "outputId": "e13a8d91-b47a-4d3f-cd79-0bd38c51bf26"
      },
      "outputs": [
        {
          "name": "stdout",
          "output_type": "stream",
          "text": [
            "3460\n"
          ]
        }
      ],
      "source": [
        "# read file\n",
        "file_path = '/content/drive/My Drive/ExplainIt/explainit/explanation_mining/data/yichen/GPT_edges_extracted_data.json'\n",
        "with open(file_path, 'r') as file:\n",
        "     edges_extracted_data = json.load(file)\n",
        "\n",
        "print(len(edges_extracted_data))"
      ]
    },
    {
      "cell_type": "code",
      "execution_count": null,
      "metadata": {
        "colab": {
          "base_uri": "https://localhost:8080/"
        },
        "id": "EEWTynjp3Alh",
        "outputId": "005fa533-822a-4816-c5c9-cb9478ea9c7c"
      },
      "outputs": [
        {
          "name": "stdout",
          "output_type": "stream",
          "text": [
            "number of sentence label 1:  3451\n",
            "number of label 1:  1133\n"
          ]
        }
      ],
      "source": [
        "print('number of sentence label 1: ', len([i for i in edges_extracted_data if i['Sentence Label'] == 1]))\n",
        "print('number of label 1: ', len([i for i in edges_extracted_data if i['Label'] == 1]))"
      ]
    },
    {
      "cell_type": "code",
      "execution_count": null,
      "metadata": {
        "colab": {
          "base_uri": "https://localhost:8080/"
        },
        "id": "Rmc1V-NO3EGc",
        "outputId": "4407ce7a-ed80-47cd-cd4d-008930f9359e"
      },
      "outputs": [
        {
          "data": {
            "text/plain": [
              "[{'ID': 'review_488341',\n",
              "  'Hotel': 'Savoy Hotel Amsterdam',\n",
              "  'Sentence': 'The area feels safe and the hotel is next to a police station',\n",
              "  'Opinion A': 'safe area',\n",
              "  'Predicate A': 'safe',\n",
              "  'Entity A': 'area',\n",
              "  'Sentiment A': 1,\n",
              "  'Opinion B': 'next to a police station hotel',\n",
              "  'Predicate B': 'next to a police station',\n",
              "  'Entity B': 'hotel',\n",
              "  'Sentiment B': 1,\n",
              "  'Sentence Label': 1,\n",
              "  'Label': 1}]"
            ]
          },
          "execution_count": 56,
          "metadata": {},
          "output_type": "execute_result"
        }
      ],
      "source": [
        "edges_extracted_data[10:11]"
      ]
    },
    {
      "cell_type": "code",
      "execution_count": null,
      "metadata": {
        "id": "3u2Z79SGsvZ2"
      },
      "outputs": [],
      "source": [
        "test_data = [\n",
        "    {\n",
        "        'Explanation Label': review['Label'],\n",
        "        'Sentence Label':review['Sentence Label'],\n",
        "        'Sentence': review['Sentence'],\n",
        "        'Opinion A': review['Opinion A'],\n",
        "        'Opinion B': review['Opinion B'],\n",
        "        'ID': i\n",
        "    } for i, review in enumerate(edges_extracted_data)\n",
        "]"
      ]
    },
    {
      "cell_type": "code",
      "execution_count": null,
      "metadata": {
        "id": "mzJmjV1yqDLT"
      },
      "outputs": [],
      "source": [
        "# FILE FOR TESTING ONLY\n",
        "import pandas as pd\n",
        "df = pd.DataFrame(test_data)\n",
        "\n",
        "\n",
        "file_path = '/content/drive/My Drive/ExplainIt/explainit/explanation_mining/data/yichen/test'\n",
        "df.to_csv(file_path, sep='\\t', index=False, header=False)"
      ]
    },
    {
      "cell_type": "code",
      "execution_count": null,
      "metadata": {
        "id": "yMZNWFkT2Tmx"
      },
      "outputs": [],
      "source": [
        "# FOR TRAIN MODEL AND TEST\n",
        "from sklearn.model_selection import train_test_split\n",
        "\n",
        "# Assuming `df` is your DataFrame and `target` is the column with the class labels.\n",
        "\n",
        "# Split the data into 80% train and 20% temporary test set\n",
        "train_df, temp_test_df = train_test_split(df, test_size=0.2, stratify=df['Explanation Label'], random_state=42)\n",
        "\n",
        "# Split the temporary test set into 50% validation and 50% test sets\n",
        "validation_df, test_df = train_test_split(temp_test_df, test_size=0.5, stratify=temp_test_df['Explanation Label'], random_state=42)\n",
        "\n",
        "# Now you have approximately 80% train, 10% validation, and 10% test data,\n",
        "# and all sets should have similar class ratios as the original dataset.\n",
        "\n",
        "file_path = '/content/drive/My Drive/ExplainIt/explainit/explanation_mining/data/yichen/train_model/train'\n",
        "train_df.to_csv(file_path, sep='\\t', index=False, header=False)\n",
        "\n",
        "file_path = '/content/drive/My Drive/ExplainIt/explainit/explanation_mining/data/yichen/train_model/dev'\n",
        "validation_df.to_csv(file_path, sep='\\t', index=False, header=False)\n",
        "\n",
        "file_path = '/content/drive/My Drive/ExplainIt/explainit/explanation_mining/data/yichen/train_model/test'\n",
        "test_df.to_csv(file_path, sep='\\t', index=False, header=False)\n"
      ]
    },
    {
      "cell_type": "code",
      "execution_count": null,
      "metadata": {
        "id": "IAhlAUFSam8V"
      },
      "outputs": [],
      "source": [
        "# def extract_explanatory_relationship(single_review, opinion_pair, api_key):\n",
        "#     client = openai.OpenAI(\n",
        "#         api_key=api_key,\n",
        "#     )\n",
        "\n",
        "\n",
        "#     prompt = f'''\n",
        "#         Given a review '{single_review}' and a pair of extracted opinions '{opinion_pair}', where each opinion is represented as (predicate, entity), you are to identify two types of labels:\n",
        "\n",
        "#         1. Sentence Label: Determine if the review contains explanatory content. Label the review with '1' if it does, and '0' otherwise.\n",
        "#         For example, the review 'The hotel is situated in a nice neighbourhood which has a lot of restaurant bars and shops' contains an explanation, so the 'sentence' label is '1'.\n",
        "\n",
        "#         2. Explain Label: Assess whether there is an explanatory relationship between the two opinions.\n",
        "#         Opinion1 is the former opinion, and Opinion2 is the latter in the given array. Determine if Opinion2 explains Opinion1 based on the full context of the review, not just the opinions in isolation.\n",
        "#         Label this relationship with '1' if Opinion2 explains Opinion1, and '0' otherwise. For instance, since 'a lot of restaurant bars and shops' explains 'nice neighbourhood', the 'explain' label is '1'.\n",
        "\n",
        "#         Ensure that the evaluation of whether Opinion2 explains Opinion1 takes into account the full context of the review.\n",
        "#         Here is the expected JSON output format:\n",
        "#         {{\n",
        "#             opinion1\": {{\"predicate\": \"predicateA\", \"entity\": \"entityA\", \"sentiment\": sentiment}},\n",
        "#             \"opinion2\": {{\"predicate\": \"predicateB\", \"entity\": \"entityB\", \"sentiment\": sentiment}},\n",
        "#             \"sentence\": 1 if the review contains explanations else 0,\n",
        "#             \"explain\": 1 if opinion2 explains opinion1 else 0\n",
        "#         }}\n",
        "\n",
        "#         Example review:\n",
        "#         \"The location is very central so it's easy to get to most places\"\n",
        "\n",
        "#         Example opinions:\n",
        "#         [\n",
        "#             {{\"predicate\": \"easy to get to\", \"entity\": \"places\"}},\n",
        "#             {{\"predicate\": \"very central\", \"entity\": \"location\"}},\n",
        "#         ]\n",
        "\n",
        "#         Expected output:\n",
        "#         {{\n",
        "#             \"opinion1\": {{\"predicate\": \"easy to get to\", \"entity\": \"places\", \"sentiment\": 1}},\n",
        "#             \"opinion2\": {{\"predicate\": \"very central\", \"entity\": \"location\", \"sentiment\": 1}},\n",
        "#             \"sentence\": 1,\n",
        "#             \"explain\": 1\n",
        "#         }},\n",
        "\n",
        "#         Example review:\n",
        "#         \"Excellent Location very clean and great staff\"\n",
        "\n",
        "#         Example opinions:\n",
        "#         [\n",
        "#             {{\"predicate\": \"great\", \"entity\": \"staff\"}},\n",
        "#             {{\"predicate\": \"excellent\", \"entity\": \"location\"}},\n",
        "#         ]\n",
        "\n",
        "#         Expected output:\n",
        "#         {{\n",
        "#             \"opinion1\": {{\"predicate\": \"excellent\", \"entity\": \"location\", \"sentiment\": 1}},\n",
        "#             \"opinion2\": {{\"predicate\": \"great\", \"entity\": \"staff\", \"sentiment\": 1}},\n",
        "#             \"sentence\": 0,\n",
        "#             \"explain\": 0\n",
        "#         }}\n",
        "\n",
        "#         Example review:\n",
        "#         \"The location is great that close to Union Sq\"\n",
        "\n",
        "#         Expected output:\n",
        "#         {{\n",
        "#             \"opinion1\": {{\"predicate\": \"close to\", \"entity\": \"Union Sq\", \"sentiment\": 1}},\n",
        "#             \"opinion2\": {{\"predicate\": \"great\", \"entity\": \"location\", \"sentiment\": 1}},\n",
        "#             \"sentence\": 1,\n",
        "#             \"explain\": 0\n",
        "#         }}\n",
        "\n",
        "#         Example review:\n",
        "#         \"The location is great that close to Union Sq\"\n",
        "\n",
        "#         Example opinions:\n",
        "#         [\n",
        "#             {{\"predicate\": \"great\", \"entity\": \"location\", \"sentiment\": 1}}\n",
        "#             {{\"predicate\": \"close to\", \"entity\": \"Union Sq\", \"sentiment\": 1}},\n",
        "#         ]\n",
        "\n",
        "#         Expected output:\n",
        "#         {{\n",
        "#             \"opinion1\": {{\"predicate\": \"great\", \"entity\": \"location\", \"sentiment\": 1}},\n",
        "#             \"opinion2\": {{\"predicate\": \"close to\", \"entity\": \"Union Sq\", \"sentiment\": 1}},\n",
        "#             \"sentence\": 1,\n",
        "#             \"explain\": 1\n",
        "#         }}\n",
        "\n",
        "#         Example review:\n",
        "#         \"The issues were numerous, but the most outstanding were how poorly the room was\"\n",
        "\n",
        "#         Expected output:\n",
        "#         {{\n",
        "#             \"opinion1\": {{\"predicate\": \"numerous\", \"entity\": \"issues\", \"sentiment\": -1}},\n",
        "#             \"opinion2\": {{\"predicate\": \"poorly\", \"entity\": \"room\", \"sentiment\": -1}},\n",
        "#             \"sentence\": 1,\n",
        "#             \"explain\": 1\n",
        "#         }}\n",
        "\n",
        "#         Just return the JSON format. Do not include extra texts.\n",
        "#     '''\n",
        "\n",
        "#     response = client.chat.completions.create(\n",
        "#         messages=[\n",
        "#             {\n",
        "#                 \"role\": \"user\",\n",
        "#                 \"content\": prompt,\n",
        "#             }\n",
        "#         ],\n",
        "#         model=\"gpt-3.5-turbo\",\n",
        "#         temperature=0.2,\n",
        "#     )\n",
        "\n",
        "#     if response.choices[0].message.content:\n",
        "#         return response.choices[0].message.content.replace('\\n', '')\n",
        "#     else:\n",
        "#         return '[]'"
      ]
    },
    {
      "cell_type": "code",
      "execution_count": null,
      "metadata": {
        "id": "RqwTfp7SWaL7"
      },
      "outputs": [],
      "source": [
        "# def extract_explanatory_relationships(review, api_key):\n",
        "#     client = openai.OpenAI(\n",
        "#         api_key=api_key,\n",
        "#     )\n",
        "\n",
        "#     single_review = review['text']\n",
        "#     opinions = review['extractions']\n",
        "\n",
        "\n",
        "#     prompt = f'''\n",
        "#         Given a review {single_review} and a list of its extracted opinions {opinions} where opinion=(predicate, entity), first determine if the review contains explanatory content.\n",
        "#         Label the review with \"1\" if yes, and \"0\" otherwise.\n",
        "#         Then, for all possible pairs of opinions, identify if one opinion can explain the other based on the full context of the review, not just the opinions in isolation.\n",
        "#         (Opinion B,opinion A) and (Opinion A, Opinion B) are counted as different pairs of opinions.\n",
        "#         Label the relationship with \"1\" if Opinion2 explains Opinion1, and \"0\" otherwise.\n",
        "\n",
        "#         For the provided opinions and review text, format your response as a JSON list of opinion pairs, including a label to indicate the presence of explanatory content in the review, and another label to specify if one opinion explains the other.\n",
        "#         Here is the expected output format:\n",
        "\n",
        "#         [\n",
        "#             {{\n",
        "#                 opinion1\": {{\"predicate\": \"predicateA\", \"entity\": \"entityA\"}},\n",
        "#                 \"opinion2\": {{\"predicate\": \"predicateB\", \"entity\": \"entityB\"}},\n",
        "#                 \"sentence\": 1 if the review contains explanations else 0,\n",
        "#                 \"label\": 1 if opinion2 explainsopinion1 else 0\n",
        "#             }},\n",
        "#             ...more pairs...\n",
        "#         ]\n",
        "\n",
        "#         Example review:\n",
        "#         \"The location is very central so it's easy to get to most places\"\n",
        "\n",
        "#         Example opinions:\n",
        "#         [\n",
        "#             {{\"predicate\": \"easy to get to\", \"entity\": \"places\"}},\n",
        "#             {{\"predicate\": \"very central\", \"entity\": \"location\"}},\n",
        "#         ]\n",
        "\n",
        "#         Expected output:\n",
        "#         [\n",
        "#             {{\n",
        "#                 opinion1\": {{\"predicate\": \"easy to get to\", \"entity\": \"places\"}},\n",
        "#                 \"opinion2\": {{\"predicate\": \"very central\", \"entity\": \"location\"}},\n",
        "#                 \"sentence\": 1,\n",
        "#                 \"label\": 1\n",
        "#             }},\n",
        "#             {{\n",
        "#                 opinion1\": {{\"predicate\": \"very central\", \"entity\": \"location\"}},\n",
        "#                 \"opinion2\": {{\"predicate\": \"easy to get to\", \"entity\": \"places\"}},\n",
        "#                 \"sentence\": 1,\n",
        "#                 \"label\": 0\n",
        "#             }},\n",
        "#         ]\n",
        "\n",
        "#         Example review:\n",
        "#         ’Excellent Location very clean and great staff’\n",
        "\n",
        "#         Example opinions:\n",
        "#         [\n",
        "#             {{\"predicate\": \"great\", \"entity\": \"staff\"}},\n",
        "#             {{\"predicate\": \"excellent\", \"entity\": \"location\"}},\n",
        "#         ]\n",
        "\n",
        "#         Expected output:\n",
        "#         [\n",
        "#             {{\n",
        "#                 opinion1\": {{\"predicate\": \"great\", \"entity\": \"staff\"}},\n",
        "#                 \"opinion2\": {{\"predicate\": \"excellent\", \"entity\": \"location\"}},\n",
        "#                 \"sentence\": 0,\n",
        "#                 \"label\": 0\n",
        "#             }},\n",
        "#             {{\n",
        "#                 opinion1\": {{\"predicate\": \"excellent\", \"entity\": \"location\"}},\n",
        "#                 \"opinion2\": {{\"predicate\": \"great\", \"entity\": \"staff\"}},\n",
        "#                 \"sentence\": 0,\n",
        "#                 \"label\": 0\n",
        "#             }},\n",
        "#         ]\n",
        "\n",
        "#         Just return the JSON array. Do not include extra texts.\n",
        "#     '''\n",
        "\n",
        "#     response = client.chat.completions.create(\n",
        "#         messages=[\n",
        "#             {\n",
        "#                 \"role\": \"user\",\n",
        "#                 \"content\": prompt,\n",
        "#             }\n",
        "#         ],\n",
        "#         model=\"gpt-3.5-turbo\",\n",
        "#         temperature=0.2,\n",
        "#     )\n",
        "\n",
        "#     if response.choices[0].message.content:\n",
        "#         return response.choices[0].message.content.replace('\\n', '')\n",
        "#     else:\n",
        "#         return '[]'"
      ]
    },
    {
      "cell_type": "code",
      "execution_count": null,
      "metadata": {
        "id": "q3DQkhztbTc_"
      },
      "outputs": [],
      "source": [
        "# def get_explanation_label(review, api_key):\n",
        "#     client = openai.OpenAI(\n",
        "#         api_key=api_key,\n",
        "#     )\n",
        "\n",
        "#     sentence = review['text']\n",
        "#     opinion_a = review['extractions'][0]['predicate'] + ' ' + review['extractions'][0]['entity']\n",
        "#     opinion_b = review['extractions'][1]['predicate'] + ' ' + review['extractions'][1]['entity']\n",
        "#     print(sentence, ' | ', opinion_a,' | ', opinion_b)\n",
        "#     prompt = f\"Given the sentence: '{sentence}', where Opinion A is '{opinion_a}' and Opinion B is '{opinion_b}', does Opinion B explain Opinion A based on the context of the sentence? Answer with '1' for yes and '0' for no.\"\n",
        "\n",
        "#     response = client.chat.completions.create(\n",
        "#         messages=[\n",
        "#             {\n",
        "#                 \"role\": \"user\",\n",
        "#                 \"content\": prompt,\n",
        "#             }\n",
        "#         ],\n",
        "#         model=\"gpt-3.5-turbo\",\n",
        "#     )\n",
        "#     return response.choices[0].message.content"
      ]
    }
  ],
  "metadata": {
    "colab": {
      "collapsed_sections": [
        "hIHcwbsNo-Ud",
        "zged1NxKwUsK",
        "8WSk61twwPpl",
        "zqne_gqYC3Wv",
        "98sMB-Ft92dy",
        "P3Emzaw8ThjG",
        "_FJnaJbEuyn7",
        "nUpwyMl2smin"
      ],
      "machine_shape": "hm",
      "provenance": []
    },
    "kernelspec": {
      "display_name": "Python 3",
      "name": "python3"
    },
    "language_info": {
      "name": "python"
    },
    "widgets": {
      "application/vnd.jupyter.widget-state+json": {
        "0103e58346914bf2b17ec64ecb8f7b6a": {
          "model_module": "@jupyter-widgets/controls",
          "model_module_version": "1.5.0",
          "model_name": "ProgressStyleModel",
          "state": {
            "_model_module": "@jupyter-widgets/controls",
            "_model_module_version": "1.5.0",
            "_model_name": "ProgressStyleModel",
            "_view_count": null,
            "_view_module": "@jupyter-widgets/base",
            "_view_module_version": "1.2.0",
            "_view_name": "StyleView",
            "bar_color": null,
            "description_width": ""
          }
        },
        "0159743351e64516b1fb016f56b0f448": {
          "model_module": "@jupyter-widgets/base",
          "model_module_version": "1.2.0",
          "model_name": "LayoutModel",
          "state": {
            "_model_module": "@jupyter-widgets/base",
            "_model_module_version": "1.2.0",
            "_model_name": "LayoutModel",
            "_view_count": null,
            "_view_module": "@jupyter-widgets/base",
            "_view_module_version": "1.2.0",
            "_view_name": "LayoutView",
            "align_content": null,
            "align_items": null,
            "align_self": null,
            "border": null,
            "bottom": null,
            "display": null,
            "flex": null,
            "flex_flow": null,
            "grid_area": null,
            "grid_auto_columns": null,
            "grid_auto_flow": null,
            "grid_auto_rows": null,
            "grid_column": null,
            "grid_gap": null,
            "grid_row": null,
            "grid_template_areas": null,
            "grid_template_columns": null,
            "grid_template_rows": null,
            "height": null,
            "justify_content": null,
            "justify_items": null,
            "left": null,
            "margin": null,
            "max_height": null,
            "max_width": null,
            "min_height": null,
            "min_width": null,
            "object_fit": null,
            "object_position": null,
            "order": null,
            "overflow": null,
            "overflow_x": null,
            "overflow_y": null,
            "padding": null,
            "right": null,
            "top": null,
            "visibility": null,
            "width": null
          }
        },
        "03057aa23dfe49caa4f6c531a1130c81": {
          "model_module": "@jupyter-widgets/controls",
          "model_module_version": "1.5.0",
          "model_name": "HTMLModel",
          "state": {
            "_dom_classes": [],
            "_model_module": "@jupyter-widgets/controls",
            "_model_module_version": "1.5.0",
            "_model_name": "HTMLModel",
            "_view_count": null,
            "_view_module": "@jupyter-widgets/controls",
            "_view_module_version": "1.5.0",
            "_view_name": "HTMLView",
            "description": "",
            "description_tooltip": null,
            "layout": "IPY_MODEL_fef7f68d30d04040b211ef7b88451b5f",
            "placeholder": "​",
            "style": "IPY_MODEL_9c31861cc5114a678c05efd487173693",
            "value": " 56%"
          }
        },
        "0f9317cf6a3641708f9190d600975471": {
          "model_module": "@jupyter-widgets/controls",
          "model_module_version": "1.5.0",
          "model_name": "DescriptionStyleModel",
          "state": {
            "_model_module": "@jupyter-widgets/controls",
            "_model_module_version": "1.5.0",
            "_model_name": "DescriptionStyleModel",
            "_view_count": null,
            "_view_module": "@jupyter-widgets/base",
            "_view_module_version": "1.2.0",
            "_view_name": "StyleView",
            "description_width": ""
          }
        },
        "1539d2aa49284b8a9deacd62846546ea": {
          "model_module": "@jupyter-widgets/base",
          "model_module_version": "1.2.0",
          "model_name": "LayoutModel",
          "state": {
            "_model_module": "@jupyter-widgets/base",
            "_model_module_version": "1.2.0",
            "_model_name": "LayoutModel",
            "_view_count": null,
            "_view_module": "@jupyter-widgets/base",
            "_view_module_version": "1.2.0",
            "_view_name": "LayoutView",
            "align_content": null,
            "align_items": null,
            "align_self": null,
            "border": null,
            "bottom": null,
            "display": null,
            "flex": null,
            "flex_flow": null,
            "grid_area": null,
            "grid_auto_columns": null,
            "grid_auto_flow": null,
            "grid_auto_rows": null,
            "grid_column": null,
            "grid_gap": null,
            "grid_row": null,
            "grid_template_areas": null,
            "grid_template_columns": null,
            "grid_template_rows": null,
            "height": null,
            "justify_content": null,
            "justify_items": null,
            "left": null,
            "margin": null,
            "max_height": null,
            "max_width": null,
            "min_height": null,
            "min_width": null,
            "object_fit": null,
            "object_position": null,
            "order": null,
            "overflow": null,
            "overflow_x": null,
            "overflow_y": null,
            "padding": null,
            "right": null,
            "top": null,
            "visibility": null,
            "width": null
          }
        },
        "1dfba29685e245c084c110a8c294ba4b": {
          "model_module": "@jupyter-widgets/controls",
          "model_module_version": "1.5.0",
          "model_name": "DescriptionStyleModel",
          "state": {
            "_model_module": "@jupyter-widgets/controls",
            "_model_module_version": "1.5.0",
            "_model_name": "DescriptionStyleModel",
            "_view_count": null,
            "_view_module": "@jupyter-widgets/base",
            "_view_module_version": "1.2.0",
            "_view_name": "StyleView",
            "description_width": ""
          }
        },
        "1f29064d67bd4a8cb0dff5bc7563702c": {
          "model_module": "@jupyter-widgets/controls",
          "model_module_version": "1.5.0",
          "model_name": "DescriptionStyleModel",
          "state": {
            "_model_module": "@jupyter-widgets/controls",
            "_model_module_version": "1.5.0",
            "_model_name": "DescriptionStyleModel",
            "_view_count": null,
            "_view_module": "@jupyter-widgets/base",
            "_view_module_version": "1.2.0",
            "_view_name": "StyleView",
            "description_width": ""
          }
        },
        "24182bd3678a4b10b93348bf4ed81b0d": {
          "model_module": "@jupyter-widgets/controls",
          "model_module_version": "1.5.0",
          "model_name": "FloatProgressModel",
          "state": {
            "_dom_classes": [],
            "_model_module": "@jupyter-widgets/controls",
            "_model_module_version": "1.5.0",
            "_model_name": "FloatProgressModel",
            "_view_count": null,
            "_view_module": "@jupyter-widgets/controls",
            "_view_module_version": "1.5.0",
            "_view_name": "ProgressView",
            "bar_style": "danger",
            "description": "",
            "description_tooltip": null,
            "layout": "IPY_MODEL_ffe07f73c7da432993d98d8d60cf098e",
            "max": 3129,
            "min": 0,
            "orientation": "horizontal",
            "style": "IPY_MODEL_7be2343c228c40ad82ee729582977565",
            "value": 1763
          }
        },
        "2511f6b9bfad4f9991306bacff250677": {
          "model_module": "@jupyter-widgets/controls",
          "model_module_version": "1.5.0",
          "model_name": "HTMLModel",
          "state": {
            "_dom_classes": [],
            "_model_module": "@jupyter-widgets/controls",
            "_model_module_version": "1.5.0",
            "_model_name": "HTMLModel",
            "_view_count": null,
            "_view_module": "@jupyter-widgets/controls",
            "_view_module_version": "1.5.0",
            "_view_name": "HTMLView",
            "description": "",
            "description_tooltip": null,
            "layout": "IPY_MODEL_406bdb6412bc477483360849a5d75da2",
            "placeholder": "​",
            "style": "IPY_MODEL_1dfba29685e245c084c110a8c294ba4b",
            "value": " 1763/3129 [9:33:36&lt;4:33:22, 12.01s/it]"
          }
        },
        "2822424b1d274fefaf4c3e82d7da20ad": {
          "model_module": "@jupyter-widgets/controls",
          "model_module_version": "1.5.0",
          "model_name": "ProgressStyleModel",
          "state": {
            "_model_module": "@jupyter-widgets/controls",
            "_model_module_version": "1.5.0",
            "_model_name": "ProgressStyleModel",
            "_view_count": null,
            "_view_module": "@jupyter-widgets/base",
            "_view_module_version": "1.2.0",
            "_view_name": "StyleView",
            "bar_color": null,
            "description_width": ""
          }
        },
        "2b9c54234e2b44c8a857b7633cfc0ca7": {
          "model_module": "@jupyter-widgets/controls",
          "model_module_version": "1.5.0",
          "model_name": "HTMLModel",
          "state": {
            "_dom_classes": [],
            "_model_module": "@jupyter-widgets/controls",
            "_model_module_version": "1.5.0",
            "_model_name": "HTMLModel",
            "_view_count": null,
            "_view_module": "@jupyter-widgets/controls",
            "_view_module_version": "1.5.0",
            "_view_name": "HTMLView",
            "description": "",
            "description_tooltip": null,
            "layout": "IPY_MODEL_7f6b7770888b4ad0b7404fbe3b9996db",
            "placeholder": "​",
            "style": "IPY_MODEL_5846b3b7c7214a3698f011132d9403f9",
            "value": " 928/928 [1:05:34&lt;00:00,  1.22it/s]"
          }
        },
        "406bdb6412bc477483360849a5d75da2": {
          "model_module": "@jupyter-widgets/base",
          "model_module_version": "1.2.0",
          "model_name": "LayoutModel",
          "state": {
            "_model_module": "@jupyter-widgets/base",
            "_model_module_version": "1.2.0",
            "_model_name": "LayoutModel",
            "_view_count": null,
            "_view_module": "@jupyter-widgets/base",
            "_view_module_version": "1.2.0",
            "_view_name": "LayoutView",
            "align_content": null,
            "align_items": null,
            "align_self": null,
            "border": null,
            "bottom": null,
            "display": null,
            "flex": null,
            "flex_flow": null,
            "grid_area": null,
            "grid_auto_columns": null,
            "grid_auto_flow": null,
            "grid_auto_rows": null,
            "grid_column": null,
            "grid_gap": null,
            "grid_row": null,
            "grid_template_areas": null,
            "grid_template_columns": null,
            "grid_template_rows": null,
            "height": null,
            "justify_content": null,
            "justify_items": null,
            "left": null,
            "margin": null,
            "max_height": null,
            "max_width": null,
            "min_height": null,
            "min_width": null,
            "object_fit": null,
            "object_position": null,
            "order": null,
            "overflow": null,
            "overflow_x": null,
            "overflow_y": null,
            "padding": null,
            "right": null,
            "top": null,
            "visibility": null,
            "width": null
          }
        },
        "420b983c6c704c6ab0e3b77bd6970cec": {
          "model_module": "@jupyter-widgets/controls",
          "model_module_version": "1.5.0",
          "model_name": "DescriptionStyleModel",
          "state": {
            "_model_module": "@jupyter-widgets/controls",
            "_model_module_version": "1.5.0",
            "_model_name": "DescriptionStyleModel",
            "_view_count": null,
            "_view_module": "@jupyter-widgets/base",
            "_view_module_version": "1.2.0",
            "_view_name": "StyleView",
            "description_width": ""
          }
        },
        "49a846d3c239447ea6df0fde7723abbd": {
          "model_module": "@jupyter-widgets/base",
          "model_module_version": "1.2.0",
          "model_name": "LayoutModel",
          "state": {
            "_model_module": "@jupyter-widgets/base",
            "_model_module_version": "1.2.0",
            "_model_name": "LayoutModel",
            "_view_count": null,
            "_view_module": "@jupyter-widgets/base",
            "_view_module_version": "1.2.0",
            "_view_name": "LayoutView",
            "align_content": null,
            "align_items": null,
            "align_self": null,
            "border": null,
            "bottom": null,
            "display": null,
            "flex": null,
            "flex_flow": null,
            "grid_area": null,
            "grid_auto_columns": null,
            "grid_auto_flow": null,
            "grid_auto_rows": null,
            "grid_column": null,
            "grid_gap": null,
            "grid_row": null,
            "grid_template_areas": null,
            "grid_template_columns": null,
            "grid_template_rows": null,
            "height": null,
            "justify_content": null,
            "justify_items": null,
            "left": null,
            "margin": null,
            "max_height": null,
            "max_width": null,
            "min_height": null,
            "min_width": null,
            "object_fit": null,
            "object_position": null,
            "order": null,
            "overflow": null,
            "overflow_x": null,
            "overflow_y": null,
            "padding": null,
            "right": null,
            "top": null,
            "visibility": null,
            "width": null
          }
        },
        "4c421193e5f04639888e7b6927566561": {
          "model_module": "@jupyter-widgets/controls",
          "model_module_version": "1.5.0",
          "model_name": "HBoxModel",
          "state": {
            "_dom_classes": [],
            "_model_module": "@jupyter-widgets/controls",
            "_model_module_version": "1.5.0",
            "_model_name": "HBoxModel",
            "_view_count": null,
            "_view_module": "@jupyter-widgets/controls",
            "_view_module_version": "1.5.0",
            "_view_name": "HBoxView",
            "box_style": "",
            "children": [
              "IPY_MODEL_b005c16d62e5490395ebe45ab6e5930f",
              "IPY_MODEL_a29b9015343a420f8f56973a9fa5dde6",
              "IPY_MODEL_b68558fda51641c19bf9be64ef57b6a2"
            ],
            "layout": "IPY_MODEL_6e28e498413649e1ae5dcde763d69d2f"
          }
        },
        "51ac36a8aba7498f8fb7eea4ec43f608": {
          "model_module": "@jupyter-widgets/base",
          "model_module_version": "1.2.0",
          "model_name": "LayoutModel",
          "state": {
            "_model_module": "@jupyter-widgets/base",
            "_model_module_version": "1.2.0",
            "_model_name": "LayoutModel",
            "_view_count": null,
            "_view_module": "@jupyter-widgets/base",
            "_view_module_version": "1.2.0",
            "_view_name": "LayoutView",
            "align_content": null,
            "align_items": null,
            "align_self": null,
            "border": null,
            "bottom": null,
            "display": null,
            "flex": null,
            "flex_flow": null,
            "grid_area": null,
            "grid_auto_columns": null,
            "grid_auto_flow": null,
            "grid_auto_rows": null,
            "grid_column": null,
            "grid_gap": null,
            "grid_row": null,
            "grid_template_areas": null,
            "grid_template_columns": null,
            "grid_template_rows": null,
            "height": null,
            "justify_content": null,
            "justify_items": null,
            "left": null,
            "margin": null,
            "max_height": null,
            "max_width": null,
            "min_height": null,
            "min_width": null,
            "object_fit": null,
            "object_position": null,
            "order": null,
            "overflow": null,
            "overflow_x": null,
            "overflow_y": null,
            "padding": null,
            "right": null,
            "top": null,
            "visibility": null,
            "width": null
          }
        },
        "57ad30f663ad46668c8592cb17a30224": {
          "model_module": "@jupyter-widgets/controls",
          "model_module_version": "1.5.0",
          "model_name": "HTMLModel",
          "state": {
            "_dom_classes": [],
            "_model_module": "@jupyter-widgets/controls",
            "_model_module_version": "1.5.0",
            "_model_name": "HTMLModel",
            "_view_count": null,
            "_view_module": "@jupyter-widgets/controls",
            "_view_module_version": "1.5.0",
            "_view_name": "HTMLView",
            "description": "",
            "description_tooltip": null,
            "layout": "IPY_MODEL_51ac36a8aba7498f8fb7eea4ec43f608",
            "placeholder": "​",
            "style": "IPY_MODEL_931b6e015ad74b7faaf43687b03bfb44",
            "value": " 928/928 [2:36:54&lt;00:00,  5.08s/it]"
          }
        },
        "5846b3b7c7214a3698f011132d9403f9": {
          "model_module": "@jupyter-widgets/controls",
          "model_module_version": "1.5.0",
          "model_name": "DescriptionStyleModel",
          "state": {
            "_model_module": "@jupyter-widgets/controls",
            "_model_module_version": "1.5.0",
            "_model_name": "DescriptionStyleModel",
            "_view_count": null,
            "_view_module": "@jupyter-widgets/base",
            "_view_module_version": "1.2.0",
            "_view_name": "StyleView",
            "description_width": ""
          }
        },
        "58bb97d38f0044ad94b810852b2123ea": {
          "model_module": "@jupyter-widgets/controls",
          "model_module_version": "1.5.0",
          "model_name": "HTMLModel",
          "state": {
            "_dom_classes": [],
            "_model_module": "@jupyter-widgets/controls",
            "_model_module_version": "1.5.0",
            "_model_name": "HTMLModel",
            "_view_count": null,
            "_view_module": "@jupyter-widgets/controls",
            "_view_module_version": "1.5.0",
            "_view_name": "HTMLView",
            "description": "",
            "description_tooltip": null,
            "layout": "IPY_MODEL_49a846d3c239447ea6df0fde7723abbd",
            "placeholder": "​",
            "style": "IPY_MODEL_1f29064d67bd4a8cb0dff5bc7563702c",
            "value": "100%"
          }
        },
        "5b9a33b67659495caf3e42bae2935d74": {
          "model_module": "@jupyter-widgets/controls",
          "model_module_version": "1.5.0",
          "model_name": "FloatProgressModel",
          "state": {
            "_dom_classes": [],
            "_model_module": "@jupyter-widgets/controls",
            "_model_module_version": "1.5.0",
            "_model_name": "FloatProgressModel",
            "_view_count": null,
            "_view_module": "@jupyter-widgets/controls",
            "_view_module_version": "1.5.0",
            "_view_name": "ProgressView",
            "bar_style": "success",
            "description": "",
            "description_tooltip": null,
            "layout": "IPY_MODEL_0159743351e64516b1fb016f56b0f448",
            "max": 928,
            "min": 0,
            "orientation": "horizontal",
            "style": "IPY_MODEL_ba0056eb50344e388a12eb312e08aa81",
            "value": 928
          }
        },
        "6e28e498413649e1ae5dcde763d69d2f": {
          "model_module": "@jupyter-widgets/base",
          "model_module_version": "1.2.0",
          "model_name": "LayoutModel",
          "state": {
            "_model_module": "@jupyter-widgets/base",
            "_model_module_version": "1.2.0",
            "_model_name": "LayoutModel",
            "_view_count": null,
            "_view_module": "@jupyter-widgets/base",
            "_view_module_version": "1.2.0",
            "_view_name": "LayoutView",
            "align_content": null,
            "align_items": null,
            "align_self": null,
            "border": null,
            "bottom": null,
            "display": null,
            "flex": null,
            "flex_flow": null,
            "grid_area": null,
            "grid_auto_columns": null,
            "grid_auto_flow": null,
            "grid_auto_rows": null,
            "grid_column": null,
            "grid_gap": null,
            "grid_row": null,
            "grid_template_areas": null,
            "grid_template_columns": null,
            "grid_template_rows": null,
            "height": null,
            "justify_content": null,
            "justify_items": null,
            "left": null,
            "margin": null,
            "max_height": null,
            "max_width": null,
            "min_height": null,
            "min_width": null,
            "object_fit": null,
            "object_position": null,
            "order": null,
            "overflow": null,
            "overflow_x": null,
            "overflow_y": null,
            "padding": null,
            "right": null,
            "top": null,
            "visibility": null,
            "width": null
          }
        },
        "7963b365ade340eb9d5aba2a3bfa13a1": {
          "model_module": "@jupyter-widgets/controls",
          "model_module_version": "1.5.0",
          "model_name": "HBoxModel",
          "state": {
            "_dom_classes": [],
            "_model_module": "@jupyter-widgets/controls",
            "_model_module_version": "1.5.0",
            "_model_name": "HBoxModel",
            "_view_count": null,
            "_view_module": "@jupyter-widgets/controls",
            "_view_module_version": "1.5.0",
            "_view_name": "HBoxView",
            "box_style": "",
            "children": [
              "IPY_MODEL_58bb97d38f0044ad94b810852b2123ea",
              "IPY_MODEL_5b9a33b67659495caf3e42bae2935d74",
              "IPY_MODEL_2b9c54234e2b44c8a857b7633cfc0ca7"
            ],
            "layout": "IPY_MODEL_ffdd6c41c27742528ec02518cd201c62"
          }
        },
        "7be2343c228c40ad82ee729582977565": {
          "model_module": "@jupyter-widgets/controls",
          "model_module_version": "1.5.0",
          "model_name": "ProgressStyleModel",
          "state": {
            "_model_module": "@jupyter-widgets/controls",
            "_model_module_version": "1.5.0",
            "_model_name": "ProgressStyleModel",
            "_view_count": null,
            "_view_module": "@jupyter-widgets/base",
            "_view_module_version": "1.2.0",
            "_view_name": "StyleView",
            "bar_color": null,
            "description_width": ""
          }
        },
        "7cad5ac33b3d42b7bac3186fd978cc3e": {
          "model_module": "@jupyter-widgets/controls",
          "model_module_version": "1.5.0",
          "model_name": "HTMLModel",
          "state": {
            "_dom_classes": [],
            "_model_module": "@jupyter-widgets/controls",
            "_model_module_version": "1.5.0",
            "_model_name": "HTMLModel",
            "_view_count": null,
            "_view_module": "@jupyter-widgets/controls",
            "_view_module_version": "1.5.0",
            "_view_name": "HTMLView",
            "description": "",
            "description_tooltip": null,
            "layout": "IPY_MODEL_d5bb6400134c44b6b000d4886139cbaf",
            "placeholder": "​",
            "style": "IPY_MODEL_d1ffed0b265443f08d7614c99847fadb",
            "value": "100%"
          }
        },
        "7f6b7770888b4ad0b7404fbe3b9996db": {
          "model_module": "@jupyter-widgets/base",
          "model_module_version": "1.2.0",
          "model_name": "LayoutModel",
          "state": {
            "_model_module": "@jupyter-widgets/base",
            "_model_module_version": "1.2.0",
            "_model_name": "LayoutModel",
            "_view_count": null,
            "_view_module": "@jupyter-widgets/base",
            "_view_module_version": "1.2.0",
            "_view_name": "LayoutView",
            "align_content": null,
            "align_items": null,
            "align_self": null,
            "border": null,
            "bottom": null,
            "display": null,
            "flex": null,
            "flex_flow": null,
            "grid_area": null,
            "grid_auto_columns": null,
            "grid_auto_flow": null,
            "grid_auto_rows": null,
            "grid_column": null,
            "grid_gap": null,
            "grid_row": null,
            "grid_template_areas": null,
            "grid_template_columns": null,
            "grid_template_rows": null,
            "height": null,
            "justify_content": null,
            "justify_items": null,
            "left": null,
            "margin": null,
            "max_height": null,
            "max_width": null,
            "min_height": null,
            "min_width": null,
            "object_fit": null,
            "object_position": null,
            "order": null,
            "overflow": null,
            "overflow_x": null,
            "overflow_y": null,
            "padding": null,
            "right": null,
            "top": null,
            "visibility": null,
            "width": null
          }
        },
        "8c1d0713a4e7486d908abbe790ad35ad": {
          "model_module": "@jupyter-widgets/base",
          "model_module_version": "1.2.0",
          "model_name": "LayoutModel",
          "state": {
            "_model_module": "@jupyter-widgets/base",
            "_model_module_version": "1.2.0",
            "_model_name": "LayoutModel",
            "_view_count": null,
            "_view_module": "@jupyter-widgets/base",
            "_view_module_version": "1.2.0",
            "_view_name": "LayoutView",
            "align_content": null,
            "align_items": null,
            "align_self": null,
            "border": null,
            "bottom": null,
            "display": null,
            "flex": null,
            "flex_flow": null,
            "grid_area": null,
            "grid_auto_columns": null,
            "grid_auto_flow": null,
            "grid_auto_rows": null,
            "grid_column": null,
            "grid_gap": null,
            "grid_row": null,
            "grid_template_areas": null,
            "grid_template_columns": null,
            "grid_template_rows": null,
            "height": null,
            "justify_content": null,
            "justify_items": null,
            "left": null,
            "margin": null,
            "max_height": null,
            "max_width": null,
            "min_height": null,
            "min_width": null,
            "object_fit": null,
            "object_position": null,
            "order": null,
            "overflow": null,
            "overflow_x": null,
            "overflow_y": null,
            "padding": null,
            "right": null,
            "top": null,
            "visibility": null,
            "width": null
          }
        },
        "931b6e015ad74b7faaf43687b03bfb44": {
          "model_module": "@jupyter-widgets/controls",
          "model_module_version": "1.5.0",
          "model_name": "DescriptionStyleModel",
          "state": {
            "_model_module": "@jupyter-widgets/controls",
            "_model_module_version": "1.5.0",
            "_model_name": "DescriptionStyleModel",
            "_view_count": null,
            "_view_module": "@jupyter-widgets/base",
            "_view_module_version": "1.2.0",
            "_view_name": "StyleView",
            "description_width": ""
          }
        },
        "9c31861cc5114a678c05efd487173693": {
          "model_module": "@jupyter-widgets/controls",
          "model_module_version": "1.5.0",
          "model_name": "DescriptionStyleModel",
          "state": {
            "_model_module": "@jupyter-widgets/controls",
            "_model_module_version": "1.5.0",
            "_model_name": "DescriptionStyleModel",
            "_view_count": null,
            "_view_module": "@jupyter-widgets/base",
            "_view_module_version": "1.2.0",
            "_view_name": "StyleView",
            "description_width": ""
          }
        },
        "a184d46d5e8d4742b6879010617ba67b": {
          "model_module": "@jupyter-widgets/controls",
          "model_module_version": "1.5.0",
          "model_name": "FloatProgressModel",
          "state": {
            "_dom_classes": [],
            "_model_module": "@jupyter-widgets/controls",
            "_model_module_version": "1.5.0",
            "_model_name": "FloatProgressModel",
            "_view_count": null,
            "_view_module": "@jupyter-widgets/controls",
            "_view_module_version": "1.5.0",
            "_view_name": "ProgressView",
            "bar_style": "success",
            "description": "",
            "description_tooltip": null,
            "layout": "IPY_MODEL_e4e43205bccf49288754a830e02ece82",
            "max": 928,
            "min": 0,
            "orientation": "horizontal",
            "style": "IPY_MODEL_0103e58346914bf2b17ec64ecb8f7b6a",
            "value": 928
          }
        },
        "a29b9015343a420f8f56973a9fa5dde6": {
          "model_module": "@jupyter-widgets/controls",
          "model_module_version": "1.5.0",
          "model_name": "FloatProgressModel",
          "state": {
            "_dom_classes": [],
            "_model_module": "@jupyter-widgets/controls",
            "_model_module_version": "1.5.0",
            "_model_name": "FloatProgressModel",
            "_view_count": null,
            "_view_module": "@jupyter-widgets/controls",
            "_view_module_version": "1.5.0",
            "_view_name": "ProgressView",
            "bar_style": "success",
            "description": "",
            "description_tooltip": null,
            "layout": "IPY_MODEL_8c1d0713a4e7486d908abbe790ad35ad",
            "max": 1,
            "min": 0,
            "orientation": "horizontal",
            "style": "IPY_MODEL_2822424b1d274fefaf4c3e82d7da20ad",
            "value": 1
          }
        },
        "b005c16d62e5490395ebe45ab6e5930f": {
          "model_module": "@jupyter-widgets/controls",
          "model_module_version": "1.5.0",
          "model_name": "HTMLModel",
          "state": {
            "_dom_classes": [],
            "_model_module": "@jupyter-widgets/controls",
            "_model_module_version": "1.5.0",
            "_model_name": "HTMLModel",
            "_view_count": null,
            "_view_module": "@jupyter-widgets/controls",
            "_view_module_version": "1.5.0",
            "_view_name": "HTMLView",
            "description": "",
            "description_tooltip": null,
            "layout": "IPY_MODEL_cc3df0d46f8644728f0f7e0df6e063b4",
            "placeholder": "​",
            "style": "IPY_MODEL_0f9317cf6a3641708f9190d600975471",
            "value": "100%"
          }
        },
        "b68558fda51641c19bf9be64ef57b6a2": {
          "model_module": "@jupyter-widgets/controls",
          "model_module_version": "1.5.0",
          "model_name": "HTMLModel",
          "state": {
            "_dom_classes": [],
            "_model_module": "@jupyter-widgets/controls",
            "_model_module_version": "1.5.0",
            "_model_name": "HTMLModel",
            "_view_count": null,
            "_view_module": "@jupyter-widgets/controls",
            "_view_module_version": "1.5.0",
            "_view_name": "HTMLView",
            "description": "",
            "description_tooltip": null,
            "layout": "IPY_MODEL_ea700bdf44eb4dfd98c5f32fa0fbecdd",
            "placeholder": "​",
            "style": "IPY_MODEL_420b983c6c704c6ab0e3b77bd6970cec",
            "value": " 1/1 [3:36:18&lt;00:00, 12978.03s/it]"
          }
        },
        "ba0056eb50344e388a12eb312e08aa81": {
          "model_module": "@jupyter-widgets/controls",
          "model_module_version": "1.5.0",
          "model_name": "ProgressStyleModel",
          "state": {
            "_model_module": "@jupyter-widgets/controls",
            "_model_module_version": "1.5.0",
            "_model_name": "ProgressStyleModel",
            "_view_count": null,
            "_view_module": "@jupyter-widgets/base",
            "_view_module_version": "1.2.0",
            "_view_name": "StyleView",
            "bar_color": null,
            "description_width": ""
          }
        },
        "bafac94eef54429caf73d548c5023365": {
          "model_module": "@jupyter-widgets/controls",
          "model_module_version": "1.5.0",
          "model_name": "HBoxModel",
          "state": {
            "_dom_classes": [],
            "_model_module": "@jupyter-widgets/controls",
            "_model_module_version": "1.5.0",
            "_model_name": "HBoxModel",
            "_view_count": null,
            "_view_module": "@jupyter-widgets/controls",
            "_view_module_version": "1.5.0",
            "_view_name": "HBoxView",
            "box_style": "",
            "children": [
              "IPY_MODEL_03057aa23dfe49caa4f6c531a1130c81",
              "IPY_MODEL_24182bd3678a4b10b93348bf4ed81b0d",
              "IPY_MODEL_2511f6b9bfad4f9991306bacff250677"
            ],
            "layout": "IPY_MODEL_e8bdbe7908f34ef18cd3b8f988b700c2"
          }
        },
        "cc3df0d46f8644728f0f7e0df6e063b4": {
          "model_module": "@jupyter-widgets/base",
          "model_module_version": "1.2.0",
          "model_name": "LayoutModel",
          "state": {
            "_model_module": "@jupyter-widgets/base",
            "_model_module_version": "1.2.0",
            "_model_name": "LayoutModel",
            "_view_count": null,
            "_view_module": "@jupyter-widgets/base",
            "_view_module_version": "1.2.0",
            "_view_name": "LayoutView",
            "align_content": null,
            "align_items": null,
            "align_self": null,
            "border": null,
            "bottom": null,
            "display": null,
            "flex": null,
            "flex_flow": null,
            "grid_area": null,
            "grid_auto_columns": null,
            "grid_auto_flow": null,
            "grid_auto_rows": null,
            "grid_column": null,
            "grid_gap": null,
            "grid_row": null,
            "grid_template_areas": null,
            "grid_template_columns": null,
            "grid_template_rows": null,
            "height": null,
            "justify_content": null,
            "justify_items": null,
            "left": null,
            "margin": null,
            "max_height": null,
            "max_width": null,
            "min_height": null,
            "min_width": null,
            "object_fit": null,
            "object_position": null,
            "order": null,
            "overflow": null,
            "overflow_x": null,
            "overflow_y": null,
            "padding": null,
            "right": null,
            "top": null,
            "visibility": null,
            "width": null
          }
        },
        "d1ffed0b265443f08d7614c99847fadb": {
          "model_module": "@jupyter-widgets/controls",
          "model_module_version": "1.5.0",
          "model_name": "DescriptionStyleModel",
          "state": {
            "_model_module": "@jupyter-widgets/controls",
            "_model_module_version": "1.5.0",
            "_model_name": "DescriptionStyleModel",
            "_view_count": null,
            "_view_module": "@jupyter-widgets/base",
            "_view_module_version": "1.2.0",
            "_view_name": "StyleView",
            "description_width": ""
          }
        },
        "d5bb6400134c44b6b000d4886139cbaf": {
          "model_module": "@jupyter-widgets/base",
          "model_module_version": "1.2.0",
          "model_name": "LayoutModel",
          "state": {
            "_model_module": "@jupyter-widgets/base",
            "_model_module_version": "1.2.0",
            "_model_name": "LayoutModel",
            "_view_count": null,
            "_view_module": "@jupyter-widgets/base",
            "_view_module_version": "1.2.0",
            "_view_name": "LayoutView",
            "align_content": null,
            "align_items": null,
            "align_self": null,
            "border": null,
            "bottom": null,
            "display": null,
            "flex": null,
            "flex_flow": null,
            "grid_area": null,
            "grid_auto_columns": null,
            "grid_auto_flow": null,
            "grid_auto_rows": null,
            "grid_column": null,
            "grid_gap": null,
            "grid_row": null,
            "grid_template_areas": null,
            "grid_template_columns": null,
            "grid_template_rows": null,
            "height": null,
            "justify_content": null,
            "justify_items": null,
            "left": null,
            "margin": null,
            "max_height": null,
            "max_width": null,
            "min_height": null,
            "min_width": null,
            "object_fit": null,
            "object_position": null,
            "order": null,
            "overflow": null,
            "overflow_x": null,
            "overflow_y": null,
            "padding": null,
            "right": null,
            "top": null,
            "visibility": null,
            "width": null
          }
        },
        "e4e43205bccf49288754a830e02ece82": {
          "model_module": "@jupyter-widgets/base",
          "model_module_version": "1.2.0",
          "model_name": "LayoutModel",
          "state": {
            "_model_module": "@jupyter-widgets/base",
            "_model_module_version": "1.2.0",
            "_model_name": "LayoutModel",
            "_view_count": null,
            "_view_module": "@jupyter-widgets/base",
            "_view_module_version": "1.2.0",
            "_view_name": "LayoutView",
            "align_content": null,
            "align_items": null,
            "align_self": null,
            "border": null,
            "bottom": null,
            "display": null,
            "flex": null,
            "flex_flow": null,
            "grid_area": null,
            "grid_auto_columns": null,
            "grid_auto_flow": null,
            "grid_auto_rows": null,
            "grid_column": null,
            "grid_gap": null,
            "grid_row": null,
            "grid_template_areas": null,
            "grid_template_columns": null,
            "grid_template_rows": null,
            "height": null,
            "justify_content": null,
            "justify_items": null,
            "left": null,
            "margin": null,
            "max_height": null,
            "max_width": null,
            "min_height": null,
            "min_width": null,
            "object_fit": null,
            "object_position": null,
            "order": null,
            "overflow": null,
            "overflow_x": null,
            "overflow_y": null,
            "padding": null,
            "right": null,
            "top": null,
            "visibility": null,
            "width": null
          }
        },
        "e8bdbe7908f34ef18cd3b8f988b700c2": {
          "model_module": "@jupyter-widgets/base",
          "model_module_version": "1.2.0",
          "model_name": "LayoutModel",
          "state": {
            "_model_module": "@jupyter-widgets/base",
            "_model_module_version": "1.2.0",
            "_model_name": "LayoutModel",
            "_view_count": null,
            "_view_module": "@jupyter-widgets/base",
            "_view_module_version": "1.2.0",
            "_view_name": "LayoutView",
            "align_content": null,
            "align_items": null,
            "align_self": null,
            "border": null,
            "bottom": null,
            "display": null,
            "flex": null,
            "flex_flow": null,
            "grid_area": null,
            "grid_auto_columns": null,
            "grid_auto_flow": null,
            "grid_auto_rows": null,
            "grid_column": null,
            "grid_gap": null,
            "grid_row": null,
            "grid_template_areas": null,
            "grid_template_columns": null,
            "grid_template_rows": null,
            "height": null,
            "justify_content": null,
            "justify_items": null,
            "left": null,
            "margin": null,
            "max_height": null,
            "max_width": null,
            "min_height": null,
            "min_width": null,
            "object_fit": null,
            "object_position": null,
            "order": null,
            "overflow": null,
            "overflow_x": null,
            "overflow_y": null,
            "padding": null,
            "right": null,
            "top": null,
            "visibility": null,
            "width": null
          }
        },
        "ea700bdf44eb4dfd98c5f32fa0fbecdd": {
          "model_module": "@jupyter-widgets/base",
          "model_module_version": "1.2.0",
          "model_name": "LayoutModel",
          "state": {
            "_model_module": "@jupyter-widgets/base",
            "_model_module_version": "1.2.0",
            "_model_name": "LayoutModel",
            "_view_count": null,
            "_view_module": "@jupyter-widgets/base",
            "_view_module_version": "1.2.0",
            "_view_name": "LayoutView",
            "align_content": null,
            "align_items": null,
            "align_self": null,
            "border": null,
            "bottom": null,
            "display": null,
            "flex": null,
            "flex_flow": null,
            "grid_area": null,
            "grid_auto_columns": null,
            "grid_auto_flow": null,
            "grid_auto_rows": null,
            "grid_column": null,
            "grid_gap": null,
            "grid_row": null,
            "grid_template_areas": null,
            "grid_template_columns": null,
            "grid_template_rows": null,
            "height": null,
            "justify_content": null,
            "justify_items": null,
            "left": null,
            "margin": null,
            "max_height": null,
            "max_width": null,
            "min_height": null,
            "min_width": null,
            "object_fit": null,
            "object_position": null,
            "order": null,
            "overflow": null,
            "overflow_x": null,
            "overflow_y": null,
            "padding": null,
            "right": null,
            "top": null,
            "visibility": null,
            "width": null
          }
        },
        "f7482108a3b644618295b827a80092a6": {
          "model_module": "@jupyter-widgets/controls",
          "model_module_version": "1.5.0",
          "model_name": "HBoxModel",
          "state": {
            "_dom_classes": [],
            "_model_module": "@jupyter-widgets/controls",
            "_model_module_version": "1.5.0",
            "_model_name": "HBoxModel",
            "_view_count": null,
            "_view_module": "@jupyter-widgets/controls",
            "_view_module_version": "1.5.0",
            "_view_name": "HBoxView",
            "box_style": "",
            "children": [
              "IPY_MODEL_7cad5ac33b3d42b7bac3186fd978cc3e",
              "IPY_MODEL_a184d46d5e8d4742b6879010617ba67b",
              "IPY_MODEL_57ad30f663ad46668c8592cb17a30224"
            ],
            "layout": "IPY_MODEL_1539d2aa49284b8a9deacd62846546ea"
          }
        },
        "fef7f68d30d04040b211ef7b88451b5f": {
          "model_module": "@jupyter-widgets/base",
          "model_module_version": "1.2.0",
          "model_name": "LayoutModel",
          "state": {
            "_model_module": "@jupyter-widgets/base",
            "_model_module_version": "1.2.0",
            "_model_name": "LayoutModel",
            "_view_count": null,
            "_view_module": "@jupyter-widgets/base",
            "_view_module_version": "1.2.0",
            "_view_name": "LayoutView",
            "align_content": null,
            "align_items": null,
            "align_self": null,
            "border": null,
            "bottom": null,
            "display": null,
            "flex": null,
            "flex_flow": null,
            "grid_area": null,
            "grid_auto_columns": null,
            "grid_auto_flow": null,
            "grid_auto_rows": null,
            "grid_column": null,
            "grid_gap": null,
            "grid_row": null,
            "grid_template_areas": null,
            "grid_template_columns": null,
            "grid_template_rows": null,
            "height": null,
            "justify_content": null,
            "justify_items": null,
            "left": null,
            "margin": null,
            "max_height": null,
            "max_width": null,
            "min_height": null,
            "min_width": null,
            "object_fit": null,
            "object_position": null,
            "order": null,
            "overflow": null,
            "overflow_x": null,
            "overflow_y": null,
            "padding": null,
            "right": null,
            "top": null,
            "visibility": null,
            "width": null
          }
        },
        "ffdd6c41c27742528ec02518cd201c62": {
          "model_module": "@jupyter-widgets/base",
          "model_module_version": "1.2.0",
          "model_name": "LayoutModel",
          "state": {
            "_model_module": "@jupyter-widgets/base",
            "_model_module_version": "1.2.0",
            "_model_name": "LayoutModel",
            "_view_count": null,
            "_view_module": "@jupyter-widgets/base",
            "_view_module_version": "1.2.0",
            "_view_name": "LayoutView",
            "align_content": null,
            "align_items": null,
            "align_self": null,
            "border": null,
            "bottom": null,
            "display": null,
            "flex": null,
            "flex_flow": null,
            "grid_area": null,
            "grid_auto_columns": null,
            "grid_auto_flow": null,
            "grid_auto_rows": null,
            "grid_column": null,
            "grid_gap": null,
            "grid_row": null,
            "grid_template_areas": null,
            "grid_template_columns": null,
            "grid_template_rows": null,
            "height": null,
            "justify_content": null,
            "justify_items": null,
            "left": null,
            "margin": null,
            "max_height": null,
            "max_width": null,
            "min_height": null,
            "min_width": null,
            "object_fit": null,
            "object_position": null,
            "order": null,
            "overflow": null,
            "overflow_x": null,
            "overflow_y": null,
            "padding": null,
            "right": null,
            "top": null,
            "visibility": null,
            "width": null
          }
        },
        "ffe07f73c7da432993d98d8d60cf098e": {
          "model_module": "@jupyter-widgets/base",
          "model_module_version": "1.2.0",
          "model_name": "LayoutModel",
          "state": {
            "_model_module": "@jupyter-widgets/base",
            "_model_module_version": "1.2.0",
            "_model_name": "LayoutModel",
            "_view_count": null,
            "_view_module": "@jupyter-widgets/base",
            "_view_module_version": "1.2.0",
            "_view_name": "LayoutView",
            "align_content": null,
            "align_items": null,
            "align_self": null,
            "border": null,
            "bottom": null,
            "display": null,
            "flex": null,
            "flex_flow": null,
            "grid_area": null,
            "grid_auto_columns": null,
            "grid_auto_flow": null,
            "grid_auto_rows": null,
            "grid_column": null,
            "grid_gap": null,
            "grid_row": null,
            "grid_template_areas": null,
            "grid_template_columns": null,
            "grid_template_rows": null,
            "height": null,
            "justify_content": null,
            "justify_items": null,
            "left": null,
            "margin": null,
            "max_height": null,
            "max_width": null,
            "min_height": null,
            "min_width": null,
            "object_fit": null,
            "object_position": null,
            "order": null,
            "overflow": null,
            "overflow_x": null,
            "overflow_y": null,
            "padding": null,
            "right": null,
            "top": null,
            "visibility": null,
            "width": null
          }
        },
        "a717ff092e524c21b0b5ae034558dafe": {
          "model_module": "@jupyter-widgets/controls",
          "model_name": "HBoxModel",
          "model_module_version": "1.5.0",
          "state": {
            "_dom_classes": [],
            "_model_module": "@jupyter-widgets/controls",
            "_model_module_version": "1.5.0",
            "_model_name": "HBoxModel",
            "_view_count": null,
            "_view_module": "@jupyter-widgets/controls",
            "_view_module_version": "1.5.0",
            "_view_name": "HBoxView",
            "box_style": "",
            "children": [
              "IPY_MODEL_3002f6bc67b04a1799b9839fc0603d19",
              "IPY_MODEL_f69f5557e75b4e50b0138ae2e9179cc0",
              "IPY_MODEL_4a80a51b5ca541769678cfaa5e0984c3"
            ],
            "layout": "IPY_MODEL_36321a47f0c64ca791ded7d82d73ad59"
          }
        },
        "3002f6bc67b04a1799b9839fc0603d19": {
          "model_module": "@jupyter-widgets/controls",
          "model_name": "HTMLModel",
          "model_module_version": "1.5.0",
          "state": {
            "_dom_classes": [],
            "_model_module": "@jupyter-widgets/controls",
            "_model_module_version": "1.5.0",
            "_model_name": "HTMLModel",
            "_view_count": null,
            "_view_module": "@jupyter-widgets/controls",
            "_view_module_version": "1.5.0",
            "_view_name": "HTMLView",
            "description": "",
            "description_tooltip": null,
            "layout": "IPY_MODEL_90840eaaa616486c835fc7ccfc5ba390",
            "placeholder": "​",
            "style": "IPY_MODEL_85b54930a9954905b376ee691b14e95a",
            "value": "modules.json: 100%"
          }
        },
        "f69f5557e75b4e50b0138ae2e9179cc0": {
          "model_module": "@jupyter-widgets/controls",
          "model_name": "FloatProgressModel",
          "model_module_version": "1.5.0",
          "state": {
            "_dom_classes": [],
            "_model_module": "@jupyter-widgets/controls",
            "_model_module_version": "1.5.0",
            "_model_name": "FloatProgressModel",
            "_view_count": null,
            "_view_module": "@jupyter-widgets/controls",
            "_view_module_version": "1.5.0",
            "_view_name": "ProgressView",
            "bar_style": "success",
            "description": "",
            "description_tooltip": null,
            "layout": "IPY_MODEL_c8e958b0ac5f4292a77a2e12b819d591",
            "max": 349,
            "min": 0,
            "orientation": "horizontal",
            "style": "IPY_MODEL_d3f50c3b74f74c5aa0defa65aa7567f4",
            "value": 349
          }
        },
        "4a80a51b5ca541769678cfaa5e0984c3": {
          "model_module": "@jupyter-widgets/controls",
          "model_name": "HTMLModel",
          "model_module_version": "1.5.0",
          "state": {
            "_dom_classes": [],
            "_model_module": "@jupyter-widgets/controls",
            "_model_module_version": "1.5.0",
            "_model_name": "HTMLModel",
            "_view_count": null,
            "_view_module": "@jupyter-widgets/controls",
            "_view_module_version": "1.5.0",
            "_view_name": "HTMLView",
            "description": "",
            "description_tooltip": null,
            "layout": "IPY_MODEL_df96bd8b694741e692dfc3e9dfdd51d6",
            "placeholder": "​",
            "style": "IPY_MODEL_aaabf1f9b387463681c17b7982a3999f",
            "value": " 349/349 [00:00&lt;00:00, 26.1kB/s]"
          }
        },
        "36321a47f0c64ca791ded7d82d73ad59": {
          "model_module": "@jupyter-widgets/base",
          "model_name": "LayoutModel",
          "model_module_version": "1.2.0",
          "state": {
            "_model_module": "@jupyter-widgets/base",
            "_model_module_version": "1.2.0",
            "_model_name": "LayoutModel",
            "_view_count": null,
            "_view_module": "@jupyter-widgets/base",
            "_view_module_version": "1.2.0",
            "_view_name": "LayoutView",
            "align_content": null,
            "align_items": null,
            "align_self": null,
            "border": null,
            "bottom": null,
            "display": null,
            "flex": null,
            "flex_flow": null,
            "grid_area": null,
            "grid_auto_columns": null,
            "grid_auto_flow": null,
            "grid_auto_rows": null,
            "grid_column": null,
            "grid_gap": null,
            "grid_row": null,
            "grid_template_areas": null,
            "grid_template_columns": null,
            "grid_template_rows": null,
            "height": null,
            "justify_content": null,
            "justify_items": null,
            "left": null,
            "margin": null,
            "max_height": null,
            "max_width": null,
            "min_height": null,
            "min_width": null,
            "object_fit": null,
            "object_position": null,
            "order": null,
            "overflow": null,
            "overflow_x": null,
            "overflow_y": null,
            "padding": null,
            "right": null,
            "top": null,
            "visibility": null,
            "width": null
          }
        },
        "90840eaaa616486c835fc7ccfc5ba390": {
          "model_module": "@jupyter-widgets/base",
          "model_name": "LayoutModel",
          "model_module_version": "1.2.0",
          "state": {
            "_model_module": "@jupyter-widgets/base",
            "_model_module_version": "1.2.0",
            "_model_name": "LayoutModel",
            "_view_count": null,
            "_view_module": "@jupyter-widgets/base",
            "_view_module_version": "1.2.0",
            "_view_name": "LayoutView",
            "align_content": null,
            "align_items": null,
            "align_self": null,
            "border": null,
            "bottom": null,
            "display": null,
            "flex": null,
            "flex_flow": null,
            "grid_area": null,
            "grid_auto_columns": null,
            "grid_auto_flow": null,
            "grid_auto_rows": null,
            "grid_column": null,
            "grid_gap": null,
            "grid_row": null,
            "grid_template_areas": null,
            "grid_template_columns": null,
            "grid_template_rows": null,
            "height": null,
            "justify_content": null,
            "justify_items": null,
            "left": null,
            "margin": null,
            "max_height": null,
            "max_width": null,
            "min_height": null,
            "min_width": null,
            "object_fit": null,
            "object_position": null,
            "order": null,
            "overflow": null,
            "overflow_x": null,
            "overflow_y": null,
            "padding": null,
            "right": null,
            "top": null,
            "visibility": null,
            "width": null
          }
        },
        "85b54930a9954905b376ee691b14e95a": {
          "model_module": "@jupyter-widgets/controls",
          "model_name": "DescriptionStyleModel",
          "model_module_version": "1.5.0",
          "state": {
            "_model_module": "@jupyter-widgets/controls",
            "_model_module_version": "1.5.0",
            "_model_name": "DescriptionStyleModel",
            "_view_count": null,
            "_view_module": "@jupyter-widgets/base",
            "_view_module_version": "1.2.0",
            "_view_name": "StyleView",
            "description_width": ""
          }
        },
        "c8e958b0ac5f4292a77a2e12b819d591": {
          "model_module": "@jupyter-widgets/base",
          "model_name": "LayoutModel",
          "model_module_version": "1.2.0",
          "state": {
            "_model_module": "@jupyter-widgets/base",
            "_model_module_version": "1.2.0",
            "_model_name": "LayoutModel",
            "_view_count": null,
            "_view_module": "@jupyter-widgets/base",
            "_view_module_version": "1.2.0",
            "_view_name": "LayoutView",
            "align_content": null,
            "align_items": null,
            "align_self": null,
            "border": null,
            "bottom": null,
            "display": null,
            "flex": null,
            "flex_flow": null,
            "grid_area": null,
            "grid_auto_columns": null,
            "grid_auto_flow": null,
            "grid_auto_rows": null,
            "grid_column": null,
            "grid_gap": null,
            "grid_row": null,
            "grid_template_areas": null,
            "grid_template_columns": null,
            "grid_template_rows": null,
            "height": null,
            "justify_content": null,
            "justify_items": null,
            "left": null,
            "margin": null,
            "max_height": null,
            "max_width": null,
            "min_height": null,
            "min_width": null,
            "object_fit": null,
            "object_position": null,
            "order": null,
            "overflow": null,
            "overflow_x": null,
            "overflow_y": null,
            "padding": null,
            "right": null,
            "top": null,
            "visibility": null,
            "width": null
          }
        },
        "d3f50c3b74f74c5aa0defa65aa7567f4": {
          "model_module": "@jupyter-widgets/controls",
          "model_name": "ProgressStyleModel",
          "model_module_version": "1.5.0",
          "state": {
            "_model_module": "@jupyter-widgets/controls",
            "_model_module_version": "1.5.0",
            "_model_name": "ProgressStyleModel",
            "_view_count": null,
            "_view_module": "@jupyter-widgets/base",
            "_view_module_version": "1.2.0",
            "_view_name": "StyleView",
            "bar_color": null,
            "description_width": ""
          }
        },
        "df96bd8b694741e692dfc3e9dfdd51d6": {
          "model_module": "@jupyter-widgets/base",
          "model_name": "LayoutModel",
          "model_module_version": "1.2.0",
          "state": {
            "_model_module": "@jupyter-widgets/base",
            "_model_module_version": "1.2.0",
            "_model_name": "LayoutModel",
            "_view_count": null,
            "_view_module": "@jupyter-widgets/base",
            "_view_module_version": "1.2.0",
            "_view_name": "LayoutView",
            "align_content": null,
            "align_items": null,
            "align_self": null,
            "border": null,
            "bottom": null,
            "display": null,
            "flex": null,
            "flex_flow": null,
            "grid_area": null,
            "grid_auto_columns": null,
            "grid_auto_flow": null,
            "grid_auto_rows": null,
            "grid_column": null,
            "grid_gap": null,
            "grid_row": null,
            "grid_template_areas": null,
            "grid_template_columns": null,
            "grid_template_rows": null,
            "height": null,
            "justify_content": null,
            "justify_items": null,
            "left": null,
            "margin": null,
            "max_height": null,
            "max_width": null,
            "min_height": null,
            "min_width": null,
            "object_fit": null,
            "object_position": null,
            "order": null,
            "overflow": null,
            "overflow_x": null,
            "overflow_y": null,
            "padding": null,
            "right": null,
            "top": null,
            "visibility": null,
            "width": null
          }
        },
        "aaabf1f9b387463681c17b7982a3999f": {
          "model_module": "@jupyter-widgets/controls",
          "model_name": "DescriptionStyleModel",
          "model_module_version": "1.5.0",
          "state": {
            "_model_module": "@jupyter-widgets/controls",
            "_model_module_version": "1.5.0",
            "_model_name": "DescriptionStyleModel",
            "_view_count": null,
            "_view_module": "@jupyter-widgets/base",
            "_view_module_version": "1.2.0",
            "_view_name": "StyleView",
            "description_width": ""
          }
        },
        "1f6c3fd811554ba782e508b3fe41c44f": {
          "model_module": "@jupyter-widgets/controls",
          "model_name": "HBoxModel",
          "model_module_version": "1.5.0",
          "state": {
            "_dom_classes": [],
            "_model_module": "@jupyter-widgets/controls",
            "_model_module_version": "1.5.0",
            "_model_name": "HBoxModel",
            "_view_count": null,
            "_view_module": "@jupyter-widgets/controls",
            "_view_module_version": "1.5.0",
            "_view_name": "HBoxView",
            "box_style": "",
            "children": [
              "IPY_MODEL_f13968cb03c541e2baf6c65897eb9d8a",
              "IPY_MODEL_445c80f65c56429783a6d137c585fdae",
              "IPY_MODEL_9541a00785ae4e36ab80e19a20c06718"
            ],
            "layout": "IPY_MODEL_35468481cbfa4a1381570270f69b8651"
          }
        },
        "f13968cb03c541e2baf6c65897eb9d8a": {
          "model_module": "@jupyter-widgets/controls",
          "model_name": "HTMLModel",
          "model_module_version": "1.5.0",
          "state": {
            "_dom_classes": [],
            "_model_module": "@jupyter-widgets/controls",
            "_model_module_version": "1.5.0",
            "_model_name": "HTMLModel",
            "_view_count": null,
            "_view_module": "@jupyter-widgets/controls",
            "_view_module_version": "1.5.0",
            "_view_name": "HTMLView",
            "description": "",
            "description_tooltip": null,
            "layout": "IPY_MODEL_488e0cbd0a424c53818c08d21870a7bc",
            "placeholder": "​",
            "style": "IPY_MODEL_47a6b83edd4b480685265e30941130e4",
            "value": "config_sentence_transformers.json: 100%"
          }
        },
        "445c80f65c56429783a6d137c585fdae": {
          "model_module": "@jupyter-widgets/controls",
          "model_name": "FloatProgressModel",
          "model_module_version": "1.5.0",
          "state": {
            "_dom_classes": [],
            "_model_module": "@jupyter-widgets/controls",
            "_model_module_version": "1.5.0",
            "_model_name": "FloatProgressModel",
            "_view_count": null,
            "_view_module": "@jupyter-widgets/controls",
            "_view_module_version": "1.5.0",
            "_view_name": "ProgressView",
            "bar_style": "success",
            "description": "",
            "description_tooltip": null,
            "layout": "IPY_MODEL_9cf3770883f24db481d6c55b07b6a634",
            "max": 116,
            "min": 0,
            "orientation": "horizontal",
            "style": "IPY_MODEL_ce3f688a2f43415885de3fdb9f0094d9",
            "value": 116
          }
        },
        "9541a00785ae4e36ab80e19a20c06718": {
          "model_module": "@jupyter-widgets/controls",
          "model_name": "HTMLModel",
          "model_module_version": "1.5.0",
          "state": {
            "_dom_classes": [],
            "_model_module": "@jupyter-widgets/controls",
            "_model_module_version": "1.5.0",
            "_model_name": "HTMLModel",
            "_view_count": null,
            "_view_module": "@jupyter-widgets/controls",
            "_view_module_version": "1.5.0",
            "_view_name": "HTMLView",
            "description": "",
            "description_tooltip": null,
            "layout": "IPY_MODEL_b83363298f1b45aeaffe68a576e78084",
            "placeholder": "​",
            "style": "IPY_MODEL_fd566344748e4582a8b7ec9410774966",
            "value": " 116/116 [00:00&lt;00:00, 8.79kB/s]"
          }
        },
        "35468481cbfa4a1381570270f69b8651": {
          "model_module": "@jupyter-widgets/base",
          "model_name": "LayoutModel",
          "model_module_version": "1.2.0",
          "state": {
            "_model_module": "@jupyter-widgets/base",
            "_model_module_version": "1.2.0",
            "_model_name": "LayoutModel",
            "_view_count": null,
            "_view_module": "@jupyter-widgets/base",
            "_view_module_version": "1.2.0",
            "_view_name": "LayoutView",
            "align_content": null,
            "align_items": null,
            "align_self": null,
            "border": null,
            "bottom": null,
            "display": null,
            "flex": null,
            "flex_flow": null,
            "grid_area": null,
            "grid_auto_columns": null,
            "grid_auto_flow": null,
            "grid_auto_rows": null,
            "grid_column": null,
            "grid_gap": null,
            "grid_row": null,
            "grid_template_areas": null,
            "grid_template_columns": null,
            "grid_template_rows": null,
            "height": null,
            "justify_content": null,
            "justify_items": null,
            "left": null,
            "margin": null,
            "max_height": null,
            "max_width": null,
            "min_height": null,
            "min_width": null,
            "object_fit": null,
            "object_position": null,
            "order": null,
            "overflow": null,
            "overflow_x": null,
            "overflow_y": null,
            "padding": null,
            "right": null,
            "top": null,
            "visibility": null,
            "width": null
          }
        },
        "488e0cbd0a424c53818c08d21870a7bc": {
          "model_module": "@jupyter-widgets/base",
          "model_name": "LayoutModel",
          "model_module_version": "1.2.0",
          "state": {
            "_model_module": "@jupyter-widgets/base",
            "_model_module_version": "1.2.0",
            "_model_name": "LayoutModel",
            "_view_count": null,
            "_view_module": "@jupyter-widgets/base",
            "_view_module_version": "1.2.0",
            "_view_name": "LayoutView",
            "align_content": null,
            "align_items": null,
            "align_self": null,
            "border": null,
            "bottom": null,
            "display": null,
            "flex": null,
            "flex_flow": null,
            "grid_area": null,
            "grid_auto_columns": null,
            "grid_auto_flow": null,
            "grid_auto_rows": null,
            "grid_column": null,
            "grid_gap": null,
            "grid_row": null,
            "grid_template_areas": null,
            "grid_template_columns": null,
            "grid_template_rows": null,
            "height": null,
            "justify_content": null,
            "justify_items": null,
            "left": null,
            "margin": null,
            "max_height": null,
            "max_width": null,
            "min_height": null,
            "min_width": null,
            "object_fit": null,
            "object_position": null,
            "order": null,
            "overflow": null,
            "overflow_x": null,
            "overflow_y": null,
            "padding": null,
            "right": null,
            "top": null,
            "visibility": null,
            "width": null
          }
        },
        "47a6b83edd4b480685265e30941130e4": {
          "model_module": "@jupyter-widgets/controls",
          "model_name": "DescriptionStyleModel",
          "model_module_version": "1.5.0",
          "state": {
            "_model_module": "@jupyter-widgets/controls",
            "_model_module_version": "1.5.0",
            "_model_name": "DescriptionStyleModel",
            "_view_count": null,
            "_view_module": "@jupyter-widgets/base",
            "_view_module_version": "1.2.0",
            "_view_name": "StyleView",
            "description_width": ""
          }
        },
        "9cf3770883f24db481d6c55b07b6a634": {
          "model_module": "@jupyter-widgets/base",
          "model_name": "LayoutModel",
          "model_module_version": "1.2.0",
          "state": {
            "_model_module": "@jupyter-widgets/base",
            "_model_module_version": "1.2.0",
            "_model_name": "LayoutModel",
            "_view_count": null,
            "_view_module": "@jupyter-widgets/base",
            "_view_module_version": "1.2.0",
            "_view_name": "LayoutView",
            "align_content": null,
            "align_items": null,
            "align_self": null,
            "border": null,
            "bottom": null,
            "display": null,
            "flex": null,
            "flex_flow": null,
            "grid_area": null,
            "grid_auto_columns": null,
            "grid_auto_flow": null,
            "grid_auto_rows": null,
            "grid_column": null,
            "grid_gap": null,
            "grid_row": null,
            "grid_template_areas": null,
            "grid_template_columns": null,
            "grid_template_rows": null,
            "height": null,
            "justify_content": null,
            "justify_items": null,
            "left": null,
            "margin": null,
            "max_height": null,
            "max_width": null,
            "min_height": null,
            "min_width": null,
            "object_fit": null,
            "object_position": null,
            "order": null,
            "overflow": null,
            "overflow_x": null,
            "overflow_y": null,
            "padding": null,
            "right": null,
            "top": null,
            "visibility": null,
            "width": null
          }
        },
        "ce3f688a2f43415885de3fdb9f0094d9": {
          "model_module": "@jupyter-widgets/controls",
          "model_name": "ProgressStyleModel",
          "model_module_version": "1.5.0",
          "state": {
            "_model_module": "@jupyter-widgets/controls",
            "_model_module_version": "1.5.0",
            "_model_name": "ProgressStyleModel",
            "_view_count": null,
            "_view_module": "@jupyter-widgets/base",
            "_view_module_version": "1.2.0",
            "_view_name": "StyleView",
            "bar_color": null,
            "description_width": ""
          }
        },
        "b83363298f1b45aeaffe68a576e78084": {
          "model_module": "@jupyter-widgets/base",
          "model_name": "LayoutModel",
          "model_module_version": "1.2.0",
          "state": {
            "_model_module": "@jupyter-widgets/base",
            "_model_module_version": "1.2.0",
            "_model_name": "LayoutModel",
            "_view_count": null,
            "_view_module": "@jupyter-widgets/base",
            "_view_module_version": "1.2.0",
            "_view_name": "LayoutView",
            "align_content": null,
            "align_items": null,
            "align_self": null,
            "border": null,
            "bottom": null,
            "display": null,
            "flex": null,
            "flex_flow": null,
            "grid_area": null,
            "grid_auto_columns": null,
            "grid_auto_flow": null,
            "grid_auto_rows": null,
            "grid_column": null,
            "grid_gap": null,
            "grid_row": null,
            "grid_template_areas": null,
            "grid_template_columns": null,
            "grid_template_rows": null,
            "height": null,
            "justify_content": null,
            "justify_items": null,
            "left": null,
            "margin": null,
            "max_height": null,
            "max_width": null,
            "min_height": null,
            "min_width": null,
            "object_fit": null,
            "object_position": null,
            "order": null,
            "overflow": null,
            "overflow_x": null,
            "overflow_y": null,
            "padding": null,
            "right": null,
            "top": null,
            "visibility": null,
            "width": null
          }
        },
        "fd566344748e4582a8b7ec9410774966": {
          "model_module": "@jupyter-widgets/controls",
          "model_name": "DescriptionStyleModel",
          "model_module_version": "1.5.0",
          "state": {
            "_model_module": "@jupyter-widgets/controls",
            "_model_module_version": "1.5.0",
            "_model_name": "DescriptionStyleModel",
            "_view_count": null,
            "_view_module": "@jupyter-widgets/base",
            "_view_module_version": "1.2.0",
            "_view_name": "StyleView",
            "description_width": ""
          }
        },
        "80ea5effb8624d6383bca3707001444e": {
          "model_module": "@jupyter-widgets/controls",
          "model_name": "HBoxModel",
          "model_module_version": "1.5.0",
          "state": {
            "_dom_classes": [],
            "_model_module": "@jupyter-widgets/controls",
            "_model_module_version": "1.5.0",
            "_model_name": "HBoxModel",
            "_view_count": null,
            "_view_module": "@jupyter-widgets/controls",
            "_view_module_version": "1.5.0",
            "_view_name": "HBoxView",
            "box_style": "",
            "children": [
              "IPY_MODEL_9b2f06da10104e7899922294b33ee114",
              "IPY_MODEL_f389eb82b5474ef28024a32ae1be35ca",
              "IPY_MODEL_c05284f8e2e544eca846c215c299c036"
            ],
            "layout": "IPY_MODEL_049c2001afb0483c9af9e8595c2588a0"
          }
        },
        "9b2f06da10104e7899922294b33ee114": {
          "model_module": "@jupyter-widgets/controls",
          "model_name": "HTMLModel",
          "model_module_version": "1.5.0",
          "state": {
            "_dom_classes": [],
            "_model_module": "@jupyter-widgets/controls",
            "_model_module_version": "1.5.0",
            "_model_name": "HTMLModel",
            "_view_count": null,
            "_view_module": "@jupyter-widgets/controls",
            "_view_module_version": "1.5.0",
            "_view_name": "HTMLView",
            "description": "",
            "description_tooltip": null,
            "layout": "IPY_MODEL_0ca0a67962d949ff84232524c85a0022",
            "placeholder": "​",
            "style": "IPY_MODEL_1198b2fa62b54830a94906a6e3a25325",
            "value": "README.md: 100%"
          }
        },
        "f389eb82b5474ef28024a32ae1be35ca": {
          "model_module": "@jupyter-widgets/controls",
          "model_name": "FloatProgressModel",
          "model_module_version": "1.5.0",
          "state": {
            "_dom_classes": [],
            "_model_module": "@jupyter-widgets/controls",
            "_model_module_version": "1.5.0",
            "_model_name": "FloatProgressModel",
            "_view_count": null,
            "_view_module": "@jupyter-widgets/controls",
            "_view_module_version": "1.5.0",
            "_view_name": "ProgressView",
            "bar_style": "success",
            "description": "",
            "description_tooltip": null,
            "layout": "IPY_MODEL_b4353f4fc41d426db345e73756c83c70",
            "max": 10659,
            "min": 0,
            "orientation": "horizontal",
            "style": "IPY_MODEL_bf12522ec3b14478a5af8ab89d9749d2",
            "value": 10659
          }
        },
        "c05284f8e2e544eca846c215c299c036": {
          "model_module": "@jupyter-widgets/controls",
          "model_name": "HTMLModel",
          "model_module_version": "1.5.0",
          "state": {
            "_dom_classes": [],
            "_model_module": "@jupyter-widgets/controls",
            "_model_module_version": "1.5.0",
            "_model_name": "HTMLModel",
            "_view_count": null,
            "_view_module": "@jupyter-widgets/controls",
            "_view_module_version": "1.5.0",
            "_view_name": "HTMLView",
            "description": "",
            "description_tooltip": null,
            "layout": "IPY_MODEL_797014da2ee945faba1f6914a748d0ad",
            "placeholder": "​",
            "style": "IPY_MODEL_12de68294a9e4a65a199fa726cf238fb",
            "value": " 10.7k/10.7k [00:00&lt;00:00, 842kB/s]"
          }
        },
        "049c2001afb0483c9af9e8595c2588a0": {
          "model_module": "@jupyter-widgets/base",
          "model_name": "LayoutModel",
          "model_module_version": "1.2.0",
          "state": {
            "_model_module": "@jupyter-widgets/base",
            "_model_module_version": "1.2.0",
            "_model_name": "LayoutModel",
            "_view_count": null,
            "_view_module": "@jupyter-widgets/base",
            "_view_module_version": "1.2.0",
            "_view_name": "LayoutView",
            "align_content": null,
            "align_items": null,
            "align_self": null,
            "border": null,
            "bottom": null,
            "display": null,
            "flex": null,
            "flex_flow": null,
            "grid_area": null,
            "grid_auto_columns": null,
            "grid_auto_flow": null,
            "grid_auto_rows": null,
            "grid_column": null,
            "grid_gap": null,
            "grid_row": null,
            "grid_template_areas": null,
            "grid_template_columns": null,
            "grid_template_rows": null,
            "height": null,
            "justify_content": null,
            "justify_items": null,
            "left": null,
            "margin": null,
            "max_height": null,
            "max_width": null,
            "min_height": null,
            "min_width": null,
            "object_fit": null,
            "object_position": null,
            "order": null,
            "overflow": null,
            "overflow_x": null,
            "overflow_y": null,
            "padding": null,
            "right": null,
            "top": null,
            "visibility": null,
            "width": null
          }
        },
        "0ca0a67962d949ff84232524c85a0022": {
          "model_module": "@jupyter-widgets/base",
          "model_name": "LayoutModel",
          "model_module_version": "1.2.0",
          "state": {
            "_model_module": "@jupyter-widgets/base",
            "_model_module_version": "1.2.0",
            "_model_name": "LayoutModel",
            "_view_count": null,
            "_view_module": "@jupyter-widgets/base",
            "_view_module_version": "1.2.0",
            "_view_name": "LayoutView",
            "align_content": null,
            "align_items": null,
            "align_self": null,
            "border": null,
            "bottom": null,
            "display": null,
            "flex": null,
            "flex_flow": null,
            "grid_area": null,
            "grid_auto_columns": null,
            "grid_auto_flow": null,
            "grid_auto_rows": null,
            "grid_column": null,
            "grid_gap": null,
            "grid_row": null,
            "grid_template_areas": null,
            "grid_template_columns": null,
            "grid_template_rows": null,
            "height": null,
            "justify_content": null,
            "justify_items": null,
            "left": null,
            "margin": null,
            "max_height": null,
            "max_width": null,
            "min_height": null,
            "min_width": null,
            "object_fit": null,
            "object_position": null,
            "order": null,
            "overflow": null,
            "overflow_x": null,
            "overflow_y": null,
            "padding": null,
            "right": null,
            "top": null,
            "visibility": null,
            "width": null
          }
        },
        "1198b2fa62b54830a94906a6e3a25325": {
          "model_module": "@jupyter-widgets/controls",
          "model_name": "DescriptionStyleModel",
          "model_module_version": "1.5.0",
          "state": {
            "_model_module": "@jupyter-widgets/controls",
            "_model_module_version": "1.5.0",
            "_model_name": "DescriptionStyleModel",
            "_view_count": null,
            "_view_module": "@jupyter-widgets/base",
            "_view_module_version": "1.2.0",
            "_view_name": "StyleView",
            "description_width": ""
          }
        },
        "b4353f4fc41d426db345e73756c83c70": {
          "model_module": "@jupyter-widgets/base",
          "model_name": "LayoutModel",
          "model_module_version": "1.2.0",
          "state": {
            "_model_module": "@jupyter-widgets/base",
            "_model_module_version": "1.2.0",
            "_model_name": "LayoutModel",
            "_view_count": null,
            "_view_module": "@jupyter-widgets/base",
            "_view_module_version": "1.2.0",
            "_view_name": "LayoutView",
            "align_content": null,
            "align_items": null,
            "align_self": null,
            "border": null,
            "bottom": null,
            "display": null,
            "flex": null,
            "flex_flow": null,
            "grid_area": null,
            "grid_auto_columns": null,
            "grid_auto_flow": null,
            "grid_auto_rows": null,
            "grid_column": null,
            "grid_gap": null,
            "grid_row": null,
            "grid_template_areas": null,
            "grid_template_columns": null,
            "grid_template_rows": null,
            "height": null,
            "justify_content": null,
            "justify_items": null,
            "left": null,
            "margin": null,
            "max_height": null,
            "max_width": null,
            "min_height": null,
            "min_width": null,
            "object_fit": null,
            "object_position": null,
            "order": null,
            "overflow": null,
            "overflow_x": null,
            "overflow_y": null,
            "padding": null,
            "right": null,
            "top": null,
            "visibility": null,
            "width": null
          }
        },
        "bf12522ec3b14478a5af8ab89d9749d2": {
          "model_module": "@jupyter-widgets/controls",
          "model_name": "ProgressStyleModel",
          "model_module_version": "1.5.0",
          "state": {
            "_model_module": "@jupyter-widgets/controls",
            "_model_module_version": "1.5.0",
            "_model_name": "ProgressStyleModel",
            "_view_count": null,
            "_view_module": "@jupyter-widgets/base",
            "_view_module_version": "1.2.0",
            "_view_name": "StyleView",
            "bar_color": null,
            "description_width": ""
          }
        },
        "797014da2ee945faba1f6914a748d0ad": {
          "model_module": "@jupyter-widgets/base",
          "model_name": "LayoutModel",
          "model_module_version": "1.2.0",
          "state": {
            "_model_module": "@jupyter-widgets/base",
            "_model_module_version": "1.2.0",
            "_model_name": "LayoutModel",
            "_view_count": null,
            "_view_module": "@jupyter-widgets/base",
            "_view_module_version": "1.2.0",
            "_view_name": "LayoutView",
            "align_content": null,
            "align_items": null,
            "align_self": null,
            "border": null,
            "bottom": null,
            "display": null,
            "flex": null,
            "flex_flow": null,
            "grid_area": null,
            "grid_auto_columns": null,
            "grid_auto_flow": null,
            "grid_auto_rows": null,
            "grid_column": null,
            "grid_gap": null,
            "grid_row": null,
            "grid_template_areas": null,
            "grid_template_columns": null,
            "grid_template_rows": null,
            "height": null,
            "justify_content": null,
            "justify_items": null,
            "left": null,
            "margin": null,
            "max_height": null,
            "max_width": null,
            "min_height": null,
            "min_width": null,
            "object_fit": null,
            "object_position": null,
            "order": null,
            "overflow": null,
            "overflow_x": null,
            "overflow_y": null,
            "padding": null,
            "right": null,
            "top": null,
            "visibility": null,
            "width": null
          }
        },
        "12de68294a9e4a65a199fa726cf238fb": {
          "model_module": "@jupyter-widgets/controls",
          "model_name": "DescriptionStyleModel",
          "model_module_version": "1.5.0",
          "state": {
            "_model_module": "@jupyter-widgets/controls",
            "_model_module_version": "1.5.0",
            "_model_name": "DescriptionStyleModel",
            "_view_count": null,
            "_view_module": "@jupyter-widgets/base",
            "_view_module_version": "1.2.0",
            "_view_name": "StyleView",
            "description_width": ""
          }
        },
        "c35978830990459b8a5cccfa951cbaf4": {
          "model_module": "@jupyter-widgets/controls",
          "model_name": "HBoxModel",
          "model_module_version": "1.5.0",
          "state": {
            "_dom_classes": [],
            "_model_module": "@jupyter-widgets/controls",
            "_model_module_version": "1.5.0",
            "_model_name": "HBoxModel",
            "_view_count": null,
            "_view_module": "@jupyter-widgets/controls",
            "_view_module_version": "1.5.0",
            "_view_name": "HBoxView",
            "box_style": "",
            "children": [
              "IPY_MODEL_a18e521921834b0dbb20676cc4a6f5ae",
              "IPY_MODEL_3f09aef2af324150a2fc360eda322a2a",
              "IPY_MODEL_720697eca9714360b4f47c17943a486a"
            ],
            "layout": "IPY_MODEL_958a697b354145319e2adde77bd411d5"
          }
        },
        "a18e521921834b0dbb20676cc4a6f5ae": {
          "model_module": "@jupyter-widgets/controls",
          "model_name": "HTMLModel",
          "model_module_version": "1.5.0",
          "state": {
            "_dom_classes": [],
            "_model_module": "@jupyter-widgets/controls",
            "_model_module_version": "1.5.0",
            "_model_name": "HTMLModel",
            "_view_count": null,
            "_view_module": "@jupyter-widgets/controls",
            "_view_module_version": "1.5.0",
            "_view_name": "HTMLView",
            "description": "",
            "description_tooltip": null,
            "layout": "IPY_MODEL_286e755ca69341d4bd4c3b90c4d51947",
            "placeholder": "​",
            "style": "IPY_MODEL_9f88cc1956a24d20bef459615f7e0e51",
            "value": "sentence_bert_config.json: 100%"
          }
        },
        "3f09aef2af324150a2fc360eda322a2a": {
          "model_module": "@jupyter-widgets/controls",
          "model_name": "FloatProgressModel",
          "model_module_version": "1.5.0",
          "state": {
            "_dom_classes": [],
            "_model_module": "@jupyter-widgets/controls",
            "_model_module_version": "1.5.0",
            "_model_name": "FloatProgressModel",
            "_view_count": null,
            "_view_module": "@jupyter-widgets/controls",
            "_view_module_version": "1.5.0",
            "_view_name": "ProgressView",
            "bar_style": "success",
            "description": "",
            "description_tooltip": null,
            "layout": "IPY_MODEL_176ffd47af494678976f454d7c59d8e1",
            "max": 53,
            "min": 0,
            "orientation": "horizontal",
            "style": "IPY_MODEL_c688e7f5326b4a09b88fe547d26c339c",
            "value": 53
          }
        },
        "720697eca9714360b4f47c17943a486a": {
          "model_module": "@jupyter-widgets/controls",
          "model_name": "HTMLModel",
          "model_module_version": "1.5.0",
          "state": {
            "_dom_classes": [],
            "_model_module": "@jupyter-widgets/controls",
            "_model_module_version": "1.5.0",
            "_model_name": "HTMLModel",
            "_view_count": null,
            "_view_module": "@jupyter-widgets/controls",
            "_view_module_version": "1.5.0",
            "_view_name": "HTMLView",
            "description": "",
            "description_tooltip": null,
            "layout": "IPY_MODEL_5991fe56986e426d80dddca6b141701e",
            "placeholder": "​",
            "style": "IPY_MODEL_c89a630497bb450cafa54b4c97de1216",
            "value": " 53.0/53.0 [00:00&lt;00:00, 3.09kB/s]"
          }
        },
        "958a697b354145319e2adde77bd411d5": {
          "model_module": "@jupyter-widgets/base",
          "model_name": "LayoutModel",
          "model_module_version": "1.2.0",
          "state": {
            "_model_module": "@jupyter-widgets/base",
            "_model_module_version": "1.2.0",
            "_model_name": "LayoutModel",
            "_view_count": null,
            "_view_module": "@jupyter-widgets/base",
            "_view_module_version": "1.2.0",
            "_view_name": "LayoutView",
            "align_content": null,
            "align_items": null,
            "align_self": null,
            "border": null,
            "bottom": null,
            "display": null,
            "flex": null,
            "flex_flow": null,
            "grid_area": null,
            "grid_auto_columns": null,
            "grid_auto_flow": null,
            "grid_auto_rows": null,
            "grid_column": null,
            "grid_gap": null,
            "grid_row": null,
            "grid_template_areas": null,
            "grid_template_columns": null,
            "grid_template_rows": null,
            "height": null,
            "justify_content": null,
            "justify_items": null,
            "left": null,
            "margin": null,
            "max_height": null,
            "max_width": null,
            "min_height": null,
            "min_width": null,
            "object_fit": null,
            "object_position": null,
            "order": null,
            "overflow": null,
            "overflow_x": null,
            "overflow_y": null,
            "padding": null,
            "right": null,
            "top": null,
            "visibility": null,
            "width": null
          }
        },
        "286e755ca69341d4bd4c3b90c4d51947": {
          "model_module": "@jupyter-widgets/base",
          "model_name": "LayoutModel",
          "model_module_version": "1.2.0",
          "state": {
            "_model_module": "@jupyter-widgets/base",
            "_model_module_version": "1.2.0",
            "_model_name": "LayoutModel",
            "_view_count": null,
            "_view_module": "@jupyter-widgets/base",
            "_view_module_version": "1.2.0",
            "_view_name": "LayoutView",
            "align_content": null,
            "align_items": null,
            "align_self": null,
            "border": null,
            "bottom": null,
            "display": null,
            "flex": null,
            "flex_flow": null,
            "grid_area": null,
            "grid_auto_columns": null,
            "grid_auto_flow": null,
            "grid_auto_rows": null,
            "grid_column": null,
            "grid_gap": null,
            "grid_row": null,
            "grid_template_areas": null,
            "grid_template_columns": null,
            "grid_template_rows": null,
            "height": null,
            "justify_content": null,
            "justify_items": null,
            "left": null,
            "margin": null,
            "max_height": null,
            "max_width": null,
            "min_height": null,
            "min_width": null,
            "object_fit": null,
            "object_position": null,
            "order": null,
            "overflow": null,
            "overflow_x": null,
            "overflow_y": null,
            "padding": null,
            "right": null,
            "top": null,
            "visibility": null,
            "width": null
          }
        },
        "9f88cc1956a24d20bef459615f7e0e51": {
          "model_module": "@jupyter-widgets/controls",
          "model_name": "DescriptionStyleModel",
          "model_module_version": "1.5.0",
          "state": {
            "_model_module": "@jupyter-widgets/controls",
            "_model_module_version": "1.5.0",
            "_model_name": "DescriptionStyleModel",
            "_view_count": null,
            "_view_module": "@jupyter-widgets/base",
            "_view_module_version": "1.2.0",
            "_view_name": "StyleView",
            "description_width": ""
          }
        },
        "176ffd47af494678976f454d7c59d8e1": {
          "model_module": "@jupyter-widgets/base",
          "model_name": "LayoutModel",
          "model_module_version": "1.2.0",
          "state": {
            "_model_module": "@jupyter-widgets/base",
            "_model_module_version": "1.2.0",
            "_model_name": "LayoutModel",
            "_view_count": null,
            "_view_module": "@jupyter-widgets/base",
            "_view_module_version": "1.2.0",
            "_view_name": "LayoutView",
            "align_content": null,
            "align_items": null,
            "align_self": null,
            "border": null,
            "bottom": null,
            "display": null,
            "flex": null,
            "flex_flow": null,
            "grid_area": null,
            "grid_auto_columns": null,
            "grid_auto_flow": null,
            "grid_auto_rows": null,
            "grid_column": null,
            "grid_gap": null,
            "grid_row": null,
            "grid_template_areas": null,
            "grid_template_columns": null,
            "grid_template_rows": null,
            "height": null,
            "justify_content": null,
            "justify_items": null,
            "left": null,
            "margin": null,
            "max_height": null,
            "max_width": null,
            "min_height": null,
            "min_width": null,
            "object_fit": null,
            "object_position": null,
            "order": null,
            "overflow": null,
            "overflow_x": null,
            "overflow_y": null,
            "padding": null,
            "right": null,
            "top": null,
            "visibility": null,
            "width": null
          }
        },
        "c688e7f5326b4a09b88fe547d26c339c": {
          "model_module": "@jupyter-widgets/controls",
          "model_name": "ProgressStyleModel",
          "model_module_version": "1.5.0",
          "state": {
            "_model_module": "@jupyter-widgets/controls",
            "_model_module_version": "1.5.0",
            "_model_name": "ProgressStyleModel",
            "_view_count": null,
            "_view_module": "@jupyter-widgets/base",
            "_view_module_version": "1.2.0",
            "_view_name": "StyleView",
            "bar_color": null,
            "description_width": ""
          }
        },
        "5991fe56986e426d80dddca6b141701e": {
          "model_module": "@jupyter-widgets/base",
          "model_name": "LayoutModel",
          "model_module_version": "1.2.0",
          "state": {
            "_model_module": "@jupyter-widgets/base",
            "_model_module_version": "1.2.0",
            "_model_name": "LayoutModel",
            "_view_count": null,
            "_view_module": "@jupyter-widgets/base",
            "_view_module_version": "1.2.0",
            "_view_name": "LayoutView",
            "align_content": null,
            "align_items": null,
            "align_self": null,
            "border": null,
            "bottom": null,
            "display": null,
            "flex": null,
            "flex_flow": null,
            "grid_area": null,
            "grid_auto_columns": null,
            "grid_auto_flow": null,
            "grid_auto_rows": null,
            "grid_column": null,
            "grid_gap": null,
            "grid_row": null,
            "grid_template_areas": null,
            "grid_template_columns": null,
            "grid_template_rows": null,
            "height": null,
            "justify_content": null,
            "justify_items": null,
            "left": null,
            "margin": null,
            "max_height": null,
            "max_width": null,
            "min_height": null,
            "min_width": null,
            "object_fit": null,
            "object_position": null,
            "order": null,
            "overflow": null,
            "overflow_x": null,
            "overflow_y": null,
            "padding": null,
            "right": null,
            "top": null,
            "visibility": null,
            "width": null
          }
        },
        "c89a630497bb450cafa54b4c97de1216": {
          "model_module": "@jupyter-widgets/controls",
          "model_name": "DescriptionStyleModel",
          "model_module_version": "1.5.0",
          "state": {
            "_model_module": "@jupyter-widgets/controls",
            "_model_module_version": "1.5.0",
            "_model_name": "DescriptionStyleModel",
            "_view_count": null,
            "_view_module": "@jupyter-widgets/base",
            "_view_module_version": "1.2.0",
            "_view_name": "StyleView",
            "description_width": ""
          }
        },
        "fcf813f30d114b7ba4d71c3a873ae1c8": {
          "model_module": "@jupyter-widgets/controls",
          "model_name": "HBoxModel",
          "model_module_version": "1.5.0",
          "state": {
            "_dom_classes": [],
            "_model_module": "@jupyter-widgets/controls",
            "_model_module_version": "1.5.0",
            "_model_name": "HBoxModel",
            "_view_count": null,
            "_view_module": "@jupyter-widgets/controls",
            "_view_module_version": "1.5.0",
            "_view_name": "HBoxView",
            "box_style": "",
            "children": [
              "IPY_MODEL_6465eba0233f44ddbae5198bacf747f1",
              "IPY_MODEL_69872389478747cea31196c5d4b5dfff",
              "IPY_MODEL_c624fe6bef66422cb61a0782d2c8d657"
            ],
            "layout": "IPY_MODEL_32a15c9d9cd24c17b81cbd2930560abe"
          }
        },
        "6465eba0233f44ddbae5198bacf747f1": {
          "model_module": "@jupyter-widgets/controls",
          "model_name": "HTMLModel",
          "model_module_version": "1.5.0",
          "state": {
            "_dom_classes": [],
            "_model_module": "@jupyter-widgets/controls",
            "_model_module_version": "1.5.0",
            "_model_name": "HTMLModel",
            "_view_count": null,
            "_view_module": "@jupyter-widgets/controls",
            "_view_module_version": "1.5.0",
            "_view_name": "HTMLView",
            "description": "",
            "description_tooltip": null,
            "layout": "IPY_MODEL_30a7c0e4a49c47cca576ef4e657f004d",
            "placeholder": "​",
            "style": "IPY_MODEL_32b0517d8809433f83077b76918a1dcc",
            "value": "config.json: 100%"
          }
        },
        "69872389478747cea31196c5d4b5dfff": {
          "model_module": "@jupyter-widgets/controls",
          "model_name": "FloatProgressModel",
          "model_module_version": "1.5.0",
          "state": {
            "_dom_classes": [],
            "_model_module": "@jupyter-widgets/controls",
            "_model_module_version": "1.5.0",
            "_model_name": "FloatProgressModel",
            "_view_count": null,
            "_view_module": "@jupyter-widgets/controls",
            "_view_module_version": "1.5.0",
            "_view_name": "ProgressView",
            "bar_style": "success",
            "description": "",
            "description_tooltip": null,
            "layout": "IPY_MODEL_0d740375a7424341a7e39943acc23ba6",
            "max": 612,
            "min": 0,
            "orientation": "horizontal",
            "style": "IPY_MODEL_03f76047ac02471fab658db44c511b6a",
            "value": 612
          }
        },
        "c624fe6bef66422cb61a0782d2c8d657": {
          "model_module": "@jupyter-widgets/controls",
          "model_name": "HTMLModel",
          "model_module_version": "1.5.0",
          "state": {
            "_dom_classes": [],
            "_model_module": "@jupyter-widgets/controls",
            "_model_module_version": "1.5.0",
            "_model_name": "HTMLModel",
            "_view_count": null,
            "_view_module": "@jupyter-widgets/controls",
            "_view_module_version": "1.5.0",
            "_view_name": "HTMLView",
            "description": "",
            "description_tooltip": null,
            "layout": "IPY_MODEL_a96b5d00ba9e41a9991502ab851f997e",
            "placeholder": "​",
            "style": "IPY_MODEL_ac1ee832b537423c8354cec967a5d701",
            "value": " 612/612 [00:00&lt;00:00, 47.6kB/s]"
          }
        },
        "32a15c9d9cd24c17b81cbd2930560abe": {
          "model_module": "@jupyter-widgets/base",
          "model_name": "LayoutModel",
          "model_module_version": "1.2.0",
          "state": {
            "_model_module": "@jupyter-widgets/base",
            "_model_module_version": "1.2.0",
            "_model_name": "LayoutModel",
            "_view_count": null,
            "_view_module": "@jupyter-widgets/base",
            "_view_module_version": "1.2.0",
            "_view_name": "LayoutView",
            "align_content": null,
            "align_items": null,
            "align_self": null,
            "border": null,
            "bottom": null,
            "display": null,
            "flex": null,
            "flex_flow": null,
            "grid_area": null,
            "grid_auto_columns": null,
            "grid_auto_flow": null,
            "grid_auto_rows": null,
            "grid_column": null,
            "grid_gap": null,
            "grid_row": null,
            "grid_template_areas": null,
            "grid_template_columns": null,
            "grid_template_rows": null,
            "height": null,
            "justify_content": null,
            "justify_items": null,
            "left": null,
            "margin": null,
            "max_height": null,
            "max_width": null,
            "min_height": null,
            "min_width": null,
            "object_fit": null,
            "object_position": null,
            "order": null,
            "overflow": null,
            "overflow_x": null,
            "overflow_y": null,
            "padding": null,
            "right": null,
            "top": null,
            "visibility": null,
            "width": null
          }
        },
        "30a7c0e4a49c47cca576ef4e657f004d": {
          "model_module": "@jupyter-widgets/base",
          "model_name": "LayoutModel",
          "model_module_version": "1.2.0",
          "state": {
            "_model_module": "@jupyter-widgets/base",
            "_model_module_version": "1.2.0",
            "_model_name": "LayoutModel",
            "_view_count": null,
            "_view_module": "@jupyter-widgets/base",
            "_view_module_version": "1.2.0",
            "_view_name": "LayoutView",
            "align_content": null,
            "align_items": null,
            "align_self": null,
            "border": null,
            "bottom": null,
            "display": null,
            "flex": null,
            "flex_flow": null,
            "grid_area": null,
            "grid_auto_columns": null,
            "grid_auto_flow": null,
            "grid_auto_rows": null,
            "grid_column": null,
            "grid_gap": null,
            "grid_row": null,
            "grid_template_areas": null,
            "grid_template_columns": null,
            "grid_template_rows": null,
            "height": null,
            "justify_content": null,
            "justify_items": null,
            "left": null,
            "margin": null,
            "max_height": null,
            "max_width": null,
            "min_height": null,
            "min_width": null,
            "object_fit": null,
            "object_position": null,
            "order": null,
            "overflow": null,
            "overflow_x": null,
            "overflow_y": null,
            "padding": null,
            "right": null,
            "top": null,
            "visibility": null,
            "width": null
          }
        },
        "32b0517d8809433f83077b76918a1dcc": {
          "model_module": "@jupyter-widgets/controls",
          "model_name": "DescriptionStyleModel",
          "model_module_version": "1.5.0",
          "state": {
            "_model_module": "@jupyter-widgets/controls",
            "_model_module_version": "1.5.0",
            "_model_name": "DescriptionStyleModel",
            "_view_count": null,
            "_view_module": "@jupyter-widgets/base",
            "_view_module_version": "1.2.0",
            "_view_name": "StyleView",
            "description_width": ""
          }
        },
        "0d740375a7424341a7e39943acc23ba6": {
          "model_module": "@jupyter-widgets/base",
          "model_name": "LayoutModel",
          "model_module_version": "1.2.0",
          "state": {
            "_model_module": "@jupyter-widgets/base",
            "_model_module_version": "1.2.0",
            "_model_name": "LayoutModel",
            "_view_count": null,
            "_view_module": "@jupyter-widgets/base",
            "_view_module_version": "1.2.0",
            "_view_name": "LayoutView",
            "align_content": null,
            "align_items": null,
            "align_self": null,
            "border": null,
            "bottom": null,
            "display": null,
            "flex": null,
            "flex_flow": null,
            "grid_area": null,
            "grid_auto_columns": null,
            "grid_auto_flow": null,
            "grid_auto_rows": null,
            "grid_column": null,
            "grid_gap": null,
            "grid_row": null,
            "grid_template_areas": null,
            "grid_template_columns": null,
            "grid_template_rows": null,
            "height": null,
            "justify_content": null,
            "justify_items": null,
            "left": null,
            "margin": null,
            "max_height": null,
            "max_width": null,
            "min_height": null,
            "min_width": null,
            "object_fit": null,
            "object_position": null,
            "order": null,
            "overflow": null,
            "overflow_x": null,
            "overflow_y": null,
            "padding": null,
            "right": null,
            "top": null,
            "visibility": null,
            "width": null
          }
        },
        "03f76047ac02471fab658db44c511b6a": {
          "model_module": "@jupyter-widgets/controls",
          "model_name": "ProgressStyleModel",
          "model_module_version": "1.5.0",
          "state": {
            "_model_module": "@jupyter-widgets/controls",
            "_model_module_version": "1.5.0",
            "_model_name": "ProgressStyleModel",
            "_view_count": null,
            "_view_module": "@jupyter-widgets/base",
            "_view_module_version": "1.2.0",
            "_view_name": "StyleView",
            "bar_color": null,
            "description_width": ""
          }
        },
        "a96b5d00ba9e41a9991502ab851f997e": {
          "model_module": "@jupyter-widgets/base",
          "model_name": "LayoutModel",
          "model_module_version": "1.2.0",
          "state": {
            "_model_module": "@jupyter-widgets/base",
            "_model_module_version": "1.2.0",
            "_model_name": "LayoutModel",
            "_view_count": null,
            "_view_module": "@jupyter-widgets/base",
            "_view_module_version": "1.2.0",
            "_view_name": "LayoutView",
            "align_content": null,
            "align_items": null,
            "align_self": null,
            "border": null,
            "bottom": null,
            "display": null,
            "flex": null,
            "flex_flow": null,
            "grid_area": null,
            "grid_auto_columns": null,
            "grid_auto_flow": null,
            "grid_auto_rows": null,
            "grid_column": null,
            "grid_gap": null,
            "grid_row": null,
            "grid_template_areas": null,
            "grid_template_columns": null,
            "grid_template_rows": null,
            "height": null,
            "justify_content": null,
            "justify_items": null,
            "left": null,
            "margin": null,
            "max_height": null,
            "max_width": null,
            "min_height": null,
            "min_width": null,
            "object_fit": null,
            "object_position": null,
            "order": null,
            "overflow": null,
            "overflow_x": null,
            "overflow_y": null,
            "padding": null,
            "right": null,
            "top": null,
            "visibility": null,
            "width": null
          }
        },
        "ac1ee832b537423c8354cec967a5d701": {
          "model_module": "@jupyter-widgets/controls",
          "model_name": "DescriptionStyleModel",
          "model_module_version": "1.5.0",
          "state": {
            "_model_module": "@jupyter-widgets/controls",
            "_model_module_version": "1.5.0",
            "_model_name": "DescriptionStyleModel",
            "_view_count": null,
            "_view_module": "@jupyter-widgets/base",
            "_view_module_version": "1.2.0",
            "_view_name": "StyleView",
            "description_width": ""
          }
        },
        "69726d2cb93b4a9ab9e9da253f27c424": {
          "model_module": "@jupyter-widgets/controls",
          "model_name": "HBoxModel",
          "model_module_version": "1.5.0",
          "state": {
            "_dom_classes": [],
            "_model_module": "@jupyter-widgets/controls",
            "_model_module_version": "1.5.0",
            "_model_name": "HBoxModel",
            "_view_count": null,
            "_view_module": "@jupyter-widgets/controls",
            "_view_module_version": "1.5.0",
            "_view_name": "HBoxView",
            "box_style": "",
            "children": [
              "IPY_MODEL_a4e0d1704d4b45868f7c24e2ba1a4725",
              "IPY_MODEL_3ba406705f0b4f529984cebd02753d13",
              "IPY_MODEL_473121f015934d46808c620e5e49c971"
            ],
            "layout": "IPY_MODEL_3ead9648c064484da3ade4fdd77af326"
          }
        },
        "a4e0d1704d4b45868f7c24e2ba1a4725": {
          "model_module": "@jupyter-widgets/controls",
          "model_name": "HTMLModel",
          "model_module_version": "1.5.0",
          "state": {
            "_dom_classes": [],
            "_model_module": "@jupyter-widgets/controls",
            "_model_module_version": "1.5.0",
            "_model_name": "HTMLModel",
            "_view_count": null,
            "_view_module": "@jupyter-widgets/controls",
            "_view_module_version": "1.5.0",
            "_view_name": "HTMLView",
            "description": "",
            "description_tooltip": null,
            "layout": "IPY_MODEL_13933ea9894c46a5bf1eec34db4e7a50",
            "placeholder": "​",
            "style": "IPY_MODEL_82ad23b2b0744878844b52e47871b3a3",
            "value": "model.safetensors: 100%"
          }
        },
        "3ba406705f0b4f529984cebd02753d13": {
          "model_module": "@jupyter-widgets/controls",
          "model_name": "FloatProgressModel",
          "model_module_version": "1.5.0",
          "state": {
            "_dom_classes": [],
            "_model_module": "@jupyter-widgets/controls",
            "_model_module_version": "1.5.0",
            "_model_name": "FloatProgressModel",
            "_view_count": null,
            "_view_module": "@jupyter-widgets/controls",
            "_view_module_version": "1.5.0",
            "_view_name": "ProgressView",
            "bar_style": "success",
            "description": "",
            "description_tooltip": null,
            "layout": "IPY_MODEL_db5b47618e2c4dc991e4fe43265c8448",
            "max": 90868376,
            "min": 0,
            "orientation": "horizontal",
            "style": "IPY_MODEL_9e0d40cd8a8845c0b1ac39469b0f51f3",
            "value": 90868376
          }
        },
        "473121f015934d46808c620e5e49c971": {
          "model_module": "@jupyter-widgets/controls",
          "model_name": "HTMLModel",
          "model_module_version": "1.5.0",
          "state": {
            "_dom_classes": [],
            "_model_module": "@jupyter-widgets/controls",
            "_model_module_version": "1.5.0",
            "_model_name": "HTMLModel",
            "_view_count": null,
            "_view_module": "@jupyter-widgets/controls",
            "_view_module_version": "1.5.0",
            "_view_name": "HTMLView",
            "description": "",
            "description_tooltip": null,
            "layout": "IPY_MODEL_9017f000157b4da7bce34d7e5b7c2449",
            "placeholder": "​",
            "style": "IPY_MODEL_6eedd443b8154690adeb3f094d62f482",
            "value": " 90.9M/90.9M [00:00&lt;00:00, 309MB/s]"
          }
        },
        "3ead9648c064484da3ade4fdd77af326": {
          "model_module": "@jupyter-widgets/base",
          "model_name": "LayoutModel",
          "model_module_version": "1.2.0",
          "state": {
            "_model_module": "@jupyter-widgets/base",
            "_model_module_version": "1.2.0",
            "_model_name": "LayoutModel",
            "_view_count": null,
            "_view_module": "@jupyter-widgets/base",
            "_view_module_version": "1.2.0",
            "_view_name": "LayoutView",
            "align_content": null,
            "align_items": null,
            "align_self": null,
            "border": null,
            "bottom": null,
            "display": null,
            "flex": null,
            "flex_flow": null,
            "grid_area": null,
            "grid_auto_columns": null,
            "grid_auto_flow": null,
            "grid_auto_rows": null,
            "grid_column": null,
            "grid_gap": null,
            "grid_row": null,
            "grid_template_areas": null,
            "grid_template_columns": null,
            "grid_template_rows": null,
            "height": null,
            "justify_content": null,
            "justify_items": null,
            "left": null,
            "margin": null,
            "max_height": null,
            "max_width": null,
            "min_height": null,
            "min_width": null,
            "object_fit": null,
            "object_position": null,
            "order": null,
            "overflow": null,
            "overflow_x": null,
            "overflow_y": null,
            "padding": null,
            "right": null,
            "top": null,
            "visibility": null,
            "width": null
          }
        },
        "13933ea9894c46a5bf1eec34db4e7a50": {
          "model_module": "@jupyter-widgets/base",
          "model_name": "LayoutModel",
          "model_module_version": "1.2.0",
          "state": {
            "_model_module": "@jupyter-widgets/base",
            "_model_module_version": "1.2.0",
            "_model_name": "LayoutModel",
            "_view_count": null,
            "_view_module": "@jupyter-widgets/base",
            "_view_module_version": "1.2.0",
            "_view_name": "LayoutView",
            "align_content": null,
            "align_items": null,
            "align_self": null,
            "border": null,
            "bottom": null,
            "display": null,
            "flex": null,
            "flex_flow": null,
            "grid_area": null,
            "grid_auto_columns": null,
            "grid_auto_flow": null,
            "grid_auto_rows": null,
            "grid_column": null,
            "grid_gap": null,
            "grid_row": null,
            "grid_template_areas": null,
            "grid_template_columns": null,
            "grid_template_rows": null,
            "height": null,
            "justify_content": null,
            "justify_items": null,
            "left": null,
            "margin": null,
            "max_height": null,
            "max_width": null,
            "min_height": null,
            "min_width": null,
            "object_fit": null,
            "object_position": null,
            "order": null,
            "overflow": null,
            "overflow_x": null,
            "overflow_y": null,
            "padding": null,
            "right": null,
            "top": null,
            "visibility": null,
            "width": null
          }
        },
        "82ad23b2b0744878844b52e47871b3a3": {
          "model_module": "@jupyter-widgets/controls",
          "model_name": "DescriptionStyleModel",
          "model_module_version": "1.5.0",
          "state": {
            "_model_module": "@jupyter-widgets/controls",
            "_model_module_version": "1.5.0",
            "_model_name": "DescriptionStyleModel",
            "_view_count": null,
            "_view_module": "@jupyter-widgets/base",
            "_view_module_version": "1.2.0",
            "_view_name": "StyleView",
            "description_width": ""
          }
        },
        "db5b47618e2c4dc991e4fe43265c8448": {
          "model_module": "@jupyter-widgets/base",
          "model_name": "LayoutModel",
          "model_module_version": "1.2.0",
          "state": {
            "_model_module": "@jupyter-widgets/base",
            "_model_module_version": "1.2.0",
            "_model_name": "LayoutModel",
            "_view_count": null,
            "_view_module": "@jupyter-widgets/base",
            "_view_module_version": "1.2.0",
            "_view_name": "LayoutView",
            "align_content": null,
            "align_items": null,
            "align_self": null,
            "border": null,
            "bottom": null,
            "display": null,
            "flex": null,
            "flex_flow": null,
            "grid_area": null,
            "grid_auto_columns": null,
            "grid_auto_flow": null,
            "grid_auto_rows": null,
            "grid_column": null,
            "grid_gap": null,
            "grid_row": null,
            "grid_template_areas": null,
            "grid_template_columns": null,
            "grid_template_rows": null,
            "height": null,
            "justify_content": null,
            "justify_items": null,
            "left": null,
            "margin": null,
            "max_height": null,
            "max_width": null,
            "min_height": null,
            "min_width": null,
            "object_fit": null,
            "object_position": null,
            "order": null,
            "overflow": null,
            "overflow_x": null,
            "overflow_y": null,
            "padding": null,
            "right": null,
            "top": null,
            "visibility": null,
            "width": null
          }
        },
        "9e0d40cd8a8845c0b1ac39469b0f51f3": {
          "model_module": "@jupyter-widgets/controls",
          "model_name": "ProgressStyleModel",
          "model_module_version": "1.5.0",
          "state": {
            "_model_module": "@jupyter-widgets/controls",
            "_model_module_version": "1.5.0",
            "_model_name": "ProgressStyleModel",
            "_view_count": null,
            "_view_module": "@jupyter-widgets/base",
            "_view_module_version": "1.2.0",
            "_view_name": "StyleView",
            "bar_color": null,
            "description_width": ""
          }
        },
        "9017f000157b4da7bce34d7e5b7c2449": {
          "model_module": "@jupyter-widgets/base",
          "model_name": "LayoutModel",
          "model_module_version": "1.2.0",
          "state": {
            "_model_module": "@jupyter-widgets/base",
            "_model_module_version": "1.2.0",
            "_model_name": "LayoutModel",
            "_view_count": null,
            "_view_module": "@jupyter-widgets/base",
            "_view_module_version": "1.2.0",
            "_view_name": "LayoutView",
            "align_content": null,
            "align_items": null,
            "align_self": null,
            "border": null,
            "bottom": null,
            "display": null,
            "flex": null,
            "flex_flow": null,
            "grid_area": null,
            "grid_auto_columns": null,
            "grid_auto_flow": null,
            "grid_auto_rows": null,
            "grid_column": null,
            "grid_gap": null,
            "grid_row": null,
            "grid_template_areas": null,
            "grid_template_columns": null,
            "grid_template_rows": null,
            "height": null,
            "justify_content": null,
            "justify_items": null,
            "left": null,
            "margin": null,
            "max_height": null,
            "max_width": null,
            "min_height": null,
            "min_width": null,
            "object_fit": null,
            "object_position": null,
            "order": null,
            "overflow": null,
            "overflow_x": null,
            "overflow_y": null,
            "padding": null,
            "right": null,
            "top": null,
            "visibility": null,
            "width": null
          }
        },
        "6eedd443b8154690adeb3f094d62f482": {
          "model_module": "@jupyter-widgets/controls",
          "model_name": "DescriptionStyleModel",
          "model_module_version": "1.5.0",
          "state": {
            "_model_module": "@jupyter-widgets/controls",
            "_model_module_version": "1.5.0",
            "_model_name": "DescriptionStyleModel",
            "_view_count": null,
            "_view_module": "@jupyter-widgets/base",
            "_view_module_version": "1.2.0",
            "_view_name": "StyleView",
            "description_width": ""
          }
        },
        "5825de697c3e4f4ba8ce5bb236c9f6aa": {
          "model_module": "@jupyter-widgets/controls",
          "model_name": "HBoxModel",
          "model_module_version": "1.5.0",
          "state": {
            "_dom_classes": [],
            "_model_module": "@jupyter-widgets/controls",
            "_model_module_version": "1.5.0",
            "_model_name": "HBoxModel",
            "_view_count": null,
            "_view_module": "@jupyter-widgets/controls",
            "_view_module_version": "1.5.0",
            "_view_name": "HBoxView",
            "box_style": "",
            "children": [
              "IPY_MODEL_af037a5a7b70457a8a85795455bc5b34",
              "IPY_MODEL_3794a4e8c7d4430bb8e03d938a986fb5",
              "IPY_MODEL_e284111aa7644b24a1353e952415800a"
            ],
            "layout": "IPY_MODEL_77e34a5b2fff4e5b85e745be07754738"
          }
        },
        "af037a5a7b70457a8a85795455bc5b34": {
          "model_module": "@jupyter-widgets/controls",
          "model_name": "HTMLModel",
          "model_module_version": "1.5.0",
          "state": {
            "_dom_classes": [],
            "_model_module": "@jupyter-widgets/controls",
            "_model_module_version": "1.5.0",
            "_model_name": "HTMLModel",
            "_view_count": null,
            "_view_module": "@jupyter-widgets/controls",
            "_view_module_version": "1.5.0",
            "_view_name": "HTMLView",
            "description": "",
            "description_tooltip": null,
            "layout": "IPY_MODEL_a151e6f76d3f48a0bb152cb92738483c",
            "placeholder": "​",
            "style": "IPY_MODEL_ad587086e4f44b46982c87171cef0787",
            "value": "tokenizer_config.json: 100%"
          }
        },
        "3794a4e8c7d4430bb8e03d938a986fb5": {
          "model_module": "@jupyter-widgets/controls",
          "model_name": "FloatProgressModel",
          "model_module_version": "1.5.0",
          "state": {
            "_dom_classes": [],
            "_model_module": "@jupyter-widgets/controls",
            "_model_module_version": "1.5.0",
            "_model_name": "FloatProgressModel",
            "_view_count": null,
            "_view_module": "@jupyter-widgets/controls",
            "_view_module_version": "1.5.0",
            "_view_name": "ProgressView",
            "bar_style": "success",
            "description": "",
            "description_tooltip": null,
            "layout": "IPY_MODEL_f9b042a6ed30428e99a126234bb3752b",
            "max": 350,
            "min": 0,
            "orientation": "horizontal",
            "style": "IPY_MODEL_ef5e6c202641463f97450530901103aa",
            "value": 350
          }
        },
        "e284111aa7644b24a1353e952415800a": {
          "model_module": "@jupyter-widgets/controls",
          "model_name": "HTMLModel",
          "model_module_version": "1.5.0",
          "state": {
            "_dom_classes": [],
            "_model_module": "@jupyter-widgets/controls",
            "_model_module_version": "1.5.0",
            "_model_name": "HTMLModel",
            "_view_count": null,
            "_view_module": "@jupyter-widgets/controls",
            "_view_module_version": "1.5.0",
            "_view_name": "HTMLView",
            "description": "",
            "description_tooltip": null,
            "layout": "IPY_MODEL_00ee13b124b9447c86ae45a49b4d2738",
            "placeholder": "​",
            "style": "IPY_MODEL_3654ad344be348a5bdc5442000f280f0",
            "value": " 350/350 [00:00&lt;00:00, 25.7kB/s]"
          }
        },
        "77e34a5b2fff4e5b85e745be07754738": {
          "model_module": "@jupyter-widgets/base",
          "model_name": "LayoutModel",
          "model_module_version": "1.2.0",
          "state": {
            "_model_module": "@jupyter-widgets/base",
            "_model_module_version": "1.2.0",
            "_model_name": "LayoutModel",
            "_view_count": null,
            "_view_module": "@jupyter-widgets/base",
            "_view_module_version": "1.2.0",
            "_view_name": "LayoutView",
            "align_content": null,
            "align_items": null,
            "align_self": null,
            "border": null,
            "bottom": null,
            "display": null,
            "flex": null,
            "flex_flow": null,
            "grid_area": null,
            "grid_auto_columns": null,
            "grid_auto_flow": null,
            "grid_auto_rows": null,
            "grid_column": null,
            "grid_gap": null,
            "grid_row": null,
            "grid_template_areas": null,
            "grid_template_columns": null,
            "grid_template_rows": null,
            "height": null,
            "justify_content": null,
            "justify_items": null,
            "left": null,
            "margin": null,
            "max_height": null,
            "max_width": null,
            "min_height": null,
            "min_width": null,
            "object_fit": null,
            "object_position": null,
            "order": null,
            "overflow": null,
            "overflow_x": null,
            "overflow_y": null,
            "padding": null,
            "right": null,
            "top": null,
            "visibility": null,
            "width": null
          }
        },
        "a151e6f76d3f48a0bb152cb92738483c": {
          "model_module": "@jupyter-widgets/base",
          "model_name": "LayoutModel",
          "model_module_version": "1.2.0",
          "state": {
            "_model_module": "@jupyter-widgets/base",
            "_model_module_version": "1.2.0",
            "_model_name": "LayoutModel",
            "_view_count": null,
            "_view_module": "@jupyter-widgets/base",
            "_view_module_version": "1.2.0",
            "_view_name": "LayoutView",
            "align_content": null,
            "align_items": null,
            "align_self": null,
            "border": null,
            "bottom": null,
            "display": null,
            "flex": null,
            "flex_flow": null,
            "grid_area": null,
            "grid_auto_columns": null,
            "grid_auto_flow": null,
            "grid_auto_rows": null,
            "grid_column": null,
            "grid_gap": null,
            "grid_row": null,
            "grid_template_areas": null,
            "grid_template_columns": null,
            "grid_template_rows": null,
            "height": null,
            "justify_content": null,
            "justify_items": null,
            "left": null,
            "margin": null,
            "max_height": null,
            "max_width": null,
            "min_height": null,
            "min_width": null,
            "object_fit": null,
            "object_position": null,
            "order": null,
            "overflow": null,
            "overflow_x": null,
            "overflow_y": null,
            "padding": null,
            "right": null,
            "top": null,
            "visibility": null,
            "width": null
          }
        },
        "ad587086e4f44b46982c87171cef0787": {
          "model_module": "@jupyter-widgets/controls",
          "model_name": "DescriptionStyleModel",
          "model_module_version": "1.5.0",
          "state": {
            "_model_module": "@jupyter-widgets/controls",
            "_model_module_version": "1.5.0",
            "_model_name": "DescriptionStyleModel",
            "_view_count": null,
            "_view_module": "@jupyter-widgets/base",
            "_view_module_version": "1.2.0",
            "_view_name": "StyleView",
            "description_width": ""
          }
        },
        "f9b042a6ed30428e99a126234bb3752b": {
          "model_module": "@jupyter-widgets/base",
          "model_name": "LayoutModel",
          "model_module_version": "1.2.0",
          "state": {
            "_model_module": "@jupyter-widgets/base",
            "_model_module_version": "1.2.0",
            "_model_name": "LayoutModel",
            "_view_count": null,
            "_view_module": "@jupyter-widgets/base",
            "_view_module_version": "1.2.0",
            "_view_name": "LayoutView",
            "align_content": null,
            "align_items": null,
            "align_self": null,
            "border": null,
            "bottom": null,
            "display": null,
            "flex": null,
            "flex_flow": null,
            "grid_area": null,
            "grid_auto_columns": null,
            "grid_auto_flow": null,
            "grid_auto_rows": null,
            "grid_column": null,
            "grid_gap": null,
            "grid_row": null,
            "grid_template_areas": null,
            "grid_template_columns": null,
            "grid_template_rows": null,
            "height": null,
            "justify_content": null,
            "justify_items": null,
            "left": null,
            "margin": null,
            "max_height": null,
            "max_width": null,
            "min_height": null,
            "min_width": null,
            "object_fit": null,
            "object_position": null,
            "order": null,
            "overflow": null,
            "overflow_x": null,
            "overflow_y": null,
            "padding": null,
            "right": null,
            "top": null,
            "visibility": null,
            "width": null
          }
        },
        "ef5e6c202641463f97450530901103aa": {
          "model_module": "@jupyter-widgets/controls",
          "model_name": "ProgressStyleModel",
          "model_module_version": "1.5.0",
          "state": {
            "_model_module": "@jupyter-widgets/controls",
            "_model_module_version": "1.5.0",
            "_model_name": "ProgressStyleModel",
            "_view_count": null,
            "_view_module": "@jupyter-widgets/base",
            "_view_module_version": "1.2.0",
            "_view_name": "StyleView",
            "bar_color": null,
            "description_width": ""
          }
        },
        "00ee13b124b9447c86ae45a49b4d2738": {
          "model_module": "@jupyter-widgets/base",
          "model_name": "LayoutModel",
          "model_module_version": "1.2.0",
          "state": {
            "_model_module": "@jupyter-widgets/base",
            "_model_module_version": "1.2.0",
            "_model_name": "LayoutModel",
            "_view_count": null,
            "_view_module": "@jupyter-widgets/base",
            "_view_module_version": "1.2.0",
            "_view_name": "LayoutView",
            "align_content": null,
            "align_items": null,
            "align_self": null,
            "border": null,
            "bottom": null,
            "display": null,
            "flex": null,
            "flex_flow": null,
            "grid_area": null,
            "grid_auto_columns": null,
            "grid_auto_flow": null,
            "grid_auto_rows": null,
            "grid_column": null,
            "grid_gap": null,
            "grid_row": null,
            "grid_template_areas": null,
            "grid_template_columns": null,
            "grid_template_rows": null,
            "height": null,
            "justify_content": null,
            "justify_items": null,
            "left": null,
            "margin": null,
            "max_height": null,
            "max_width": null,
            "min_height": null,
            "min_width": null,
            "object_fit": null,
            "object_position": null,
            "order": null,
            "overflow": null,
            "overflow_x": null,
            "overflow_y": null,
            "padding": null,
            "right": null,
            "top": null,
            "visibility": null,
            "width": null
          }
        },
        "3654ad344be348a5bdc5442000f280f0": {
          "model_module": "@jupyter-widgets/controls",
          "model_name": "DescriptionStyleModel",
          "model_module_version": "1.5.0",
          "state": {
            "_model_module": "@jupyter-widgets/controls",
            "_model_module_version": "1.5.0",
            "_model_name": "DescriptionStyleModel",
            "_view_count": null,
            "_view_module": "@jupyter-widgets/base",
            "_view_module_version": "1.2.0",
            "_view_name": "StyleView",
            "description_width": ""
          }
        },
        "8daa2330a2c84f1cbf1bc61650de179f": {
          "model_module": "@jupyter-widgets/controls",
          "model_name": "HBoxModel",
          "model_module_version": "1.5.0",
          "state": {
            "_dom_classes": [],
            "_model_module": "@jupyter-widgets/controls",
            "_model_module_version": "1.5.0",
            "_model_name": "HBoxModel",
            "_view_count": null,
            "_view_module": "@jupyter-widgets/controls",
            "_view_module_version": "1.5.0",
            "_view_name": "HBoxView",
            "box_style": "",
            "children": [
              "IPY_MODEL_ef33e92a6ac34f4db9eec6a5ff40db72",
              "IPY_MODEL_468036907aff46649b1bc3a5753f3035",
              "IPY_MODEL_60558d3be0004026bf7b9e50e5b094ad"
            ],
            "layout": "IPY_MODEL_e78311d7624a461a96e50d69ecbefce5"
          }
        },
        "ef33e92a6ac34f4db9eec6a5ff40db72": {
          "model_module": "@jupyter-widgets/controls",
          "model_name": "HTMLModel",
          "model_module_version": "1.5.0",
          "state": {
            "_dom_classes": [],
            "_model_module": "@jupyter-widgets/controls",
            "_model_module_version": "1.5.0",
            "_model_name": "HTMLModel",
            "_view_count": null,
            "_view_module": "@jupyter-widgets/controls",
            "_view_module_version": "1.5.0",
            "_view_name": "HTMLView",
            "description": "",
            "description_tooltip": null,
            "layout": "IPY_MODEL_e4bdc567891e4e149db600e5510e1ab6",
            "placeholder": "​",
            "style": "IPY_MODEL_066a156b9bad4849b793e1e86be5f2df",
            "value": "vocab.txt: 100%"
          }
        },
        "468036907aff46649b1bc3a5753f3035": {
          "model_module": "@jupyter-widgets/controls",
          "model_name": "FloatProgressModel",
          "model_module_version": "1.5.0",
          "state": {
            "_dom_classes": [],
            "_model_module": "@jupyter-widgets/controls",
            "_model_module_version": "1.5.0",
            "_model_name": "FloatProgressModel",
            "_view_count": null,
            "_view_module": "@jupyter-widgets/controls",
            "_view_module_version": "1.5.0",
            "_view_name": "ProgressView",
            "bar_style": "success",
            "description": "",
            "description_tooltip": null,
            "layout": "IPY_MODEL_5b0f26b57d7e4439a8672d2b1fa26b55",
            "max": 231508,
            "min": 0,
            "orientation": "horizontal",
            "style": "IPY_MODEL_92212ca594ba49d0bf9ef6a5d58175ea",
            "value": 231508
          }
        },
        "60558d3be0004026bf7b9e50e5b094ad": {
          "model_module": "@jupyter-widgets/controls",
          "model_name": "HTMLModel",
          "model_module_version": "1.5.0",
          "state": {
            "_dom_classes": [],
            "_model_module": "@jupyter-widgets/controls",
            "_model_module_version": "1.5.0",
            "_model_name": "HTMLModel",
            "_view_count": null,
            "_view_module": "@jupyter-widgets/controls",
            "_view_module_version": "1.5.0",
            "_view_name": "HTMLView",
            "description": "",
            "description_tooltip": null,
            "layout": "IPY_MODEL_e60d2c32f9d9401d813bcde88c13d066",
            "placeholder": "​",
            "style": "IPY_MODEL_60f5f8ddeb354ba7a049fe0f9456fd7f",
            "value": " 232k/232k [00:00&lt;00:00, 523kB/s]"
          }
        },
        "e78311d7624a461a96e50d69ecbefce5": {
          "model_module": "@jupyter-widgets/base",
          "model_name": "LayoutModel",
          "model_module_version": "1.2.0",
          "state": {
            "_model_module": "@jupyter-widgets/base",
            "_model_module_version": "1.2.0",
            "_model_name": "LayoutModel",
            "_view_count": null,
            "_view_module": "@jupyter-widgets/base",
            "_view_module_version": "1.2.0",
            "_view_name": "LayoutView",
            "align_content": null,
            "align_items": null,
            "align_self": null,
            "border": null,
            "bottom": null,
            "display": null,
            "flex": null,
            "flex_flow": null,
            "grid_area": null,
            "grid_auto_columns": null,
            "grid_auto_flow": null,
            "grid_auto_rows": null,
            "grid_column": null,
            "grid_gap": null,
            "grid_row": null,
            "grid_template_areas": null,
            "grid_template_columns": null,
            "grid_template_rows": null,
            "height": null,
            "justify_content": null,
            "justify_items": null,
            "left": null,
            "margin": null,
            "max_height": null,
            "max_width": null,
            "min_height": null,
            "min_width": null,
            "object_fit": null,
            "object_position": null,
            "order": null,
            "overflow": null,
            "overflow_x": null,
            "overflow_y": null,
            "padding": null,
            "right": null,
            "top": null,
            "visibility": null,
            "width": null
          }
        },
        "e4bdc567891e4e149db600e5510e1ab6": {
          "model_module": "@jupyter-widgets/base",
          "model_name": "LayoutModel",
          "model_module_version": "1.2.0",
          "state": {
            "_model_module": "@jupyter-widgets/base",
            "_model_module_version": "1.2.0",
            "_model_name": "LayoutModel",
            "_view_count": null,
            "_view_module": "@jupyter-widgets/base",
            "_view_module_version": "1.2.0",
            "_view_name": "LayoutView",
            "align_content": null,
            "align_items": null,
            "align_self": null,
            "border": null,
            "bottom": null,
            "display": null,
            "flex": null,
            "flex_flow": null,
            "grid_area": null,
            "grid_auto_columns": null,
            "grid_auto_flow": null,
            "grid_auto_rows": null,
            "grid_column": null,
            "grid_gap": null,
            "grid_row": null,
            "grid_template_areas": null,
            "grid_template_columns": null,
            "grid_template_rows": null,
            "height": null,
            "justify_content": null,
            "justify_items": null,
            "left": null,
            "margin": null,
            "max_height": null,
            "max_width": null,
            "min_height": null,
            "min_width": null,
            "object_fit": null,
            "object_position": null,
            "order": null,
            "overflow": null,
            "overflow_x": null,
            "overflow_y": null,
            "padding": null,
            "right": null,
            "top": null,
            "visibility": null,
            "width": null
          }
        },
        "066a156b9bad4849b793e1e86be5f2df": {
          "model_module": "@jupyter-widgets/controls",
          "model_name": "DescriptionStyleModel",
          "model_module_version": "1.5.0",
          "state": {
            "_model_module": "@jupyter-widgets/controls",
            "_model_module_version": "1.5.0",
            "_model_name": "DescriptionStyleModel",
            "_view_count": null,
            "_view_module": "@jupyter-widgets/base",
            "_view_module_version": "1.2.0",
            "_view_name": "StyleView",
            "description_width": ""
          }
        },
        "5b0f26b57d7e4439a8672d2b1fa26b55": {
          "model_module": "@jupyter-widgets/base",
          "model_name": "LayoutModel",
          "model_module_version": "1.2.0",
          "state": {
            "_model_module": "@jupyter-widgets/base",
            "_model_module_version": "1.2.0",
            "_model_name": "LayoutModel",
            "_view_count": null,
            "_view_module": "@jupyter-widgets/base",
            "_view_module_version": "1.2.0",
            "_view_name": "LayoutView",
            "align_content": null,
            "align_items": null,
            "align_self": null,
            "border": null,
            "bottom": null,
            "display": null,
            "flex": null,
            "flex_flow": null,
            "grid_area": null,
            "grid_auto_columns": null,
            "grid_auto_flow": null,
            "grid_auto_rows": null,
            "grid_column": null,
            "grid_gap": null,
            "grid_row": null,
            "grid_template_areas": null,
            "grid_template_columns": null,
            "grid_template_rows": null,
            "height": null,
            "justify_content": null,
            "justify_items": null,
            "left": null,
            "margin": null,
            "max_height": null,
            "max_width": null,
            "min_height": null,
            "min_width": null,
            "object_fit": null,
            "object_position": null,
            "order": null,
            "overflow": null,
            "overflow_x": null,
            "overflow_y": null,
            "padding": null,
            "right": null,
            "top": null,
            "visibility": null,
            "width": null
          }
        },
        "92212ca594ba49d0bf9ef6a5d58175ea": {
          "model_module": "@jupyter-widgets/controls",
          "model_name": "ProgressStyleModel",
          "model_module_version": "1.5.0",
          "state": {
            "_model_module": "@jupyter-widgets/controls",
            "_model_module_version": "1.5.0",
            "_model_name": "ProgressStyleModel",
            "_view_count": null,
            "_view_module": "@jupyter-widgets/base",
            "_view_module_version": "1.2.0",
            "_view_name": "StyleView",
            "bar_color": null,
            "description_width": ""
          }
        },
        "e60d2c32f9d9401d813bcde88c13d066": {
          "model_module": "@jupyter-widgets/base",
          "model_name": "LayoutModel",
          "model_module_version": "1.2.0",
          "state": {
            "_model_module": "@jupyter-widgets/base",
            "_model_module_version": "1.2.0",
            "_model_name": "LayoutModel",
            "_view_count": null,
            "_view_module": "@jupyter-widgets/base",
            "_view_module_version": "1.2.0",
            "_view_name": "LayoutView",
            "align_content": null,
            "align_items": null,
            "align_self": null,
            "border": null,
            "bottom": null,
            "display": null,
            "flex": null,
            "flex_flow": null,
            "grid_area": null,
            "grid_auto_columns": null,
            "grid_auto_flow": null,
            "grid_auto_rows": null,
            "grid_column": null,
            "grid_gap": null,
            "grid_row": null,
            "grid_template_areas": null,
            "grid_template_columns": null,
            "grid_template_rows": null,
            "height": null,
            "justify_content": null,
            "justify_items": null,
            "left": null,
            "margin": null,
            "max_height": null,
            "max_width": null,
            "min_height": null,
            "min_width": null,
            "object_fit": null,
            "object_position": null,
            "order": null,
            "overflow": null,
            "overflow_x": null,
            "overflow_y": null,
            "padding": null,
            "right": null,
            "top": null,
            "visibility": null,
            "width": null
          }
        },
        "60f5f8ddeb354ba7a049fe0f9456fd7f": {
          "model_module": "@jupyter-widgets/controls",
          "model_name": "DescriptionStyleModel",
          "model_module_version": "1.5.0",
          "state": {
            "_model_module": "@jupyter-widgets/controls",
            "_model_module_version": "1.5.0",
            "_model_name": "DescriptionStyleModel",
            "_view_count": null,
            "_view_module": "@jupyter-widgets/base",
            "_view_module_version": "1.2.0",
            "_view_name": "StyleView",
            "description_width": ""
          }
        },
        "aa34cf42083e4dc6befcd137f919b347": {
          "model_module": "@jupyter-widgets/controls",
          "model_name": "HBoxModel",
          "model_module_version": "1.5.0",
          "state": {
            "_dom_classes": [],
            "_model_module": "@jupyter-widgets/controls",
            "_model_module_version": "1.5.0",
            "_model_name": "HBoxModel",
            "_view_count": null,
            "_view_module": "@jupyter-widgets/controls",
            "_view_module_version": "1.5.0",
            "_view_name": "HBoxView",
            "box_style": "",
            "children": [
              "IPY_MODEL_19c9ce1560dc4051bd9b93669c9edb93",
              "IPY_MODEL_7efe52ceac4649ddb72f270822f56284",
              "IPY_MODEL_35613a0b007f4dc1929b591b52843b59"
            ],
            "layout": "IPY_MODEL_400b3a7e0e9345bab8e2c70f5adf1e85"
          }
        },
        "19c9ce1560dc4051bd9b93669c9edb93": {
          "model_module": "@jupyter-widgets/controls",
          "model_name": "HTMLModel",
          "model_module_version": "1.5.0",
          "state": {
            "_dom_classes": [],
            "_model_module": "@jupyter-widgets/controls",
            "_model_module_version": "1.5.0",
            "_model_name": "HTMLModel",
            "_view_count": null,
            "_view_module": "@jupyter-widgets/controls",
            "_view_module_version": "1.5.0",
            "_view_name": "HTMLView",
            "description": "",
            "description_tooltip": null,
            "layout": "IPY_MODEL_98393ef791ed4ba59d7102f05b8e2f13",
            "placeholder": "​",
            "style": "IPY_MODEL_3bf3cc98b0424fb2972b55292afe9933",
            "value": "tokenizer.json: 100%"
          }
        },
        "7efe52ceac4649ddb72f270822f56284": {
          "model_module": "@jupyter-widgets/controls",
          "model_name": "FloatProgressModel",
          "model_module_version": "1.5.0",
          "state": {
            "_dom_classes": [],
            "_model_module": "@jupyter-widgets/controls",
            "_model_module_version": "1.5.0",
            "_model_name": "FloatProgressModel",
            "_view_count": null,
            "_view_module": "@jupyter-widgets/controls",
            "_view_module_version": "1.5.0",
            "_view_name": "ProgressView",
            "bar_style": "success",
            "description": "",
            "description_tooltip": null,
            "layout": "IPY_MODEL_eed6026aa48d4ca2bc923f8b45d9ba10",
            "max": 466247,
            "min": 0,
            "orientation": "horizontal",
            "style": "IPY_MODEL_91d024fc6c01410e9cbe9f436f6a1145",
            "value": 466247
          }
        },
        "35613a0b007f4dc1929b591b52843b59": {
          "model_module": "@jupyter-widgets/controls",
          "model_name": "HTMLModel",
          "model_module_version": "1.5.0",
          "state": {
            "_dom_classes": [],
            "_model_module": "@jupyter-widgets/controls",
            "_model_module_version": "1.5.0",
            "_model_name": "HTMLModel",
            "_view_count": null,
            "_view_module": "@jupyter-widgets/controls",
            "_view_module_version": "1.5.0",
            "_view_name": "HTMLView",
            "description": "",
            "description_tooltip": null,
            "layout": "IPY_MODEL_7fb8c3e8cfd7407fb7c45da6292c45fc",
            "placeholder": "​",
            "style": "IPY_MODEL_9da1abd38731436aa12af83fc5e0b6f3",
            "value": " 466k/466k [00:00&lt;00:00, 713kB/s]"
          }
        },
        "400b3a7e0e9345bab8e2c70f5adf1e85": {
          "model_module": "@jupyter-widgets/base",
          "model_name": "LayoutModel",
          "model_module_version": "1.2.0",
          "state": {
            "_model_module": "@jupyter-widgets/base",
            "_model_module_version": "1.2.0",
            "_model_name": "LayoutModel",
            "_view_count": null,
            "_view_module": "@jupyter-widgets/base",
            "_view_module_version": "1.2.0",
            "_view_name": "LayoutView",
            "align_content": null,
            "align_items": null,
            "align_self": null,
            "border": null,
            "bottom": null,
            "display": null,
            "flex": null,
            "flex_flow": null,
            "grid_area": null,
            "grid_auto_columns": null,
            "grid_auto_flow": null,
            "grid_auto_rows": null,
            "grid_column": null,
            "grid_gap": null,
            "grid_row": null,
            "grid_template_areas": null,
            "grid_template_columns": null,
            "grid_template_rows": null,
            "height": null,
            "justify_content": null,
            "justify_items": null,
            "left": null,
            "margin": null,
            "max_height": null,
            "max_width": null,
            "min_height": null,
            "min_width": null,
            "object_fit": null,
            "object_position": null,
            "order": null,
            "overflow": null,
            "overflow_x": null,
            "overflow_y": null,
            "padding": null,
            "right": null,
            "top": null,
            "visibility": null,
            "width": null
          }
        },
        "98393ef791ed4ba59d7102f05b8e2f13": {
          "model_module": "@jupyter-widgets/base",
          "model_name": "LayoutModel",
          "model_module_version": "1.2.0",
          "state": {
            "_model_module": "@jupyter-widgets/base",
            "_model_module_version": "1.2.0",
            "_model_name": "LayoutModel",
            "_view_count": null,
            "_view_module": "@jupyter-widgets/base",
            "_view_module_version": "1.2.0",
            "_view_name": "LayoutView",
            "align_content": null,
            "align_items": null,
            "align_self": null,
            "border": null,
            "bottom": null,
            "display": null,
            "flex": null,
            "flex_flow": null,
            "grid_area": null,
            "grid_auto_columns": null,
            "grid_auto_flow": null,
            "grid_auto_rows": null,
            "grid_column": null,
            "grid_gap": null,
            "grid_row": null,
            "grid_template_areas": null,
            "grid_template_columns": null,
            "grid_template_rows": null,
            "height": null,
            "justify_content": null,
            "justify_items": null,
            "left": null,
            "margin": null,
            "max_height": null,
            "max_width": null,
            "min_height": null,
            "min_width": null,
            "object_fit": null,
            "object_position": null,
            "order": null,
            "overflow": null,
            "overflow_x": null,
            "overflow_y": null,
            "padding": null,
            "right": null,
            "top": null,
            "visibility": null,
            "width": null
          }
        },
        "3bf3cc98b0424fb2972b55292afe9933": {
          "model_module": "@jupyter-widgets/controls",
          "model_name": "DescriptionStyleModel",
          "model_module_version": "1.5.0",
          "state": {
            "_model_module": "@jupyter-widgets/controls",
            "_model_module_version": "1.5.0",
            "_model_name": "DescriptionStyleModel",
            "_view_count": null,
            "_view_module": "@jupyter-widgets/base",
            "_view_module_version": "1.2.0",
            "_view_name": "StyleView",
            "description_width": ""
          }
        },
        "eed6026aa48d4ca2bc923f8b45d9ba10": {
          "model_module": "@jupyter-widgets/base",
          "model_name": "LayoutModel",
          "model_module_version": "1.2.0",
          "state": {
            "_model_module": "@jupyter-widgets/base",
            "_model_module_version": "1.2.0",
            "_model_name": "LayoutModel",
            "_view_count": null,
            "_view_module": "@jupyter-widgets/base",
            "_view_module_version": "1.2.0",
            "_view_name": "LayoutView",
            "align_content": null,
            "align_items": null,
            "align_self": null,
            "border": null,
            "bottom": null,
            "display": null,
            "flex": null,
            "flex_flow": null,
            "grid_area": null,
            "grid_auto_columns": null,
            "grid_auto_flow": null,
            "grid_auto_rows": null,
            "grid_column": null,
            "grid_gap": null,
            "grid_row": null,
            "grid_template_areas": null,
            "grid_template_columns": null,
            "grid_template_rows": null,
            "height": null,
            "justify_content": null,
            "justify_items": null,
            "left": null,
            "margin": null,
            "max_height": null,
            "max_width": null,
            "min_height": null,
            "min_width": null,
            "object_fit": null,
            "object_position": null,
            "order": null,
            "overflow": null,
            "overflow_x": null,
            "overflow_y": null,
            "padding": null,
            "right": null,
            "top": null,
            "visibility": null,
            "width": null
          }
        },
        "91d024fc6c01410e9cbe9f436f6a1145": {
          "model_module": "@jupyter-widgets/controls",
          "model_name": "ProgressStyleModel",
          "model_module_version": "1.5.0",
          "state": {
            "_model_module": "@jupyter-widgets/controls",
            "_model_module_version": "1.5.0",
            "_model_name": "ProgressStyleModel",
            "_view_count": null,
            "_view_module": "@jupyter-widgets/base",
            "_view_module_version": "1.2.0",
            "_view_name": "StyleView",
            "bar_color": null,
            "description_width": ""
          }
        },
        "7fb8c3e8cfd7407fb7c45da6292c45fc": {
          "model_module": "@jupyter-widgets/base",
          "model_name": "LayoutModel",
          "model_module_version": "1.2.0",
          "state": {
            "_model_module": "@jupyter-widgets/base",
            "_model_module_version": "1.2.0",
            "_model_name": "LayoutModel",
            "_view_count": null,
            "_view_module": "@jupyter-widgets/base",
            "_view_module_version": "1.2.0",
            "_view_name": "LayoutView",
            "align_content": null,
            "align_items": null,
            "align_self": null,
            "border": null,
            "bottom": null,
            "display": null,
            "flex": null,
            "flex_flow": null,
            "grid_area": null,
            "grid_auto_columns": null,
            "grid_auto_flow": null,
            "grid_auto_rows": null,
            "grid_column": null,
            "grid_gap": null,
            "grid_row": null,
            "grid_template_areas": null,
            "grid_template_columns": null,
            "grid_template_rows": null,
            "height": null,
            "justify_content": null,
            "justify_items": null,
            "left": null,
            "margin": null,
            "max_height": null,
            "max_width": null,
            "min_height": null,
            "min_width": null,
            "object_fit": null,
            "object_position": null,
            "order": null,
            "overflow": null,
            "overflow_x": null,
            "overflow_y": null,
            "padding": null,
            "right": null,
            "top": null,
            "visibility": null,
            "width": null
          }
        },
        "9da1abd38731436aa12af83fc5e0b6f3": {
          "model_module": "@jupyter-widgets/controls",
          "model_name": "DescriptionStyleModel",
          "model_module_version": "1.5.0",
          "state": {
            "_model_module": "@jupyter-widgets/controls",
            "_model_module_version": "1.5.0",
            "_model_name": "DescriptionStyleModel",
            "_view_count": null,
            "_view_module": "@jupyter-widgets/base",
            "_view_module_version": "1.2.0",
            "_view_name": "StyleView",
            "description_width": ""
          }
        },
        "280580780cd14663a7ab0ddb3213c0f6": {
          "model_module": "@jupyter-widgets/controls",
          "model_name": "HBoxModel",
          "model_module_version": "1.5.0",
          "state": {
            "_dom_classes": [],
            "_model_module": "@jupyter-widgets/controls",
            "_model_module_version": "1.5.0",
            "_model_name": "HBoxModel",
            "_view_count": null,
            "_view_module": "@jupyter-widgets/controls",
            "_view_module_version": "1.5.0",
            "_view_name": "HBoxView",
            "box_style": "",
            "children": [
              "IPY_MODEL_dd7d4f79034e4ad794b9a27514332d6c",
              "IPY_MODEL_3823a3fcb1f44f9d81f329b4f8540881",
              "IPY_MODEL_8c21ed49308c46dd9a13d7765591b8c1"
            ],
            "layout": "IPY_MODEL_99337452e4d84087a3ab755741e9bf5b"
          }
        },
        "dd7d4f79034e4ad794b9a27514332d6c": {
          "model_module": "@jupyter-widgets/controls",
          "model_name": "HTMLModel",
          "model_module_version": "1.5.0",
          "state": {
            "_dom_classes": [],
            "_model_module": "@jupyter-widgets/controls",
            "_model_module_version": "1.5.0",
            "_model_name": "HTMLModel",
            "_view_count": null,
            "_view_module": "@jupyter-widgets/controls",
            "_view_module_version": "1.5.0",
            "_view_name": "HTMLView",
            "description": "",
            "description_tooltip": null,
            "layout": "IPY_MODEL_1c04943d9f50418ab8719ad7cb660bb3",
            "placeholder": "​",
            "style": "IPY_MODEL_9c35a84891a14c81847c9eb6641653af",
            "value": "special_tokens_map.json: 100%"
          }
        },
        "3823a3fcb1f44f9d81f329b4f8540881": {
          "model_module": "@jupyter-widgets/controls",
          "model_name": "FloatProgressModel",
          "model_module_version": "1.5.0",
          "state": {
            "_dom_classes": [],
            "_model_module": "@jupyter-widgets/controls",
            "_model_module_version": "1.5.0",
            "_model_name": "FloatProgressModel",
            "_view_count": null,
            "_view_module": "@jupyter-widgets/controls",
            "_view_module_version": "1.5.0",
            "_view_name": "ProgressView",
            "bar_style": "success",
            "description": "",
            "description_tooltip": null,
            "layout": "IPY_MODEL_836a0014eb5949a5bf4c9d3b75ad1e4a",
            "max": 112,
            "min": 0,
            "orientation": "horizontal",
            "style": "IPY_MODEL_79b5a97ad3f747628899fb272b680c09",
            "value": 112
          }
        },
        "8c21ed49308c46dd9a13d7765591b8c1": {
          "model_module": "@jupyter-widgets/controls",
          "model_name": "HTMLModel",
          "model_module_version": "1.5.0",
          "state": {
            "_dom_classes": [],
            "_model_module": "@jupyter-widgets/controls",
            "_model_module_version": "1.5.0",
            "_model_name": "HTMLModel",
            "_view_count": null,
            "_view_module": "@jupyter-widgets/controls",
            "_view_module_version": "1.5.0",
            "_view_name": "HTMLView",
            "description": "",
            "description_tooltip": null,
            "layout": "IPY_MODEL_25ce1a0194bf4701ae203eaab74acbb1",
            "placeholder": "​",
            "style": "IPY_MODEL_3ab53d63da6940f5983a9eb46be931e4",
            "value": " 112/112 [00:00&lt;00:00, 8.74kB/s]"
          }
        },
        "99337452e4d84087a3ab755741e9bf5b": {
          "model_module": "@jupyter-widgets/base",
          "model_name": "LayoutModel",
          "model_module_version": "1.2.0",
          "state": {
            "_model_module": "@jupyter-widgets/base",
            "_model_module_version": "1.2.0",
            "_model_name": "LayoutModel",
            "_view_count": null,
            "_view_module": "@jupyter-widgets/base",
            "_view_module_version": "1.2.0",
            "_view_name": "LayoutView",
            "align_content": null,
            "align_items": null,
            "align_self": null,
            "border": null,
            "bottom": null,
            "display": null,
            "flex": null,
            "flex_flow": null,
            "grid_area": null,
            "grid_auto_columns": null,
            "grid_auto_flow": null,
            "grid_auto_rows": null,
            "grid_column": null,
            "grid_gap": null,
            "grid_row": null,
            "grid_template_areas": null,
            "grid_template_columns": null,
            "grid_template_rows": null,
            "height": null,
            "justify_content": null,
            "justify_items": null,
            "left": null,
            "margin": null,
            "max_height": null,
            "max_width": null,
            "min_height": null,
            "min_width": null,
            "object_fit": null,
            "object_position": null,
            "order": null,
            "overflow": null,
            "overflow_x": null,
            "overflow_y": null,
            "padding": null,
            "right": null,
            "top": null,
            "visibility": null,
            "width": null
          }
        },
        "1c04943d9f50418ab8719ad7cb660bb3": {
          "model_module": "@jupyter-widgets/base",
          "model_name": "LayoutModel",
          "model_module_version": "1.2.0",
          "state": {
            "_model_module": "@jupyter-widgets/base",
            "_model_module_version": "1.2.0",
            "_model_name": "LayoutModel",
            "_view_count": null,
            "_view_module": "@jupyter-widgets/base",
            "_view_module_version": "1.2.0",
            "_view_name": "LayoutView",
            "align_content": null,
            "align_items": null,
            "align_self": null,
            "border": null,
            "bottom": null,
            "display": null,
            "flex": null,
            "flex_flow": null,
            "grid_area": null,
            "grid_auto_columns": null,
            "grid_auto_flow": null,
            "grid_auto_rows": null,
            "grid_column": null,
            "grid_gap": null,
            "grid_row": null,
            "grid_template_areas": null,
            "grid_template_columns": null,
            "grid_template_rows": null,
            "height": null,
            "justify_content": null,
            "justify_items": null,
            "left": null,
            "margin": null,
            "max_height": null,
            "max_width": null,
            "min_height": null,
            "min_width": null,
            "object_fit": null,
            "object_position": null,
            "order": null,
            "overflow": null,
            "overflow_x": null,
            "overflow_y": null,
            "padding": null,
            "right": null,
            "top": null,
            "visibility": null,
            "width": null
          }
        },
        "9c35a84891a14c81847c9eb6641653af": {
          "model_module": "@jupyter-widgets/controls",
          "model_name": "DescriptionStyleModel",
          "model_module_version": "1.5.0",
          "state": {
            "_model_module": "@jupyter-widgets/controls",
            "_model_module_version": "1.5.0",
            "_model_name": "DescriptionStyleModel",
            "_view_count": null,
            "_view_module": "@jupyter-widgets/base",
            "_view_module_version": "1.2.0",
            "_view_name": "StyleView",
            "description_width": ""
          }
        },
        "836a0014eb5949a5bf4c9d3b75ad1e4a": {
          "model_module": "@jupyter-widgets/base",
          "model_name": "LayoutModel",
          "model_module_version": "1.2.0",
          "state": {
            "_model_module": "@jupyter-widgets/base",
            "_model_module_version": "1.2.0",
            "_model_name": "LayoutModel",
            "_view_count": null,
            "_view_module": "@jupyter-widgets/base",
            "_view_module_version": "1.2.0",
            "_view_name": "LayoutView",
            "align_content": null,
            "align_items": null,
            "align_self": null,
            "border": null,
            "bottom": null,
            "display": null,
            "flex": null,
            "flex_flow": null,
            "grid_area": null,
            "grid_auto_columns": null,
            "grid_auto_flow": null,
            "grid_auto_rows": null,
            "grid_column": null,
            "grid_gap": null,
            "grid_row": null,
            "grid_template_areas": null,
            "grid_template_columns": null,
            "grid_template_rows": null,
            "height": null,
            "justify_content": null,
            "justify_items": null,
            "left": null,
            "margin": null,
            "max_height": null,
            "max_width": null,
            "min_height": null,
            "min_width": null,
            "object_fit": null,
            "object_position": null,
            "order": null,
            "overflow": null,
            "overflow_x": null,
            "overflow_y": null,
            "padding": null,
            "right": null,
            "top": null,
            "visibility": null,
            "width": null
          }
        },
        "79b5a97ad3f747628899fb272b680c09": {
          "model_module": "@jupyter-widgets/controls",
          "model_name": "ProgressStyleModel",
          "model_module_version": "1.5.0",
          "state": {
            "_model_module": "@jupyter-widgets/controls",
            "_model_module_version": "1.5.0",
            "_model_name": "ProgressStyleModel",
            "_view_count": null,
            "_view_module": "@jupyter-widgets/base",
            "_view_module_version": "1.2.0",
            "_view_name": "StyleView",
            "bar_color": null,
            "description_width": ""
          }
        },
        "25ce1a0194bf4701ae203eaab74acbb1": {
          "model_module": "@jupyter-widgets/base",
          "model_name": "LayoutModel",
          "model_module_version": "1.2.0",
          "state": {
            "_model_module": "@jupyter-widgets/base",
            "_model_module_version": "1.2.0",
            "_model_name": "LayoutModel",
            "_view_count": null,
            "_view_module": "@jupyter-widgets/base",
            "_view_module_version": "1.2.0",
            "_view_name": "LayoutView",
            "align_content": null,
            "align_items": null,
            "align_self": null,
            "border": null,
            "bottom": null,
            "display": null,
            "flex": null,
            "flex_flow": null,
            "grid_area": null,
            "grid_auto_columns": null,
            "grid_auto_flow": null,
            "grid_auto_rows": null,
            "grid_column": null,
            "grid_gap": null,
            "grid_row": null,
            "grid_template_areas": null,
            "grid_template_columns": null,
            "grid_template_rows": null,
            "height": null,
            "justify_content": null,
            "justify_items": null,
            "left": null,
            "margin": null,
            "max_height": null,
            "max_width": null,
            "min_height": null,
            "min_width": null,
            "object_fit": null,
            "object_position": null,
            "order": null,
            "overflow": null,
            "overflow_x": null,
            "overflow_y": null,
            "padding": null,
            "right": null,
            "top": null,
            "visibility": null,
            "width": null
          }
        },
        "3ab53d63da6940f5983a9eb46be931e4": {
          "model_module": "@jupyter-widgets/controls",
          "model_name": "DescriptionStyleModel",
          "model_module_version": "1.5.0",
          "state": {
            "_model_module": "@jupyter-widgets/controls",
            "_model_module_version": "1.5.0",
            "_model_name": "DescriptionStyleModel",
            "_view_count": null,
            "_view_module": "@jupyter-widgets/base",
            "_view_module_version": "1.2.0",
            "_view_name": "StyleView",
            "description_width": ""
          }
        },
        "b05012664ed24e48ac972c74cd668d8b": {
          "model_module": "@jupyter-widgets/controls",
          "model_name": "HBoxModel",
          "model_module_version": "1.5.0",
          "state": {
            "_dom_classes": [],
            "_model_module": "@jupyter-widgets/controls",
            "_model_module_version": "1.5.0",
            "_model_name": "HBoxModel",
            "_view_count": null,
            "_view_module": "@jupyter-widgets/controls",
            "_view_module_version": "1.5.0",
            "_view_name": "HBoxView",
            "box_style": "",
            "children": [
              "IPY_MODEL_6bd51ea9320a4859aa3c5558f819480d",
              "IPY_MODEL_9db956e22237479b8e6793957847d193",
              "IPY_MODEL_f73eda699e854f5fa499f6ec6eccf025"
            ],
            "layout": "IPY_MODEL_d5406422ac524891b25aa7c20bd9fb0b"
          }
        },
        "6bd51ea9320a4859aa3c5558f819480d": {
          "model_module": "@jupyter-widgets/controls",
          "model_name": "HTMLModel",
          "model_module_version": "1.5.0",
          "state": {
            "_dom_classes": [],
            "_model_module": "@jupyter-widgets/controls",
            "_model_module_version": "1.5.0",
            "_model_name": "HTMLModel",
            "_view_count": null,
            "_view_module": "@jupyter-widgets/controls",
            "_view_module_version": "1.5.0",
            "_view_name": "HTMLView",
            "description": "",
            "description_tooltip": null,
            "layout": "IPY_MODEL_54fb784ce97b4f39a4bcc70ca02dda8f",
            "placeholder": "​",
            "style": "IPY_MODEL_d68ea6ce26ff402d9f78e63f68b34dbf",
            "value": "1_Pooling/config.json: 100%"
          }
        },
        "9db956e22237479b8e6793957847d193": {
          "model_module": "@jupyter-widgets/controls",
          "model_name": "FloatProgressModel",
          "model_module_version": "1.5.0",
          "state": {
            "_dom_classes": [],
            "_model_module": "@jupyter-widgets/controls",
            "_model_module_version": "1.5.0",
            "_model_name": "FloatProgressModel",
            "_view_count": null,
            "_view_module": "@jupyter-widgets/controls",
            "_view_module_version": "1.5.0",
            "_view_name": "ProgressView",
            "bar_style": "success",
            "description": "",
            "description_tooltip": null,
            "layout": "IPY_MODEL_3f649df24e1f426889679c945f62ba95",
            "max": 190,
            "min": 0,
            "orientation": "horizontal",
            "style": "IPY_MODEL_51b2936c1d044addb83d1bb5b17d1735",
            "value": 190
          }
        },
        "f73eda699e854f5fa499f6ec6eccf025": {
          "model_module": "@jupyter-widgets/controls",
          "model_name": "HTMLModel",
          "model_module_version": "1.5.0",
          "state": {
            "_dom_classes": [],
            "_model_module": "@jupyter-widgets/controls",
            "_model_module_version": "1.5.0",
            "_model_name": "HTMLModel",
            "_view_count": null,
            "_view_module": "@jupyter-widgets/controls",
            "_view_module_version": "1.5.0",
            "_view_name": "HTMLView",
            "description": "",
            "description_tooltip": null,
            "layout": "IPY_MODEL_33cb3dfd433540d1964dcf4345001c2b",
            "placeholder": "​",
            "style": "IPY_MODEL_43e3e556d0694c7197e6e8005636b4e3",
            "value": " 190/190 [00:00&lt;00:00, 13.7kB/s]"
          }
        },
        "d5406422ac524891b25aa7c20bd9fb0b": {
          "model_module": "@jupyter-widgets/base",
          "model_name": "LayoutModel",
          "model_module_version": "1.2.0",
          "state": {
            "_model_module": "@jupyter-widgets/base",
            "_model_module_version": "1.2.0",
            "_model_name": "LayoutModel",
            "_view_count": null,
            "_view_module": "@jupyter-widgets/base",
            "_view_module_version": "1.2.0",
            "_view_name": "LayoutView",
            "align_content": null,
            "align_items": null,
            "align_self": null,
            "border": null,
            "bottom": null,
            "display": null,
            "flex": null,
            "flex_flow": null,
            "grid_area": null,
            "grid_auto_columns": null,
            "grid_auto_flow": null,
            "grid_auto_rows": null,
            "grid_column": null,
            "grid_gap": null,
            "grid_row": null,
            "grid_template_areas": null,
            "grid_template_columns": null,
            "grid_template_rows": null,
            "height": null,
            "justify_content": null,
            "justify_items": null,
            "left": null,
            "margin": null,
            "max_height": null,
            "max_width": null,
            "min_height": null,
            "min_width": null,
            "object_fit": null,
            "object_position": null,
            "order": null,
            "overflow": null,
            "overflow_x": null,
            "overflow_y": null,
            "padding": null,
            "right": null,
            "top": null,
            "visibility": null,
            "width": null
          }
        },
        "54fb784ce97b4f39a4bcc70ca02dda8f": {
          "model_module": "@jupyter-widgets/base",
          "model_name": "LayoutModel",
          "model_module_version": "1.2.0",
          "state": {
            "_model_module": "@jupyter-widgets/base",
            "_model_module_version": "1.2.0",
            "_model_name": "LayoutModel",
            "_view_count": null,
            "_view_module": "@jupyter-widgets/base",
            "_view_module_version": "1.2.0",
            "_view_name": "LayoutView",
            "align_content": null,
            "align_items": null,
            "align_self": null,
            "border": null,
            "bottom": null,
            "display": null,
            "flex": null,
            "flex_flow": null,
            "grid_area": null,
            "grid_auto_columns": null,
            "grid_auto_flow": null,
            "grid_auto_rows": null,
            "grid_column": null,
            "grid_gap": null,
            "grid_row": null,
            "grid_template_areas": null,
            "grid_template_columns": null,
            "grid_template_rows": null,
            "height": null,
            "justify_content": null,
            "justify_items": null,
            "left": null,
            "margin": null,
            "max_height": null,
            "max_width": null,
            "min_height": null,
            "min_width": null,
            "object_fit": null,
            "object_position": null,
            "order": null,
            "overflow": null,
            "overflow_x": null,
            "overflow_y": null,
            "padding": null,
            "right": null,
            "top": null,
            "visibility": null,
            "width": null
          }
        },
        "d68ea6ce26ff402d9f78e63f68b34dbf": {
          "model_module": "@jupyter-widgets/controls",
          "model_name": "DescriptionStyleModel",
          "model_module_version": "1.5.0",
          "state": {
            "_model_module": "@jupyter-widgets/controls",
            "_model_module_version": "1.5.0",
            "_model_name": "DescriptionStyleModel",
            "_view_count": null,
            "_view_module": "@jupyter-widgets/base",
            "_view_module_version": "1.2.0",
            "_view_name": "StyleView",
            "description_width": ""
          }
        },
        "3f649df24e1f426889679c945f62ba95": {
          "model_module": "@jupyter-widgets/base",
          "model_name": "LayoutModel",
          "model_module_version": "1.2.0",
          "state": {
            "_model_module": "@jupyter-widgets/base",
            "_model_module_version": "1.2.0",
            "_model_name": "LayoutModel",
            "_view_count": null,
            "_view_module": "@jupyter-widgets/base",
            "_view_module_version": "1.2.0",
            "_view_name": "LayoutView",
            "align_content": null,
            "align_items": null,
            "align_self": null,
            "border": null,
            "bottom": null,
            "display": null,
            "flex": null,
            "flex_flow": null,
            "grid_area": null,
            "grid_auto_columns": null,
            "grid_auto_flow": null,
            "grid_auto_rows": null,
            "grid_column": null,
            "grid_gap": null,
            "grid_row": null,
            "grid_template_areas": null,
            "grid_template_columns": null,
            "grid_template_rows": null,
            "height": null,
            "justify_content": null,
            "justify_items": null,
            "left": null,
            "margin": null,
            "max_height": null,
            "max_width": null,
            "min_height": null,
            "min_width": null,
            "object_fit": null,
            "object_position": null,
            "order": null,
            "overflow": null,
            "overflow_x": null,
            "overflow_y": null,
            "padding": null,
            "right": null,
            "top": null,
            "visibility": null,
            "width": null
          }
        },
        "51b2936c1d044addb83d1bb5b17d1735": {
          "model_module": "@jupyter-widgets/controls",
          "model_name": "ProgressStyleModel",
          "model_module_version": "1.5.0",
          "state": {
            "_model_module": "@jupyter-widgets/controls",
            "_model_module_version": "1.5.0",
            "_model_name": "ProgressStyleModel",
            "_view_count": null,
            "_view_module": "@jupyter-widgets/base",
            "_view_module_version": "1.2.0",
            "_view_name": "StyleView",
            "bar_color": null,
            "description_width": ""
          }
        },
        "33cb3dfd433540d1964dcf4345001c2b": {
          "model_module": "@jupyter-widgets/base",
          "model_name": "LayoutModel",
          "model_module_version": "1.2.0",
          "state": {
            "_model_module": "@jupyter-widgets/base",
            "_model_module_version": "1.2.0",
            "_model_name": "LayoutModel",
            "_view_count": null,
            "_view_module": "@jupyter-widgets/base",
            "_view_module_version": "1.2.0",
            "_view_name": "LayoutView",
            "align_content": null,
            "align_items": null,
            "align_self": null,
            "border": null,
            "bottom": null,
            "display": null,
            "flex": null,
            "flex_flow": null,
            "grid_area": null,
            "grid_auto_columns": null,
            "grid_auto_flow": null,
            "grid_auto_rows": null,
            "grid_column": null,
            "grid_gap": null,
            "grid_row": null,
            "grid_template_areas": null,
            "grid_template_columns": null,
            "grid_template_rows": null,
            "height": null,
            "justify_content": null,
            "justify_items": null,
            "left": null,
            "margin": null,
            "max_height": null,
            "max_width": null,
            "min_height": null,
            "min_width": null,
            "object_fit": null,
            "object_position": null,
            "order": null,
            "overflow": null,
            "overflow_x": null,
            "overflow_y": null,
            "padding": null,
            "right": null,
            "top": null,
            "visibility": null,
            "width": null
          }
        },
        "43e3e556d0694c7197e6e8005636b4e3": {
          "model_module": "@jupyter-widgets/controls",
          "model_name": "DescriptionStyleModel",
          "model_module_version": "1.5.0",
          "state": {
            "_model_module": "@jupyter-widgets/controls",
            "_model_module_version": "1.5.0",
            "_model_name": "DescriptionStyleModel",
            "_view_count": null,
            "_view_module": "@jupyter-widgets/base",
            "_view_module_version": "1.2.0",
            "_view_name": "StyleView",
            "description_width": ""
          }
        },
        "f54a9518d2a7443987785db497b59ea7": {
          "model_module": "@jupyter-widgets/controls",
          "model_name": "HBoxModel",
          "model_module_version": "1.5.0",
          "state": {
            "_dom_classes": [],
            "_model_module": "@jupyter-widgets/controls",
            "_model_module_version": "1.5.0",
            "_model_name": "HBoxModel",
            "_view_count": null,
            "_view_module": "@jupyter-widgets/controls",
            "_view_module_version": "1.5.0",
            "_view_name": "HBoxView",
            "box_style": "",
            "children": [
              "IPY_MODEL_413921d4b8a44d3096ffb80f3f54ade8",
              "IPY_MODEL_e3a676e17e784c09a2e996ba493a6009",
              "IPY_MODEL_8c02cba4ba1f4d9aa2f02efae8888fb3"
            ],
            "layout": "IPY_MODEL_1c7a05f2bfd7422cb2296302e66d3acd"
          }
        },
        "413921d4b8a44d3096ffb80f3f54ade8": {
          "model_module": "@jupyter-widgets/controls",
          "model_name": "HTMLModel",
          "model_module_version": "1.5.0",
          "state": {
            "_dom_classes": [],
            "_model_module": "@jupyter-widgets/controls",
            "_model_module_version": "1.5.0",
            "_model_name": "HTMLModel",
            "_view_count": null,
            "_view_module": "@jupyter-widgets/controls",
            "_view_module_version": "1.5.0",
            "_view_name": "HTMLView",
            "description": "",
            "description_tooltip": null,
            "layout": "IPY_MODEL_36757635ec2a4bfda650dc917eafa37d",
            "placeholder": "​",
            "style": "IPY_MODEL_17a0439dede047c2b624a3af3ad190dd",
            "value": "config.json: 100%"
          }
        },
        "e3a676e17e784c09a2e996ba493a6009": {
          "model_module": "@jupyter-widgets/controls",
          "model_name": "FloatProgressModel",
          "model_module_version": "1.5.0",
          "state": {
            "_dom_classes": [],
            "_model_module": "@jupyter-widgets/controls",
            "_model_module_version": "1.5.0",
            "_model_name": "FloatProgressModel",
            "_view_count": null,
            "_view_module": "@jupyter-widgets/controls",
            "_view_module_version": "1.5.0",
            "_view_name": "ProgressView",
            "bar_style": "success",
            "description": "",
            "description_tooltip": null,
            "layout": "IPY_MODEL_956f5598b5c04aa09fdee813f9e4a59a",
            "max": 1585,
            "min": 0,
            "orientation": "horizontal",
            "style": "IPY_MODEL_90c1690427564d858281882e1b7ba78e",
            "value": 1585
          }
        },
        "8c02cba4ba1f4d9aa2f02efae8888fb3": {
          "model_module": "@jupyter-widgets/controls",
          "model_name": "HTMLModel",
          "model_module_version": "1.5.0",
          "state": {
            "_dom_classes": [],
            "_model_module": "@jupyter-widgets/controls",
            "_model_module_version": "1.5.0",
            "_model_name": "HTMLModel",
            "_view_count": null,
            "_view_module": "@jupyter-widgets/controls",
            "_view_module_version": "1.5.0",
            "_view_name": "HTMLView",
            "description": "",
            "description_tooltip": null,
            "layout": "IPY_MODEL_92d9e03d658547a088f18d13f75114a1",
            "placeholder": "​",
            "style": "IPY_MODEL_c4f2459446fa45cbb2edb9e0b460e0a3",
            "value": " 1.58k/1.58k [00:00&lt;00:00, 80.4kB/s]"
          }
        },
        "1c7a05f2bfd7422cb2296302e66d3acd": {
          "model_module": "@jupyter-widgets/base",
          "model_name": "LayoutModel",
          "model_module_version": "1.2.0",
          "state": {
            "_model_module": "@jupyter-widgets/base",
            "_model_module_version": "1.2.0",
            "_model_name": "LayoutModel",
            "_view_count": null,
            "_view_module": "@jupyter-widgets/base",
            "_view_module_version": "1.2.0",
            "_view_name": "LayoutView",
            "align_content": null,
            "align_items": null,
            "align_self": null,
            "border": null,
            "bottom": null,
            "display": null,
            "flex": null,
            "flex_flow": null,
            "grid_area": null,
            "grid_auto_columns": null,
            "grid_auto_flow": null,
            "grid_auto_rows": null,
            "grid_column": null,
            "grid_gap": null,
            "grid_row": null,
            "grid_template_areas": null,
            "grid_template_columns": null,
            "grid_template_rows": null,
            "height": null,
            "justify_content": null,
            "justify_items": null,
            "left": null,
            "margin": null,
            "max_height": null,
            "max_width": null,
            "min_height": null,
            "min_width": null,
            "object_fit": null,
            "object_position": null,
            "order": null,
            "overflow": null,
            "overflow_x": null,
            "overflow_y": null,
            "padding": null,
            "right": null,
            "top": null,
            "visibility": null,
            "width": null
          }
        },
        "36757635ec2a4bfda650dc917eafa37d": {
          "model_module": "@jupyter-widgets/base",
          "model_name": "LayoutModel",
          "model_module_version": "1.2.0",
          "state": {
            "_model_module": "@jupyter-widgets/base",
            "_model_module_version": "1.2.0",
            "_model_name": "LayoutModel",
            "_view_count": null,
            "_view_module": "@jupyter-widgets/base",
            "_view_module_version": "1.2.0",
            "_view_name": "LayoutView",
            "align_content": null,
            "align_items": null,
            "align_self": null,
            "border": null,
            "bottom": null,
            "display": null,
            "flex": null,
            "flex_flow": null,
            "grid_area": null,
            "grid_auto_columns": null,
            "grid_auto_flow": null,
            "grid_auto_rows": null,
            "grid_column": null,
            "grid_gap": null,
            "grid_row": null,
            "grid_template_areas": null,
            "grid_template_columns": null,
            "grid_template_rows": null,
            "height": null,
            "justify_content": null,
            "justify_items": null,
            "left": null,
            "margin": null,
            "max_height": null,
            "max_width": null,
            "min_height": null,
            "min_width": null,
            "object_fit": null,
            "object_position": null,
            "order": null,
            "overflow": null,
            "overflow_x": null,
            "overflow_y": null,
            "padding": null,
            "right": null,
            "top": null,
            "visibility": null,
            "width": null
          }
        },
        "17a0439dede047c2b624a3af3ad190dd": {
          "model_module": "@jupyter-widgets/controls",
          "model_name": "DescriptionStyleModel",
          "model_module_version": "1.5.0",
          "state": {
            "_model_module": "@jupyter-widgets/controls",
            "_model_module_version": "1.5.0",
            "_model_name": "DescriptionStyleModel",
            "_view_count": null,
            "_view_module": "@jupyter-widgets/base",
            "_view_module_version": "1.2.0",
            "_view_name": "StyleView",
            "description_width": ""
          }
        },
        "956f5598b5c04aa09fdee813f9e4a59a": {
          "model_module": "@jupyter-widgets/base",
          "model_name": "LayoutModel",
          "model_module_version": "1.2.0",
          "state": {
            "_model_module": "@jupyter-widgets/base",
            "_model_module_version": "1.2.0",
            "_model_name": "LayoutModel",
            "_view_count": null,
            "_view_module": "@jupyter-widgets/base",
            "_view_module_version": "1.2.0",
            "_view_name": "LayoutView",
            "align_content": null,
            "align_items": null,
            "align_self": null,
            "border": null,
            "bottom": null,
            "display": null,
            "flex": null,
            "flex_flow": null,
            "grid_area": null,
            "grid_auto_columns": null,
            "grid_auto_flow": null,
            "grid_auto_rows": null,
            "grid_column": null,
            "grid_gap": null,
            "grid_row": null,
            "grid_template_areas": null,
            "grid_template_columns": null,
            "grid_template_rows": null,
            "height": null,
            "justify_content": null,
            "justify_items": null,
            "left": null,
            "margin": null,
            "max_height": null,
            "max_width": null,
            "min_height": null,
            "min_width": null,
            "object_fit": null,
            "object_position": null,
            "order": null,
            "overflow": null,
            "overflow_x": null,
            "overflow_y": null,
            "padding": null,
            "right": null,
            "top": null,
            "visibility": null,
            "width": null
          }
        },
        "90c1690427564d858281882e1b7ba78e": {
          "model_module": "@jupyter-widgets/controls",
          "model_name": "ProgressStyleModel",
          "model_module_version": "1.5.0",
          "state": {
            "_model_module": "@jupyter-widgets/controls",
            "_model_module_version": "1.5.0",
            "_model_name": "ProgressStyleModel",
            "_view_count": null,
            "_view_module": "@jupyter-widgets/base",
            "_view_module_version": "1.2.0",
            "_view_name": "StyleView",
            "bar_color": null,
            "description_width": ""
          }
        },
        "92d9e03d658547a088f18d13f75114a1": {
          "model_module": "@jupyter-widgets/base",
          "model_name": "LayoutModel",
          "model_module_version": "1.2.0",
          "state": {
            "_model_module": "@jupyter-widgets/base",
            "_model_module_version": "1.2.0",
            "_model_name": "LayoutModel",
            "_view_count": null,
            "_view_module": "@jupyter-widgets/base",
            "_view_module_version": "1.2.0",
            "_view_name": "LayoutView",
            "align_content": null,
            "align_items": null,
            "align_self": null,
            "border": null,
            "bottom": null,
            "display": null,
            "flex": null,
            "flex_flow": null,
            "grid_area": null,
            "grid_auto_columns": null,
            "grid_auto_flow": null,
            "grid_auto_rows": null,
            "grid_column": null,
            "grid_gap": null,
            "grid_row": null,
            "grid_template_areas": null,
            "grid_template_columns": null,
            "grid_template_rows": null,
            "height": null,
            "justify_content": null,
            "justify_items": null,
            "left": null,
            "margin": null,
            "max_height": null,
            "max_width": null,
            "min_height": null,
            "min_width": null,
            "object_fit": null,
            "object_position": null,
            "order": null,
            "overflow": null,
            "overflow_x": null,
            "overflow_y": null,
            "padding": null,
            "right": null,
            "top": null,
            "visibility": null,
            "width": null
          }
        },
        "c4f2459446fa45cbb2edb9e0b460e0a3": {
          "model_module": "@jupyter-widgets/controls",
          "model_name": "DescriptionStyleModel",
          "model_module_version": "1.5.0",
          "state": {
            "_model_module": "@jupyter-widgets/controls",
            "_model_module_version": "1.5.0",
            "_model_name": "DescriptionStyleModel",
            "_view_count": null,
            "_view_module": "@jupyter-widgets/base",
            "_view_module_version": "1.2.0",
            "_view_name": "StyleView",
            "description_width": ""
          }
        },
        "5e38e7d0955d48d0b44a473cb2258990": {
          "model_module": "@jupyter-widgets/controls",
          "model_name": "HBoxModel",
          "model_module_version": "1.5.0",
          "state": {
            "_dom_classes": [],
            "_model_module": "@jupyter-widgets/controls",
            "_model_module_version": "1.5.0",
            "_model_name": "HBoxModel",
            "_view_count": null,
            "_view_module": "@jupyter-widgets/controls",
            "_view_module_version": "1.5.0",
            "_view_name": "HBoxView",
            "box_style": "",
            "children": [
              "IPY_MODEL_295c1e8b56f84c04a9ec2f1ab5bf9cd9",
              "IPY_MODEL_335710649eec4c4cb1055000bff1c57c",
              "IPY_MODEL_2c11061365bf4b1da85de3d86bf7b7e3"
            ],
            "layout": "IPY_MODEL_099471bd540e4e6aa67052a3c94d1764"
          }
        },
        "295c1e8b56f84c04a9ec2f1ab5bf9cd9": {
          "model_module": "@jupyter-widgets/controls",
          "model_name": "HTMLModel",
          "model_module_version": "1.5.0",
          "state": {
            "_dom_classes": [],
            "_model_module": "@jupyter-widgets/controls",
            "_model_module_version": "1.5.0",
            "_model_name": "HTMLModel",
            "_view_count": null,
            "_view_module": "@jupyter-widgets/controls",
            "_view_module_version": "1.5.0",
            "_view_name": "HTMLView",
            "description": "",
            "description_tooltip": null,
            "layout": "IPY_MODEL_b505814ed51448b0a3295c454c20b1fe",
            "placeholder": "​",
            "style": "IPY_MODEL_22017b5553a74dd4b7bf81574c453e2f",
            "value": "model.safetensors: 100%"
          }
        },
        "335710649eec4c4cb1055000bff1c57c": {
          "model_module": "@jupyter-widgets/controls",
          "model_name": "FloatProgressModel",
          "model_module_version": "1.5.0",
          "state": {
            "_dom_classes": [],
            "_model_module": "@jupyter-widgets/controls",
            "_model_module_version": "1.5.0",
            "_model_name": "FloatProgressModel",
            "_view_count": null,
            "_view_module": "@jupyter-widgets/controls",
            "_view_module_version": "1.5.0",
            "_view_name": "ProgressView",
            "bar_style": "success",
            "description": "",
            "description_tooltip": null,
            "layout": "IPY_MODEL_42cfcf45d2404d509286a5e728739522",
            "max": 1625222120,
            "min": 0,
            "orientation": "horizontal",
            "style": "IPY_MODEL_d7741a047fb442f8ab2e38b7294e5b48",
            "value": 1625222120
          }
        },
        "2c11061365bf4b1da85de3d86bf7b7e3": {
          "model_module": "@jupyter-widgets/controls",
          "model_name": "HTMLModel",
          "model_module_version": "1.5.0",
          "state": {
            "_dom_classes": [],
            "_model_module": "@jupyter-widgets/controls",
            "_model_module_version": "1.5.0",
            "_model_name": "HTMLModel",
            "_view_count": null,
            "_view_module": "@jupyter-widgets/controls",
            "_view_module_version": "1.5.0",
            "_view_name": "HTMLView",
            "description": "",
            "description_tooltip": null,
            "layout": "IPY_MODEL_cea792442391435eb204f7d1eb7170b4",
            "placeholder": "​",
            "style": "IPY_MODEL_9531913ed5db4174899188a7149147ff",
            "value": " 1.63G/1.63G [01:24&lt;00:00, 19.0MB/s]"
          }
        },
        "099471bd540e4e6aa67052a3c94d1764": {
          "model_module": "@jupyter-widgets/base",
          "model_name": "LayoutModel",
          "model_module_version": "1.2.0",
          "state": {
            "_model_module": "@jupyter-widgets/base",
            "_model_module_version": "1.2.0",
            "_model_name": "LayoutModel",
            "_view_count": null,
            "_view_module": "@jupyter-widgets/base",
            "_view_module_version": "1.2.0",
            "_view_name": "LayoutView",
            "align_content": null,
            "align_items": null,
            "align_self": null,
            "border": null,
            "bottom": null,
            "display": null,
            "flex": null,
            "flex_flow": null,
            "grid_area": null,
            "grid_auto_columns": null,
            "grid_auto_flow": null,
            "grid_auto_rows": null,
            "grid_column": null,
            "grid_gap": null,
            "grid_row": null,
            "grid_template_areas": null,
            "grid_template_columns": null,
            "grid_template_rows": null,
            "height": null,
            "justify_content": null,
            "justify_items": null,
            "left": null,
            "margin": null,
            "max_height": null,
            "max_width": null,
            "min_height": null,
            "min_width": null,
            "object_fit": null,
            "object_position": null,
            "order": null,
            "overflow": null,
            "overflow_x": null,
            "overflow_y": null,
            "padding": null,
            "right": null,
            "top": null,
            "visibility": null,
            "width": null
          }
        },
        "b505814ed51448b0a3295c454c20b1fe": {
          "model_module": "@jupyter-widgets/base",
          "model_name": "LayoutModel",
          "model_module_version": "1.2.0",
          "state": {
            "_model_module": "@jupyter-widgets/base",
            "_model_module_version": "1.2.0",
            "_model_name": "LayoutModel",
            "_view_count": null,
            "_view_module": "@jupyter-widgets/base",
            "_view_module_version": "1.2.0",
            "_view_name": "LayoutView",
            "align_content": null,
            "align_items": null,
            "align_self": null,
            "border": null,
            "bottom": null,
            "display": null,
            "flex": null,
            "flex_flow": null,
            "grid_area": null,
            "grid_auto_columns": null,
            "grid_auto_flow": null,
            "grid_auto_rows": null,
            "grid_column": null,
            "grid_gap": null,
            "grid_row": null,
            "grid_template_areas": null,
            "grid_template_columns": null,
            "grid_template_rows": null,
            "height": null,
            "justify_content": null,
            "justify_items": null,
            "left": null,
            "margin": null,
            "max_height": null,
            "max_width": null,
            "min_height": null,
            "min_width": null,
            "object_fit": null,
            "object_position": null,
            "order": null,
            "overflow": null,
            "overflow_x": null,
            "overflow_y": null,
            "padding": null,
            "right": null,
            "top": null,
            "visibility": null,
            "width": null
          }
        },
        "22017b5553a74dd4b7bf81574c453e2f": {
          "model_module": "@jupyter-widgets/controls",
          "model_name": "DescriptionStyleModel",
          "model_module_version": "1.5.0",
          "state": {
            "_model_module": "@jupyter-widgets/controls",
            "_model_module_version": "1.5.0",
            "_model_name": "DescriptionStyleModel",
            "_view_count": null,
            "_view_module": "@jupyter-widgets/base",
            "_view_module_version": "1.2.0",
            "_view_name": "StyleView",
            "description_width": ""
          }
        },
        "42cfcf45d2404d509286a5e728739522": {
          "model_module": "@jupyter-widgets/base",
          "model_name": "LayoutModel",
          "model_module_version": "1.2.0",
          "state": {
            "_model_module": "@jupyter-widgets/base",
            "_model_module_version": "1.2.0",
            "_model_name": "LayoutModel",
            "_view_count": null,
            "_view_module": "@jupyter-widgets/base",
            "_view_module_version": "1.2.0",
            "_view_name": "LayoutView",
            "align_content": null,
            "align_items": null,
            "align_self": null,
            "border": null,
            "bottom": null,
            "display": null,
            "flex": null,
            "flex_flow": null,
            "grid_area": null,
            "grid_auto_columns": null,
            "grid_auto_flow": null,
            "grid_auto_rows": null,
            "grid_column": null,
            "grid_gap": null,
            "grid_row": null,
            "grid_template_areas": null,
            "grid_template_columns": null,
            "grid_template_rows": null,
            "height": null,
            "justify_content": null,
            "justify_items": null,
            "left": null,
            "margin": null,
            "max_height": null,
            "max_width": null,
            "min_height": null,
            "min_width": null,
            "object_fit": null,
            "object_position": null,
            "order": null,
            "overflow": null,
            "overflow_x": null,
            "overflow_y": null,
            "padding": null,
            "right": null,
            "top": null,
            "visibility": null,
            "width": null
          }
        },
        "d7741a047fb442f8ab2e38b7294e5b48": {
          "model_module": "@jupyter-widgets/controls",
          "model_name": "ProgressStyleModel",
          "model_module_version": "1.5.0",
          "state": {
            "_model_module": "@jupyter-widgets/controls",
            "_model_module_version": "1.5.0",
            "_model_name": "ProgressStyleModel",
            "_view_count": null,
            "_view_module": "@jupyter-widgets/base",
            "_view_module_version": "1.2.0",
            "_view_name": "StyleView",
            "bar_color": null,
            "description_width": ""
          }
        },
        "cea792442391435eb204f7d1eb7170b4": {
          "model_module": "@jupyter-widgets/base",
          "model_name": "LayoutModel",
          "model_module_version": "1.2.0",
          "state": {
            "_model_module": "@jupyter-widgets/base",
            "_model_module_version": "1.2.0",
            "_model_name": "LayoutModel",
            "_view_count": null,
            "_view_module": "@jupyter-widgets/base",
            "_view_module_version": "1.2.0",
            "_view_name": "LayoutView",
            "align_content": null,
            "align_items": null,
            "align_self": null,
            "border": null,
            "bottom": null,
            "display": null,
            "flex": null,
            "flex_flow": null,
            "grid_area": null,
            "grid_auto_columns": null,
            "grid_auto_flow": null,
            "grid_auto_rows": null,
            "grid_column": null,
            "grid_gap": null,
            "grid_row": null,
            "grid_template_areas": null,
            "grid_template_columns": null,
            "grid_template_rows": null,
            "height": null,
            "justify_content": null,
            "justify_items": null,
            "left": null,
            "margin": null,
            "max_height": null,
            "max_width": null,
            "min_height": null,
            "min_width": null,
            "object_fit": null,
            "object_position": null,
            "order": null,
            "overflow": null,
            "overflow_x": null,
            "overflow_y": null,
            "padding": null,
            "right": null,
            "top": null,
            "visibility": null,
            "width": null
          }
        },
        "9531913ed5db4174899188a7149147ff": {
          "model_module": "@jupyter-widgets/controls",
          "model_name": "DescriptionStyleModel",
          "model_module_version": "1.5.0",
          "state": {
            "_model_module": "@jupyter-widgets/controls",
            "_model_module_version": "1.5.0",
            "_model_name": "DescriptionStyleModel",
            "_view_count": null,
            "_view_module": "@jupyter-widgets/base",
            "_view_module_version": "1.2.0",
            "_view_name": "StyleView",
            "description_width": ""
          }
        },
        "de421ed6b860491896b2a7af2b982594": {
          "model_module": "@jupyter-widgets/controls",
          "model_name": "HBoxModel",
          "model_module_version": "1.5.0",
          "state": {
            "_dom_classes": [],
            "_model_module": "@jupyter-widgets/controls",
            "_model_module_version": "1.5.0",
            "_model_name": "HBoxModel",
            "_view_count": null,
            "_view_module": "@jupyter-widgets/controls",
            "_view_module_version": "1.5.0",
            "_view_name": "HBoxView",
            "box_style": "",
            "children": [
              "IPY_MODEL_5c1097cf1e954731bb4984942795058f",
              "IPY_MODEL_f9da2d90b4354ef8bd230e0e0cdc1595",
              "IPY_MODEL_441323bcd8ea432099b79ab2f35b1c6c"
            ],
            "layout": "IPY_MODEL_edcd8fa276524f93af978773ec2af286"
          }
        },
        "5c1097cf1e954731bb4984942795058f": {
          "model_module": "@jupyter-widgets/controls",
          "model_name": "HTMLModel",
          "model_module_version": "1.5.0",
          "state": {
            "_dom_classes": [],
            "_model_module": "@jupyter-widgets/controls",
            "_model_module_version": "1.5.0",
            "_model_name": "HTMLModel",
            "_view_count": null,
            "_view_module": "@jupyter-widgets/controls",
            "_view_module_version": "1.5.0",
            "_view_name": "HTMLView",
            "description": "",
            "description_tooltip": null,
            "layout": "IPY_MODEL_8c5aa0d5eba040c8878aa809ff4745b3",
            "placeholder": "​",
            "style": "IPY_MODEL_aa4687f43581494cb392b9b80a97b247",
            "value": "generation_config.json: 100%"
          }
        },
        "f9da2d90b4354ef8bd230e0e0cdc1595": {
          "model_module": "@jupyter-widgets/controls",
          "model_name": "FloatProgressModel",
          "model_module_version": "1.5.0",
          "state": {
            "_dom_classes": [],
            "_model_module": "@jupyter-widgets/controls",
            "_model_module_version": "1.5.0",
            "_model_name": "FloatProgressModel",
            "_view_count": null,
            "_view_module": "@jupyter-widgets/controls",
            "_view_module_version": "1.5.0",
            "_view_name": "ProgressView",
            "bar_style": "success",
            "description": "",
            "description_tooltip": null,
            "layout": "IPY_MODEL_bcc8986fbf2d4ea0ba2842a77fb28714",
            "max": 363,
            "min": 0,
            "orientation": "horizontal",
            "style": "IPY_MODEL_a09c822430604019a0ee8cb0416ca9ba",
            "value": 363
          }
        },
        "441323bcd8ea432099b79ab2f35b1c6c": {
          "model_module": "@jupyter-widgets/controls",
          "model_name": "HTMLModel",
          "model_module_version": "1.5.0",
          "state": {
            "_dom_classes": [],
            "_model_module": "@jupyter-widgets/controls",
            "_model_module_version": "1.5.0",
            "_model_name": "HTMLModel",
            "_view_count": null,
            "_view_module": "@jupyter-widgets/controls",
            "_view_module_version": "1.5.0",
            "_view_name": "HTMLView",
            "description": "",
            "description_tooltip": null,
            "layout": "IPY_MODEL_bd9b7ae2dc5147d3ac46584f1544a10d",
            "placeholder": "​",
            "style": "IPY_MODEL_45465acb2ae84dd585c932135c0f9525",
            "value": " 363/363 [00:00&lt;00:00, 22.6kB/s]"
          }
        },
        "edcd8fa276524f93af978773ec2af286": {
          "model_module": "@jupyter-widgets/base",
          "model_name": "LayoutModel",
          "model_module_version": "1.2.0",
          "state": {
            "_model_module": "@jupyter-widgets/base",
            "_model_module_version": "1.2.0",
            "_model_name": "LayoutModel",
            "_view_count": null,
            "_view_module": "@jupyter-widgets/base",
            "_view_module_version": "1.2.0",
            "_view_name": "LayoutView",
            "align_content": null,
            "align_items": null,
            "align_self": null,
            "border": null,
            "bottom": null,
            "display": null,
            "flex": null,
            "flex_flow": null,
            "grid_area": null,
            "grid_auto_columns": null,
            "grid_auto_flow": null,
            "grid_auto_rows": null,
            "grid_column": null,
            "grid_gap": null,
            "grid_row": null,
            "grid_template_areas": null,
            "grid_template_columns": null,
            "grid_template_rows": null,
            "height": null,
            "justify_content": null,
            "justify_items": null,
            "left": null,
            "margin": null,
            "max_height": null,
            "max_width": null,
            "min_height": null,
            "min_width": null,
            "object_fit": null,
            "object_position": null,
            "order": null,
            "overflow": null,
            "overflow_x": null,
            "overflow_y": null,
            "padding": null,
            "right": null,
            "top": null,
            "visibility": null,
            "width": null
          }
        },
        "8c5aa0d5eba040c8878aa809ff4745b3": {
          "model_module": "@jupyter-widgets/base",
          "model_name": "LayoutModel",
          "model_module_version": "1.2.0",
          "state": {
            "_model_module": "@jupyter-widgets/base",
            "_model_module_version": "1.2.0",
            "_model_name": "LayoutModel",
            "_view_count": null,
            "_view_module": "@jupyter-widgets/base",
            "_view_module_version": "1.2.0",
            "_view_name": "LayoutView",
            "align_content": null,
            "align_items": null,
            "align_self": null,
            "border": null,
            "bottom": null,
            "display": null,
            "flex": null,
            "flex_flow": null,
            "grid_area": null,
            "grid_auto_columns": null,
            "grid_auto_flow": null,
            "grid_auto_rows": null,
            "grid_column": null,
            "grid_gap": null,
            "grid_row": null,
            "grid_template_areas": null,
            "grid_template_columns": null,
            "grid_template_rows": null,
            "height": null,
            "justify_content": null,
            "justify_items": null,
            "left": null,
            "margin": null,
            "max_height": null,
            "max_width": null,
            "min_height": null,
            "min_width": null,
            "object_fit": null,
            "object_position": null,
            "order": null,
            "overflow": null,
            "overflow_x": null,
            "overflow_y": null,
            "padding": null,
            "right": null,
            "top": null,
            "visibility": null,
            "width": null
          }
        },
        "aa4687f43581494cb392b9b80a97b247": {
          "model_module": "@jupyter-widgets/controls",
          "model_name": "DescriptionStyleModel",
          "model_module_version": "1.5.0",
          "state": {
            "_model_module": "@jupyter-widgets/controls",
            "_model_module_version": "1.5.0",
            "_model_name": "DescriptionStyleModel",
            "_view_count": null,
            "_view_module": "@jupyter-widgets/base",
            "_view_module_version": "1.2.0",
            "_view_name": "StyleView",
            "description_width": ""
          }
        },
        "bcc8986fbf2d4ea0ba2842a77fb28714": {
          "model_module": "@jupyter-widgets/base",
          "model_name": "LayoutModel",
          "model_module_version": "1.2.0",
          "state": {
            "_model_module": "@jupyter-widgets/base",
            "_model_module_version": "1.2.0",
            "_model_name": "LayoutModel",
            "_view_count": null,
            "_view_module": "@jupyter-widgets/base",
            "_view_module_version": "1.2.0",
            "_view_name": "LayoutView",
            "align_content": null,
            "align_items": null,
            "align_self": null,
            "border": null,
            "bottom": null,
            "display": null,
            "flex": null,
            "flex_flow": null,
            "grid_area": null,
            "grid_auto_columns": null,
            "grid_auto_flow": null,
            "grid_auto_rows": null,
            "grid_column": null,
            "grid_gap": null,
            "grid_row": null,
            "grid_template_areas": null,
            "grid_template_columns": null,
            "grid_template_rows": null,
            "height": null,
            "justify_content": null,
            "justify_items": null,
            "left": null,
            "margin": null,
            "max_height": null,
            "max_width": null,
            "min_height": null,
            "min_width": null,
            "object_fit": null,
            "object_position": null,
            "order": null,
            "overflow": null,
            "overflow_x": null,
            "overflow_y": null,
            "padding": null,
            "right": null,
            "top": null,
            "visibility": null,
            "width": null
          }
        },
        "a09c822430604019a0ee8cb0416ca9ba": {
          "model_module": "@jupyter-widgets/controls",
          "model_name": "ProgressStyleModel",
          "model_module_version": "1.5.0",
          "state": {
            "_model_module": "@jupyter-widgets/controls",
            "_model_module_version": "1.5.0",
            "_model_name": "ProgressStyleModel",
            "_view_count": null,
            "_view_module": "@jupyter-widgets/base",
            "_view_module_version": "1.2.0",
            "_view_name": "StyleView",
            "bar_color": null,
            "description_width": ""
          }
        },
        "bd9b7ae2dc5147d3ac46584f1544a10d": {
          "model_module": "@jupyter-widgets/base",
          "model_name": "LayoutModel",
          "model_module_version": "1.2.0",
          "state": {
            "_model_module": "@jupyter-widgets/base",
            "_model_module_version": "1.2.0",
            "_model_name": "LayoutModel",
            "_view_count": null,
            "_view_module": "@jupyter-widgets/base",
            "_view_module_version": "1.2.0",
            "_view_name": "LayoutView",
            "align_content": null,
            "align_items": null,
            "align_self": null,
            "border": null,
            "bottom": null,
            "display": null,
            "flex": null,
            "flex_flow": null,
            "grid_area": null,
            "grid_auto_columns": null,
            "grid_auto_flow": null,
            "grid_auto_rows": null,
            "grid_column": null,
            "grid_gap": null,
            "grid_row": null,
            "grid_template_areas": null,
            "grid_template_columns": null,
            "grid_template_rows": null,
            "height": null,
            "justify_content": null,
            "justify_items": null,
            "left": null,
            "margin": null,
            "max_height": null,
            "max_width": null,
            "min_height": null,
            "min_width": null,
            "object_fit": null,
            "object_position": null,
            "order": null,
            "overflow": null,
            "overflow_x": null,
            "overflow_y": null,
            "padding": null,
            "right": null,
            "top": null,
            "visibility": null,
            "width": null
          }
        },
        "45465acb2ae84dd585c932135c0f9525": {
          "model_module": "@jupyter-widgets/controls",
          "model_name": "DescriptionStyleModel",
          "model_module_version": "1.5.0",
          "state": {
            "_model_module": "@jupyter-widgets/controls",
            "_model_module_version": "1.5.0",
            "_model_name": "DescriptionStyleModel",
            "_view_count": null,
            "_view_module": "@jupyter-widgets/base",
            "_view_module_version": "1.2.0",
            "_view_name": "StyleView",
            "description_width": ""
          }
        },
        "3fc4592c37254a0b90913ed1686bc866": {
          "model_module": "@jupyter-widgets/controls",
          "model_name": "HBoxModel",
          "model_module_version": "1.5.0",
          "state": {
            "_dom_classes": [],
            "_model_module": "@jupyter-widgets/controls",
            "_model_module_version": "1.5.0",
            "_model_name": "HBoxModel",
            "_view_count": null,
            "_view_module": "@jupyter-widgets/controls",
            "_view_module_version": "1.5.0",
            "_view_name": "HBoxView",
            "box_style": "",
            "children": [
              "IPY_MODEL_45b48177335a4715ad6bd53d053b2f10",
              "IPY_MODEL_7d39c88977d041ceaf5a78b7672ec0a9",
              "IPY_MODEL_9b561fc7c5224296bbc5de1be7cb1d11"
            ],
            "layout": "IPY_MODEL_2faa84b4d57e48b08ee489831522e2e7"
          }
        },
        "45b48177335a4715ad6bd53d053b2f10": {
          "model_module": "@jupyter-widgets/controls",
          "model_name": "HTMLModel",
          "model_module_version": "1.5.0",
          "state": {
            "_dom_classes": [],
            "_model_module": "@jupyter-widgets/controls",
            "_model_module_version": "1.5.0",
            "_model_name": "HTMLModel",
            "_view_count": null,
            "_view_module": "@jupyter-widgets/controls",
            "_view_module_version": "1.5.0",
            "_view_name": "HTMLView",
            "description": "",
            "description_tooltip": null,
            "layout": "IPY_MODEL_1fc0ef723e3d4bfcb2c33ef39d093107",
            "placeholder": "​",
            "style": "IPY_MODEL_d311e3aef05e44b28f651ee7dbd643c3",
            "value": "vocab.json: 100%"
          }
        },
        "7d39c88977d041ceaf5a78b7672ec0a9": {
          "model_module": "@jupyter-widgets/controls",
          "model_name": "FloatProgressModel",
          "model_module_version": "1.5.0",
          "state": {
            "_dom_classes": [],
            "_model_module": "@jupyter-widgets/controls",
            "_model_module_version": "1.5.0",
            "_model_name": "FloatProgressModel",
            "_view_count": null,
            "_view_module": "@jupyter-widgets/controls",
            "_view_module_version": "1.5.0",
            "_view_name": "ProgressView",
            "bar_style": "success",
            "description": "",
            "description_tooltip": null,
            "layout": "IPY_MODEL_d92628b3da93477ca6530480473603dd",
            "max": 898823,
            "min": 0,
            "orientation": "horizontal",
            "style": "IPY_MODEL_b3976cbb48f64e418d82124c53c418c8",
            "value": 898823
          }
        },
        "9b561fc7c5224296bbc5de1be7cb1d11": {
          "model_module": "@jupyter-widgets/controls",
          "model_name": "HTMLModel",
          "model_module_version": "1.5.0",
          "state": {
            "_dom_classes": [],
            "_model_module": "@jupyter-widgets/controls",
            "_model_module_version": "1.5.0",
            "_model_name": "HTMLModel",
            "_view_count": null,
            "_view_module": "@jupyter-widgets/controls",
            "_view_module_version": "1.5.0",
            "_view_name": "HTMLView",
            "description": "",
            "description_tooltip": null,
            "layout": "IPY_MODEL_0eef4ca5b643426ca134bce99cb0a9dc",
            "placeholder": "​",
            "style": "IPY_MODEL_b9bc4c17db874a12aaf7a3b11cd7d066",
            "value": " 899k/899k [00:00&lt;00:00, 1.12MB/s]"
          }
        },
        "2faa84b4d57e48b08ee489831522e2e7": {
          "model_module": "@jupyter-widgets/base",
          "model_name": "LayoutModel",
          "model_module_version": "1.2.0",
          "state": {
            "_model_module": "@jupyter-widgets/base",
            "_model_module_version": "1.2.0",
            "_model_name": "LayoutModel",
            "_view_count": null,
            "_view_module": "@jupyter-widgets/base",
            "_view_module_version": "1.2.0",
            "_view_name": "LayoutView",
            "align_content": null,
            "align_items": null,
            "align_self": null,
            "border": null,
            "bottom": null,
            "display": null,
            "flex": null,
            "flex_flow": null,
            "grid_area": null,
            "grid_auto_columns": null,
            "grid_auto_flow": null,
            "grid_auto_rows": null,
            "grid_column": null,
            "grid_gap": null,
            "grid_row": null,
            "grid_template_areas": null,
            "grid_template_columns": null,
            "grid_template_rows": null,
            "height": null,
            "justify_content": null,
            "justify_items": null,
            "left": null,
            "margin": null,
            "max_height": null,
            "max_width": null,
            "min_height": null,
            "min_width": null,
            "object_fit": null,
            "object_position": null,
            "order": null,
            "overflow": null,
            "overflow_x": null,
            "overflow_y": null,
            "padding": null,
            "right": null,
            "top": null,
            "visibility": null,
            "width": null
          }
        },
        "1fc0ef723e3d4bfcb2c33ef39d093107": {
          "model_module": "@jupyter-widgets/base",
          "model_name": "LayoutModel",
          "model_module_version": "1.2.0",
          "state": {
            "_model_module": "@jupyter-widgets/base",
            "_model_module_version": "1.2.0",
            "_model_name": "LayoutModel",
            "_view_count": null,
            "_view_module": "@jupyter-widgets/base",
            "_view_module_version": "1.2.0",
            "_view_name": "LayoutView",
            "align_content": null,
            "align_items": null,
            "align_self": null,
            "border": null,
            "bottom": null,
            "display": null,
            "flex": null,
            "flex_flow": null,
            "grid_area": null,
            "grid_auto_columns": null,
            "grid_auto_flow": null,
            "grid_auto_rows": null,
            "grid_column": null,
            "grid_gap": null,
            "grid_row": null,
            "grid_template_areas": null,
            "grid_template_columns": null,
            "grid_template_rows": null,
            "height": null,
            "justify_content": null,
            "justify_items": null,
            "left": null,
            "margin": null,
            "max_height": null,
            "max_width": null,
            "min_height": null,
            "min_width": null,
            "object_fit": null,
            "object_position": null,
            "order": null,
            "overflow": null,
            "overflow_x": null,
            "overflow_y": null,
            "padding": null,
            "right": null,
            "top": null,
            "visibility": null,
            "width": null
          }
        },
        "d311e3aef05e44b28f651ee7dbd643c3": {
          "model_module": "@jupyter-widgets/controls",
          "model_name": "DescriptionStyleModel",
          "model_module_version": "1.5.0",
          "state": {
            "_model_module": "@jupyter-widgets/controls",
            "_model_module_version": "1.5.0",
            "_model_name": "DescriptionStyleModel",
            "_view_count": null,
            "_view_module": "@jupyter-widgets/base",
            "_view_module_version": "1.2.0",
            "_view_name": "StyleView",
            "description_width": ""
          }
        },
        "d92628b3da93477ca6530480473603dd": {
          "model_module": "@jupyter-widgets/base",
          "model_name": "LayoutModel",
          "model_module_version": "1.2.0",
          "state": {
            "_model_module": "@jupyter-widgets/base",
            "_model_module_version": "1.2.0",
            "_model_name": "LayoutModel",
            "_view_count": null,
            "_view_module": "@jupyter-widgets/base",
            "_view_module_version": "1.2.0",
            "_view_name": "LayoutView",
            "align_content": null,
            "align_items": null,
            "align_self": null,
            "border": null,
            "bottom": null,
            "display": null,
            "flex": null,
            "flex_flow": null,
            "grid_area": null,
            "grid_auto_columns": null,
            "grid_auto_flow": null,
            "grid_auto_rows": null,
            "grid_column": null,
            "grid_gap": null,
            "grid_row": null,
            "grid_template_areas": null,
            "grid_template_columns": null,
            "grid_template_rows": null,
            "height": null,
            "justify_content": null,
            "justify_items": null,
            "left": null,
            "margin": null,
            "max_height": null,
            "max_width": null,
            "min_height": null,
            "min_width": null,
            "object_fit": null,
            "object_position": null,
            "order": null,
            "overflow": null,
            "overflow_x": null,
            "overflow_y": null,
            "padding": null,
            "right": null,
            "top": null,
            "visibility": null,
            "width": null
          }
        },
        "b3976cbb48f64e418d82124c53c418c8": {
          "model_module": "@jupyter-widgets/controls",
          "model_name": "ProgressStyleModel",
          "model_module_version": "1.5.0",
          "state": {
            "_model_module": "@jupyter-widgets/controls",
            "_model_module_version": "1.5.0",
            "_model_name": "ProgressStyleModel",
            "_view_count": null,
            "_view_module": "@jupyter-widgets/base",
            "_view_module_version": "1.2.0",
            "_view_name": "StyleView",
            "bar_color": null,
            "description_width": ""
          }
        },
        "0eef4ca5b643426ca134bce99cb0a9dc": {
          "model_module": "@jupyter-widgets/base",
          "model_name": "LayoutModel",
          "model_module_version": "1.2.0",
          "state": {
            "_model_module": "@jupyter-widgets/base",
            "_model_module_version": "1.2.0",
            "_model_name": "LayoutModel",
            "_view_count": null,
            "_view_module": "@jupyter-widgets/base",
            "_view_module_version": "1.2.0",
            "_view_name": "LayoutView",
            "align_content": null,
            "align_items": null,
            "align_self": null,
            "border": null,
            "bottom": null,
            "display": null,
            "flex": null,
            "flex_flow": null,
            "grid_area": null,
            "grid_auto_columns": null,
            "grid_auto_flow": null,
            "grid_auto_rows": null,
            "grid_column": null,
            "grid_gap": null,
            "grid_row": null,
            "grid_template_areas": null,
            "grid_template_columns": null,
            "grid_template_rows": null,
            "height": null,
            "justify_content": null,
            "justify_items": null,
            "left": null,
            "margin": null,
            "max_height": null,
            "max_width": null,
            "min_height": null,
            "min_width": null,
            "object_fit": null,
            "object_position": null,
            "order": null,
            "overflow": null,
            "overflow_x": null,
            "overflow_y": null,
            "padding": null,
            "right": null,
            "top": null,
            "visibility": null,
            "width": null
          }
        },
        "b9bc4c17db874a12aaf7a3b11cd7d066": {
          "model_module": "@jupyter-widgets/controls",
          "model_name": "DescriptionStyleModel",
          "model_module_version": "1.5.0",
          "state": {
            "_model_module": "@jupyter-widgets/controls",
            "_model_module_version": "1.5.0",
            "_model_name": "DescriptionStyleModel",
            "_view_count": null,
            "_view_module": "@jupyter-widgets/base",
            "_view_module_version": "1.2.0",
            "_view_name": "StyleView",
            "description_width": ""
          }
        },
        "4c44d93bf64c40f29cc269414c0e9c53": {
          "model_module": "@jupyter-widgets/controls",
          "model_name": "HBoxModel",
          "model_module_version": "1.5.0",
          "state": {
            "_dom_classes": [],
            "_model_module": "@jupyter-widgets/controls",
            "_model_module_version": "1.5.0",
            "_model_name": "HBoxModel",
            "_view_count": null,
            "_view_module": "@jupyter-widgets/controls",
            "_view_module_version": "1.5.0",
            "_view_name": "HBoxView",
            "box_style": "",
            "children": [
              "IPY_MODEL_330c39fe11f944e597c0d4ae6a57580f",
              "IPY_MODEL_afdd1cfc5336494a960ad4815b4e1083",
              "IPY_MODEL_05e323788ca94d9c8d14aea7b0d0ff07"
            ],
            "layout": "IPY_MODEL_7ad3c2f257ef48e0b023b463d48f4b7f"
          }
        },
        "330c39fe11f944e597c0d4ae6a57580f": {
          "model_module": "@jupyter-widgets/controls",
          "model_name": "HTMLModel",
          "model_module_version": "1.5.0",
          "state": {
            "_dom_classes": [],
            "_model_module": "@jupyter-widgets/controls",
            "_model_module_version": "1.5.0",
            "_model_name": "HTMLModel",
            "_view_count": null,
            "_view_module": "@jupyter-widgets/controls",
            "_view_module_version": "1.5.0",
            "_view_name": "HTMLView",
            "description": "",
            "description_tooltip": null,
            "layout": "IPY_MODEL_f1fc6abd304e40f98725983aed62cb12",
            "placeholder": "​",
            "style": "IPY_MODEL_58ed5c9f4fcd4058a3836d2152788f63",
            "value": "merges.txt: 100%"
          }
        },
        "afdd1cfc5336494a960ad4815b4e1083": {
          "model_module": "@jupyter-widgets/controls",
          "model_name": "FloatProgressModel",
          "model_module_version": "1.5.0",
          "state": {
            "_dom_classes": [],
            "_model_module": "@jupyter-widgets/controls",
            "_model_module_version": "1.5.0",
            "_model_name": "FloatProgressModel",
            "_view_count": null,
            "_view_module": "@jupyter-widgets/controls",
            "_view_module_version": "1.5.0",
            "_view_name": "ProgressView",
            "bar_style": "success",
            "description": "",
            "description_tooltip": null,
            "layout": "IPY_MODEL_ceefd984026a4398b076d3957e564edb",
            "max": 456318,
            "min": 0,
            "orientation": "horizontal",
            "style": "IPY_MODEL_f3f7bead54d34ad2a0c0231595e029a2",
            "value": 456318
          }
        },
        "05e323788ca94d9c8d14aea7b0d0ff07": {
          "model_module": "@jupyter-widgets/controls",
          "model_name": "HTMLModel",
          "model_module_version": "1.5.0",
          "state": {
            "_dom_classes": [],
            "_model_module": "@jupyter-widgets/controls",
            "_model_module_version": "1.5.0",
            "_model_name": "HTMLModel",
            "_view_count": null,
            "_view_module": "@jupyter-widgets/controls",
            "_view_module_version": "1.5.0",
            "_view_name": "HTMLView",
            "description": "",
            "description_tooltip": null,
            "layout": "IPY_MODEL_37c09cebfd00429487f800c327a2f950",
            "placeholder": "​",
            "style": "IPY_MODEL_8abfdf5bef16478db436cebd9cfffa1c",
            "value": " 456k/456k [00:00&lt;00:00, 767kB/s]"
          }
        },
        "7ad3c2f257ef48e0b023b463d48f4b7f": {
          "model_module": "@jupyter-widgets/base",
          "model_name": "LayoutModel",
          "model_module_version": "1.2.0",
          "state": {
            "_model_module": "@jupyter-widgets/base",
            "_model_module_version": "1.2.0",
            "_model_name": "LayoutModel",
            "_view_count": null,
            "_view_module": "@jupyter-widgets/base",
            "_view_module_version": "1.2.0",
            "_view_name": "LayoutView",
            "align_content": null,
            "align_items": null,
            "align_self": null,
            "border": null,
            "bottom": null,
            "display": null,
            "flex": null,
            "flex_flow": null,
            "grid_area": null,
            "grid_auto_columns": null,
            "grid_auto_flow": null,
            "grid_auto_rows": null,
            "grid_column": null,
            "grid_gap": null,
            "grid_row": null,
            "grid_template_areas": null,
            "grid_template_columns": null,
            "grid_template_rows": null,
            "height": null,
            "justify_content": null,
            "justify_items": null,
            "left": null,
            "margin": null,
            "max_height": null,
            "max_width": null,
            "min_height": null,
            "min_width": null,
            "object_fit": null,
            "object_position": null,
            "order": null,
            "overflow": null,
            "overflow_x": null,
            "overflow_y": null,
            "padding": null,
            "right": null,
            "top": null,
            "visibility": null,
            "width": null
          }
        },
        "f1fc6abd304e40f98725983aed62cb12": {
          "model_module": "@jupyter-widgets/base",
          "model_name": "LayoutModel",
          "model_module_version": "1.2.0",
          "state": {
            "_model_module": "@jupyter-widgets/base",
            "_model_module_version": "1.2.0",
            "_model_name": "LayoutModel",
            "_view_count": null,
            "_view_module": "@jupyter-widgets/base",
            "_view_module_version": "1.2.0",
            "_view_name": "LayoutView",
            "align_content": null,
            "align_items": null,
            "align_self": null,
            "border": null,
            "bottom": null,
            "display": null,
            "flex": null,
            "flex_flow": null,
            "grid_area": null,
            "grid_auto_columns": null,
            "grid_auto_flow": null,
            "grid_auto_rows": null,
            "grid_column": null,
            "grid_gap": null,
            "grid_row": null,
            "grid_template_areas": null,
            "grid_template_columns": null,
            "grid_template_rows": null,
            "height": null,
            "justify_content": null,
            "justify_items": null,
            "left": null,
            "margin": null,
            "max_height": null,
            "max_width": null,
            "min_height": null,
            "min_width": null,
            "object_fit": null,
            "object_position": null,
            "order": null,
            "overflow": null,
            "overflow_x": null,
            "overflow_y": null,
            "padding": null,
            "right": null,
            "top": null,
            "visibility": null,
            "width": null
          }
        },
        "58ed5c9f4fcd4058a3836d2152788f63": {
          "model_module": "@jupyter-widgets/controls",
          "model_name": "DescriptionStyleModel",
          "model_module_version": "1.5.0",
          "state": {
            "_model_module": "@jupyter-widgets/controls",
            "_model_module_version": "1.5.0",
            "_model_name": "DescriptionStyleModel",
            "_view_count": null,
            "_view_module": "@jupyter-widgets/base",
            "_view_module_version": "1.2.0",
            "_view_name": "StyleView",
            "description_width": ""
          }
        },
        "ceefd984026a4398b076d3957e564edb": {
          "model_module": "@jupyter-widgets/base",
          "model_name": "LayoutModel",
          "model_module_version": "1.2.0",
          "state": {
            "_model_module": "@jupyter-widgets/base",
            "_model_module_version": "1.2.0",
            "_model_name": "LayoutModel",
            "_view_count": null,
            "_view_module": "@jupyter-widgets/base",
            "_view_module_version": "1.2.0",
            "_view_name": "LayoutView",
            "align_content": null,
            "align_items": null,
            "align_self": null,
            "border": null,
            "bottom": null,
            "display": null,
            "flex": null,
            "flex_flow": null,
            "grid_area": null,
            "grid_auto_columns": null,
            "grid_auto_flow": null,
            "grid_auto_rows": null,
            "grid_column": null,
            "grid_gap": null,
            "grid_row": null,
            "grid_template_areas": null,
            "grid_template_columns": null,
            "grid_template_rows": null,
            "height": null,
            "justify_content": null,
            "justify_items": null,
            "left": null,
            "margin": null,
            "max_height": null,
            "max_width": null,
            "min_height": null,
            "min_width": null,
            "object_fit": null,
            "object_position": null,
            "order": null,
            "overflow": null,
            "overflow_x": null,
            "overflow_y": null,
            "padding": null,
            "right": null,
            "top": null,
            "visibility": null,
            "width": null
          }
        },
        "f3f7bead54d34ad2a0c0231595e029a2": {
          "model_module": "@jupyter-widgets/controls",
          "model_name": "ProgressStyleModel",
          "model_module_version": "1.5.0",
          "state": {
            "_model_module": "@jupyter-widgets/controls",
            "_model_module_version": "1.5.0",
            "_model_name": "ProgressStyleModel",
            "_view_count": null,
            "_view_module": "@jupyter-widgets/base",
            "_view_module_version": "1.2.0",
            "_view_name": "StyleView",
            "bar_color": null,
            "description_width": ""
          }
        },
        "37c09cebfd00429487f800c327a2f950": {
          "model_module": "@jupyter-widgets/base",
          "model_name": "LayoutModel",
          "model_module_version": "1.2.0",
          "state": {
            "_model_module": "@jupyter-widgets/base",
            "_model_module_version": "1.2.0",
            "_model_name": "LayoutModel",
            "_view_count": null,
            "_view_module": "@jupyter-widgets/base",
            "_view_module_version": "1.2.0",
            "_view_name": "LayoutView",
            "align_content": null,
            "align_items": null,
            "align_self": null,
            "border": null,
            "bottom": null,
            "display": null,
            "flex": null,
            "flex_flow": null,
            "grid_area": null,
            "grid_auto_columns": null,
            "grid_auto_flow": null,
            "grid_auto_rows": null,
            "grid_column": null,
            "grid_gap": null,
            "grid_row": null,
            "grid_template_areas": null,
            "grid_template_columns": null,
            "grid_template_rows": null,
            "height": null,
            "justify_content": null,
            "justify_items": null,
            "left": null,
            "margin": null,
            "max_height": null,
            "max_width": null,
            "min_height": null,
            "min_width": null,
            "object_fit": null,
            "object_position": null,
            "order": null,
            "overflow": null,
            "overflow_x": null,
            "overflow_y": null,
            "padding": null,
            "right": null,
            "top": null,
            "visibility": null,
            "width": null
          }
        },
        "8abfdf5bef16478db436cebd9cfffa1c": {
          "model_module": "@jupyter-widgets/controls",
          "model_name": "DescriptionStyleModel",
          "model_module_version": "1.5.0",
          "state": {
            "_model_module": "@jupyter-widgets/controls",
            "_model_module_version": "1.5.0",
            "_model_name": "DescriptionStyleModel",
            "_view_count": null,
            "_view_module": "@jupyter-widgets/base",
            "_view_module_version": "1.2.0",
            "_view_name": "StyleView",
            "description_width": ""
          }
        },
        "a22bdfaa2faf4ac98f44953a973c95b7": {
          "model_module": "@jupyter-widgets/controls",
          "model_name": "HBoxModel",
          "model_module_version": "1.5.0",
          "state": {
            "_dom_classes": [],
            "_model_module": "@jupyter-widgets/controls",
            "_model_module_version": "1.5.0",
            "_model_name": "HBoxModel",
            "_view_count": null,
            "_view_module": "@jupyter-widgets/controls",
            "_view_module_version": "1.5.0",
            "_view_name": "HBoxView",
            "box_style": "",
            "children": [
              "IPY_MODEL_d41a7d77035440f9895d2114ec0ea038",
              "IPY_MODEL_6fe738303a5b4d238b5b1f20dabb14e5",
              "IPY_MODEL_201fa2c684bf4783ae79e81a7ddbf9e0"
            ],
            "layout": "IPY_MODEL_abb5b13b77d74f3880b8308c65bff09c"
          }
        },
        "d41a7d77035440f9895d2114ec0ea038": {
          "model_module": "@jupyter-widgets/controls",
          "model_name": "HTMLModel",
          "model_module_version": "1.5.0",
          "state": {
            "_dom_classes": [],
            "_model_module": "@jupyter-widgets/controls",
            "_model_module_version": "1.5.0",
            "_model_name": "HTMLModel",
            "_view_count": null,
            "_view_module": "@jupyter-widgets/controls",
            "_view_module_version": "1.5.0",
            "_view_name": "HTMLView",
            "description": "",
            "description_tooltip": null,
            "layout": "IPY_MODEL_35425d1ec87c4b608e25f9be52a2b285",
            "placeholder": "​",
            "style": "IPY_MODEL_6545bcca003e4cbc8c10c7f30cb4c122",
            "value": "tokenizer.json: 100%"
          }
        },
        "6fe738303a5b4d238b5b1f20dabb14e5": {
          "model_module": "@jupyter-widgets/controls",
          "model_name": "FloatProgressModel",
          "model_module_version": "1.5.0",
          "state": {
            "_dom_classes": [],
            "_model_module": "@jupyter-widgets/controls",
            "_model_module_version": "1.5.0",
            "_model_name": "FloatProgressModel",
            "_view_count": null,
            "_view_module": "@jupyter-widgets/controls",
            "_view_module_version": "1.5.0",
            "_view_name": "ProgressView",
            "bar_style": "success",
            "description": "",
            "description_tooltip": null,
            "layout": "IPY_MODEL_b5ed2a5dbbf24e31abd1ecc418fc4c0b",
            "max": 1355863,
            "min": 0,
            "orientation": "horizontal",
            "style": "IPY_MODEL_889f9eb682ac45dd87d87da84e925c76",
            "value": 1355863
          }
        },
        "201fa2c684bf4783ae79e81a7ddbf9e0": {
          "model_module": "@jupyter-widgets/controls",
          "model_name": "HTMLModel",
          "model_module_version": "1.5.0",
          "state": {
            "_dom_classes": [],
            "_model_module": "@jupyter-widgets/controls",
            "_model_module_version": "1.5.0",
            "_model_name": "HTMLModel",
            "_view_count": null,
            "_view_module": "@jupyter-widgets/controls",
            "_view_module_version": "1.5.0",
            "_view_name": "HTMLView",
            "description": "",
            "description_tooltip": null,
            "layout": "IPY_MODEL_b351212273cb4788b60d2d83e4152616",
            "placeholder": "​",
            "style": "IPY_MODEL_04fddabeff824cbda0767905cca4c226",
            "value": " 1.36M/1.36M [00:00&lt;00:00, 1.69MB/s]"
          }
        },
        "abb5b13b77d74f3880b8308c65bff09c": {
          "model_module": "@jupyter-widgets/base",
          "model_name": "LayoutModel",
          "model_module_version": "1.2.0",
          "state": {
            "_model_module": "@jupyter-widgets/base",
            "_model_module_version": "1.2.0",
            "_model_name": "LayoutModel",
            "_view_count": null,
            "_view_module": "@jupyter-widgets/base",
            "_view_module_version": "1.2.0",
            "_view_name": "LayoutView",
            "align_content": null,
            "align_items": null,
            "align_self": null,
            "border": null,
            "bottom": null,
            "display": null,
            "flex": null,
            "flex_flow": null,
            "grid_area": null,
            "grid_auto_columns": null,
            "grid_auto_flow": null,
            "grid_auto_rows": null,
            "grid_column": null,
            "grid_gap": null,
            "grid_row": null,
            "grid_template_areas": null,
            "grid_template_columns": null,
            "grid_template_rows": null,
            "height": null,
            "justify_content": null,
            "justify_items": null,
            "left": null,
            "margin": null,
            "max_height": null,
            "max_width": null,
            "min_height": null,
            "min_width": null,
            "object_fit": null,
            "object_position": null,
            "order": null,
            "overflow": null,
            "overflow_x": null,
            "overflow_y": null,
            "padding": null,
            "right": null,
            "top": null,
            "visibility": null,
            "width": null
          }
        },
        "35425d1ec87c4b608e25f9be52a2b285": {
          "model_module": "@jupyter-widgets/base",
          "model_name": "LayoutModel",
          "model_module_version": "1.2.0",
          "state": {
            "_model_module": "@jupyter-widgets/base",
            "_model_module_version": "1.2.0",
            "_model_name": "LayoutModel",
            "_view_count": null,
            "_view_module": "@jupyter-widgets/base",
            "_view_module_version": "1.2.0",
            "_view_name": "LayoutView",
            "align_content": null,
            "align_items": null,
            "align_self": null,
            "border": null,
            "bottom": null,
            "display": null,
            "flex": null,
            "flex_flow": null,
            "grid_area": null,
            "grid_auto_columns": null,
            "grid_auto_flow": null,
            "grid_auto_rows": null,
            "grid_column": null,
            "grid_gap": null,
            "grid_row": null,
            "grid_template_areas": null,
            "grid_template_columns": null,
            "grid_template_rows": null,
            "height": null,
            "justify_content": null,
            "justify_items": null,
            "left": null,
            "margin": null,
            "max_height": null,
            "max_width": null,
            "min_height": null,
            "min_width": null,
            "object_fit": null,
            "object_position": null,
            "order": null,
            "overflow": null,
            "overflow_x": null,
            "overflow_y": null,
            "padding": null,
            "right": null,
            "top": null,
            "visibility": null,
            "width": null
          }
        },
        "6545bcca003e4cbc8c10c7f30cb4c122": {
          "model_module": "@jupyter-widgets/controls",
          "model_name": "DescriptionStyleModel",
          "model_module_version": "1.5.0",
          "state": {
            "_model_module": "@jupyter-widgets/controls",
            "_model_module_version": "1.5.0",
            "_model_name": "DescriptionStyleModel",
            "_view_count": null,
            "_view_module": "@jupyter-widgets/base",
            "_view_module_version": "1.2.0",
            "_view_name": "StyleView",
            "description_width": ""
          }
        },
        "b5ed2a5dbbf24e31abd1ecc418fc4c0b": {
          "model_module": "@jupyter-widgets/base",
          "model_name": "LayoutModel",
          "model_module_version": "1.2.0",
          "state": {
            "_model_module": "@jupyter-widgets/base",
            "_model_module_version": "1.2.0",
            "_model_name": "LayoutModel",
            "_view_count": null,
            "_view_module": "@jupyter-widgets/base",
            "_view_module_version": "1.2.0",
            "_view_name": "LayoutView",
            "align_content": null,
            "align_items": null,
            "align_self": null,
            "border": null,
            "bottom": null,
            "display": null,
            "flex": null,
            "flex_flow": null,
            "grid_area": null,
            "grid_auto_columns": null,
            "grid_auto_flow": null,
            "grid_auto_rows": null,
            "grid_column": null,
            "grid_gap": null,
            "grid_row": null,
            "grid_template_areas": null,
            "grid_template_columns": null,
            "grid_template_rows": null,
            "height": null,
            "justify_content": null,
            "justify_items": null,
            "left": null,
            "margin": null,
            "max_height": null,
            "max_width": null,
            "min_height": null,
            "min_width": null,
            "object_fit": null,
            "object_position": null,
            "order": null,
            "overflow": null,
            "overflow_x": null,
            "overflow_y": null,
            "padding": null,
            "right": null,
            "top": null,
            "visibility": null,
            "width": null
          }
        },
        "889f9eb682ac45dd87d87da84e925c76": {
          "model_module": "@jupyter-widgets/controls",
          "model_name": "ProgressStyleModel",
          "model_module_version": "1.5.0",
          "state": {
            "_model_module": "@jupyter-widgets/controls",
            "_model_module_version": "1.5.0",
            "_model_name": "ProgressStyleModel",
            "_view_count": null,
            "_view_module": "@jupyter-widgets/base",
            "_view_module_version": "1.2.0",
            "_view_name": "StyleView",
            "bar_color": null,
            "description_width": ""
          }
        },
        "b351212273cb4788b60d2d83e4152616": {
          "model_module": "@jupyter-widgets/base",
          "model_name": "LayoutModel",
          "model_module_version": "1.2.0",
          "state": {
            "_model_module": "@jupyter-widgets/base",
            "_model_module_version": "1.2.0",
            "_model_name": "LayoutModel",
            "_view_count": null,
            "_view_module": "@jupyter-widgets/base",
            "_view_module_version": "1.2.0",
            "_view_name": "LayoutView",
            "align_content": null,
            "align_items": null,
            "align_self": null,
            "border": null,
            "bottom": null,
            "display": null,
            "flex": null,
            "flex_flow": null,
            "grid_area": null,
            "grid_auto_columns": null,
            "grid_auto_flow": null,
            "grid_auto_rows": null,
            "grid_column": null,
            "grid_gap": null,
            "grid_row": null,
            "grid_template_areas": null,
            "grid_template_columns": null,
            "grid_template_rows": null,
            "height": null,
            "justify_content": null,
            "justify_items": null,
            "left": null,
            "margin": null,
            "max_height": null,
            "max_width": null,
            "min_height": null,
            "min_width": null,
            "object_fit": null,
            "object_position": null,
            "order": null,
            "overflow": null,
            "overflow_x": null,
            "overflow_y": null,
            "padding": null,
            "right": null,
            "top": null,
            "visibility": null,
            "width": null
          }
        },
        "04fddabeff824cbda0767905cca4c226": {
          "model_module": "@jupyter-widgets/controls",
          "model_name": "DescriptionStyleModel",
          "model_module_version": "1.5.0",
          "state": {
            "_model_module": "@jupyter-widgets/controls",
            "_model_module_version": "1.5.0",
            "_model_name": "DescriptionStyleModel",
            "_view_count": null,
            "_view_module": "@jupyter-widgets/base",
            "_view_module_version": "1.2.0",
            "_view_name": "StyleView",
            "description_width": ""
          }
        }
      }
    }
  },
  "nbformat": 4,
  "nbformat_minor": 0
}